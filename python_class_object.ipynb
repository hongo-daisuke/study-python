{
  "nbformat": 4,
  "nbformat_minor": 0,
  "metadata": {
    "colab": {
      "name": "python_class_object.ipynb",
      "provenance": [],
      "authorship_tag": "ABX9TyMJeqQzwToffRcwo21cBBU4",
      "include_colab_link": true
    },
    "kernelspec": {
      "name": "python3",
      "display_name": "Python 3"
    },
    "language_info": {
      "name": "python"
    }
  },
  "cells": [
    {
      "cell_type": "markdown",
      "metadata": {
        "id": "view-in-github",
        "colab_type": "text"
      },
      "source": [
        "<a href=\"https://colab.research.google.com/github/hongo-daisuke/study-python/blob/master/python_class_object.ipynb\" target=\"_parent\"><img src=\"https://colab.research.google.com/assets/colab-badge.svg\" alt=\"Open In Colab\"/></a>"
      ]
    },
    {
      "cell_type": "markdown",
      "source": [
        "# クラスとオブジェクト\n",
        "## オブジェクト指向の考え方\n",
        "```\n",
        "オブジェクト\n",
        "・人\n",
        "\n",
        "属性 (メンバ変数)\n",
        "・名前\n",
        "・性別\n",
        "・年齢\n",
        "\n",
        "動作 (メソッド)\n",
        "・立つ\n",
        "・歩く\n",
        "・走る\n",
        "```\n",
        "*   クラスはオブジェクトの「型」\n",
        "*   いくらでもオブジェクトを生成出来る\n",
        "*   生成したものをインスタンスと言う\n"
      ],
      "metadata": {
        "id": "6D5A855eme-Y"
      }
    },
    {
      "cell_type": "code",
      "execution_count": null,
      "metadata": {
        "id": "SHj7gM9GmaFo"
      },
      "outputs": [],
      "source": [
        "class Person:\n",
        "    # コンストラクタ\n",
        "    def __init__(self):\n",
        "        # 属性 メンバ変数 名前の初期化\n",
        "        self.name = ''\n",
        "    \n",
        "    # runメソッド\n",
        "    def run(self):\n",
        "        print(f'{self.name}が走っています。')"
      ]
    },
    {
      "cell_type": "code",
      "source": [
        "# インスタンスの生成\n",
        "p = Person()\n",
        "\n",
        "# 名前の設定\n",
        "p.name = 'Michael'\n",
        "\n",
        "# runメソッドの実行\n",
        "p.run()"
      ],
      "metadata": {
        "colab": {
          "base_uri": "https://localhost:8080/"
        },
        "id": "n_xqH3xy1ChC",
        "outputId": "98181a2f-8632-4bef-a46f-7fb03d2f977e"
      },
      "execution_count": null,
      "outputs": [
        {
          "output_type": "stream",
          "name": "stdout",
          "text": [
            "Michaelが走っています。\n"
          ]
        }
      ]
    },
    {
      "cell_type": "code",
      "source": [
        "# 複数のインスタンスを生成\n",
        "\n",
        "# インスタンスの生成\n",
        "p1 = Person()\n",
        "p2 = Person()\n",
        "\n",
        "# 名前の設定\n",
        "p1.name = 'Michael'\n",
        "p2.name = 'Anthony'\n",
        "\n",
        "# runメソッドの実行\n",
        "p1.run()\n",
        "p2.run()"
      ],
      "metadata": {
        "colab": {
          "base_uri": "https://localhost:8080/"
        },
        "id": "v7xnbI0W1VmB",
        "outputId": "13c47f70-f196-47bf-9bcb-36d0ced3d64a"
      },
      "execution_count": null,
      "outputs": [
        {
          "output_type": "stream",
          "name": "stdout",
          "text": [
            "Michaelが走っています。\n",
            "Anthonyが走っています。\n"
          ]
        }
      ]
    },
    {
      "cell_type": "markdown",
      "source": [
        "## 引数付きコンストラクタの例"
      ],
      "metadata": {
        "id": "ux_C0_WW2tYz"
      }
    },
    {
      "cell_type": "code",
      "source": [
        "class Person:\n",
        "    # コンストラクタ\n",
        "    def __init__(self, name):\n",
        "        # 属性 メンバ変数 名前の初期化\n",
        "        self.name = name\n",
        "    \n",
        "    # runメソッド\n",
        "    def run(self):\n",
        "        print(f'{self.name}が走っています。')"
      ],
      "metadata": {
        "id": "qa4uvqM01VsG"
      },
      "execution_count": null,
      "outputs": []
    },
    {
      "cell_type": "code",
      "source": [
        "# インスタンスの生成\n",
        "p = Person('James')\n",
        "\n",
        "# runメソッドの実行\n",
        "p.run()"
      ],
      "metadata": {
        "colab": {
          "base_uri": "https://localhost:8080/"
        },
        "id": "dYy1gfgo1Vu5",
        "outputId": "e0eb8407-ee9a-47ae-b1fe-2aa5c36ecc06"
      },
      "execution_count": null,
      "outputs": [
        {
          "output_type": "stream",
          "name": "stdout",
          "text": [
            "Jamesが走っています。\n"
          ]
        }
      ]
    },
    {
      "cell_type": "markdown",
      "source": [
        "## 継承とは\n",
        "```\n",
        "・ あるクラスの機能を受け継いだ新しいクラスを作る\n",
        "    自動車 → 救急車・スポーツカー\n",
        "・ 元になるクラスはスーパークラス、継承したクラスをサブクラスと呼ぶ\n",
        "・ サブクラスはスーパクラスのメンバ変数やメソッドが使用出来る\n",
        "\n",
        "サブクラスの書式\n",
        "class サブクラス名 (スーパークラス名):\n",
        "    def メソッド (引数1...):\n",
        "```\n",
        "\n",
        "\n",
        "\n",
        "\n",
        "\n"
      ],
      "metadata": {
        "id": "6h0CWhYh3IMm"
      }
    },
    {
      "cell_type": "code",
      "source": [
        "# スーパークラス\n",
        "class Calculator:\n",
        "    def __init__(self):\n",
        "        self.a = 0\n",
        "        self.b = 0\n",
        "\n",
        "    def add(self):\n",
        "        return self.a + self.b\n",
        "\n",
        "    def sub(self):\n",
        "        return self.a - self.b"
      ],
      "metadata": {
        "id": "WT75YWQv1Vxn"
      },
      "execution_count": null,
      "outputs": []
    },
    {
      "cell_type": "code",
      "source": [
        "# サブクラス\n",
        "class NewCalculator(Calculator):\n",
        "    def mul(self):\n",
        "        return self.a * self.b\n",
        "\n",
        "    def div(self):\n",
        "        return self.a // self.b"
      ],
      "metadata": {
        "id": "NWrdsvBE1V0M"
      },
      "execution_count": null,
      "outputs": []
    },
    {
      "cell_type": "code",
      "source": [
        "newcal = NewCalculator()\n",
        "newcal.a = 10\n",
        "newcal.b = 2\n",
        "\n",
        "# スーパークラスのメソッドを実行出来る\n",
        "add = newcal.add()\n",
        "sub = newcal.sub()\n",
        "\n",
        "print(add)\n",
        "print(sub)\n",
        "\n",
        "# 自身のクラスのメソッドを実行\n",
        "mul = newcal.mul()\n",
        "div = newcal.div()\n",
        "\n",
        "print(mul)\n",
        "print(div)"
      ],
      "metadata": {
        "colab": {
          "base_uri": "https://localhost:8080/"
        },
        "id": "qiz9FNA31V3u",
        "outputId": "8fee3fea-b577-4148-8ee7-49a30f73df57"
      },
      "execution_count": null,
      "outputs": [
        {
          "output_type": "stream",
          "name": "stdout",
          "text": [
            "12\n",
            "8\n",
            "20\n",
            "5\n"
          ]
        }
      ]
    },
    {
      "cell_type": "markdown",
      "source": [
        "## 名前空間とスコープ"
      ],
      "metadata": {
        "id": "Hxa95oRl7UYu"
      }
    },
    {
      "cell_type": "code",
      "source": [
        "sport = 'basketball'\n",
        "\n",
        "# グローバル変数なの表示可能\n",
        "print(sport)"
      ],
      "metadata": {
        "colab": {
          "base_uri": "https://localhost:8080/"
        },
        "id": "jtvwv37g7Ts-",
        "outputId": "c27d2c37-4412-4329-80f2-8e8690485960"
      },
      "execution_count": 1,
      "outputs": [
        {
          "output_type": "stream",
          "name": "stdout",
          "text": [
            "basketball\n"
          ]
        }
      ]
    },
    {
      "cell_type": "code",
      "source": [
        "sport = 'basketball'\n",
        "def f():\n",
        "    print(sport)\n",
        "f()"
      ],
      "metadata": {
        "colab": {
          "base_uri": "https://localhost:8080/"
        },
        "id": "1h8EVkpk7qJV",
        "outputId": "361cbf1f-23a3-4f04-a253-598f7894f233"
      },
      "execution_count": 3,
      "outputs": [
        {
          "output_type": "stream",
          "name": "stdout",
          "text": [
            "basketball\n"
          ]
        }
      ]
    },
    {
      "cell_type": "code",
      "source": [
        "sport = 'basketball'\n",
        "def f():\n",
        "    # function内で宣言したsportに値を入れようとしてる\n",
        "    # ローカル変数宣言前に変数sportを出力しようとしているためエラーになる\n",
        "    print(sport)\n",
        "    sport = 'soccer'\n",
        "    print('after', sport)\n",
        "\n",
        "f()"
      ],
      "metadata": {
        "colab": {
          "base_uri": "https://localhost:8080/",
          "height": 326
        },
        "id": "5vDguSiK7w78",
        "outputId": "f29eb5a5-2a02-4382-9478-d67d59c34494"
      },
      "execution_count": 4,
      "outputs": [
        {
          "output_type": "error",
          "ename": "UnboundLocalError",
          "evalue": "ignored",
          "traceback": [
            "\u001b[0;31m---------------------------------------------------------------------------\u001b[0m",
            "\u001b[0;31mUnboundLocalError\u001b[0m                         Traceback (most recent call last)",
            "\u001b[0;32m<ipython-input-4-2a588d52c220>\u001b[0m in \u001b[0;36m<module>\u001b[0;34m\u001b[0m\n\u001b[1;32m      5\u001b[0m     \u001b[0mprint\u001b[0m\u001b[0;34m(\u001b[0m\u001b[0;34m'after'\u001b[0m\u001b[0;34m,\u001b[0m \u001b[0msport\u001b[0m\u001b[0;34m)\u001b[0m\u001b[0;34m\u001b[0m\u001b[0;34m\u001b[0m\u001b[0m\n\u001b[1;32m      6\u001b[0m \u001b[0;34m\u001b[0m\u001b[0m\n\u001b[0;32m----> 7\u001b[0;31m \u001b[0mf\u001b[0m\u001b[0;34m(\u001b[0m\u001b[0;34m)\u001b[0m\u001b[0;34m\u001b[0m\u001b[0;34m\u001b[0m\u001b[0m\n\u001b[0m",
            "\u001b[0;32m<ipython-input-4-2a588d52c220>\u001b[0m in \u001b[0;36mf\u001b[0;34m()\u001b[0m\n\u001b[1;32m      1\u001b[0m \u001b[0msport\u001b[0m \u001b[0;34m=\u001b[0m \u001b[0;34m'basketball'\u001b[0m\u001b[0;34m\u001b[0m\u001b[0;34m\u001b[0m\u001b[0m\n\u001b[1;32m      2\u001b[0m \u001b[0;32mdef\u001b[0m \u001b[0mf\u001b[0m\u001b[0;34m(\u001b[0m\u001b[0;34m)\u001b[0m\u001b[0;34m:\u001b[0m\u001b[0;34m\u001b[0m\u001b[0;34m\u001b[0m\u001b[0m\n\u001b[0;32m----> 3\u001b[0;31m     \u001b[0mprint\u001b[0m\u001b[0;34m(\u001b[0m\u001b[0msport\u001b[0m\u001b[0;34m)\u001b[0m\u001b[0;34m\u001b[0m\u001b[0;34m\u001b[0m\u001b[0m\n\u001b[0m\u001b[1;32m      4\u001b[0m     \u001b[0msport\u001b[0m \u001b[0;34m=\u001b[0m \u001b[0;34m'soccer'\u001b[0m\u001b[0;34m\u001b[0m\u001b[0;34m\u001b[0m\u001b[0m\n\u001b[1;32m      5\u001b[0m     \u001b[0mprint\u001b[0m\u001b[0;34m(\u001b[0m\u001b[0;34m'after'\u001b[0m\u001b[0;34m,\u001b[0m \u001b[0msport\u001b[0m\u001b[0;34m)\u001b[0m\u001b[0;34m\u001b[0m\u001b[0;34m\u001b[0m\u001b[0m\n",
            "\u001b[0;31mUnboundLocalError\u001b[0m: local variable 'sport' referenced before assignment"
          ]
        }
      ]
    },
    {
      "cell_type": "code",
      "source": [
        "sport = 'basketball'\n",
        "def f():\n",
        "    # print(sport)\n",
        "    # このfunction内で宣言しているためエラーにならない\n",
        "    sport = 'soccer'\n",
        "    print('after', sport)\n",
        "\n",
        "f()\n",
        "print('global', sport)"
      ],
      "metadata": {
        "colab": {
          "base_uri": "https://localhost:8080/"
        },
        "id": "LncLAgsF8zL4",
        "outputId": "001cd089-5eb7-4f65-c076-81759d2fb3e0"
      },
      "execution_count": 5,
      "outputs": [
        {
          "output_type": "stream",
          "name": "stdout",
          "text": [
            "after soccer\n",
            "global basketball\n"
          ]
        }
      ]
    },
    {
      "cell_type": "code",
      "source": [
        "sport = 'basketball'\n",
        "def f():\n",
        "    # グローバル変数の値を変える場合は変数の global 変数名で宣言する\n",
        "    global sport\n",
        "    sport = 'soccer'\n",
        "    print('local', sport)\n",
        "\n",
        "f()\n",
        "print('global', sport)"
      ],
      "metadata": {
        "colab": {
          "base_uri": "https://localhost:8080/"
        },
        "id": "GYt-P7Tb9YP7",
        "outputId": "9b99663d-3e3f-47b7-cded-305ed017948b"
      },
      "execution_count": 6,
      "outputs": [
        {
          "output_type": "stream",
          "name": "stdout",
          "text": [
            "local soccer\n",
            "global soccer\n"
          ]
        }
      ]
    },
    {
      "cell_type": "code",
      "source": [
        "sport = 'basketball'\n",
        "def f():\n",
        "    sport = 'soccer'\n",
        "    # locals()により辞書型で取得可能\n",
        "    print('local', locals())\n",
        "\n",
        "f()\n",
        "# globals()も辞書型で様々な情報を取得可能\n",
        "print('global', globals())"
      ],
      "metadata": {
        "colab": {
          "base_uri": "https://localhost:8080/"
        },
        "id": "f3dbcOtY99Hs",
        "outputId": "028b761b-abc6-41fb-a93e-34670d4c2a6c"
      },
      "execution_count": 12,
      "outputs": [
        {
          "output_type": "stream",
          "name": "stdout",
          "text": [
            "local {'sport': 'soccer'}\n",
            "global {'__name__': '__main__', '__doc__': 'Automatically created module for IPython interactive environment', '__package__': None, '__loader__': None, '__spec__': None, '__builtin__': <module 'builtins' (built-in)>, '__builtins__': <module 'builtins' (built-in)>, '_ih': ['', \"sport = 'basketball'\\nprint(sport)\", \"sport = 'basketball'\", \"sport = 'basketball'\\ndef f():\\n    print(sport)\\nf()\", \"sport = 'basketball'\\ndef f():\\n    print(sport)\\n    sport = 'soccer'\\n    print('after', sport)\\n\\nf()\", \"sport = 'basketball'\\ndef f():\\n    # print(sport)\\n    sport = 'soccer'\\n    print('after', sport)\\n\\nf()\\nprint('global', sport)\", \"sport = 'basketball'\\ndef f():\\n    # グローバル変数の値を変える場合は変数の\\n    global sport\\n    sport = 'soccer'\\n    print('local', sport)\\n\\nf()\\nprint('global', sport)\", \"sport = 'basketball'\\ndef f():\\n    sport = 'soccer'\\n    print('local', locals())\\n\\nf()\\nprint('global', sport)\", \"sport = 'basketball'\\ndef f():\\n    sport = 'soccer'\\n    # locals()により辞書型で取得可能\\n    print('local', locals())\\n\\nf()\\nprint('global', globals（）)\", \"sport = 'basketball'\\ndef f():\\n    sport = 'soccer'\\n    # locals()により辞書型で取得可能\\n    print('local', locals())\\n\\nf()\\nprint('global', globals（）)\", \"sport = 'basketball'\\ndef f():\\n    sport = 'soccer'\\n    # locals()により辞書型で取得可能\\n    print('local', locals())\\n\\nf()\\nprint('global',\\u3000globals（）)\", \"sport = 'basketball'\\ndef f():\\n    sport = 'soccer'\\n    # locals()により辞書型で取得可能\\n    print('local', locals())\\n\\nf()\\nprint('global', globals（）)\", \"sport = 'basketball'\\ndef f():\\n    sport = 'soccer'\\n    # locals()により辞書型で取得可能\\n    print('local', locals())\\n\\nf()\\nprint('global', globals())\"], '_oh': {}, '_dh': ['/content'], 'In': ['', \"sport = 'basketball'\\nprint(sport)\", \"sport = 'basketball'\", \"sport = 'basketball'\\ndef f():\\n    print(sport)\\nf()\", \"sport = 'basketball'\\ndef f():\\n    print(sport)\\n    sport = 'soccer'\\n    print('after', sport)\\n\\nf()\", \"sport = 'basketball'\\ndef f():\\n    # print(sport)\\n    sport = 'soccer'\\n    print('after', sport)\\n\\nf()\\nprint('global', sport)\", \"sport = 'basketball'\\ndef f():\\n    # グローバル変数の値を変える場合は変数の\\n    global sport\\n    sport = 'soccer'\\n    print('local', sport)\\n\\nf()\\nprint('global', sport)\", \"sport = 'basketball'\\ndef f():\\n    sport = 'soccer'\\n    print('local', locals())\\n\\nf()\\nprint('global', sport)\", \"sport = 'basketball'\\ndef f():\\n    sport = 'soccer'\\n    # locals()により辞書型で取得可能\\n    print('local', locals())\\n\\nf()\\nprint('global', globals（）)\", \"sport = 'basketball'\\ndef f():\\n    sport = 'soccer'\\n    # locals()により辞書型で取得可能\\n    print('local', locals())\\n\\nf()\\nprint('global', globals（）)\", \"sport = 'basketball'\\ndef f():\\n    sport = 'soccer'\\n    # locals()により辞書型で取得可能\\n    print('local', locals())\\n\\nf()\\nprint('global',\\u3000globals（）)\", \"sport = 'basketball'\\ndef f():\\n    sport = 'soccer'\\n    # locals()により辞書型で取得可能\\n    print('local', locals())\\n\\nf()\\nprint('global', globals（）)\", \"sport = 'basketball'\\ndef f():\\n    sport = 'soccer'\\n    # locals()により辞書型で取得可能\\n    print('local', locals())\\n\\nf()\\nprint('global', globals())\"], 'Out': {}, 'get_ipython': <bound method InteractiveShell.get_ipython of <google.colab._shell.Shell object at 0x7f505910b790>>, 'exit': <IPython.core.autocall.ZMQExitAutocall object at 0x7f50558f45d0>, 'quit': <IPython.core.autocall.ZMQExitAutocall object at 0x7f50558f45d0>, '_': '', '__': '', '___': '', '_i': \"sport = 'basketball'\\ndef f():\\n    sport = 'soccer'\\n    # locals()により辞書型で取得可能\\n    print('local', locals())\\n\\nf()\\nprint('global', globals（）)\", '_ii': \"sport = 'basketball'\\ndef f():\\n    sport = 'soccer'\\n    # locals()により辞書型で取得可能\\n    print('local', locals())\\n\\nf()\\nprint('global',\\u3000globals（）)\", '_iii': \"sport = 'basketball'\\ndef f():\\n    sport = 'soccer'\\n    # locals()により辞書型で取得可能\\n    print('local', locals())\\n\\nf()\\nprint('global', globals（）)\", '_i1': \"sport = 'basketball'\\nprint(sport)\", 'sport': 'basketball', '_i2': \"sport = 'basketball'\", '_i3': \"sport = 'basketball'\\ndef f():\\n    print(sport)\\nf()\", 'f': <function f at 0x7f5046605dd0>, '_i4': \"sport = 'basketball'\\ndef f():\\n    print(sport)\\n    sport = 'soccer'\\n    print('after', sport)\\n\\nf()\", '_i5': \"sport = 'basketball'\\ndef f():\\n    # print(sport)\\n    sport = 'soccer'\\n    print('after', sport)\\n\\nf()\\nprint('global', sport)\", '_i6': \"sport = 'basketball'\\ndef f():\\n    # グローバル変数の値を変える場合は変数の\\n    global sport\\n    sport = 'soccer'\\n    print('local', sport)\\n\\nf()\\nprint('global', sport)\", '_i7': \"sport = 'basketball'\\ndef f():\\n    sport = 'soccer'\\n    print('local', locals())\\n\\nf()\\nprint('global', sport)\", '_i8': \"sport = 'basketball'\\ndef f():\\n    sport = 'soccer'\\n    # locals()により辞書型で取得可能\\n    print('local', locals())\\n\\nf()\\nprint('global', globals（）)\", '_i9': \"sport = 'basketball'\\ndef f():\\n    sport = 'soccer'\\n    # locals()により辞書型で取得可能\\n    print('local', locals())\\n\\nf()\\nprint('global', globals（）)\", '_i10': \"sport = 'basketball'\\ndef f():\\n    sport = 'soccer'\\n    # locals()により辞書型で取得可能\\n    print('local', locals())\\n\\nf()\\nprint('global',\\u3000globals（）)\", '_i11': \"sport = 'basketball'\\ndef f():\\n    sport = 'soccer'\\n    # locals()により辞書型で取得可能\\n    print('local', locals())\\n\\nf()\\nprint('global', globals（）)\", '_i12': \"sport = 'basketball'\\ndef f():\\n    sport = 'soccer'\\n    # locals()により辞書型で取得可能\\n    print('local', locals())\\n\\nf()\\nprint('global', globals())\"}\n"
          ]
        }
      ]
    },
    {
      "cell_type": "code",
      "source": [
        "def f():\n",
        "    \"\"\"\n",
        "    test function doc\n",
        "    \"\"\"\n",
        "    # function名やドキュメントを取得可能\n",
        "    print(f.__name__)\n",
        "    print(f.__doc__)\n",
        "f()\n",
        "print('global', __name__)"
      ],
      "metadata": {
        "colab": {
          "base_uri": "https://localhost:8080/"
        },
        "id": "tBODk0Py_xUi",
        "outputId": "a2887440-5b3f-4a81-dc9b-54ee4b6766e4"
      },
      "execution_count": 15,
      "outputs": [
        {
          "output_type": "stream",
          "name": "stdout",
          "text": [
            "f\n",
            "\n",
            "    test function doc\n",
            "    \n",
            "global __main__\n"
          ]
        }
      ]
    }
  ]
}