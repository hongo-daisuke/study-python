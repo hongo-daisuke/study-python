{
  "nbformat": 4,
  "nbformat_minor": 0,
  "metadata": {
    "colab": {
      "name": "python_class_object.ipynb",
      "provenance": [],
      "collapsed_sections": [],
      "authorship_tag": "ABX9TyNZP7jFCm95dlSQ0qr/4hJQ",
      "include_colab_link": true
    },
    "kernelspec": {
      "name": "python3",
      "display_name": "Python 3"
    },
    "language_info": {
      "name": "python"
    }
  },
  "cells": [
    {
      "cell_type": "markdown",
      "metadata": {
        "id": "view-in-github",
        "colab_type": "text"
      },
      "source": [
        "<a href=\"https://colab.research.google.com/github/hongo-daisuke/study-python/blob/master/python_class_object.ipynb\" target=\"_parent\"><img src=\"https://colab.research.google.com/assets/colab-badge.svg\" alt=\"Open In Colab\"/></a>"
      ]
    },
    {
      "cell_type": "markdown",
      "source": [
        "# クラスとオブジェクト\n",
        "## オブジェクト指向の考え方\n",
        "```\n",
        "オブジェクト\n",
        "・人\n",
        "\n",
        "属性 (メンバ変数)\n",
        "・名前\n",
        "・性別\n",
        "・年齢\n",
        "\n",
        "動作 (メソッド)\n",
        "・立つ\n",
        "・歩く\n",
        "・走る\n",
        "```\n",
        "*   クラスはオブジェクトの「型」\n",
        "*   いくらでもオブジェクトを生成出来る\n",
        "*   生成したものをインスタンスと言う\n"
      ],
      "metadata": {
        "id": "6D5A855eme-Y"
      }
    },
    {
      "cell_type": "code",
      "execution_count": null,
      "metadata": {
        "id": "SHj7gM9GmaFo"
      },
      "outputs": [],
      "source": [
        "class Person:\n",
        "    # コンストラクタ\n",
        "    def __init__(self):\n",
        "        # 属性 メンバ変数 名前の初期化\n",
        "        self.name = ''\n",
        "    \n",
        "    # runメソッド\n",
        "    def run(self):\n",
        "        print(f'{self.name}が走っています。')"
      ]
    },
    {
      "cell_type": "code",
      "source": [
        "# インスタンスの生成\n",
        "p = Person()\n",
        "\n",
        "# 名前の設定\n",
        "p.name = 'Michael'\n",
        "\n",
        "# runメソッドの実行\n",
        "p.run()"
      ],
      "metadata": {
        "colab": {
          "base_uri": "https://localhost:8080/"
        },
        "id": "n_xqH3xy1ChC",
        "outputId": "98181a2f-8632-4bef-a46f-7fb03d2f977e"
      },
      "execution_count": null,
      "outputs": [
        {
          "output_type": "stream",
          "name": "stdout",
          "text": [
            "Michaelが走っています。\n"
          ]
        }
      ]
    },
    {
      "cell_type": "code",
      "source": [
        "# 複数のインスタンスを生成\n",
        "\n",
        "# インスタンスの生成\n",
        "p1 = Person()\n",
        "p2 = Person()\n",
        "\n",
        "# 名前の設定\n",
        "p1.name = 'Michael'\n",
        "p2.name = 'Anthony'\n",
        "\n",
        "# runメソッドの実行\n",
        "p1.run()\n",
        "p2.run()"
      ],
      "metadata": {
        "colab": {
          "base_uri": "https://localhost:8080/"
        },
        "id": "v7xnbI0W1VmB",
        "outputId": "13c47f70-f196-47bf-9bcb-36d0ced3d64a"
      },
      "execution_count": null,
      "outputs": [
        {
          "output_type": "stream",
          "name": "stdout",
          "text": [
            "Michaelが走っています。\n",
            "Anthonyが走っています。\n"
          ]
        }
      ]
    },
    {
      "cell_type": "markdown",
      "source": [
        "## 引数付きコンストラクタの例"
      ],
      "metadata": {
        "id": "ux_C0_WW2tYz"
      }
    },
    {
      "cell_type": "code",
      "source": [
        "class Person:\n",
        "    # コンストラクタ\n",
        "    def __init__(self, name):\n",
        "        # 属性 メンバ変数 名前の初期化\n",
        "        self.name = name\n",
        "    \n",
        "    # runメソッド\n",
        "    def run(self):\n",
        "        print(f'{self.name}が走っています。')"
      ],
      "metadata": {
        "id": "qa4uvqM01VsG"
      },
      "execution_count": null,
      "outputs": []
    },
    {
      "cell_type": "code",
      "source": [
        "# インスタンスの生成\n",
        "p = Person('James')\n",
        "\n",
        "# runメソッドの実行\n",
        "p.run()"
      ],
      "metadata": {
        "colab": {
          "base_uri": "https://localhost:8080/"
        },
        "id": "dYy1gfgo1Vu5",
        "outputId": "e0eb8407-ee9a-47ae-b1fe-2aa5c36ecc06"
      },
      "execution_count": null,
      "outputs": [
        {
          "output_type": "stream",
          "name": "stdout",
          "text": [
            "Jamesが走っています。\n"
          ]
        }
      ]
    },
    {
      "cell_type": "markdown",
      "source": [
        "## デストラクタ\n",
        "\n",
        "*   コンストラクタがオブジェクトが生成された時に実行されるのに対して、オブジェクトが破棄される時に実行されるのがデストラクタ\n",
        "\n"
      ],
      "metadata": {
        "id": "xYh0fI7_BmeC"
      }
    },
    {
      "cell_type": "code",
      "source": [
        "class Person:\n",
        "    # コンストラクタ\n",
        "    def __init__(self, name):\n",
        "        # 属性 メンバ変数 名前の初期化\n",
        "        self.name = name\n",
        "    \n",
        "    # runメソッド\n",
        "    def run(self):\n",
        "        print(f'{self.name}が走っています。')\n",
        "\n",
        "    # デストラクタ\n",
        "    def __del__(sefl):\n",
        "        print('See you.')"
      ],
      "metadata": {
        "id": "GNALRJN4CFim"
      },
      "execution_count": 6,
      "outputs": []
    },
    {
      "cell_type": "code",
      "source": [
        "person = Person('Mike')\n",
        "person.run()\n",
        "\n",
        "del person # del インスタンスで明示的にdelを実行出来る"
      ],
      "metadata": {
        "colab": {
          "base_uri": "https://localhost:8080/"
        },
        "id": "zkjK9T2cDaPV",
        "outputId": "66e98a83-eff5-45b8-8070-bf6de2481020"
      },
      "execution_count": 9,
      "outputs": [
        {
          "output_type": "stream",
          "name": "stdout",
          "text": [
            "Mikeが走っています。\n",
            "See you.\n"
          ]
        }
      ]
    },
    {
      "cell_type": "markdown",
      "source": [
        "## 継承とは\n",
        "```\n",
        "・ あるクラスの機能を受け継いだ新しいクラスを作る\n",
        "    自動車 → 救急車・スポーツカー\n",
        "・ 元になるクラスはスーパークラス、継承したクラスをサブクラスと呼ぶ\n",
        "・ サブクラスはスーパクラスのメンバ変数やメソッドが使用出来る\n",
        "\n",
        "サブクラスの書式\n",
        "class サブクラス名 (スーパークラス名):\n",
        "    def メソッド (引数1...):\n",
        "```\n",
        "\n",
        "\n",
        "\n",
        "\n",
        "\n"
      ],
      "metadata": {
        "id": "6h0CWhYh3IMm"
      }
    },
    {
      "cell_type": "code",
      "source": [
        "# スーパークラス\n",
        "class Calculator:\n",
        "    def __init__(self):\n",
        "        self.a = 0\n",
        "        self.b = 0\n",
        "\n",
        "    def add(self):\n",
        "        return self.a + self.b\n",
        "\n",
        "    def sub(self):\n",
        "        return self.a - self.b"
      ],
      "metadata": {
        "id": "WT75YWQv1Vxn"
      },
      "execution_count": null,
      "outputs": []
    },
    {
      "cell_type": "code",
      "source": [
        "# サブクラス\n",
        "class NewCalculator(Calculator):\n",
        "    def mul(self):\n",
        "        return self.a * self.b\n",
        "\n",
        "    def div(self):\n",
        "        return self.a // self.b"
      ],
      "metadata": {
        "id": "NWrdsvBE1V0M"
      },
      "execution_count": null,
      "outputs": []
    },
    {
      "cell_type": "code",
      "source": [
        "newcal = NewCalculator()\n",
        "newcal.a = 10\n",
        "newcal.b = 2\n",
        "\n",
        "# スーパークラスのメソッドを実行出来る\n",
        "add = newcal.add()\n",
        "sub = newcal.sub()\n",
        "\n",
        "print(add)\n",
        "print(sub)\n",
        "\n",
        "# 自身のクラスのメソッドを実行\n",
        "mul = newcal.mul()\n",
        "div = newcal.div()\n",
        "\n",
        "print(mul)\n",
        "print(div)"
      ],
      "metadata": {
        "colab": {
          "base_uri": "https://localhost:8080/"
        },
        "id": "qiz9FNA31V3u",
        "outputId": "8fee3fea-b577-4148-8ee7-49a30f73df57"
      },
      "execution_count": null,
      "outputs": [
        {
          "output_type": "stream",
          "name": "stdout",
          "text": [
            "12\n",
            "8\n",
            "20\n",
            "5\n"
          ]
        }
      ]
    },
    {
      "cell_type": "markdown",
      "source": [
        "## メソッドのオーバーライドとsuperによる親メソッドの呼び出し\n",
        "\n",
        "```\n",
        "super().メソッド名\n",
        "```\n",
        "\n",
        "\n",
        "\n"
      ],
      "metadata": {
        "id": "CMVGI6P_Fbrr"
      }
    },
    {
      "cell_type": "code",
      "source": [
        "class Car:\n",
        "    def __init__(self, model = None):\n",
        "        self.model = model\n",
        "\n",
        "    def run(self):\n",
        "        print('run')\n",
        "\n",
        "class Bus(Car):\n",
        "    # サブクラスで親と同じメソッドを定義するとサブクラスで上書きできる\n",
        "    def run(self):\n",
        "        print('Bus run')\n",
        "\n",
        "class Taxi(Car):\n",
        "\n",
        "    def __init__(self, model='Model km', price=1000):\n",
        "        # super().メソッド名で親のメソッドを呼び出せる\n",
        "        # 初期で行う設定(この例だとmodelに文字列を足すなど)がある場合、同じ処理をサブクラスにも書く必要がありコード量が増えてしまうため\n",
        "        super().__init__(model)\n",
        "\n",
        "        self.price = price # Taxiクラスだけのクラス変数\n",
        "\n",
        "    def run(self):\n",
        "        print('taxi run')"
      ],
      "metadata": {
        "id": "rGE0B-HxFoAj"
      },
      "execution_count": 22,
      "outputs": []
    },
    {
      "cell_type": "code",
      "source": [
        "bus = Bus()\n",
        "taxi = Taxi()\n",
        "\n",
        "# サブクラスのrun()が実行されている\n",
        "bus.run()\n",
        "taxi.run()"
      ],
      "metadata": {
        "colab": {
          "base_uri": "https://localhost:8080/"
        },
        "id": "_Q_z9GcrGg5j",
        "outputId": "189ceb86-aa50-4e28-b66a-ade6c61d2d3b"
      },
      "execution_count": 23,
      "outputs": [
        {
          "output_type": "stream",
          "name": "stdout",
          "text": [
            "Bus run\n",
            "taxi run\n"
          ]
        }
      ]
    },
    {
      "cell_type": "code",
      "source": [
        "bus = Bus('Tokyu')\n",
        "taxi = Taxi('km')\n",
        "\n",
        "# 親クラスのモデル\n",
        "print(bus.model)\n",
        "print(taxi.model)"
      ],
      "metadata": {
        "colab": {
          "base_uri": "https://localhost:8080/"
        },
        "id": "ynBBy_ggHfmC",
        "outputId": "3fd0b5b2-cd65-422a-884a-b2a4d5ef9010"
      },
      "execution_count": 24,
      "outputs": [
        {
          "output_type": "stream",
          "name": "stdout",
          "text": [
            "Tokyu\n",
            "km\n"
          ]
        }
      ]
    },
    {
      "cell_type": "markdown",
      "source": [
        "## プロパティ\n",
        "\n",
        "*   オブジェクトを生成して値を上書きしたくない場合にプロパティを使用する\n",
        "*   プロパティを上書きする場合はsetterを使用する（パスワードなどある条件が合致した場合のみ値を書き換えたい時などに使用）\n",
        "* __変数名でクラスからアクセス出来るが、インスタンスを生成してからのアクセスは不可能な変数となる\n",
        "\n",
        "\n",
        "```\n",
        "def __init__(self)\n",
        "    self._変数名 = 値\n",
        "    self.__変数名 = 値\n",
        "\n",
        "@property\n",
        "def 変数名(self):\n",
        "    return self._変数名\n",
        "\n",
        "@変数名.setter\n",
        "def 変数名(self):\n",
        "    self._変数名 = 値\n",
        "\n",
        "def 関数(self):\n",
        "    # クラス内からであればアクセス可能\n",
        "    self.__変数名\n",
        "```\n",
        "\n",
        "\n",
        "\n"
      ],
      "metadata": {
        "id": "OT6Ec1rvK0tK"
      }
    },
    {
      "cell_type": "code",
      "source": [
        "class Person:\n",
        "    def __init__(self, name=None):\n",
        "        self.name = name\n",
        "\n",
        "    def run(self):\n",
        "        print('run')\n",
        "\n",
        "class Mike(Person):\n",
        "    def __init__(self, name='Model Mike', height=180, weight=70, sports='basketball'):\n",
        "        super().__init__(name)\n",
        "\n",
        "        self.height = height\n",
        "        self.weight = weight\n",
        "\n",
        "        # 変数の前にアンダースコア(_)をつけ、@propertyを持つ関数を呼び出す\n",
        "        self._sports = sports # Mikeクラスだけのクラス変数\n",
        "\n",
        "    @property\n",
        "    def sports(self):\n",
        "        # 読み込みは可能だが設定は不可になる\n",
        "        return self._sports\n",
        "\n",
        "    def run(self):\n",
        "        print('mike run')"
      ],
      "metadata": {
        "id": "cj9gmR3MK3hn"
      },
      "execution_count": 45,
      "outputs": []
    },
    {
      "cell_type": "code",
      "source": [
        "mike = Mike(name='Mike')\n",
        "print('mike height ', mike.height)\n",
        "\n",
        "# クラス変数は上書き可能\n",
        "mike.height = 185\n",
        "print('mike height ', mike.height)\n",
        "\n",
        "mike = Mike('Mike')\n",
        "print('mike sports ', mike.sports)\n",
        "\n",
        "# プロパティは上書きするとエラーになる\n",
        "mike.sports = 'volleyball'\n",
        "print('mike sports ', mike.sports)"
      ],
      "metadata": {
        "colab": {
          "base_uri": "https://localhost:8080/",
          "height": 274
        },
        "id": "k9pP8m13Msj3",
        "outputId": "28d55b64-7219-477d-9a14-a68036f66fcd"
      },
      "execution_count": 46,
      "outputs": [
        {
          "output_type": "stream",
          "name": "stdout",
          "text": [
            "mike height  180\n",
            "mike height  185\n",
            "mike sports  basketball\n"
          ]
        },
        {
          "output_type": "error",
          "ename": "AttributeError",
          "evalue": "ignored",
          "traceback": [
            "\u001b[0;31m---------------------------------------------------------------------------\u001b[0m",
            "\u001b[0;31mAttributeError\u001b[0m                            Traceback (most recent call last)",
            "\u001b[0;32m<ipython-input-46-1257f5090750>\u001b[0m in \u001b[0;36m<module>\u001b[0;34m\u001b[0m\n\u001b[1;32m     10\u001b[0m \u001b[0;34m\u001b[0m\u001b[0m\n\u001b[1;32m     11\u001b[0m \u001b[0;31m# プロパティは上書きするとエラーになる\u001b[0m\u001b[0;34m\u001b[0m\u001b[0;34m\u001b[0m\u001b[0;34m\u001b[0m\u001b[0m\n\u001b[0;32m---> 12\u001b[0;31m \u001b[0mmike\u001b[0m\u001b[0;34m.\u001b[0m\u001b[0msports\u001b[0m \u001b[0;34m=\u001b[0m \u001b[0;34m'volleyball'\u001b[0m\u001b[0;34m\u001b[0m\u001b[0;34m\u001b[0m\u001b[0m\n\u001b[0m\u001b[1;32m     13\u001b[0m \u001b[0mprint\u001b[0m\u001b[0;34m(\u001b[0m\u001b[0;34m'mike sports '\u001b[0m\u001b[0;34m,\u001b[0m \u001b[0mmike\u001b[0m\u001b[0;34m.\u001b[0m\u001b[0msports\u001b[0m\u001b[0;34m)\u001b[0m\u001b[0;34m\u001b[0m\u001b[0;34m\u001b[0m\u001b[0m\n",
            "\u001b[0;31mAttributeError\u001b[0m: can't set attribute"
          ]
        }
      ]
    },
    {
      "cell_type": "code",
      "source": [
        "class Person:\n",
        "    def __init__(self, name=None):\n",
        "        self.name = name\n",
        "\n",
        "    def run(self):\n",
        "        print('run')\n",
        "\n",
        "class Mike(Person):\n",
        "    def __init__(self, name='Mike', height=180, weight=70, sports='basketball'):\n",
        "        self.name = name\n",
        "        self.height = height\n",
        "        self.weight = weight\n",
        "\n",
        "        # 変数の前にアンダースコア(_)をつけ、@propertyを持つ関数を呼び出す\n",
        "        self._sports = sports\n",
        "\n",
        "    @property\n",
        "    def sports(self):\n",
        "        # 読み込みは可能だが設定は不可になる\n",
        "        return self._sports\n",
        "\n",
        "    @sports.setter\n",
        "    def sports(self, sports):\n",
        "        self._sports = sports\n",
        "\n",
        "    def run(self):\n",
        "        print('mike run')"
      ],
      "metadata": {
        "id": "NuZem_-tVSbm"
      },
      "execution_count": 47,
      "outputs": []
    },
    {
      "cell_type": "code",
      "source": [
        "mike = Mike('Mike')\n",
        "# setterが存在するのでエラーにならない\n",
        "mike.favorite_sports = 'volleyball'\n",
        "print('mike sports ', mike.favorite_sports)"
      ],
      "metadata": {
        "colab": {
          "base_uri": "https://localhost:8080/"
        },
        "id": "pAkEJPTXSYSQ",
        "outputId": "5dd3d1d7-b4f5-469b-c9c3-f4ea5c3af44a"
      },
      "execution_count": 48,
      "outputs": [
        {
          "output_type": "stream",
          "name": "stdout",
          "text": [
            "mike favorite_sports  volleyball\n"
          ]
        }
      ]
    },
    {
      "cell_type": "code",
      "source": [
        "class Person:\n",
        "    def __init__(self, name=None):\n",
        "        self.name = name\n",
        "\n",
        "    def run(self):\n",
        "        print('run')\n",
        "\n",
        "class Mike(Person):\n",
        "    def __init__(self, name='Mike', height=180, weight=70, sports='basketball'):\n",
        "        # クラス内からであればアクセス可能\n",
        "        self.__name = name\n",
        "\n",
        "        self.height = height\n",
        "        self.weight = weight\n",
        "        self.sports = sports\n",
        "\n",
        "    def run(self):\n",
        "        print('mike run')\n",
        "\n",
        "    def info(self):\n",
        "        # クラス内からであればアクセス可能\n",
        "        print(f'name is {self.__name}')\n",
        "        print(f'height is {self.height}')\n",
        "        print(f'weight is {self.weight}')"
      ],
      "metadata": {
        "id": "V8GdRuRFXF0l"
      },
      "execution_count": 50,
      "outputs": []
    },
    {
      "cell_type": "code",
      "source": [
        "mike = Mike('Mike')\n",
        "# クラスからはアクセス可能だがインスタンスからはアクセス不可\n",
        "mike.info()\n",
        "print(mike.__name)"
      ],
      "metadata": {
        "colab": {
          "base_uri": "https://localhost:8080/",
          "height": 257
        },
        "id": "ImgvhENrXkOf",
        "outputId": "146b1c3f-cbe1-4d96-9993-efa522121380"
      },
      "execution_count": 55,
      "outputs": [
        {
          "output_type": "stream",
          "name": "stdout",
          "text": [
            "name is Mike\n",
            "height is 180\n",
            "weight is 70\n"
          ]
        },
        {
          "output_type": "error",
          "ename": "AttributeError",
          "evalue": "ignored",
          "traceback": [
            "\u001b[0;31m---------------------------------------------------------------------------\u001b[0m",
            "\u001b[0;31mAttributeError\u001b[0m                            Traceback (most recent call last)",
            "\u001b[0;32m<ipython-input-55-db7dab746ad9>\u001b[0m in \u001b[0;36m<module>\u001b[0;34m\u001b[0m\n\u001b[1;32m      1\u001b[0m \u001b[0mmike\u001b[0m \u001b[0;34m=\u001b[0m \u001b[0mMike\u001b[0m\u001b[0;34m(\u001b[0m\u001b[0;34m'Mike'\u001b[0m\u001b[0;34m)\u001b[0m\u001b[0;34m\u001b[0m\u001b[0;34m\u001b[0m\u001b[0m\n\u001b[1;32m      2\u001b[0m \u001b[0mmike\u001b[0m\u001b[0;34m.\u001b[0m\u001b[0minfo\u001b[0m\u001b[0;34m(\u001b[0m\u001b[0;34m)\u001b[0m\u001b[0;34m\u001b[0m\u001b[0;34m\u001b[0m\u001b[0m\n\u001b[0;32m----> 3\u001b[0;31m \u001b[0mprint\u001b[0m\u001b[0;34m(\u001b[0m\u001b[0mmike\u001b[0m\u001b[0;34m.\u001b[0m\u001b[0m__name\u001b[0m\u001b[0;34m)\u001b[0m\u001b[0;34m\u001b[0m\u001b[0;34m\u001b[0m\u001b[0m\n\u001b[0m",
            "\u001b[0;31mAttributeError\u001b[0m: 'Mike' object has no attribute '__name'"
          ]
        }
      ]
    },
    {
      "cell_type": "code",
      "source": [
        "mike = Mike('Mike')\n",
        "mike.info()\n",
        "# __変数はクラス外から新たな変数として上書きしてしまうと利用できてしまうのでクラス外から新た変数を生成する場合は注意が必要\n",
        "mike.__name = 'aaaaaa'\n",
        "print(mike.__name)"
      ],
      "metadata": {
        "colab": {
          "base_uri": "https://localhost:8080/"
        },
        "id": "JUah8prYZG2O",
        "outputId": "51b34ba3-fc32-4127-cdcd-5ffcc14d1a4f"
      },
      "execution_count": 56,
      "outputs": [
        {
          "output_type": "stream",
          "name": "stdout",
          "text": [
            "name is Mike\n",
            "height is 180\n",
            "weight is 70\n",
            "aaaaaa\n"
          ]
        }
      ]
    },
    {
      "cell_type": "markdown",
      "source": [
        "## ダックタイピング"
      ],
      "metadata": {
        "id": "ChBl1N6k11zf"
      }
    },
    {
      "cell_type": "code",
      "source": [
        "class Person:\n",
        "    def __init__(self, age=0):\n",
        "        self.age = age\n",
        "\n",
        "    def drive(self):\n",
        "        if self.age >= 20:\n",
        "            print('ok')\n",
        "        else:\n",
        "            raise Exception('No drive')\n",
        "\n",
        "class Baby(Person):\n",
        "    def __init__(self, age=0):\n",
        "        if age < 20:\n",
        "            super().__init__(age)\n",
        "        else:\n",
        "            raise ValueError\n",
        "\n",
        "class Adult(Person):\n",
        "    def __init__(self, age=20):\n",
        "        if age >= 20:\n",
        "            super().__init__(age)\n",
        "        else:\n",
        "            raise ValueError\n",
        "\n",
        "\n",
        "baby = Baby()\n",
        "adult = Adult()\n",
        "\n",
        "class Car:\n",
        "    def __init__(self, model=None):\n",
        "        self.model = model\n",
        "    \n",
        "    def run(self):\n",
        "        print('run')\n",
        "\n",
        "    def ride(self, person):\n",
        "        # personオブジェクトのドライブメソッドを実行する\n",
        "        person.drive()\n",
        "\n",
        "car = Car()\n",
        "car.ride(adult)\n",
        "car.ride(baby)"
      ],
      "metadata": {
        "colab": {
          "base_uri": "https://localhost:8080/",
          "height": 368
        },
        "id": "5bKDnbIe11A8",
        "outputId": "cc53b152-1f99-44bb-a752-41657ad062d5"
      },
      "execution_count": 3,
      "outputs": [
        {
          "output_type": "stream",
          "name": "stdout",
          "text": [
            "ok\n"
          ]
        },
        {
          "output_type": "error",
          "ename": "Exception",
          "evalue": "ignored",
          "traceback": [
            "\u001b[0;31m---------------------------------------------------------------------------\u001b[0m",
            "\u001b[0;31mException\u001b[0m                                 Traceback (most recent call last)",
            "\u001b[0;32m<ipython-input-3-b429deef882a>\u001b[0m in \u001b[0;36m<module>\u001b[0;34m\u001b[0m\n\u001b[1;32m     40\u001b[0m \u001b[0mcar\u001b[0m \u001b[0;34m=\u001b[0m \u001b[0mCar\u001b[0m\u001b[0;34m(\u001b[0m\u001b[0;34m)\u001b[0m\u001b[0;34m\u001b[0m\u001b[0;34m\u001b[0m\u001b[0m\n\u001b[1;32m     41\u001b[0m \u001b[0mcar\u001b[0m\u001b[0;34m.\u001b[0m\u001b[0mride\u001b[0m\u001b[0;34m(\u001b[0m\u001b[0madult\u001b[0m\u001b[0;34m)\u001b[0m\u001b[0;34m\u001b[0m\u001b[0;34m\u001b[0m\u001b[0m\n\u001b[0;32m---> 42\u001b[0;31m \u001b[0mcar\u001b[0m\u001b[0;34m.\u001b[0m\u001b[0mride\u001b[0m\u001b[0;34m(\u001b[0m\u001b[0mbaby\u001b[0m\u001b[0;34m)\u001b[0m\u001b[0;34m\u001b[0m\u001b[0;34m\u001b[0m\u001b[0m\n\u001b[0m",
            "\u001b[0;32m<ipython-input-3-b429deef882a>\u001b[0m in \u001b[0;36mride\u001b[0;34m(self, person)\u001b[0m\n\u001b[1;32m     36\u001b[0m     \u001b[0;32mdef\u001b[0m \u001b[0mride\u001b[0m\u001b[0;34m(\u001b[0m\u001b[0mself\u001b[0m\u001b[0;34m,\u001b[0m \u001b[0mperson\u001b[0m\u001b[0;34m)\u001b[0m\u001b[0;34m:\u001b[0m\u001b[0;34m\u001b[0m\u001b[0;34m\u001b[0m\u001b[0m\n\u001b[1;32m     37\u001b[0m         \u001b[0;31m# personオブジェクトのドライブメソッドを実行する\u001b[0m\u001b[0;34m\u001b[0m\u001b[0;34m\u001b[0m\u001b[0;34m\u001b[0m\u001b[0m\n\u001b[0;32m---> 38\u001b[0;31m         \u001b[0mperson\u001b[0m\u001b[0;34m.\u001b[0m\u001b[0mdrive\u001b[0m\u001b[0;34m(\u001b[0m\u001b[0;34m)\u001b[0m\u001b[0;34m\u001b[0m\u001b[0;34m\u001b[0m\u001b[0m\n\u001b[0m\u001b[1;32m     39\u001b[0m \u001b[0;34m\u001b[0m\u001b[0m\n\u001b[1;32m     40\u001b[0m \u001b[0mcar\u001b[0m \u001b[0;34m=\u001b[0m \u001b[0mCar\u001b[0m\u001b[0;34m(\u001b[0m\u001b[0;34m)\u001b[0m\u001b[0;34m\u001b[0m\u001b[0;34m\u001b[0m\u001b[0m\n",
            "\u001b[0;32m<ipython-input-3-b429deef882a>\u001b[0m in \u001b[0;36mdrive\u001b[0;34m(self)\u001b[0m\n\u001b[1;32m      7\u001b[0m             \u001b[0mprint\u001b[0m\u001b[0;34m(\u001b[0m\u001b[0;34m'ok'\u001b[0m\u001b[0;34m)\u001b[0m\u001b[0;34m\u001b[0m\u001b[0;34m\u001b[0m\u001b[0m\n\u001b[1;32m      8\u001b[0m         \u001b[0;32melse\u001b[0m\u001b[0;34m:\u001b[0m\u001b[0;34m\u001b[0m\u001b[0;34m\u001b[0m\u001b[0m\n\u001b[0;32m----> 9\u001b[0;31m             \u001b[0;32mraise\u001b[0m \u001b[0mException\u001b[0m\u001b[0;34m(\u001b[0m\u001b[0;34m'No drive'\u001b[0m\u001b[0;34m)\u001b[0m\u001b[0;34m\u001b[0m\u001b[0;34m\u001b[0m\u001b[0m\n\u001b[0m\u001b[1;32m     10\u001b[0m \u001b[0;34m\u001b[0m\u001b[0m\n\u001b[1;32m     11\u001b[0m \u001b[0;32mclass\u001b[0m \u001b[0mBaby\u001b[0m\u001b[0;34m(\u001b[0m\u001b[0mPerson\u001b[0m\u001b[0;34m)\u001b[0m\u001b[0;34m:\u001b[0m\u001b[0;34m\u001b[0m\u001b[0;34m\u001b[0m\u001b[0m\n",
            "\u001b[0;31mException\u001b[0m: No drive"
          ]
        }
      ]
    },
    {
      "cell_type": "markdown",
      "source": [
        "## 抽象クラス\n",
        "\n",
        "*   継承先で必ず実装する関数を指定する\n",
        "*   使用度は低い\n",
        "\n",
        "\n",
        "\n",
        "\n",
        "```\n",
        "import abc\n",
        "class クラス名(metaclass=abc.ABCMeta):\n",
        "\n",
        "必ず継承先のクラスで必ず実装して下さいという宣言\n",
        "@abc.abstractclassmethod\n",
        "def 関数():\n",
        "    pass\n",
        "```\n",
        "\n"
      ],
      "metadata": {
        "id": "M0C9Q5B33-6D"
      }
    },
    {
      "cell_type": "code",
      "source": [
        "import abc\n",
        "\n",
        "class Person(metaclass=abc.ABCMeta):\n",
        "    def __init__(self, age=0):\n",
        "        self.age = age\n",
        "\n",
        "    @abc.abstractclassmethod\n",
        "    def drive(self):\n",
        "        pass\n",
        "\n",
        "class Baby(Person):\n",
        "    def __init__(self, age=0):\n",
        "        if age < 20:\n",
        "            super().__init__(age)\n",
        "        else:\n",
        "            raise ValueError\n",
        "\n",
        "class Adult(Person):\n",
        "    def __init__(self, age=20):\n",
        "        if age >= 20:\n",
        "            super().__init__(age)\n",
        "        else:\n",
        "            raise ValueError\n",
        "\n",
        "    def drive(self):\n",
        "        if self.age >= 20:\n",
        "            print('ok')\n",
        "        else:\n",
        "            raise Exception('No drive')\n",
        "\n",
        "baby = Baby()\n",
        "adult = Adult()\n",
        "adult.drive()"
      ],
      "metadata": {
        "colab": {
          "base_uri": "https://localhost:8080/",
          "height": 240
        },
        "id": "RjJff-Il4A0g",
        "outputId": "d054fc47-9267-47af-92a3-a02bd8d7bfd2"
      },
      "execution_count": 4,
      "outputs": [
        {
          "output_type": "error",
          "ename": "TypeError",
          "evalue": "ignored",
          "traceback": [
            "\u001b[0;31m---------------------------------------------------------------------------\u001b[0m",
            "\u001b[0;31mTypeError\u001b[0m                                 Traceback (most recent call last)",
            "\u001b[0;32m<ipython-input-4-44e5e998bce8>\u001b[0m in \u001b[0;36m<module>\u001b[0;34m\u001b[0m\n\u001b[1;32m     29\u001b[0m             \u001b[0;32mraise\u001b[0m \u001b[0mException\u001b[0m\u001b[0;34m(\u001b[0m\u001b[0;34m'No drive'\u001b[0m\u001b[0;34m)\u001b[0m\u001b[0;34m\u001b[0m\u001b[0;34m\u001b[0m\u001b[0m\n\u001b[1;32m     30\u001b[0m \u001b[0;34m\u001b[0m\u001b[0m\n\u001b[0;32m---> 31\u001b[0;31m \u001b[0mbaby\u001b[0m \u001b[0;34m=\u001b[0m \u001b[0mBaby\u001b[0m\u001b[0;34m(\u001b[0m\u001b[0;34m)\u001b[0m\u001b[0;34m\u001b[0m\u001b[0;34m\u001b[0m\u001b[0m\n\u001b[0m\u001b[1;32m     32\u001b[0m \u001b[0madult\u001b[0m \u001b[0;34m=\u001b[0m \u001b[0mAdult\u001b[0m\u001b[0;34m(\u001b[0m\u001b[0;34m)\u001b[0m\u001b[0;34m\u001b[0m\u001b[0;34m\u001b[0m\u001b[0m\n\u001b[1;32m     33\u001b[0m \u001b[0madult\u001b[0m\u001b[0;34m.\u001b[0m\u001b[0mdrive\u001b[0m\u001b[0;34m(\u001b[0m\u001b[0;34m)\u001b[0m\u001b[0;34m\u001b[0m\u001b[0;34m\u001b[0m\u001b[0m\n",
            "\u001b[0;31mTypeError\u001b[0m: Can't instantiate abstract class Baby with abstract methods drive"
          ]
        }
      ]
    },
    {
      "cell_type": "markdown",
      "source": [
        "## 多重継承\n",
        "\n",
        "*   複数のクラスを継承する\n",
        "*   あまり使用しないで実装したい\n",
        "\n"
      ],
      "metadata": {
        "id": "GC0vfK2a5nqC"
      }
    },
    {
      "cell_type": "code",
      "source": [
        "class Person:\n",
        "    def talk(self):\n",
        "        print('talk')\n",
        "\n",
        "    def run(self):\n",
        "        print('person run')\n",
        "\n",
        "class Car:\n",
        "    def run(self):\n",
        "        print('run')\n",
        "\n",
        "class PersonCarRobot(Person, Car):\n",
        "    def fly(self):\n",
        "        print('fly')\n",
        "\n",
        "person_car_robot = PersonCarRobot()\n",
        "person_car_robot.talk()\n",
        "person_car_robot.run() # スーパークラスに同じメソッドがある場合は継承元のclass クラス名(親1, 親2)の左側が優先される\n",
        "person_car_robot.fly()"
      ],
      "metadata": {
        "colab": {
          "base_uri": "https://localhost:8080/"
        },
        "id": "4yHSn8j_6EN9",
        "outputId": "ccf9bf58-3eb3-4a4b-d7cb-0f127bd17953"
      },
      "execution_count": 6,
      "outputs": [
        {
          "output_type": "stream",
          "name": "stdout",
          "text": [
            "talk\n",
            "person run\n",
            "fly\n"
          ]
        }
      ]
    },
    {
      "cell_type": "markdown",
      "source": [
        "## クラス変数\n",
        "\n",
        "*   再度__init __で初期化しなくていいような物を共有する場合に使用する\n",
        "*   全てのオブジェクトで共有される\n",
        "\n"
      ],
      "metadata": {
        "id": "kWHtrmlj76Vr"
      }
    },
    {
      "cell_type": "code",
      "source": [
        "class Person:\n",
        "    kind = 'human'\n",
        "\n",
        "    def __init__(self, name):\n",
        "        self.name = name\n",
        "\n",
        "    def who_are_you(self):\n",
        "        print(self.name, self.kind)"
      ],
      "metadata": {
        "id": "VyrMlzTx78lW"
      },
      "execution_count": 12,
      "outputs": []
    },
    {
      "cell_type": "code",
      "source": [
        "# aとbで違うオブジェクトだが同じkindを見ている\n",
        "a = Person('a')\n",
        "a.who_are_you()\n",
        "b = Person('b')\n",
        "b.who_are_you()"
      ],
      "metadata": {
        "colab": {
          "base_uri": "https://localhost:8080/"
        },
        "id": "_NCW5tW18MY3",
        "outputId": "313bc3e2-b493-4b01-c430-8d29221bc546"
      },
      "execution_count": 13,
      "outputs": [
        {
          "output_type": "stream",
          "name": "stdout",
          "text": [
            "a human\n",
            "b human\n"
          ]
        }
      ]
    },
    {
      "cell_type": "code",
      "source": [
        "class T:\n",
        "    words = []\n",
        "\n",
        "    def add_word(self, word):\n",
        "        self.words.append(word)\n",
        "\n",
        "t1 = T()\n",
        "t1.add_word('t1 add 1')\n",
        "t1.add_word('t1 add 2')\n",
        "t2 = T()\n",
        "t2.add_word('t2 add 1')\n",
        "# wordはクラス変数でオブジェクトは異なるが共通のwordを見ているため同じwordsに追加される\n",
        "print(t1, t1.words)\n",
        "print(t2, t2.words)"
      ],
      "metadata": {
        "colab": {
          "base_uri": "https://localhost:8080/"
        },
        "id": "0Kka0ejC846a",
        "outputId": "d63a6336-b382-41d1-c2c1-e50dcc82488e"
      },
      "execution_count": 14,
      "outputs": [
        {
          "output_type": "stream",
          "name": "stdout",
          "text": [
            "<__main__.T object at 0x7f011b1514d0> ['t1 add 1', 't1 add 2', 't2 add 1']\n",
            "<__main__.T object at 0x7f011b151510> ['t1 add 1', 't1 add 2', 't2 add 1']\n"
          ]
        }
      ]
    },
    {
      "cell_type": "code",
      "source": [
        "# 上記処理の対処法\n",
        "\n",
        "class T:\n",
        "    def __init__(self):\n",
        "        self.words = []\n",
        "\n",
        "    def add_word(self, word):\n",
        "        self.words.append(word)\n",
        "\n",
        "t1 = T()\n",
        "t1.add_word('t1 add 1')\n",
        "t1.add_word('t1 add 2')\n",
        "t2 = T()\n",
        "t2.add_word('t2 add 1')\n",
        "\n",
        "print(t1, t1.words)\n",
        "print(t2, t2.words)"
      ],
      "metadata": {
        "colab": {
          "base_uri": "https://localhost:8080/"
        },
        "id": "QZngiDif9yQX",
        "outputId": "092841db-5a8d-49f9-df95-941c4a4378e0"
      },
      "execution_count": 15,
      "outputs": [
        {
          "output_type": "stream",
          "name": "stdout",
          "text": [
            "<__main__.T object at 0x7f011b034ad0> ['t1 add 1', 't1 add 2']\n",
            "<__main__.T object at 0x7f011b034b90> ['t2 add 1']\n"
          ]
        }
      ]
    },
    {
      "cell_type": "markdown",
      "source": [
        "## クラスメソッドとスタティックメソッド\n",
        "\n",
        "\n",
        "```\n",
        "クラスのメソッドとして扱う\n",
        "@classmethod\n",
        "def 関数名(cls):\n",
        "    return cls.変数名\n",
        "\n",
        "\n",
        "スタティックメソッド\n",
        "@staticmethod\n",
        "def 関数名():\n",
        "```\n",
        "\n"
      ],
      "metadata": {
        "id": "t-GRd3tz-3a5"
      }
    },
    {
      "cell_type": "code",
      "source": [
        "class Person:\n",
        "    kind = 'human'\n",
        "\n",
        "    def __init__(self):\n",
        "        self.x = 100\n",
        "\n",
        "    @classmethod\n",
        "    def wah_is_your_kind(cls):\n",
        "        return cls.kind\n",
        "\n",
        "    @staticmethod\n",
        "    def about(year):\n",
        "        print(f'about human {year}')\n",
        "\n",
        "a = Person()\n",
        "print(a) # オブジェクト\n",
        "\n",
        "b = Person\n",
        "print(b) # クラス\n",
        "# print(b.x) まだオブジェクトが生成されていないのでエラーになる\n",
        "\n",
        "print(a.kind)\n",
        "print(b.kind) # kindはクラス変数のため、アクセス可能\n",
        "\n",
        "# クラスメソッドのためエラーにならない\n",
        "print(b.wah_is_your_kind())\n",
        "\n",
        "# スタティックメソッドへのアクセス\n",
        "Person.about(2000)"
      ],
      "metadata": {
        "colab": {
          "base_uri": "https://localhost:8080/"
        },
        "id": "_q0wa2HX-32U",
        "outputId": "e8065a16-8702-4cd4-f59f-b739ee2b00fe"
      },
      "execution_count": 23,
      "outputs": [
        {
          "output_type": "stream",
          "name": "stdout",
          "text": [
            "<__main__.Person object at 0x7f011b18df90>\n",
            "<class '__main__.Person'>\n",
            "human\n",
            "human\n",
            "human\n",
            "about human 2000\n"
          ]
        }
      ]
    },
    {
      "cell_type": "markdown",
      "source": [
        "## 特殊メソッド\n",
        "*   前後にアンダースコアが(_)があるメソッド\n",
        "\n"
      ],
      "metadata": {
        "id": "VU0hKwaFBaC4"
      }
    },
    {
      "cell_type": "code",
      "source": [
        "class Word:\n",
        "    def __init__(self, text):\n",
        "        self.text = text\n",
        "\n",
        "    def __str__(self):\n",
        "        \"\"\"\n",
        "        print()やstr()など文字列として読み込まれた時に実行される\n",
        "        \"\"\"\n",
        "        return 'word'\n",
        "\n",
        "    def __len__(self):\n",
        "        \"\"\"\n",
        "        長さを返す\n",
        "        \"\"\"\n",
        "        return len(self.text)\n",
        "\n",
        "    def __add__(self, word):\n",
        "        return self.text.lower() + word.text.lower()\n",
        "\n",
        "    def __eq__(self, word):\n",
        "        return self.text.lower() == word.text.lower()\n",
        "\n",
        "w = Word('test')\n",
        "print(w)\n",
        "print(len(w)) # 本来ならlen(w.text)と記述するのを簡略化できる\n",
        "\n",
        "w2 = Word('ababababababababab')\n",
        "print(w + w2) # 本来ならw.text + w2.textとなる\n",
        "\n",
        "# wとw2は値が違うのでFalseが帰ってくる\n",
        "print(w == w2)\n",
        "\n",
        "# wとw3は値が同じなのでTrueが帰ってくる\n",
        "w3 = Word('test')\n",
        "print(w == w3)"
      ],
      "metadata": {
        "colab": {
          "base_uri": "https://localhost:8080/"
        },
        "id": "9cPDSzCPBoFY",
        "outputId": "c797823d-6172-483a-aa91-e7a3e799e4c0"
      },
      "execution_count": 38,
      "outputs": [
        {
          "output_type": "stream",
          "name": "stdout",
          "text": [
            "word\n",
            "4\n",
            "testababababababababab\n",
            "False\n",
            "True\n"
          ]
        }
      ]
    },
    {
      "cell_type": "markdown",
      "source": [
        "## 名前空間とスコープ"
      ],
      "metadata": {
        "id": "Hxa95oRl7UYu"
      }
    },
    {
      "cell_type": "code",
      "source": [
        "sport = 'basketball'\n",
        "\n",
        "# グローバル変数なの表示可能\n",
        "print(sport)"
      ],
      "metadata": {
        "colab": {
          "base_uri": "https://localhost:8080/"
        },
        "id": "jtvwv37g7Ts-",
        "outputId": "4970c18b-7c5e-44fa-81f9-ba972fc19a30"
      },
      "execution_count": 7,
      "outputs": [
        {
          "output_type": "stream",
          "name": "stdout",
          "text": [
            "basketball\n"
          ]
        }
      ]
    },
    {
      "cell_type": "code",
      "source": [
        "sport = 'basketball'\n",
        "def f():\n",
        "    print(sport)\n",
        "f()"
      ],
      "metadata": {
        "colab": {
          "base_uri": "https://localhost:8080/"
        },
        "id": "1h8EVkpk7qJV",
        "outputId": "361cbf1f-23a3-4f04-a253-598f7894f233"
      },
      "execution_count": null,
      "outputs": [
        {
          "output_type": "stream",
          "name": "stdout",
          "text": [
            "basketball\n"
          ]
        }
      ]
    },
    {
      "cell_type": "code",
      "source": [
        "sport = 'basketball'\n",
        "def f():\n",
        "    # function内で宣言したsportに値を入れようとしてる\n",
        "    # ローカル変数宣言前に変数sportを出力しようとしているためエラーになる\n",
        "    print(sport)\n",
        "    sport = 'soccer'\n",
        "    print('after', sport)\n",
        "\n",
        "f()"
      ],
      "metadata": {
        "colab": {
          "base_uri": "https://localhost:8080/",
          "height": 326
        },
        "id": "5vDguSiK7w78",
        "outputId": "f29eb5a5-2a02-4382-9478-d67d59c34494"
      },
      "execution_count": null,
      "outputs": [
        {
          "output_type": "error",
          "ename": "UnboundLocalError",
          "evalue": "ignored",
          "traceback": [
            "\u001b[0;31m---------------------------------------------------------------------------\u001b[0m",
            "\u001b[0;31mUnboundLocalError\u001b[0m                         Traceback (most recent call last)",
            "\u001b[0;32m<ipython-input-4-2a588d52c220>\u001b[0m in \u001b[0;36m<module>\u001b[0;34m\u001b[0m\n\u001b[1;32m      5\u001b[0m     \u001b[0mprint\u001b[0m\u001b[0;34m(\u001b[0m\u001b[0;34m'after'\u001b[0m\u001b[0;34m,\u001b[0m \u001b[0msport\u001b[0m\u001b[0;34m)\u001b[0m\u001b[0;34m\u001b[0m\u001b[0;34m\u001b[0m\u001b[0m\n\u001b[1;32m      6\u001b[0m \u001b[0;34m\u001b[0m\u001b[0m\n\u001b[0;32m----> 7\u001b[0;31m \u001b[0mf\u001b[0m\u001b[0;34m(\u001b[0m\u001b[0;34m)\u001b[0m\u001b[0;34m\u001b[0m\u001b[0;34m\u001b[0m\u001b[0m\n\u001b[0m",
            "\u001b[0;32m<ipython-input-4-2a588d52c220>\u001b[0m in \u001b[0;36mf\u001b[0;34m()\u001b[0m\n\u001b[1;32m      1\u001b[0m \u001b[0msport\u001b[0m \u001b[0;34m=\u001b[0m \u001b[0;34m'basketball'\u001b[0m\u001b[0;34m\u001b[0m\u001b[0;34m\u001b[0m\u001b[0m\n\u001b[1;32m      2\u001b[0m \u001b[0;32mdef\u001b[0m \u001b[0mf\u001b[0m\u001b[0;34m(\u001b[0m\u001b[0;34m)\u001b[0m\u001b[0;34m:\u001b[0m\u001b[0;34m\u001b[0m\u001b[0;34m\u001b[0m\u001b[0m\n\u001b[0;32m----> 3\u001b[0;31m     \u001b[0mprint\u001b[0m\u001b[0;34m(\u001b[0m\u001b[0msport\u001b[0m\u001b[0;34m)\u001b[0m\u001b[0;34m\u001b[0m\u001b[0;34m\u001b[0m\u001b[0m\n\u001b[0m\u001b[1;32m      4\u001b[0m     \u001b[0msport\u001b[0m \u001b[0;34m=\u001b[0m \u001b[0;34m'soccer'\u001b[0m\u001b[0;34m\u001b[0m\u001b[0;34m\u001b[0m\u001b[0m\n\u001b[1;32m      5\u001b[0m     \u001b[0mprint\u001b[0m\u001b[0;34m(\u001b[0m\u001b[0;34m'after'\u001b[0m\u001b[0;34m,\u001b[0m \u001b[0msport\u001b[0m\u001b[0;34m)\u001b[0m\u001b[0;34m\u001b[0m\u001b[0;34m\u001b[0m\u001b[0m\n",
            "\u001b[0;31mUnboundLocalError\u001b[0m: local variable 'sport' referenced before assignment"
          ]
        }
      ]
    },
    {
      "cell_type": "code",
      "source": [
        "sport = 'basketball'\n",
        "def f():\n",
        "    # print(sport)\n",
        "    # このfunction内で宣言しているためエラーにならない\n",
        "    sport = 'soccer'\n",
        "    print('after', sport)\n",
        "\n",
        "f()\n",
        "print('global', sport)"
      ],
      "metadata": {
        "colab": {
          "base_uri": "https://localhost:8080/"
        },
        "id": "LncLAgsF8zL4",
        "outputId": "001cd089-5eb7-4f65-c076-81759d2fb3e0"
      },
      "execution_count": null,
      "outputs": [
        {
          "output_type": "stream",
          "name": "stdout",
          "text": [
            "after soccer\n",
            "global basketball\n"
          ]
        }
      ]
    },
    {
      "cell_type": "code",
      "source": [
        "sport = 'basketball'\n",
        "def f():\n",
        "    # グローバル変数の値を変える場合は変数の global 変数名で宣言する\n",
        "    global sport\n",
        "    sport = 'soccer'\n",
        "    print('local', sport)\n",
        "\n",
        "f()\n",
        "print('global', sport)"
      ],
      "metadata": {
        "colab": {
          "base_uri": "https://localhost:8080/"
        },
        "id": "GYt-P7Tb9YP7",
        "outputId": "9b99663d-3e3f-47b7-cded-305ed017948b"
      },
      "execution_count": null,
      "outputs": [
        {
          "output_type": "stream",
          "name": "stdout",
          "text": [
            "local soccer\n",
            "global soccer\n"
          ]
        }
      ]
    },
    {
      "cell_type": "code",
      "source": [
        "sport = 'basketball'\n",
        "def f():\n",
        "    sport = 'soccer'\n",
        "    # locals()により辞書型で取得可能\n",
        "    print('local', locals())\n",
        "\n",
        "f()\n",
        "# globals()も辞書型で様々な情報を取得可能\n",
        "print('global', globals())"
      ],
      "metadata": {
        "colab": {
          "base_uri": "https://localhost:8080/"
        },
        "id": "f3dbcOtY99Hs",
        "outputId": "028b761b-abc6-41fb-a93e-34670d4c2a6c"
      },
      "execution_count": null,
      "outputs": [
        {
          "output_type": "stream",
          "name": "stdout",
          "text": [
            "local {'sport': 'soccer'}\n",
            "global {'__name__': '__main__', '__doc__': 'Automatically created module for IPython interactive environment', '__package__': None, '__loader__': None, '__spec__': None, '__builtin__': <module 'builtins' (built-in)>, '__builtins__': <module 'builtins' (built-in)>, '_ih': ['', \"sport = 'basketball'\\nprint(sport)\", \"sport = 'basketball'\", \"sport = 'basketball'\\ndef f():\\n    print(sport)\\nf()\", \"sport = 'basketball'\\ndef f():\\n    print(sport)\\n    sport = 'soccer'\\n    print('after', sport)\\n\\nf()\", \"sport = 'basketball'\\ndef f():\\n    # print(sport)\\n    sport = 'soccer'\\n    print('after', sport)\\n\\nf()\\nprint('global', sport)\", \"sport = 'basketball'\\ndef f():\\n    # グローバル変数の値を変える場合は変数の\\n    global sport\\n    sport = 'soccer'\\n    print('local', sport)\\n\\nf()\\nprint('global', sport)\", \"sport = 'basketball'\\ndef f():\\n    sport = 'soccer'\\n    print('local', locals())\\n\\nf()\\nprint('global', sport)\", \"sport = 'basketball'\\ndef f():\\n    sport = 'soccer'\\n    # locals()により辞書型で取得可能\\n    print('local', locals())\\n\\nf()\\nprint('global', globals（）)\", \"sport = 'basketball'\\ndef f():\\n    sport = 'soccer'\\n    # locals()により辞書型で取得可能\\n    print('local', locals())\\n\\nf()\\nprint('global', globals（）)\", \"sport = 'basketball'\\ndef f():\\n    sport = 'soccer'\\n    # locals()により辞書型で取得可能\\n    print('local', locals())\\n\\nf()\\nprint('global',\\u3000globals（）)\", \"sport = 'basketball'\\ndef f():\\n    sport = 'soccer'\\n    # locals()により辞書型で取得可能\\n    print('local', locals())\\n\\nf()\\nprint('global', globals（）)\", \"sport = 'basketball'\\ndef f():\\n    sport = 'soccer'\\n    # locals()により辞書型で取得可能\\n    print('local', locals())\\n\\nf()\\nprint('global', globals())\"], '_oh': {}, '_dh': ['/content'], 'In': ['', \"sport = 'basketball'\\nprint(sport)\", \"sport = 'basketball'\", \"sport = 'basketball'\\ndef f():\\n    print(sport)\\nf()\", \"sport = 'basketball'\\ndef f():\\n    print(sport)\\n    sport = 'soccer'\\n    print('after', sport)\\n\\nf()\", \"sport = 'basketball'\\ndef f():\\n    # print(sport)\\n    sport = 'soccer'\\n    print('after', sport)\\n\\nf()\\nprint('global', sport)\", \"sport = 'basketball'\\ndef f():\\n    # グローバル変数の値を変える場合は変数の\\n    global sport\\n    sport = 'soccer'\\n    print('local', sport)\\n\\nf()\\nprint('global', sport)\", \"sport = 'basketball'\\ndef f():\\n    sport = 'soccer'\\n    print('local', locals())\\n\\nf()\\nprint('global', sport)\", \"sport = 'basketball'\\ndef f():\\n    sport = 'soccer'\\n    # locals()により辞書型で取得可能\\n    print('local', locals())\\n\\nf()\\nprint('global', globals（）)\", \"sport = 'basketball'\\ndef f():\\n    sport = 'soccer'\\n    # locals()により辞書型で取得可能\\n    print('local', locals())\\n\\nf()\\nprint('global', globals（）)\", \"sport = 'basketball'\\ndef f():\\n    sport = 'soccer'\\n    # locals()により辞書型で取得可能\\n    print('local', locals())\\n\\nf()\\nprint('global',\\u3000globals（）)\", \"sport = 'basketball'\\ndef f():\\n    sport = 'soccer'\\n    # locals()により辞書型で取得可能\\n    print('local', locals())\\n\\nf()\\nprint('global', globals（）)\", \"sport = 'basketball'\\ndef f():\\n    sport = 'soccer'\\n    # locals()により辞書型で取得可能\\n    print('local', locals())\\n\\nf()\\nprint('global', globals())\"], 'Out': {}, 'get_ipython': <bound method InteractiveShell.get_ipython of <google.colab._shell.Shell object at 0x7f505910b790>>, 'exit': <IPython.core.autocall.ZMQExitAutocall object at 0x7f50558f45d0>, 'quit': <IPython.core.autocall.ZMQExitAutocall object at 0x7f50558f45d0>, '_': '', '__': '', '___': '', '_i': \"sport = 'basketball'\\ndef f():\\n    sport = 'soccer'\\n    # locals()により辞書型で取得可能\\n    print('local', locals())\\n\\nf()\\nprint('global', globals（）)\", '_ii': \"sport = 'basketball'\\ndef f():\\n    sport = 'soccer'\\n    # locals()により辞書型で取得可能\\n    print('local', locals())\\n\\nf()\\nprint('global',\\u3000globals（）)\", '_iii': \"sport = 'basketball'\\ndef f():\\n    sport = 'soccer'\\n    # locals()により辞書型で取得可能\\n    print('local', locals())\\n\\nf()\\nprint('global', globals（）)\", '_i1': \"sport = 'basketball'\\nprint(sport)\", 'sport': 'basketball', '_i2': \"sport = 'basketball'\", '_i3': \"sport = 'basketball'\\ndef f():\\n    print(sport)\\nf()\", 'f': <function f at 0x7f5046605dd0>, '_i4': \"sport = 'basketball'\\ndef f():\\n    print(sport)\\n    sport = 'soccer'\\n    print('after', sport)\\n\\nf()\", '_i5': \"sport = 'basketball'\\ndef f():\\n    # print(sport)\\n    sport = 'soccer'\\n    print('after', sport)\\n\\nf()\\nprint('global', sport)\", '_i6': \"sport = 'basketball'\\ndef f():\\n    # グローバル変数の値を変える場合は変数の\\n    global sport\\n    sport = 'soccer'\\n    print('local', sport)\\n\\nf()\\nprint('global', sport)\", '_i7': \"sport = 'basketball'\\ndef f():\\n    sport = 'soccer'\\n    print('local', locals())\\n\\nf()\\nprint('global', sport)\", '_i8': \"sport = 'basketball'\\ndef f():\\n    sport = 'soccer'\\n    # locals()により辞書型で取得可能\\n    print('local', locals())\\n\\nf()\\nprint('global', globals（）)\", '_i9': \"sport = 'basketball'\\ndef f():\\n    sport = 'soccer'\\n    # locals()により辞書型で取得可能\\n    print('local', locals())\\n\\nf()\\nprint('global', globals（）)\", '_i10': \"sport = 'basketball'\\ndef f():\\n    sport = 'soccer'\\n    # locals()により辞書型で取得可能\\n    print('local', locals())\\n\\nf()\\nprint('global',\\u3000globals（）)\", '_i11': \"sport = 'basketball'\\ndef f():\\n    sport = 'soccer'\\n    # locals()により辞書型で取得可能\\n    print('local', locals())\\n\\nf()\\nprint('global', globals（）)\", '_i12': \"sport = 'basketball'\\ndef f():\\n    sport = 'soccer'\\n    # locals()により辞書型で取得可能\\n    print('local', locals())\\n\\nf()\\nprint('global', globals())\"}\n"
          ]
        }
      ]
    },
    {
      "cell_type": "code",
      "source": [
        "def f():\n",
        "    \"\"\"\n",
        "    test function doc\n",
        "    \"\"\"\n",
        "    # function名やドキュメントを取得可能\n",
        "    print(f.__name__)\n",
        "    print(f.__doc__)\n",
        "f()\n",
        "print('global', __name__)"
      ],
      "metadata": {
        "colab": {
          "base_uri": "https://localhost:8080/"
        },
        "id": "tBODk0Py_xUi",
        "outputId": "a2887440-5b3f-4a81-dc9b-54ee4b6766e4"
      },
      "execution_count": null,
      "outputs": [
        {
          "output_type": "stream",
          "name": "stdout",
          "text": [
            "f\n",
            "\n",
            "    test function doc\n",
            "    \n",
            "global __main__\n"
          ]
        }
      ]
    }
  ]
}