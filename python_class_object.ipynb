{
  "nbformat": 4,
  "nbformat_minor": 0,
  "metadata": {
    "colab": {
      "name": "python_class_object.ipynb",
      "provenance": [],
      "authorship_tag": "ABX9TyM4SYASNqYxeLI2dcBeqxxq",
      "include_colab_link": true
    },
    "kernelspec": {
      "name": "python3",
      "display_name": "Python 3"
    },
    "language_info": {
      "name": "python"
    }
  },
  "cells": [
    {
      "cell_type": "markdown",
      "metadata": {
        "id": "view-in-github",
        "colab_type": "text"
      },
      "source": [
        "<a href=\"https://colab.research.google.com/github/hongo-daisuke/study-python/blob/master/python_class_object.ipynb\" target=\"_parent\"><img src=\"https://colab.research.google.com/assets/colab-badge.svg\" alt=\"Open In Colab\"/></a>"
      ]
    },
    {
      "cell_type": "markdown",
      "source": [
        "# クラスとオブジェクト\n",
        "## オブジェクト指向の考え方\n",
        "```\n",
        "オブジェクト\n",
        "・人\n",
        "\n",
        "属性 (メンバ変数)\n",
        "・名前\n",
        "・性別\n",
        "・年齢\n",
        "\n",
        "動作 (メソッド)\n",
        "・立つ\n",
        "・歩く\n",
        "・走る\n",
        "```\n",
        "*   クラスはオブジェクトの「型」\n",
        "*   いくらでもオブジェクトを生成出来る\n",
        "*   生成したものをインスタンスと言う\n"
      ],
      "metadata": {
        "id": "6D5A855eme-Y"
      }
    },
    {
      "cell_type": "code",
      "execution_count": 3,
      "metadata": {
        "id": "SHj7gM9GmaFo"
      },
      "outputs": [],
      "source": [
        "class Person:\n",
        "    # コンストラクタ\n",
        "    def __init__(self):\n",
        "        # 属性 メンバ変数 名前の初期化\n",
        "        self.name = ''\n",
        "    \n",
        "    # runメソッド\n",
        "    def run(self):\n",
        "        print(f'{self.name}が走っています。')"
      ]
    },
    {
      "cell_type": "code",
      "source": [
        "# インスタンスの生成\n",
        "p = Person()\n",
        "\n",
        "# 名前の設定\n",
        "p.name = 'Michael'\n",
        "\n",
        "# runメソッドの実行\n",
        "p.run()"
      ],
      "metadata": {
        "colab": {
          "base_uri": "https://localhost:8080/"
        },
        "id": "n_xqH3xy1ChC",
        "outputId": "98181a2f-8632-4bef-a46f-7fb03d2f977e"
      },
      "execution_count": 4,
      "outputs": [
        {
          "output_type": "stream",
          "name": "stdout",
          "text": [
            "Michaelが走っています。\n"
          ]
        }
      ]
    },
    {
      "cell_type": "code",
      "source": [
        "# 複数のインスタンスを生成\n",
        "\n",
        "# インスタンスの生成\n",
        "p1 = Person()\n",
        "p2 = Person()\n",
        "\n",
        "# 名前の設定\n",
        "p1.name = 'Michael'\n",
        "p2.name = 'Anthony'\n",
        "\n",
        "# runメソッドの実行\n",
        "p1.run()\n",
        "p2.run()"
      ],
      "metadata": {
        "colab": {
          "base_uri": "https://localhost:8080/"
        },
        "id": "v7xnbI0W1VmB",
        "outputId": "13c47f70-f196-47bf-9bcb-36d0ced3d64a"
      },
      "execution_count": 6,
      "outputs": [
        {
          "output_type": "stream",
          "name": "stdout",
          "text": [
            "Michaelが走っています。\n",
            "Anthonyが走っています。\n"
          ]
        }
      ]
    },
    {
      "cell_type": "markdown",
      "source": [
        "## 引数付きコンストラクタの例"
      ],
      "metadata": {
        "id": "ux_C0_WW2tYz"
      }
    },
    {
      "cell_type": "code",
      "source": [
        "class Person:\n",
        "    # コンストラクタ\n",
        "    def __init__(self, name):\n",
        "        # 属性 メンバ変数 名前の初期化\n",
        "        self.name = name\n",
        "    \n",
        "    # runメソッド\n",
        "    def run(self):\n",
        "        print(f'{self.name}が走っています。')"
      ],
      "metadata": {
        "id": "qa4uvqM01VsG"
      },
      "execution_count": 7,
      "outputs": []
    },
    {
      "cell_type": "code",
      "source": [
        "# インスタンスの生成\n",
        "p = Person('James')\n",
        "\n",
        "# runメソッドの実行\n",
        "p.run()"
      ],
      "metadata": {
        "colab": {
          "base_uri": "https://localhost:8080/"
        },
        "id": "dYy1gfgo1Vu5",
        "outputId": "e0eb8407-ee9a-47ae-b1fe-2aa5c36ecc06"
      },
      "execution_count": 8,
      "outputs": [
        {
          "output_type": "stream",
          "name": "stdout",
          "text": [
            "Jamesが走っています。\n"
          ]
        }
      ]
    },
    {
      "cell_type": "markdown",
      "source": [
        "## 継承とは\n",
        "```\n",
        "・ あるクラスの機能を受け継いだ新しいクラスを作る\n",
        "    自動車 → 救急車・スポーツカー\n",
        "・ 元になるクラスはスーパークラス、継承したクラスをサブクラスと呼ぶ\n",
        "・ サブクラスはスーパクラスのメンバ変数やメソッドが使用出来る\n",
        "\n",
        "サブクラスの書式\n",
        "class サブクラス名 (スーパークラス名):\n",
        "    def メソッド (引数1...):\n",
        "```\n",
        "\n",
        "\n",
        "\n",
        "\n",
        "\n"
      ],
      "metadata": {
        "id": "6h0CWhYh3IMm"
      }
    },
    {
      "cell_type": "code",
      "source": [
        "# スーパークラス\n",
        "class Calculator:\n",
        "    def __init__(self):\n",
        "        self.a = 0\n",
        "        self.b = 0\n",
        "\n",
        "    def add(self):\n",
        "        return self.a + self.b\n",
        "\n",
        "    def sub(self):\n",
        "        return self.a - self.b"
      ],
      "metadata": {
        "id": "WT75YWQv1Vxn"
      },
      "execution_count": 10,
      "outputs": []
    },
    {
      "cell_type": "code",
      "source": [
        "# サブクラス\n",
        "class NewCalculator(Calculator):\n",
        "    def mul(self):\n",
        "        return self.a * self.b\n",
        "\n",
        "    def div(self):\n",
        "        return self.a // self.b"
      ],
      "metadata": {
        "id": "NWrdsvBE1V0M"
      },
      "execution_count": 11,
      "outputs": []
    },
    {
      "cell_type": "code",
      "source": [
        "newcal = NewCalculator()\n",
        "newcal.a = 10\n",
        "newcal.b = 2\n",
        "\n",
        "# スーパークラスのメソッドを実行出来る\n",
        "add = newcal.add()\n",
        "sub = newcal.sub()\n",
        "\n",
        "print(add)\n",
        "print(sub)\n",
        "\n",
        "# 自身のクラスのメソッドを実行\n",
        "mul = newcal.mul()\n",
        "div = newcal.div()\n",
        "\n",
        "print(mul)\n",
        "print(div)"
      ],
      "metadata": {
        "colab": {
          "base_uri": "https://localhost:8080/"
        },
        "id": "qiz9FNA31V3u",
        "outputId": "8fee3fea-b577-4148-8ee7-49a30f73df57"
      },
      "execution_count": 12,
      "outputs": [
        {
          "output_type": "stream",
          "name": "stdout",
          "text": [
            "12\n",
            "8\n",
            "20\n",
            "5\n"
          ]
        }
      ]
    }
  ]
}