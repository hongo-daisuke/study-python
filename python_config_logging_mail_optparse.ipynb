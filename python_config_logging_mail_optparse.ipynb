{
  "nbformat": 4,
  "nbformat_minor": 0,
  "metadata": {
    "colab": {
      "provenance": [],
      "collapsed_sections": [],
      "mount_file_id": "1pRLCfDbNlczTz1xJ_3rho3jODHxAbS2U",
      "authorship_tag": "ABX9TyOZ94jB0TwzbMVqlGdd4z51",
      "include_colab_link": true
    },
    "kernelspec": {
      "name": "python3",
      "display_name": "Python 3"
    },
    "language_info": {
      "name": "python"
    }
  },
  "cells": [
    {
      "cell_type": "markdown",
      "metadata": {
        "id": "view-in-github",
        "colab_type": "text"
      },
      "source": [
        "<a href=\"https://colab.research.google.com/github/hongo-daisuke/study-python/blob/master/python_config_logging_mail_optparse.ipynb\" target=\"_parent\"><img src=\"https://colab.research.google.com/assets/colab-badge.svg\" alt=\"Open In Colab\"/></a>"
      ]
    },
    {
      "cell_type": "markdown",
      "source": [
        "## configparser\n",
        "\n",
        "*   ini形式の設定ファイルを使用する\n",
        "\n",
        "```\n",
        "; iniファイルの例\n",
        "[DEFAULT]\n",
        "debug = False\n",
        "\n",
        "[DB]\n",
        "host = 127.0.0.1\n",
        "port = 3306\n",
        "user = db_user\n",
        "password = password\n",
        "```\n",
        "\n",
        "\n",
        "\n"
      ],
      "metadata": {
        "id": "5fUNMqQGCFX3"
      }
    },
    {
      "cell_type": "code",
      "execution_count": 6,
      "metadata": {
        "id": "xMsdI2s8Bhxf"
      },
      "outputs": [],
      "source": [
        "import configparser\n",
        "config = configparser.ConfigParser()\n",
        "\n",
        "# 格項目の設定\n",
        "config['debug'] = {\n",
        "    'debug': True\n",
        "}\n",
        "config['DB'] = {\n",
        "    'host': '127.0.0.1',\n",
        "    'port': 3306,\n",
        "    'user': 'db_user',\n",
        "    'password': 'db_password'\n",
        "}\n",
        "\n",
        "# configファイルへの書き込み\n",
        "with open('conig.ini', 'w') as config_file:\n",
        "    config.write(config_file)"
      ]
    },
    {
      "cell_type": "code",
      "source": [
        "# configファイルの読み込み\n",
        "\n",
        "config = configparser.ConfigParser()\n",
        "config.read('conig.ini')\n",
        "config_db_host = config['DB']['host']\n",
        "config_db_port = config['DB']['port']\n",
        "print(config_db_host)\n",
        "print(config_db_port)"
      ],
      "metadata": {
        "colab": {
          "base_uri": "https://localhost:8080/"
        },
        "id": "Zt-v7F7nCEmz",
        "outputId": "530ab015-6850-49e3-a442-d204482af953"
      },
      "execution_count": 7,
      "outputs": [
        {
          "output_type": "stream",
          "name": "stdout",
          "text": [
            "127.0.0.1\n",
            "3306\n"
          ]
        }
      ]
    },
    {
      "cell_type": "markdown",
      "source": [
        "## yaml\n",
        "```\n",
        "default:\n",
        "    debug: False\n",
        "\n",
        "db:\n",
        "    host: 127.0.0.1\n",
        "    port: 3306\n",
        "    user: db_user\n",
        "    password: db_password\n",
        "```\n",
        "\n"
      ],
      "metadata": {
        "id": "1DEwHlWGGpfA"
      }
    },
    {
      "cell_type": "code",
      "source": [
        "import yaml\n",
        "\n",
        "# yamlファイルに書き込み\n",
        "with open('config.yml', 'w') as yaml_file:\n",
        "    yaml.dump({\n",
        "        'db': {\n",
        "            'host': '127.0.0.1',\n",
        "            'port': 3306,\n",
        "            'user': 'db_user',\n",
        "            'password': 'db_password'\n",
        "        },\n",
        "        'default': {\n",
        "            'debug': True\n",
        "        }\n",
        "    }, yaml_file, default_flow_style=False)"
      ],
      "metadata": {
        "id": "0PHuv04lGo3o"
      },
      "execution_count": 8,
      "outputs": []
    },
    {
      "cell_type": "code",
      "source": [
        "# yamlファイルの読み込み\n",
        "with open('config.yml', 'r') as yaml_file:\n",
        "    data = yaml.safe_load(yaml_file)\n",
        "    print(data)\n",
        "    print(data['db']['password'])"
      ],
      "metadata": {
        "colab": {
          "base_uri": "https://localhost:8080/"
        },
        "id": "eTZeSk7uIFCk",
        "outputId": "3e2b5617-122b-4d6a-d8db-c70b7160efb9"
      },
      "execution_count": 9,
      "outputs": [
        {
          "output_type": "stream",
          "name": "stdout",
          "text": [
            "{'db': {'host': '127.0.0.1', 'password': 'db_password', 'port': 3306, 'user': 'db_user'}, 'default': {'debug': True}}\n",
            "db_password\n"
          ]
        }
      ]
    },
    {
      "cell_type": "markdown",
      "source": [
        "## ロギング\n",
        "\n",
        "*   ログを出力する\n",
        "*   ログレベルは以下の通り\n",
        "1.   DEBUG\n",
        "2.   INFO\n",
        "3.   WARNING\n",
        "4.   ERROR\n",
        "5.   CRITICAL\n",
        "\n",
        "```\n",
        "# ロギング設定例\n",
        "\n",
        "# ログの設定\n",
        "logging.basicConfig(format='フォーマット文字列', filename=エラーログファイル名, level=logging.ログレベル)\n",
        "\n",
        "# ロガーの取得\n",
        "logger = logging.getLogger('logger名')\n",
        "\n",
        "# ログ出力例\n",
        "logger.info('info')\n",
        "```\n",
        "\n",
        "\n",
        "\n"
      ],
      "metadata": {
        "id": "Fi6u_8eeJOs4"
      }
    },
    {
      "cell_type": "code",
      "source": [
        "import logging\n",
        "\n",
        "# levelに設定しているレベル以下ログは出力されない\n",
        "logging.basicConfig(level=logging.INFO)\n",
        "\n",
        "logging.debug('debug')\n",
        "logging.info('info')\n",
        "logging.warning('warning')\n",
        "logging.error('error')\n",
        "logging.critical('critical')"
      ],
      "metadata": {
        "id": "snOS-msvK4Zg"
      },
      "execution_count": 48,
      "outputs": []
    },
    {
      "cell_type": "markdown",
      "source": [
        "![スクリーンショット 2022-09-01 22.53.44.png](data:image/png;base64,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)"
      ],
      "metadata": {
        "id": "rBh6ET5fVFZ3"
      }
    },
    {
      "cell_type": "code",
      "source": [
        "# 文字の代入のやり方は複数ある\n",
        "logging.warning('warning　%s %s' % ('test1', 'test2'))\n",
        "logging.warning('warning　%s %s', 'test1', 'test2')"
      ],
      "metadata": {
        "colab": {
          "base_uri": "https://localhost:8080/"
        },
        "id": "_c4a5ArpQNl1",
        "outputId": "007ee198-b70c-4fac-ea9f-755435dfe7e8"
      },
      "execution_count": 50,
      "outputs": [
        {
          "output_type": "stream",
          "name": "stderr",
          "text": [
            "WARNING:root:warning　test1 test2\n",
            "WARNING:root:warning　test1 test2\n"
          ]
        }
      ]
    },
    {
      "cell_type": "code",
      "source": [
        "# ログをファイルを書き込む\n",
        "import logging\n",
        "\n",
        "# basicConfigの引数にfilenameを追加する\n",
        "logging.basicConfig(filename='my_error.log', level=logging.INFO)\n",
        "logging.warning('warning　%s %s', 'test1', 'test2')"
      ],
      "metadata": {
        "colab": {
          "base_uri": "https://localhost:8080/"
        },
        "id": "W-WuwJDXQk_d",
        "outputId": "09f73374-d3f8-4484-e9c8-db45f6d3ae33"
      },
      "execution_count": 52,
      "outputs": [
        {
          "output_type": "stream",
          "name": "stderr",
          "text": [
            "WARNING:root:warning　test1 test2\n"
          ]
        }
      ]
    },
    {
      "cell_type": "markdown",
      "source": [
        "### ロギングのフォーマット\n",
        "*   basicConfigの引数formatにフォーマット文字列をしているすることで、ログのフォーマットを設定可能\n",
        "```\n",
        "%(name)s : logger名\n",
        "%(levelno)s : ログレベル番号\n",
        "%(levelname)s : ログレベル名\n",
        "%(pathname)s : ソースファイルのフルパス\n",
        "%(filename)s : ソースファイル名\n",
        "%(module)s : モジュール名\n",
        "%(lineno)d : 行数\n",
        "%(funcName)s : 関数、メソッド名\n",
        "%(asctime)s : LogREcordが作成された時間\n",
        "%(thread)d : スレッドID\n",
        "%(threadName)s : スレッド名\n",
        "%(process)d : プロセスID\n",
        "%(message)s : メッセージ\n",
        "```\n",
        "\n"
      ],
      "metadata": {
        "id": "-xjBYg9KR65g"
      }
    },
    {
      "cell_type": "code",
      "source": [
        "import logging\n",
        "\n",
        "format = '%(asctime)s:%(filename)s:%(levelname)s:%(message)s'\n",
        "logging.basicConfig(format=format, level=logging.INFO)\n",
        "\n",
        "logging.info('%s %s', 'test1', 'test2')"
      ],
      "metadata": {
        "id": "DpER97rKTjex"
      },
      "execution_count": 54,
      "outputs": []
    },
    {
      "cell_type": "markdown",
      "source": [
        "![スクリーンショット 2022-09-01 22.52.43.png](data:image/png;base64,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)"
      ],
      "metadata": {
        "id": "a0JQEk4FUqV6"
      }
    },
    {
      "cell_type": "markdown",
      "source": [
        "### ロガーの設定\n",
        "\n",
        "\n",
        "```\n",
        "# ロガーの生成例\n",
        "logger = logging.getLogger(__name__)\n",
        "```\n",
        "\n"
      ],
      "metadata": {
        "id": "nbBfcibuVeDB"
      }
    },
    {
      "cell_type": "code",
      "source": [
        "import logging\n",
        "\n",
        "logging.basicConfig(level=logging.INFO)\n",
        "\n",
        "logging.info('info')\n",
        "\n",
        "logger = logging.getLogger('__name__')\n",
        "logger.setLevel(logging.DEBUG)\n",
        "logger.debug('info')"
      ],
      "metadata": {
        "colab": {
          "base_uri": "https://localhost:8080/"
        },
        "id": "4YVuYkDLVQC2",
        "outputId": "cd910d25-0a1d-4d1a-cc58-97060f6b5f27"
      },
      "execution_count": 55,
      "outputs": [
        {
          "output_type": "stream",
          "name": "stderr",
          "text": [
            "DEBUG:__name__:info\n"
          ]
        }
      ]
    },
    {
      "cell_type": "markdown",
      "source": [
        "### ハンドラの設定\n",
        "*   コンソールにもファイルにも出力する\n",
        "\n",
        "```\n",
        "# ロガーの設定\n",
        "logger = logging.getLogger('__name__')\n",
        "\n",
        "# ハンドラの設定\n",
        "h = logging.FileHandler('logtest.log')\n",
        "logger.addHandler(h)\n",
        "```\n",
        "\n"
      ],
      "metadata": {
        "id": "rkigaFx7Xq3i"
      }
    },
    {
      "cell_type": "code",
      "source": [
        "import logging\n",
        "logger = logging.getLogger('__name__')\n",
        "logger.setLevel(logging.DEBUG)\n",
        "\n",
        "# ハンドラの設定\n",
        "h = logging.FileHandler('logtest.log')\n",
        "logger.addHandler(h)\n",
        "\n",
        "logger.debug('logger debug')\n",
        "logger.info('logger info')\n",
        "logger.warning('logger warning')\n",
        "\n",
        "# logtest.logが生成される"
      ],
      "metadata": {
        "colab": {
          "base_uri": "https://localhost:8080/"
        },
        "id": "o78OjmWNXo5s",
        "outputId": "733a2f51-e910-41f1-c119-3015df41a3da"
      },
      "execution_count": 60,
      "outputs": [
        {
          "output_type": "stream",
          "name": "stderr",
          "text": [
            "DEBUG:__name__:logger debug\n",
            "INFO:__name__:logger info\n",
            "WARNING:__name__:logger warning\n"
          ]
        }
      ]
    },
    {
      "cell_type": "markdown",
      "source": [
        "### ロギングのコンフィグ"
      ],
      "metadata": {
        "id": "xntaRfFcZ4Yw"
      }
    },
    {
      "cell_type": "code",
      "source": [
        "import configparser\n",
        "config = configparser.ConfigParser()\n",
        "\n",
        "# Loggerの種類\n",
        "config['loggers'] = {\n",
        "    'keys':'root,simpleExample'\n",
        "}\n",
        "# ハンドラの設定\n",
        "config['handlers'] = {\n",
        "    'keys':'streamHandler'\n",
        "}\n",
        "\n",
        "# フォーマットの設定\n",
        "config['formatters'] = {\n",
        "    'keys':'formatter'\n",
        "}\n",
        "\n",
        "# root loggerの設定\n",
        "config['logger_root'] = {\n",
        "    'level':'WARNING',\n",
        "    'handlers':'streamHandler',\n",
        "}\n",
        "\n",
        "# simpleExample loggerの設定\n",
        "config['logger_simpleExample'] = {\n",
        "    'level':'DEBUG',\n",
        "    'handlers':'streamHandler',\n",
        "    'qualname':'simpleExample',\n",
        "    'propagate':0\n",
        "}\n",
        "\n",
        "# ハンドラの詳細設定\n",
        "config['handler_streamHandler'] = {\n",
        "    'class':'StreamHandler',\n",
        "    'level':'DEBUG',\n",
        "    'formatter':'formatter',\n",
        "    'args':'(sys.stderr, )',\n",
        "}\n",
        "\n",
        "# フォーマットの詳細設定\n",
        "config['formatter_formatter'] = {\n",
        "    'format':'%(asctime)s:%(filename)s:%(levelname)s:%(message)s'\n",
        "}\n",
        "\n",
        "# configファイルへの書き込み\n",
        "with open('logging.ini', 'w') as config_file:\n",
        "    config.write(config_file)"
      ],
      "metadata": {
        "id": "8UcB28_yajao"
      },
      "execution_count": 67,
      "outputs": []
    },
    {
      "cell_type": "code",
      "source": [
        "import logging.config\n",
        "\n",
        "logging.config.fileConfig('logging.ini')\n",
        "logger = logging.getLogger(__name__)\n",
        "\n",
        "logger.debug('debug message')\n",
        "logger.info('info message')\n",
        "logger.warning('warning message')\n",
        "logger.error('error message')\n",
        "logger.critical('critical message')"
      ],
      "metadata": {
        "id": "Tqqg_gKGZ3r5"
      },
      "execution_count": 71,
      "outputs": []
    },
    {
      "cell_type": "code",
      "source": [
        "import logging.config\n",
        "\n",
        "logging.config.fileConfig('logging.ini')\n",
        "logger = logging.getLogger('simpleExample')\n",
        "\n",
        "logger.debug('debug message')\n",
        "logger.info('info message')\n",
        "logger.warning('warning message')\n",
        "logger.error('error message')\n",
        "logger.critical('critical message')"
      ],
      "metadata": {
        "id": "EY2mLKeedyjC"
      },
      "execution_count": null,
      "outputs": []
    },
    {
      "cell_type": "markdown",
      "source": [
        "![スクリーンショット 2022-09-01 23.38.36.png](data:image/png;base64,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)"
      ],
      "metadata": {
        "id": "Q1Z6hUALfWi1"
      }
    },
    {
      "cell_type": "code",
      "source": [
        "# 辞書型での設定\n",
        "import logging.config\n",
        "logging.config.dictConfig({\n",
        "    'version': 1,\n",
        "    # フォーマットの設定\n",
        "    'formatters': {\n",
        "        'sampleormatter': {\n",
        "            'format': '%(asctime)s:%(filename)s:%(levelname)s:%(message)s'\n",
        "        }\n",
        "    },\n",
        "    # ハンドラの設定\n",
        "    'handlers': {\n",
        "        'sampleHandlers': {\n",
        "            'class': 'logging.StreamHandler',\n",
        "            'formatter': 'sampleormatter',\n",
        "            'level': logging.DEBUG\n",
        "        }\n",
        "    },\n",
        "    # root loggerの設定\n",
        "    'root': {\n",
        "        'handlers': ['sampleHandlers'],\n",
        "        'level': logging.WARNING,\n",
        "    },\n",
        "    # Loggerの設定\n",
        "    'loggers': {\n",
        "        'simpleExample': {\n",
        "            'handlers': ['sampleHandlers'],\n",
        "            'level': logging.DEBUG,\n",
        "            'propagate': 0\n",
        "        }\n",
        "    }\n",
        "})\n",
        "\n",
        "logger = logging.getLogger(__name__)\n",
        "logger.debug('debug message')\n",
        "logger.info('info message')\n",
        "logger.warning('warning message')\n",
        "logger.error('error message')\n",
        "logger.critical('critical message')\n",
        "\n",
        "print('')\n",
        "\n",
        "logger = logging.getLogger('simpleExample')\n",
        "logger.debug('debug message')\n",
        "logger.info('info message')\n",
        "logger.warning('warning message')\n",
        "logger.error('error message')\n",
        "logger.critical('critical message')"
      ],
      "metadata": {
        "id": "p6Gjh_VWfX-C"
      },
      "execution_count": null,
      "outputs": []
    },
    {
      "cell_type": "markdown",
      "source": [
        "![スクリーンショット 2022-09-01 23.51.28.png](data:image/png;base64,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)"
      ],
      "metadata": {
        "id": "kHxATn1liTwE"
      }
    },
    {
      "cell_type": "markdown",
      "source": [
        "### ロギングの書き方"
      ],
      "metadata": {
        "id": "temS8uVmiqUw"
      }
    },
    {
      "cell_type": "code",
      "source": [
        "import logging\n",
        "\n",
        "logger = logging.getLogger(__name__)\n",
        "\n",
        "logger.error('Api call is failed')\n",
        "\n",
        "# 辞書型でエラーを出力\n",
        "logger.error({\n",
        "    'action': 'create',\n",
        "    'status': 'fail',\n",
        "    'message': 'Api call is failed'\n",
        "})"
      ],
      "metadata": {
        "id": "5o1z1a9-iVfa"
      },
      "execution_count": 74,
      "outputs": []
    },
    {
      "cell_type": "markdown",
      "source": [
        "## メールの送信\n",
        "\n",
        "*   Gmailを送信する\n",
        "\n"
      ],
      "metadata": {
        "id": "iZuFGSYR6V4f"
      }
    },
    {
      "cell_type": "code",
      "source": [
        "from email import message\n",
        "import smtplib\n",
        "\n",
        "smtp_host = 'smtp.gmail.com'\n",
        "smtp_port = 587\n",
        "from_email = 'XXX' # 送信元アドレス\n",
        "to_email = 'XXX' # 送信先アドレス\n",
        "username = 'XXX' # Gアカウントのアドレス\n",
        "password = 'XXX' # Gアカウントのパスワード\n",
        "\n",
        "msg = message.EmailMessage()\n",
        "msg.set_content('Test mail')\n",
        "msg['Subject'] = 'Test mail subject'\n",
        "msg['From'] = from_email\n",
        "msg['To'] = to_email\n",
        "\n",
        "# メッセージをメールサーバーへ送る\n",
        "server = smtplib.SMTP(smtp_host, smtp_port)\n",
        "\n",
        "# メールサーバーとコネクション\n",
        "server.ehlo()\n",
        "server.starttls()\n",
        "server.ehlo()\n",
        "\n",
        "# ログインを行う\n",
        "server.login(username, password)\n",
        "\n",
        "server.send_message(msg)\n",
        "server.quit()\n"
      ],
      "metadata": {
        "id": "qPJxp3lc6ZE6"
      },
      "execution_count": null,
      "outputs": []
    },
    {
      "cell_type": "markdown",
      "source": [
        "## 添付ファイル付きのメールを送信"
      ],
      "metadata": {
        "id": "6H-TyXNSD2yQ"
      }
    },
    {
      "cell_type": "code",
      "source": [
        "from email.mime import multipart\n",
        "from email.mime import text\n",
        "import smtplib\n",
        "\n",
        "smtp_host = 'smtp.gmail.com'\n",
        "smtp_port = 587\n",
        "from_email = 'XXX' # 送信元アドレス\n",
        "to_email = 'XXX' # 送信先アドレス\n",
        "username = 'XXX' # Gアカウントのアドレス\n",
        "password = 'XXX' # Gアカウントのパスワード\n",
        "\n",
        "msg = multipart.MIMEMultipart()\n",
        "msg['Subject'] = 'Test mail subject'\n",
        "msg['From'] = from_email\n",
        "msg['To'] = to_email\n",
        "msg.attach(text.MIMEText('テストメール', 'plain'))\n",
        "with open('test.txt', 'r') as f:\n",
        "    attachment = text.MIMEText(f.read(), 'plain')\n",
        "    # 規格の設定\n",
        "    attachment.add_header(\n",
        "        'Content-Disposition', 'attachment',\n",
        "        filename='test.txt'\n",
        "    )\n",
        "    msg.attach(attachment)\n",
        "\n",
        "# メッセージをメールサーバーへ送る\n",
        "server = smtplib.SMTP(smtp_host, smtp_port)\n",
        "\n",
        "# メールサーバーとコネクション\n",
        "server.ehlo()\n",
        "server.starttls()\n",
        "server.ehlo()\n",
        "\n",
        "# ログインを行う\n",
        "server.login(username, password)\n",
        "\n",
        "server.send_message(msg)\n",
        "server.quit()\n"
      ],
      "metadata": {
        "id": "_6BkHnNkD_DN"
      },
      "execution_count": null,
      "outputs": []
    },
    {
      "cell_type": "markdown",
      "source": [
        "## SMTPハンドラーでログをEmail送信"
      ],
      "metadata": {
        "id": "LVrH6shp_okr"
      }
    },
    {
      "cell_type": "code",
      "source": [
        "import logging\n",
        "import logging.handlers\n",
        "\n",
        "smtp_host = 'smtp.gmail.com'\n",
        "smtp_port = 587\n",
        "from_email = 'XXX' # 送信元アドレス\n",
        "to_email = 'XXX' # 送信先アドレス\n",
        "username = 'XXX' # Gアカウントのアドレス\n",
        "password = 'XXX' # Gアカウントのパスワード\n",
        "\n",
        "logger = logging.getLogger('mail')\n",
        "logger.setLevel(logging.CRITICAL)\n",
        "\n",
        "# ハンドラの設定\n",
        "logger.addHandler(logging.handlers.SMTPHandler(\n",
        "    (smtp_host, smtp_port), from_email, to_email,\n",
        "    subject='test log', credentials=(username, password),\n",
        "    secure=(None, None, None),\n",
        "    timeout=20\n",
        "))\n",
        "\n",
        "logger.critical('logger critical')"
      ],
      "metadata": {
        "id": "V3WpAR9W_wkk"
      },
      "execution_count": null,
      "outputs": []
    },
    {
      "cell_type": "markdown",
      "source": [
        "## optparse\n",
        "\n",
        "*   コマンドラインの引数を高機能で設定する\n",
        "\n"
      ],
      "metadata": {
        "id": "yXHYcG5lCzSl"
      }
    },
    {
      "cell_type": "markdown",
      "source": [
        "### 引数がファイル"
      ],
      "metadata": {
        "id": "2w6885BNGbcx"
      }
    },
    {
      "cell_type": "code",
      "source": [
        "from optparse import OptionParser\n",
        "\n",
        "def main():\n",
        "    usage = 'usage: %prog [options] arg1 arg2'\n",
        "    parser = OptionParser(usage=usage)\n",
        "    # ファイルを受け取る\n",
        "    parser.add_option('-f', '--file', action='store', type='string',\n",
        "                      dest='filename', help='File name')\n",
        "    options, args = parser.parse_args()\n",
        "    print(options)\n",
        "    print(options.filename)\n",
        "    print(args)\n",
        "\n",
        "if __name__ == '__main__':\n",
        "    main()"
      ],
      "metadata": {
        "id": "ALQsPqYxC8I1"
      },
      "execution_count": null,
      "outputs": []
    },
    {
      "cell_type": "markdown",
      "source": [
        "`python3 lesson.py -f test.txt a b`\n",
        "\n",
        "![スクリーンショット 2022-09-03 11.02.27.png](data:image/png;base64,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)"
      ],
      "metadata": {
        "id": "a2tizCErFX2N"
      }
    },
    {
      "cell_type": "markdown",
      "source": [
        "### 引数が数値"
      ],
      "metadata": {
        "id": "Tmj6BkqxGfpT"
      }
    },
    {
      "cell_type": "code",
      "source": [
        "from optparse import OptionParser\n",
        "\n",
        "def main():\n",
        "    usage = 'usage: %prog [options] arg1 arg2'\n",
        "    parser = OptionParser(usage=usage)\n",
        "    parser.add_option('-n', '--num', action='store', type='int', dest='num')\n",
        "    options, args = parser.parse_args()\n",
        "    print(options)\n",
        "    print(options.num)\n",
        "    print(args)\n",
        "\n",
        "if __name__ == '__main__':\n",
        "    main()"
      ],
      "metadata": {
        "id": "KRDrHyVFFgBy"
      },
      "execution_count": null,
      "outputs": []
    },
    {
      "cell_type": "markdown",
      "source": [
        "`python3 lesson.py --num=20`\n",
        "\n",
        "`python3 lesson.py -n 20`\n",
        "\n",
        "![スクリーンショット 2022-09-03 11.12.01.png](data:image/png;base64,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)"
      ],
      "metadata": {
        "id": "yOezdg7THKVu"
      }
    },
    {
      "cell_type": "code",
      "source": [
        "from optparse import OptionParser\n",
        "\n",
        "def main():\n",
        "    usage = 'usage: %prog [options] arg1 arg2'\n",
        "    parser = OptionParser(usage=usage)\n",
        "    parser.add_option('-f', '--file', action='store', type='string',\n",
        "                      dest='filename', help='File name')\n",
        "    parser.add_option('-n', '--num', action='store', type='int', dest='num')\n",
        "    options, args = parser.parse_args()\n",
        "    print(options)\n",
        "    print(options.num)\n",
        "    print(args)\n",
        "\n",
        "if __name__ == '__main__':\n",
        "    main()"
      ],
      "metadata": {
        "id": "EtPWBoS_Huci"
      },
      "execution_count": null,
      "outputs": []
    },
    {
      "cell_type": "markdown",
      "source": [
        "`python3 lesson.py --help`\n",
        "`python3 lesson.py -h`\n",
        "\n",
        "![スクリーンショット 2022-09-03 11.14.37.png](data:image/png;base64,iVBORw0KGgoAAAANSUhEUgAAAVYAAABXCAYAAABfhG2SAAABP2lDQ1BJQ0MgUHJvZmlsZQAAKJFjYGDiSSwoyGFhYGDIzSspCnJ3UoiIjFJgf8bAycDMwMUgzKCemFxc4BgQ4ANUwgCjUcG3awyMIPqyLsis9P++k15z7mqLdrhpJTVTPBVTPQrgSkktTgbSf4A4IbmgqISBgTEGyFYuLykAsRuAbJEioKOA7CkgdjqEvQLEToKw94DVhAQ5A9kXgGyB5IzEFCD7AZCtk4Qkno7EhtoLAmxhUUYmlgQcSiooSa0oAdHO+QWVRZnpGSUKjsDQSVXwzEvW01EwMjAyYmAAhTVE9ecb4DBkFONAiKU8ZWAwzgUKaiDEsgQYGHZ/Y2AQ3IoQU38I9M5cBoYDAQWJRYlwBzB+YylOMzaCsLm3MzCwTvv//3M4AwO7JgPD3+v////e/v//32UMDMy3gHq/AQDfKl3oZP5TiQAAAFZlWElmTU0AKgAAAAgAAYdpAAQAAAABAAAAGgAAAAAAA5KGAAcAAAASAAAARKACAAQAAAABAAABVqADAAQAAAABAAAAVwAAAABBU0NJSQAAAFNjcmVlbnNob3T5RWj0AAAB1WlUWHRYTUw6Y29tLmFkb2JlLnhtcAAAAAAAPHg6eG1wbWV0YSB4bWxuczp4PSJhZG9iZTpuczptZXRhLyIgeDp4bXB0az0iWE1QIENvcmUgNi4wLjAiPgogICA8cmRmOlJERiB4bWxuczpyZGY9Imh0dHA6Ly93d3cudzMub3JnLzE5OTkvMDIvMjItcmRmLXN5bnRheC1ucyMiPgogICAgICA8cmRmOkRlc2NyaXB0aW9uIHJkZjphYm91dD0iIgogICAgICAgICAgICB4bWxuczpleGlmPSJodHRwOi8vbnMuYWRvYmUuY29tL2V4aWYvMS4wLyI+CiAgICAgICAgIDxleGlmOlBpeGVsWURpbWVuc2lvbj44NzwvZXhpZjpQaXhlbFlEaW1lbnNpb24+CiAgICAgICAgIDxleGlmOlBpeGVsWERpbWVuc2lvbj4zNDI8L2V4aWY6UGl4ZWxYRGltZW5zaW9uPgogICAgICAgICA8ZXhpZjpVc2VyQ29tbWVudD5TY3JlZW5zaG90PC9leGlmOlVzZXJDb21tZW50PgogICAgICA8L3JkZjpEZXNjcmlwdGlvbj4KICAgPC9yZGY6UkRGPgo8L3g6eG1wbWV0YT4KbHn8XwAAGztJREFUeAHtXQeQFcXWPiwsSUBABSnhVSEggqAICj7UfSCCBH3EEpBVgkiQUh4U8IjuioiSEeQnCvKWDFYhWCBJMpKLIEGJAgqIAoukDe7+92vsu3Nnu+fOzemcqntnpqf7nNNf95zpOZ3ylC1bNpuCSLNnz6a//vqLChYoSGvWrqF58+YFUTqL8gSBf/zjH/TJJ59Qhw4dXJKVK1eOPhn5Cd1Nu0tdu3Z1uRetF97U2wceeICA1YEDByxhYZwt4fHbzWDinCfYhhUoPfLII/TLL7/4DTBmFDgE7r//fkpNTc0lQBeeK2IUBQSy3urw1IVHEaxBzYoOT124t8qFxLB6q6yddHXq1KECBQrQ+fPn6cyZM3aSRHyc6tWr01tvvUU3btygjz76KCD5efLJJ+nQoUN+552YmEhPPfUU7d69m5YuXep3/uHIsFixYqKswlE31sk/CMTZYdO8eXOaOXOmM+q0adOodevWzutwOoGRadu2LXXs2DGc1AqoLvjcvK9IEZ+N6ueff67UEy21QYMGKe/5GghXEF6ATzzxhK+sPErfuHFj+vLLL2leSvBcUVWrVKWFCxeKZ2n+/PniZeiR0hw5YhCwZVjz5MlD+EmKi4tzuZbh4XCcNWsWHT58OBxUCaoO2VlZPst76KGHqGjRorn4wG3TrVu3XOH+CsjMzPQXK9t8OnXqRBcvXqQ8cTn12nZiLyNmZWeJPgW8+NE6b9KkiZecOFm4I5DPVwXbt29PTZs0pfj88eLzu3///oIlDFwRRysqOzubtm3bRlOmTBHhA/77X6pVsyb9+eefwjgnJyeLdG3atKGWLVuKOBs2bCB0FkiaO3cunT17lpKSkmSQx0cdf53+uvB33nmHGjRoIORv2rSJ0HqHQRozZozwRZYuXZp27dpFEyZM0OpYpkwZ0SmUkZFB+Cw8ePAgjRw5UrS0q1WrRsOGDRNpe/XqRfnz57fkpROi0lMnF9i0aN5CsEJ+srOyqfd/etMff/xB4JPwYoLoqMK5JBV/Kxx0eEp+do+6elW3bl1CPvLly0cog6NHj9KHH35IuvoGbNHSl/XVnXx/yD1+/DjhB1q+fDkBE+gAtxVTdCFgq8VqlWW4CSZ+NpHatWtHKSkpzqj45EHY4MGDKSEhQXRYlSxZkmo+/TQNHz6c1q5dKwwvHgQQXAuTJk2iAQMGUP169alixYpOXgULFqTixYs7r7050fHX6a8Lh1GF0Rw7dizVq1dPqJI3b14qVKiQMKhDhw6l5557zlLF+Ph4ER8vHLws4L9ED/LmzZupUqVKzrT/fO6ftGPHDue1JycqPXVyly1bRolvJgr2PXr0EOcwqiC4gAYPGSzKSgT8/afib4WDDk8jTzvnqnqFdPfdd5+oY8eOHaOePXvSypUryaq+yfzZkYk4/pIr5b3++uuUnpbORlUCEmVHn1usN2/epO7du9OWLVtchk7hIRsxYgQ9+OCDArKHH36YHCMQ6Pr163TkyBHxk37ahg0bitZrR8fnWZzD5RCXN058Jk2ePFmk7du3L929e9dr6K346/RXhaNVBD3QIgXdvn1bGFfZClmwYIEIz0jPoCpVqhAecitCSxyEh/z555+nFStW0NVr10TL9eTJk+KelCUubP7p9Dx9+rTgoJJrxTrL5GbQ8bfCQYWnlUzdPVW9kiNMoOfUqVNF0qtXrxKMuaq+6XhbhftTLhoN+DobN26clUi+F8EI2DKsKqOWlpYmso1xjJ07dxYGBgYMnUY1atQQYXPmzBGfPqNGjRKfaGidYgyrmdDauHPnDn3qGDMpyTjERz448p6nRyv+Kv3BXxUOPkb98SAXLlxYqGM0PnB/4EGUhE6L1Bup2iFm4Am3CWjtmjXU6JVXhGHet3+fZOHR0UpPIyOjXGO4u3Mr/jocVHi6k2O+r6tXMp6xziBMV99kfLtHf8qFuyQ5KZm++uor2rt3r10VOF6EIWDLFXDp0iXx6SrzhgcLjn8QfEQwoPgExic7CANx0ULB5z78eujsAqFVi09e3EevrCT4m/ApjQf93LlzdOvWLfFQyPuLFi2i8ePHy0u3xxMnTojPQhnRir9Kf6RTha9bt058cqL1XapUKWEMt27dKsUoj/i0T0pOEi4OcwS4EtBZBEwkH+hawuH2ePzxx8XDZ05j59qdniq54ItP0woVKrgV4Y6/ioEKT1U8qzBdvZJpshwvNCPp6psxjp1zf8odPXo0fb/ze4L7hSl6EbDVYsXMkcuXLws/E6CAoZVvW1SU9PR0YQj37d8vkMInbatWrQhDStARInt9r1y5Ilqw6OiB8UTLTt5btWqVo8X6KaHnFB028GFKPxhGJEjjbKco0PmFz0D4xdDBNH36dNLxV+kPGbrw7du3Oz/hvv/+e9EJhxeNkZAHMyGvZkIHENwo6GgxdmDgkx0dMHjJeEsqPUuUKCHY6eRu2bqFBg4cSJkZmc7OqxkzZlDhQoUF/in/S6FTp09RcnIyqfhb4aDD05P86eqVjodVffs/h8vgAYfPH7R48WL6+uuvSbpyzPz8Jbdp06biCwd9DviB8CzIZ8ksl68jFwGPJgigAwkGDv4rI6EFB2NrJrTEpHE030Ma+JjM0yV1vMzpvb1W8VeFgb8u3FvZMh1aQHKqqGqwOHqgv/vuO+2DLvnI44svvihcF7ccPt93HR03OnInV5fOX+EqPPv06SNcR/v27ROdl3ZkWdUrXXrIVtU3XXxVeKjkqnThsPBGwFaLVWYBHQEqUhlVxFMZVeOc69WrV+dip+OVK6KXASr+qjCw14V7KVqZDLOlJOFzWc7B17WeZFzjEW4E6UowhludG+VaxfPnPRWeVsPSdLJV9UoX111906VThYdKrkoXDgtvBDxqsforK4Gcc+0vHQPNRzc3WRfuL30Czd9fevqTT6jqW6jk+hM75uUdAiExrN6pyqkYAUaAEYgMBGyNCoiMrLCWjAAjwAiEBwJsWMOjHFgLRoARiCIE2LBGUWFyVhgBRiA8EGDDGh7lwFowAoxAFCHAhjWKCpOzwggwAuGBABvW8CgH1oIRYASiCAE2rFFUmJwVRoARCA8E2LCGRzmwFowAIxBFCLBhjaLC5KwwAoxAeCDAhjU8yoG1YAQYgShCgA1rFBUmZ4URYATCA4GQGVbs88TECDACjEA0ImDbsGLdTKzkjx92vrRDodin3o5eHIcRYAQYgUAiYGs9ViwSjJ1HP/jgA8KWzVik2c6SaHKfemx1baRA71NvlMXnjAAjwAgEGwFbhhU7iGKzvx9//FHoh/2sXnjhBbGHFYwsjC1Wwj948CCNHDlS7O8eyn3qsQvp2bNnxdbSwQaU5TECjAAjYMsVgC0pYEwl4RzbWofrPvXY1BDbyDAxAowAIxAKBGy1WGFAjdsa49y4vXO47VPft29fUm3ZHQqAWSYjwAjEHgK2WqzXrl0Tu0tKeLAbJ8LMFOx96rFLKrZyloZd6gMfrif7E8l0fGQEGAFGwB8I2DKsO3bsoKJFi1L16tWpatWqhH2TYNQkhds+9Ri5MH78eKkeHxkBRoARCCoCtlwB6AhCx9TQoUOFcj/88AOdPHmSsJ0yKNz2qc+TJ4/Yplsox3+MACPACAQZAY83E0TLVQ6fCsd96oOMH4tjBBgBRiAXArZcAcZU0qgaw3AeLvvUm/Xia0aAEWAEgo2Axy1Ws4KxuE+9GQO+ZgQYAUbAiIDHLVZjYpynpqaagyyva9WqZXk/UDc9lVunTh1KSEig8uXLB0ol5utAwNNy8Rdo7uT6upaFO/7mfHB9MyPi+XWNGjU8T2Qzhaf1wWfDalMvEQ1TY/v16+dJEr/E9UYuRkC0bduWOnbs6BcdmEluBLwpl9xc3IeY16xwJxfTtQcNGuSesSaGO/6qZFzfVKh4Fta/f/+ANIR09cFcr4zaBtWwGgWH+/msWbPo8OHD4a4m62cDAblmhY2oIkoo1rLg+ma3dIIfT1cfrOqVreFW/swKhkJ99tlnVLp0adq1axdNmDDBn+y1vHRy27RpQy1bthTpNmzYQLNnz9byKFOmjFiAxrw2gjYB33Ai0L59e2rapCnF54+n8+fPE1oXIF25YAhfgwYNRJxNmzbRtGnTKOV/KfTmW2+KMPmnCpP3ULaqNStw30puwosJdDftrhhGKHnp9Jf3zUcd/0DWt549e4rFkgoUKEC//fYbYSo6xnPv27dPrN+hque6fOnC8QIoUqQIZWdn07Zt22jKlCki61jxrlbNmmLEEPKenJwsytmT/IKRij8M2JgxY4Tb0Ww3ILfm00+LKffG2aDm8pDXKn3ghunatauzvGfOnElz5swhjN9HPTTXB129Mk5KCnqLFaDDoGJMLFbMChbp5LZu3ZomTZpEAwYMoPr16lPFihW1KunWRtAm4BtOBJo3b04TP5tI7dq1o5SUFGe4rlxgVPHSHTt2rJhdhwTpGen07LPPCoMBowGfWuZfmU5e5pNly5ZR4puJIrhHjx7iXFZ+nVw8VIOHDBbGw8hPp78xjvFcxz+Q9Q0dycePH6cjR45QWloabd26lRo1aiTU0snV5UsXvnDhQlGGgwcPFn0Q+EwuWbKkMG7Dhw+ntWvXCuzy5bvXZtPJNWJlPFfxh8EsVKhQLrvhlPvhcMLLF5i7I5U+sEe///67WLRp2LBhdP36dWFUwUtVH6zqlZQfkBZrr169qHbt2lKGOF64cIEmT54szhcsWCCOGekZVKVKFTp27JhLXHcXOv6//vqrR3LLli0rCqNjp04U5yiUuLxx1KRJE6eeOj3kFFo8pFj5a8WKFbqoHP43Ali4p3v37mJFtHnz5rngYq4PJUqUEGs9oMKDbt++LYzrzz//LIxpq1atCA8uDMi5c+dceHlyYZYr66FxXQzJz0p/Gcd8NPMPRn27dOkS5c+fX+CHVisMX8OGDbX1XJcvXTiM3IgRI8QiTMgv/MnIF4wRygM/GC+QlVwRQfGn4o9PcZAZz0qVKgm5R48dJfxee+01BcecICt94FOflzKP8sTlIbyEjaSqD8b7qvOAGNYlS5bQ+vXrXeShoEBGJfE5Yaf57sLIcaHjn56e7pFcrHmA5RA/dSx9KMmTUQ7ero0gZcXSEZ9anTt3FgYSFVx2CqrqA8oF2EpCnMKFC9OhQ4fEiwyGF1S5cmXxmSvjeXJUybVKr9Nfl0bFPxj1DXKNP7TirOTq8qUKxxcCyhCfyWgZjxo1Srzg8JIzlpfExEqujGM86vgjjgpPuDyyHDbELlnpg9YvjCoILyZfKSCugCtXroi1W7F+q/zJt46VwnhjSJ+NVTwdf124jtfy5cvFJwYqBVo+t27dEhVFxj9x4oR448tredStjSDv8zE3AuXKlRMPJFxAWNbRitatWyeMAVpDpUqVEp+W+Kzds2cPgQ/K+eLFi6IHGGHuKD0tnSpUqOAumuV9T/TXMQpVfbOSq8uXKhwzLdFAwuc++hvi4u6Zjy1btgj3DO43btzYmX0ruc5IhhMdf0MUl1P4eEs4lgeFC6Ru3bou91QXVvrAJ3zQ8eKGP/ojR4vcDlnVq4C0WO0ohThZ2VkuUfPF56PMTL3PzCWyDxdGuatWrXK0WD8VuuBNBZ+e9MOhMwu+Jvh9Njl8OKtXrxZSdWsj+KBS1CcdPXo04YsCrZt9+/cr82ssl+3bt9O4ceNEPCz4gxl/+OEluHPnTrG4OvzhcA+4oy1bt9DAgQMpMyOTev+nd67oRrkzZsygwoUKC6OBjrFTp08RHjo7+udi/HeAkX+w6hu+BvGTpJOry5cqHC4vuGHmz59P2VnZzmcVLzq0YNHBhMYJ5MrnWCdX6mU86vgb4+Bc4omXK0buoGMTLVpjfs1p5LVKn1dffVUsMjXa0QIHffHFF/T222+Lo64+IJ65Xkm7gXs+z7wCE39Q1SpVKSk5SXRY4MEJNqF1BP+UFYV6bQQr3SLhnh2Mwzkf/tTfDq9A1DeVXFUYykEXjo5DoxExlhnS4IXYoUMHY7CWl0ukvy+s+KviG9cvUd1XhenyporrTVhIW6xGhYvdX0y0ZEJhVKGHO6Nq1BXnoVgbwaxDpF17inG45c+f+nvKy1/1TSVXFQbsdeEqo4phiviaKFigoPPLzlh+Ol7GOPJcxV/eUx1165eo4sowT/SRaTw5hk2L1ROlQxmX10YIJfqxJzuS6htGINjpS4mFUgxI55Ud4DDoFwNz0YyPJPJk1EAw86XD0zzHmeekB7NUfJcVrvVNlTM2qjmohMQV0KxZM2rfrj2dOHmCLl++7FzfNUetnDN0HMneR4RiNgQGmE+dOjUnkuPs3XffFX6fxYsX03vvvSdmnsgI6FmWY2hlmByIjLF+77//vgiGoxqdVHK8HJzYkI0hJiCMWvjj6h/Uu3dvkj7hb775htasWaPkj17IYJAOTznHGbNoJGFO+tOOmSrocECnjLfE5eItcpwuFhAIiWHFjKvvNn5nOX3UCD566s3DarBACgwDxuklJSUZo7sYYuMNpDESDA6myJV3rGB15swZkU7OGIEDHePeQDDMMMAY54b4oEavNBJHo9E38xcRgvCnwxMtiG7durlogCmDGAAN572vxOXiK4KcPloRCKorAMYKrb7HHntMzMrAeU3H/GJ3hJk3KoKzHD9fCJsidnLMvDJT/fr16arjHgyqnLOOOGhhY6weWn5o9YWSrPDEkDAMF7K79xfmP2MYDX5dunQR2YKbBi8V48/ouuFyCWXps+xwRiCoLVb09mHutmzp4LPdDmFectZf98a8YkjW6dOn7STLFQeGRtKIj0eIU3yuw7AWK1ZM3hJH+CJ/cIyRw3g8zE/Hpy8Iroh/O8a2wqBjzJ6RzPwxOSKQZIUn5jh/++23YvylHR0wDXHixImEqccY14tB32+88YaY3WRMj73O5BcCl4sRGT5nBHIQCIhh1c3lHzJkSI5kD87QipLzuPHJ7i19NOIj5yBizKoCYdgFVltKTLy3WIfkjfnPkIuVrF566SUZLFwSLVq0oI0bN+aazaPi70xo40SHm24NBHd4GqcBWonXzaHGohpWFCvlYoUB32MEVAgExLDq5vKrFLAThtk1vhhUKeOnn36Spy5HLKqCRRju3r0rwjFnGb5TzNYBwY/7zDPPiHPM7sAMk1OnThFabEbS8TfGsTrX4Wa1BoIVP7v3dHOo4RKAy8NIR48eFSv+ICxWysWYfz5nBOwgEBDDCt9jqP2PdjIv42A7bwwylot7YC0AtBL79OkjomAmCcIk7ddMyZT3zUf4klNvpBJapFZkhZs/8URr3bh1CNwhWM4P7g10eMF3i0485NMsF637YFGgyyVY+WA5sYdAQAyrHRjtzOvV8SnuWHhh+vTpztvw1crhVgjEQtqSYESw3irI6NPFQhJGWrp0qbMHvVq1arR582bn7b1799LLL7/svNadmPljuBYoGGsgmPG0muNsXgMBWKrmUGNBigMHDuiymys80solVwY4gBHwEwI888pPQOrYyPGuWLQ5VNN1dbqpwgM9h1olk8MYgWhDIC7aMhRu+Qn1Ggie4hHoOdSe6sPxGYFIRIBbrJFYaqwzI8AIhDUC3GIN6+KJHeV4TYPYKetYyGnIOq9iAVzOYw4CqrUFZCdjINc0yNGAzxiB4CHAhjV4WMe8JDnjzgxEoNc0MMvja0Yg0AiwYQ00wszfiYBqbQHVvu3OBIoT1b7wimgiyGo/etX+9T179hRbsmOTOqwRgfG8WGsBw848kavTh8NjBwH2scZOWYc8p5iphvUU8Hv00UeFPqp9260UVe0Lr4uv248e8eWykdApISFBbBqJRaWxdxO2cE5LSyNsYNio0b1VzDyRq9OHw2MHAW6xxk5ZhzynurUFfF3TwLzWrjmjcn3djPQMqlKlilh3QrV/PdJhuBk2lcT0ZrRa4f/VraXgTq5ZD76OHQTYsMZOWYc8p76uLaBb08AqY0ajjdlpMKju9q9HGvnDOhHeyLXSie9FPwLsCoj+Mo7YHGI6MlqMkqz2hZdx7Bw93b/eX3Lt6MZxogMBbrFGRzlGbC78saaB3V095X70dvavR+vWuP6Cai0Fu3IjtnBYca8R4JlXXkPHCUOJgD/WNECvv6fG0R9yQ4kbyw4OAmxYg4MzS2EEGIEYQoB9rDFU2JxVRoARCA4CbFiDgzNLYQQYgRhCIK9jE73kcM3vokWLxODt1atXCxXR0YFdQjG4vF+/frRy5UoRPm3aNMJsmSGDh9C/6v1LbKKHdVA/n/I5FSpUiA4dOhSuWbSlF+NgCyaOxAiEDQJh3WLFGMLSpUtT+fLlBWDYhwpbhiAcP0kIF2Fx9+IjvNEr92bM4F6kE+MQ6SXI+scaAkEdbmU1d1sH/LVr18T21HLLZV08GX758mVq3Lix2ATPvF+TjOPvoy5f6HUeNWoUde3aVYicMmWK2DamQYMGyjnp2IwQLWwj3blzR1xGAg5GvfmcEYhlBIJqWOXcbew3tXv3bvr444/dYo/B2Z06dSKHy8JtXETYsWMH/bt5c7Ex3q1bt2yl8TWSLl/x8fFi1o7kX6xoMTFdUs5JR+sb+ZJz0ps1a0aVK1eW0cXx5MmT4hgJOLgozheMQAwjEBDDit1Ia9eu7QLrhQsXSM6tVs3ddolsuMDcbewMmpiYaAjVn+7Zs4datGhBGzdupAoVKugjWtzR6Y+dWz3JF1qZOlLNSR82bJgyOjYpDAUOSmU4kBFgBNwiEBDDumTJElq/fr2L8Js3b4pr1dxtl4iKi7lz59KgQYPEwhi4jQUyzITViECYLTNmzBg6deoUYeUib0inf3p6uk/5isub4++Vc9HlEX7ULl26CBeGUeejR486L4ONg1MwnzACjIBHCATEsMK3qfJvYtaKN2TeXx6tN6MvEotkXLx40cl6//79znPjybyUeZR6I5XQIrUinf5I40m+oCcMJvKN0Qz49Lci6G3mj9a63HrbXzhY6cD3GAFGwHcErJ903/lbcpBzty0j/X1z6dKl1K1bN3GFve7RSYU1NUEwYHv37hXnVn/54vNRZmamVRS/3DPmCy3OiRMnEpasM7bWpSDjnHTkCz8r8gcOVvz5HiPACPiOQERPaS1evDhhONXVq1fdIoFxrUnJSTRhwgTauXOn2/j+jAA9r1+/7k+WLrw8wcElIV8wAoxAQBAIaYvV1xx5YqyK3V+M9jk+tYNtVJFHT/T0BpNA8/dGJ07DCMQyAhHdYo3lguO8Rw8CGPWhorZt26qCOSwCEMjppo4AZSNRxVq1aoWd2nbHBPtT8WDigB0CJAVTrpRpPHrbYWvkweeRh8D/A48by4E4l4vzAAAAAElFTkSuQmCC)\n"
      ],
      "metadata": {
        "id": "vrQZ3HUIH5T_"
      }
    },
    {
      "cell_type": "markdown",
      "source": [
        "## store_trueとstore_false"
      ],
      "metadata": {
        "id": "OhHZ50L4VoG3"
      }
    },
    {
      "cell_type": "code",
      "source": [
        "from optparse import OptionParser\n",
        "\n",
        "def main():\n",
        "    usage = 'usage: %prog [options] arg1 arg2'\n",
        "    parser = OptionParser(usage=usage)\n",
        "    parser.add_option('-f', '--file', action='store', type='string',\n",
        "                      dest='filename', help='File name')\n",
        "    parser.add_option('-n', '--num', action='store', type='int', dest='num')\n",
        "    \n",
        "    # dest='verbose'のデフォルト値をTrueにする\n",
        "    parser.set_defaults(verbose=True)\n",
        "    \n",
        "    # action='store_true'や'store_false'でbool値を設定可能\n",
        "    parser.add_option('-v', action='store_true', dest='verbose')\n",
        "    #parser.add_option('-v', action='store_false', dest='verbose', default=True)\n",
        "    parser.add_option('-q', action='store_false', dest='verbose')\n",
        "    options, args = parser.parse_args()\n",
        "    print(options)\n",
        "    print(args)\n",
        "\n",
        "if __name__ == '__main__':\n",
        "    main()"
      ],
      "metadata": {
        "id": "oK0_RGlHH4zo"
      },
      "execution_count": null,
      "outputs": []
    },
    {
      "cell_type": "markdown",
      "source": [
        "```\n",
        "# parser.set_defaults(verbose=True)なのでデフォルトはTrueになる\n",
        "# set_defaultsがないとNoneになる\n",
        "python3 lesson.py\n",
        "{'filename': None, 'num': None, 'verbose': True}\n",
        "[]\n",
        "\n",
        "# action='store_true'\n",
        "python3 lesson.py -v\n",
        "{'filename': None, 'num': None, 'verbose': True}\n",
        "[]\n",
        "\n",
        "# action='store_false'\n",
        "python3 lesson.py -q\n",
        "{'filename': None, 'num': None, 'verbose': False}\n",
        "[]\n",
        "```\n",
        "\n",
        "\n"
      ],
      "metadata": {
        "id": "cgxbFG5yMamK"
      }
    },
    {
      "cell_type": "markdown",
      "source": [
        "### コールバック"
      ],
      "metadata": {
        "id": "IW4yEi_lOwUl"
      }
    },
    {
      "cell_type": "code",
      "source": [
        "from optparse import OptionParser\n",
        "\n",
        "def main():\n",
        "    usage = 'usage: %prog [options] arg1 arg2'\n",
        "    parser = OptionParser(usage=usage)\n",
        "    parser.add_option('-f', '--file', action='store', type='string',\n",
        "                      dest='filename', help='File name')\n",
        "    parser.add_option('-n', '--num', action='store', type='int', dest='num')\n",
        "    parser.set_defaults(verbose=True)\n",
        "    parser.add_option('-v', action='store_true', dest='verbose')\n",
        "    #parser.add_option('-v', action='store_false', dest='verbose', default=True)\n",
        "    parser.add_option('-q', action='store_false', dest='verbose')\n",
        "\n",
        "\n",
        "    parser.add_option('-e', dest='env')\n",
        "\n",
        "    def is_relase(option, opt_str, value, parser):\n",
        "        # -e(env)の引数がprdの場合はエラーを発生させる\n",
        "        if parser.values.env == 'prd':\n",
        "            raise parser.error('No release')\n",
        "        setattr(parser.values, option.dest, True) # --releaseにTrueをセットする\n",
        "\n",
        "    # actionにcallbackを設定しcallbackにはfunctionを設定する\n",
        "    parser.add_option('--release', action='callback', callback=is_relase, dest='release')\n",
        "\n",
        "\n",
        "    options, args = parser.parse_args()\n",
        "    print(options)\n",
        "    print(args)\n",
        "\n",
        "if __name__ == '__main__':\n",
        "    main()"
      ],
      "metadata": {
        "id": "1lAp8TgdMaDH"
      },
      "execution_count": null,
      "outputs": []
    },
    {
      "cell_type": "markdown",
      "source": [
        "```\n",
        "python3 lesson.py --release\n",
        "{'filename': None, 'num': None, 'verbose': True, 'env': None, 'release': True}\n",
        "[]\n",
        "\n",
        "# -eがprdの場合はエラー\n",
        "python3 lesson.py -e prd --release\n",
        "Usage: lesson.py [options] arg1 arg2\n",
        "\n",
        "lesson.py: error: No release\n",
        "\n",
        "# -eがprd以外はエラーにならず、releaseにTrueが設定される\n",
        "python3 lesson.py -e dev --release\n",
        "{'filename': None, 'num': None, 'verbose': True, 'env': 'dev', 'release': True}\n",
        "[]\n",
        "```\n",
        "\n"
      ],
      "metadata": {
        "id": "QwAbzIzYSJ2K"
      }
    },
    {
      "cell_type": "markdown",
      "source": [
        "### helpの書き方"
      ],
      "metadata": {
        "id": "dja-__raS0V-"
      }
    },
    {
      "cell_type": "code",
      "source": [
        "from optparse import OptionParser\n",
        "from optparse import OptionGroup\n",
        "\n",
        "def main():\n",
        "    usage = 'usage: %prog [options] arg1 arg2'\n",
        "    parser = OptionParser(usage=usage)\n",
        "    parser.add_option('-f', '--file', action='store', type='string',\n",
        "                      dest='filename', help='File name')\n",
        "    parser.add_option('-n', '--num', action='store', type='int', dest='num')\n",
        "    parser.set_defaults(verbose=True)\n",
        "    parser.add_option('-v', action='store_true', dest='verbose')\n",
        "    #parser.add_option('-v', action='store_false', dest='verbose', default=True)\n",
        "    parser.add_option('-q', action='store_false', dest='verbose')\n",
        "    parser.add_option('-e', dest='env')\n",
        "    def is_relase(option, opt_str, value, parser):\n",
        "        if parser.values.env == 'prd':\n",
        "            raise parser.error('No release')\n",
        "        setattr(parser.values, option.dest, True)\n",
        "    parser.add_option('--release', action='callback', callback=is_relase, dest='release')\n",
        "\n",
        "    groupe = OptionGroup(parser, 'Dangerous options')\n",
        "    groupe.add_option('-g', action='store_true', help='Group option')\n",
        "    parser.add_option_group(groupe)\n",
        "\n",
        "    options, args = parser.parse_args()\n",
        "    print(options)\n",
        "    print(args)\n",
        "\n",
        "if __name__ == '__main__':\n",
        "    main()"
      ],
      "metadata": {
        "id": "hsTNGh-fQppJ"
      },
      "execution_count": null,
      "outputs": []
    },
    {
      "cell_type": "markdown",
      "source": [
        "```\n",
        "python3 lesson.py -h\n",
        "Usage: lesson.py [options] arg1 arg2\n",
        "\n",
        "Options:\n",
        "  -h, --help            show this help message and exit\n",
        "  -f FILENAME, --file=FILENAME\n",
        "                        File name\n",
        "  -n NUM, --num=NUM     \n",
        "  -v                    \n",
        "  -q                    \n",
        "  -e ENV                \n",
        "  --release             \n",
        "\n",
        "  Dangerous options:\n",
        "    -g                  Group option\n",
        "\n",
        "\n",
        "# 引数の設定も可能\n",
        "python3 lesson.py -g\n",
        "{'filename': None, 'num': None, 'verbose': True, 'env': None, 'release': None, 'g': True}\n",
        "[]\n",
        "```\n",
        "\n"
      ],
      "metadata": {
        "id": "YNMqDajaT6Y7"
      }
    }
  ]
}