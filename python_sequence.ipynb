{
  "nbformat": 4,
  "nbformat_minor": 0,
  "metadata": {
    "colab": {
      "name": "python_sequence.ipynb",
      "provenance": [],
      "collapsed_sections": [],
      "authorship_tag": "ABX9TyPloNoxODVAwvfrTJN6AskI",
      "include_colab_link": true
    },
    "kernelspec": {
      "name": "python3",
      "display_name": "Python 3"
    },
    "language_info": {
      "name": "python"
    }
  },
  "cells": [
    {
      "cell_type": "markdown",
      "metadata": {
        "id": "view-in-github",
        "colab_type": "text"
      },
      "source": [
        "<a href=\"https://colab.research.google.com/github/hongo-daisuke/study-python/blob/master/python_sequence.ipynb\" target=\"_parent\"><img src=\"https://colab.research.google.com/assets/colab-badge.svg\" alt=\"Open In Colab\"/></a>"
      ]
    },
    {
      "cell_type": "markdown",
      "source": [
        "# シーケンス型とは\n",
        "複数の連続したデータを順番に並べかたまりにしたもの\n",
        "\n",
        "*   リスト (list)\n",
        "*   タプル (tuple)\n",
        "*   レンジ (range)\n",
        "*   文字列 (str)\n"
      ],
      "metadata": {
        "id": "qgRhBHVlKszd"
      }
    },
    {
      "cell_type": "markdown",
      "source": [
        "### m番目からn番目までの値を取得\n",
        "```\n",
        "[m : n] . . . m番目からn番目までの値を取得\n",
        "m . . . 0から始まる番号\n",
        "n . . . 1から始まる番号\n",
        "```\n",
        "\n"
      ],
      "metadata": {
        "id": "8Wu887hqLQIv"
      }
    },
    {
      "cell_type": "code",
      "source": [
        "# 0番目から1から数えた3番目まで取得\n",
        "a = ['a', 'b', 'c', 'd', 'e']\n",
        "a[0:3]"
      ],
      "metadata": {
        "colab": {
          "base_uri": "https://localhost:8080/"
        },
        "id": "ICKEV4czLKFe",
        "outputId": "9b2572b8-422d-4aa7-d68c-ee3044e6c79b"
      },
      "execution_count": null,
      "outputs": [
        {
          "output_type": "execute_result",
          "data": {
            "text/plain": [
              "['a', 'b', 'c']"
            ]
          },
          "metadata": {},
          "execution_count": 1
        }
      ]
    },
    {
      "cell_type": "markdown",
      "source": [
        "### m番目からn番目までの値を取得\n",
        "```\n",
        "[m : -n] . . . m番目からn番目までの値を取得\n",
        "m . . . 0から始まる番号\n",
        "n . . . 0から始まる番号\n",
        "```"
      ],
      "metadata": {
        "id": "qZojBMY9MACx"
      }
    },
    {
      "cell_type": "code",
      "source": [
        "# 0番目から、後ろから0から数えた3番目まで取得\n",
        "a = ['a', 'b', 'c', 'd', 'e']\n",
        "a[1:-3]"
      ],
      "metadata": {
        "colab": {
          "base_uri": "https://localhost:8080/"
        },
        "id": "8KNuTKq8ME5o",
        "outputId": "5be4aadc-22f9-495f-e230-aa8d6d3eb6c3"
      },
      "execution_count": null,
      "outputs": [
        {
          "output_type": "execute_result",
          "data": {
            "text/plain": [
              "['b']"
            ]
          },
          "metadata": {},
          "execution_count": 2
        }
      ]
    },
    {
      "cell_type": "markdown",
      "source": [
        "### 最初からn番目までの値を取得\n",
        "```\n",
        "[ : n] . . . 最初からn番目までの値を取得\n",
        "n . . . 1から始まる番号\n",
        "```"
      ],
      "metadata": {
        "id": "AD60E2yAMxQU"
      }
    },
    {
      "cell_type": "code",
      "source": [
        "# 最初から4番目まで取得\n",
        "a = ['a', 'b', 'c', 'd', 'e']\n",
        "a[:4]"
      ],
      "metadata": {
        "colab": {
          "base_uri": "https://localhost:8080/"
        },
        "id": "QHApzET-NFvn",
        "outputId": "f6e97ac8-0b17-4d9d-e9c7-2c732e96a520"
      },
      "execution_count": null,
      "outputs": [
        {
          "output_type": "execute_result",
          "data": {
            "text/plain": [
              "['a', 'b', 'c', 'd']"
            ]
          },
          "metadata": {},
          "execution_count": 3
        }
      ]
    },
    {
      "cell_type": "markdown",
      "source": [
        "### m番目から最後までの値を取得\n",
        "```\n",
        "[m : ] . . . m番目から最後までの値を取得\n",
        "m . . . 0から始まる番号\n",
        "```"
      ],
      "metadata": {
        "id": "qjnKacZYNYBM"
      }
    },
    {
      "cell_type": "code",
      "source": [
        "# 最初から2番目まで取得\n",
        "a = ['a', 'b', 'c', 'd', 'e']\n",
        "a[2:]"
      ],
      "metadata": {
        "colab": {
          "base_uri": "https://localhost:8080/"
        },
        "id": "oqXdgs6dNh4B",
        "outputId": "3702279b-f039-46ff-b3f5-15406eaac3ea"
      },
      "execution_count": null,
      "outputs": [
        {
          "output_type": "execute_result",
          "data": {
            "text/plain": [
              "['c', 'd', 'e']"
            ]
          },
          "metadata": {},
          "execution_count": 4
        }
      ]
    },
    {
      "cell_type": "markdown",
      "source": [
        "### 先頭からn個おきに値を取得\n",
        "```\n",
        "[ : : n] . . . 先頭からn個おきに値を取得\n",
        "```"
      ],
      "metadata": {
        "id": "CzrsOhW7Nxj8"
      }
    },
    {
      "cell_type": "code",
      "source": [
        "# 先頭から3個おきに値を取得\n",
        "a = ['a', 'b', 'c', 'd', 'e', 'f', 'g']\n",
        "a[ : : 3]"
      ],
      "metadata": {
        "colab": {
          "base_uri": "https://localhost:8080/"
        },
        "id": "SDJqACm1N-WY",
        "outputId": "e38b4170-9ee5-4459-8087-8c7e00947c37"
      },
      "execution_count": null,
      "outputs": [
        {
          "output_type": "execute_result",
          "data": {
            "text/plain": [
              "['a', 'd', 'f']"
            ]
          },
          "metadata": {},
          "execution_count": 7
        }
      ]
    },
    {
      "cell_type": "markdown",
      "source": [
        "### 逆順に末尾からn個おきに値を取得\n",
        "```\n",
        "[ : : -n] . . . 逆順に末尾からn個おきに値を取得\n",
        "```"
      ],
      "metadata": {
        "id": "12K_0W4AOP5A"
      }
    },
    {
      "cell_type": "code",
      "source": [
        "# 逆順に末尾からn個おきに値を取得\n",
        "a = ['a', 'b', 'c', 'd', 'e', 'f', 'g']\n",
        "a[ : : -2]"
      ],
      "metadata": {
        "colab": {
          "base_uri": "https://localhost:8080/"
        },
        "id": "_ZubAQdPO2Sk",
        "outputId": "19936f8c-daea-40d6-9392-a14924a8b453"
      },
      "execution_count": null,
      "outputs": [
        {
          "output_type": "execute_result",
          "data": {
            "text/plain": [
              "['g', 'e', 'c', 'a']"
            ]
          },
          "metadata": {},
          "execution_count": 8
        }
      ]
    },
    {
      "cell_type": "markdown",
      "source": [
        "## 文字列のシーケンス"
      ],
      "metadata": {
        "id": "TCdN5kKgO3zC"
      }
    },
    {
      "cell_type": "code",
      "source": [
        "s = 'Hello World'\n",
        "\n",
        "print(s[1:5])  #　1番目から5番目まで\n",
        "print(s[:4])   # 0番目から4番目まで \n",
        "print(s[2:])   # 2番目から最後まで\n",
        "print(s[4:-2]) # 4番目から後ろから2個目まで\n",
        "print(s[::2])   # 0番目から2個おきに値を取得\n",
        "print(s[::-1])  # 逆順に末尾から1個おきに値を取得\n",
        "print(s[::-2])  # 逆順に末尾から2個おきに値を取得"
      ],
      "metadata": {
        "colab": {
          "base_uri": "https://localhost:8080/"
        },
        "id": "eFUt_LCRPBXF",
        "outputId": "789f4fbf-210b-4776-c339-ab99d3ed5dd9"
      },
      "execution_count": null,
      "outputs": [
        {
          "output_type": "stream",
          "name": "stdout",
          "text": [
            "ello\n",
            "Hell\n",
            "llo World\n",
            "o Wor\n",
            "HloWrd\n",
            "dlroW olleH\n",
            "drWolH\n"
          ]
        }
      ]
    },
    {
      "cell_type": "markdown",
      "source": [
        "## リストのスライス"
      ],
      "metadata": {
        "id": "n1bEJpSsUBvq"
      }
    },
    {
      "cell_type": "code",
      "source": [
        "s = [0, 1, 2, 3, 4, 5, 6, 7, 8, 9]\n",
        "s[0:10:2]"
      ],
      "metadata": {
        "colab": {
          "base_uri": "https://localhost:8080/"
        },
        "id": "PKWeFnU4UBAj",
        "outputId": "fd4c8d65-e294-4942-babb-10dc6fedca5b"
      },
      "execution_count": null,
      "outputs": [
        {
          "output_type": "execute_result",
          "data": {
            "text/plain": [
              "[0, 2, 4, 6, 8]"
            ]
          },
          "metadata": {},
          "execution_count": 12
        }
      ]
    },
    {
      "cell_type": "code",
      "source": [
        "s = [0, 1, 2, 3, 4, 5, 6, 7, 8, 9]\n",
        "s[9:0:-2]"
      ],
      "metadata": {
        "colab": {
          "base_uri": "https://localhost:8080/"
        },
        "id": "e-yIQkxcR2By",
        "outputId": "65433f0c-53b5-4294-ad31-f9ae32815680"
      },
      "execution_count": null,
      "outputs": [
        {
          "output_type": "execute_result",
          "data": {
            "text/plain": [
              "[9, 7, 5, 3, 1]"
            ]
          },
          "metadata": {},
          "execution_count": 13
        }
      ]
    },
    {
      "cell_type": "markdown",
      "source": [
        "## 内包表記\n",
        "\n",
        "*   リスト等を発生させるための処理を簡単に記述する\n",
        "*   既存のリストとforを用いるケースが多い\n",
        "*   ifで条件付けも可能\n",
        "\n"
      ],
      "metadata": {
        "id": "cMHKCJHzVJbz"
      }
    },
    {
      "cell_type": "markdown",
      "source": [
        "### リスト内包表記の書き方\n",
        "```\n",
        "リスト内包表記の記法\n",
        "[ iの処理 for i in range(n, m) ]\n",
        "\n",
        "if分を含むリスト内包表記の記法\n",
        "[ iの処理 for i in range(n, m) if iに関する条件]\n",
        "```\n",
        "\n",
        "\n",
        "\n"
      ],
      "metadata": {
        "id": "bR7BWaTlVoMs"
      }
    },
    {
      "cell_type": "code",
      "source": [
        "# 0から4までのリストを作成\n",
        "s = [i for i in range(5)]\n",
        "s"
      ],
      "metadata": {
        "colab": {
          "base_uri": "https://localhost:8080/"
        },
        "id": "aRZo6483R2Mz",
        "outputId": "5307af59-7e42-4d78-f317-b047fb09a704"
      },
      "execution_count": null,
      "outputs": [
        {
          "output_type": "execute_result",
          "data": {
            "text/plain": [
              "[0, 1, 2, 3, 4]"
            ]
          },
          "metadata": {},
          "execution_count": 19
        }
      ]
    },
    {
      "cell_type": "code",
      "source": [
        "# 0から4までの数値に2を掛けた数値のリストを作成\n",
        "s = [i*2 for i in range(5)]\n",
        "s"
      ],
      "metadata": {
        "colab": {
          "base_uri": "https://localhost:8080/"
        },
        "id": "cEs6n3vvR2Sf",
        "outputId": "bc8c8560-ed39-4c16-fb5a-afbf82bff6ca"
      },
      "execution_count": null,
      "outputs": [
        {
          "output_type": "execute_result",
          "data": {
            "text/plain": [
              "[0, 2, 4, 6, 8]"
            ]
          },
          "metadata": {},
          "execution_count": 18
        }
      ]
    },
    {
      "cell_type": "code",
      "source": [
        "# 0から10までの数値で偶数のリストを作成\n",
        "s = [i for i in range(11) if i % 2 == 0]\n",
        "s"
      ],
      "metadata": {
        "colab": {
          "base_uri": "https://localhost:8080/"
        },
        "id": "ED_Jk_s2R2Vr",
        "outputId": "ced10d09-d8cd-46de-9c22-c5631f420a77"
      },
      "execution_count": null,
      "outputs": [
        {
          "output_type": "execute_result",
          "data": {
            "text/plain": [
              "[0, 2, 4, 6, 8, 10]"
            ]
          },
          "metadata": {},
          "execution_count": 17
        }
      ]
    },
    {
      "cell_type": "markdown",
      "source": [
        "## 二重の内包表記\n",
        "```\n",
        "[ [ xの処理, yの処理] for x in 配列 for y in 配列 if x, yの条件式 ]\n",
        "```\n",
        "\n"
      ],
      "metadata": {
        "id": "EI8Gw8rWXAId"
      }
    },
    {
      "cell_type": "code",
      "source": [
        "[ [ x, y ] for x in range(6) for y in range(6, 11) if x % 2 == 0 if y % 2 == 0]"
      ],
      "metadata": {
        "colab": {
          "base_uri": "https://localhost:8080/"
        },
        "id": "fzM-Q-ZzR2Yj",
        "outputId": "869637a1-9780-4ffa-9d73-dd1cb3d1be1d"
      },
      "execution_count": null,
      "outputs": [
        {
          "output_type": "execute_result",
          "data": {
            "text/plain": [
              "[[0, 6], [0, 8], [0, 10], [2, 6], [2, 8], [2, 10], [4, 6], [4, 8], [4, 10]]"
            ]
          },
          "metadata": {},
          "execution_count": 25
        }
      ]
    },
    {
      "cell_type": "code",
      "source": [
        "# 上記の処理をfor文で表すと下記の様になる\n",
        "s = []\n",
        "for x in range(6):\n",
        "    for y in range(6, 11):\n",
        "        if x % 2 == 0:\n",
        "            if y % 2 == 0:\n",
        "                s.append([x, y])\n",
        "s"
      ],
      "metadata": {
        "colab": {
          "base_uri": "https://localhost:8080/"
        },
        "id": "hQ8uG_IqR2eL",
        "outputId": "320c431d-51d2-42c9-8ecc-89a156878274"
      },
      "execution_count": null,
      "outputs": [
        {
          "output_type": "execute_result",
          "data": {
            "text/plain": [
              "[[0, 6], [0, 8], [0, 10], [2, 6], [2, 8], [2, 10], [4, 6], [4, 8], [4, 10]]"
            ]
          },
          "metadata": {},
          "execution_count": 37
        }
      ]
    },
    {
      "cell_type": "code",
      "source": [
        "# 文字列と数値の二重の内包表記\n",
        "[ [ x, y ] for x in ['a', 'b', 'c'] for y in range(2)]"
      ],
      "metadata": {
        "colab": {
          "base_uri": "https://localhost:8080/"
        },
        "id": "EZ3bZbZjR2iD",
        "outputId": "71eddb80-1985-4c91-a1f2-4da56fb8bf77"
      },
      "execution_count": null,
      "outputs": [
        {
          "output_type": "execute_result",
          "data": {
            "text/plain": [
              "[['a', 0], ['a', 1], ['b', 0], ['b', 1], ['c', 0], ['c', 1]]"
            ]
          },
          "metadata": {},
          "execution_count": 40
        }
      ]
    },
    {
      "cell_type": "code",
      "source": [
        "# 上記の処理をfor文で表すと下記の様になる\n",
        "s = []\n",
        "for x in ['a', 'b', 'c']:\n",
        "    for y in range(2):\n",
        "        s.append([x, y])\n",
        "s"
      ],
      "metadata": {
        "colab": {
          "base_uri": "https://localhost:8080/"
        },
        "id": "Yi3qEzifR2jb",
        "outputId": "667e9bc4-d8f7-4b59-f21f-2b7e381cf508"
      },
      "execution_count": null,
      "outputs": [
        {
          "output_type": "execute_result",
          "data": {
            "text/plain": [
              "[['a', 0], ['a', 1], ['b', 0], ['b', 1], ['c', 0], ['c', 1]]"
            ]
          },
          "metadata": {},
          "execution_count": 41
        }
      ]
    },
    {
      "cell_type": "code",
      "source": [
        "[x * y for x in range(1, 4) for y in range(2, 5)]"
      ],
      "metadata": {
        "colab": {
          "base_uri": "https://localhost:8080/"
        },
        "id": "06aa-3D_4FKi",
        "outputId": "2cbe04cf-01bf-4b93-8793-c513e3bd49e4"
      },
      "execution_count": 2,
      "outputs": [
        {
          "output_type": "execute_result",
          "data": {
            "text/plain": [
              "[2, 3, 4, 4, 6, 8, 6, 9, 12]"
            ]
          },
          "metadata": {},
          "execution_count": 2
        }
      ]
    },
    {
      "cell_type": "markdown",
      "source": [
        "## 辞書の内包表記\n",
        "```\n",
        "dict{ k : v for k, v in zip( [ 'one', 'two', 'three' ], [ 1, 2, 3 ] ) }\n",
        "```\n",
        "\n"
      ],
      "metadata": {
        "id": "s9RJKYFTajV-"
      }
    },
    {
      "cell_type": "code",
      "source": [
        "{ k : v for k, v in zip( [ 'one', 'two', 'three' ], [ 1, 2, 3 ] ) }"
      ],
      "metadata": {
        "colab": {
          "base_uri": "https://localhost:8080/"
        },
        "id": "iQkGOrKJaWkL",
        "outputId": "0efad019-3fdf-4d48-bb5b-d55b09e49c48"
      },
      "execution_count": null,
      "outputs": [
        {
          "output_type": "execute_result",
          "data": {
            "text/plain": [
              "{'one': 1, 'two': 2, 'three': 3}"
            ]
          },
          "metadata": {},
          "execution_count": 43
        }
      ]
    },
    {
      "cell_type": "code",
      "source": [
        "# 上記の処理は下記の様に記述出来る\n",
        "dict(zip( [ 'one', 'two', 'three' ], [ 1, 2, 3 ] ) )"
      ],
      "metadata": {
        "colab": {
          "base_uri": "https://localhost:8080/"
        },
        "id": "tczg_QRXbPDV",
        "outputId": "48ae6c4a-d3b4-4fbf-8209-2af6fff702a5"
      },
      "execution_count": null,
      "outputs": [
        {
          "output_type": "execute_result",
          "data": {
            "text/plain": [
              "{'one': 1, 'two': 2, 'three': 3}"
            ]
          },
          "metadata": {},
          "execution_count": 45
        }
      ]
    },
    {
      "cell_type": "markdown",
      "source": [
        "## 集合内包表記"
      ],
      "metadata": {
        "id": "4oSM331I4fxb"
      }
    },
    {
      "cell_type": "code",
      "source": [
        "# 基本的にはリストと同じ\n",
        "{x for x in range(0, 5)}"
      ],
      "metadata": {
        "colab": {
          "base_uri": "https://localhost:8080/"
        },
        "id": "M0XcsGXZ4fFX",
        "outputId": "0066983b-f89e-4a12-faa6-7cd14899298e"
      },
      "execution_count": 3,
      "outputs": [
        {
          "output_type": "execute_result",
          "data": {
            "text/plain": [
              "{0, 1, 2, 3, 4}"
            ]
          },
          "metadata": {},
          "execution_count": 3
        }
      ]
    },
    {
      "cell_type": "code",
      "source": [
        "# 重複は削除される\n",
        "{x for x in [1, 1, 2, 3, 4, 4, 5]}"
      ],
      "metadata": {
        "colab": {
          "base_uri": "https://localhost:8080/"
        },
        "id": "1f34rEgO41we",
        "outputId": "766770b1-787d-4fe2-a1da-243e1d69bcd4"
      },
      "execution_count": 4,
      "outputs": [
        {
          "output_type": "execute_result",
          "data": {
            "text/plain": [
              "{1, 2, 3, 4, 5}"
            ]
          },
          "metadata": {},
          "execution_count": 4
        }
      ]
    },
    {
      "cell_type": "markdown",
      "source": [
        "## ジェネレータ内包表記"
      ],
      "metadata": {
        "id": "TJsAikd95Hil"
      }
    },
    {
      "cell_type": "code",
      "source": [
        "def g():\n",
        "    for i in range(10):\n",
        "        yield i\n",
        "g = g()\n",
        "print(next(g))\n",
        "print(next(g))\n",
        "print(next(g))\n",
        "print(next(g))"
      ],
      "metadata": {
        "colab": {
          "base_uri": "https://localhost:8080/"
        },
        "id": "hTMkUN3P5Ggu",
        "outputId": "69818ac7-82d6-4d4e-9520-f7dfa10361ba"
      },
      "execution_count": 14,
      "outputs": [
        {
          "output_type": "stream",
          "name": "stdout",
          "text": [
            "0\n",
            "1\n",
            "2\n",
            "3\n"
          ]
        }
      ]
    },
    {
      "cell_type": "code",
      "source": [
        "# 上記処理のは以下のように、記述出来る\n",
        "g = (i for i in range(10))\n",
        "print(type(g))\n",
        "print(next(g))\n",
        "print(next(g))\n",
        "print(next(g))\n",
        "print(next(g))"
      ],
      "metadata": {
        "colab": {
          "base_uri": "https://localhost:8080/"
        },
        "id": "478ihxCk52_p",
        "outputId": "2bf38fd6-6242-4bf5-a44f-d8dd632a54fb"
      },
      "execution_count": 15,
      "outputs": [
        {
          "output_type": "stream",
          "name": "stdout",
          "text": [
            "<class 'generator'>\n",
            "0\n",
            "1\n",
            "2\n",
            "3\n"
          ]
        }
      ]
    }
  ]
}