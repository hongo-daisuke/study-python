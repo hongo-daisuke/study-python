{
  "nbformat": 4,
  "nbformat_minor": 0,
  "metadata": {
    "colab": {
      "name": "python_package.ipynb",
      "provenance": [],
      "collapsed_sections": [],
      "mount_file_id": "1kGnR7nnzkSAQJtD4ez5IFkGryTMpfjDw",
      "authorship_tag": "ABX9TyNNJXQZn4qbHCLVBnCxB3jf",
      "include_colab_link": true
    },
    "kernelspec": {
      "name": "python3",
      "display_name": "Python 3"
    },
    "language_info": {
      "name": "python"
    }
  },
  "cells": [
    {
      "cell_type": "markdown",
      "metadata": {
        "id": "view-in-github",
        "colab_type": "text"
      },
      "source": [
        "<a href=\"https://colab.research.google.com/github/hongo-daisuke/study-python/blob/master/python_package.ipynb\" target=\"_parent\"><img src=\"https://colab.research.google.com/assets/colab-badge.svg\" alt=\"Open In Colab\"/></a>"
      ]
    },
    {
      "cell_type": "markdown",
      "source": [
        "# パッケージ\n",
        "\n",
        "*   複数のモジュールを1つのフォルダにまとめたもの\n",
        "*   1つの多機能なパッケージを作る\n",
        "\n",
        "### モジュール\n",
        "\n",
        "*   他のプログラムから利用できるプログラム\n",
        "*   大規模なプログラムを開発する時には必須\n",
        "\n",
        "### パッケージとモジュール\n",
        "\n",
        "*   フォルダ名=パッケージ名\n",
        "*   複数のモジュールを配置\n",
        "*   __init __.pyを配置する\n",
        "\n",
        "### __init __.py\n",
        "\n",
        "*   フォルダがpythonのパッケージであることを示すファイル\n",
        "*   基本的には中身は空で問題ない\n",
        "*   サブフォルダが存在する時には記載する必要がある\n",
        "\n",
        "![スクリーンショット 2022-08-26 5.31.29.png](data:image/png;base64,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)\n",
        "\n",
        "\n"
      ],
      "metadata": {
        "id": "AOikDLbkXvZA"
      }
    },
    {
      "cell_type": "markdown",
      "source": [
        "### Colabで自作ファイルをパッケージとして使用する場合以下の処理が必要\n",
        "### Googleドライブのマウント\n",
        "```\n",
        "from google.colab import drive\n",
        "drive.mount('/content/drive')\n",
        "\n",
        "import os\n",
        "_colab_dir = \"/content/drive/MyDrive/Colab Notebooks\"\n",
        "os.chdir(_colab_dir)\n",
        "```"
      ],
      "metadata": {
        "id": "mih764KErxh4"
      }
    },
    {
      "cell_type": "code",
      "source": [
        "from google.colab import drive\n",
        "drive.mount('/content/drive')\n",
        "\n",
        "import os\n",
        "_colab_dir = \"/content/drive/MyDrive/Colab Notebooks\"\n",
        "os.chdir(_colab_dir)"
      ],
      "metadata": {
        "colab": {
          "base_uri": "https://localhost:8080/"
        },
        "id": "KSAMrmhQHwHF",
        "outputId": "86322f57-a5f9-40ac-fc41-e296931ad497"
      },
      "execution_count": null,
      "outputs": [
        {
          "output_type": "stream",
          "name": "stdout",
          "text": [
            "Drive already mounted at /content/drive; to attempt to forcibly remount, call drive.mount(\"/content/drive\", force_remount=True).\n"
          ]
        }
      ]
    },
    {
      "cell_type": "markdown",
      "source": [
        "### import文を使用してパッケージを読み出す\n",
        "```\n",
        "import パッケージ.モジュール名\n",
        "\n",
        "関数の呼び出し\n",
        "モジュール名.関数名(引数1, 引数2, ...)\n",
        "```"
      ],
      "metadata": {
        "id": "EjTRRc3ap6kB"
      }
    },
    {
      "cell_type": "code",
      "source": [
        "# package/utils.pyからsay_hello()を呼び出す\n",
        "import package.utils\n",
        "r = package.utils.say_hello('Michael')\n",
        "print(r)"
      ],
      "metadata": {
        "colab": {
          "base_uri": "https://localhost:8080/"
        },
        "id": "dtrWAhqLYAhp",
        "outputId": "6bd2ad40-74e1-4938-edae-ae2deadac410"
      },
      "execution_count": null,
      "outputs": [
        {
          "output_type": "stream",
          "name": "stdout",
          "text": [
            "Hello Michael!\n"
          ]
        }
      ]
    },
    {
      "cell_type": "markdown",
      "source": [
        "### fromを使用してパッケージを読み出す\n",
        "```\n",
        "from パッケージ名 import モジュール名\n",
        "\n",
        "関数の呼び出し\n",
        "モジュール名.関数名(引数1, 引数2, ...)\n",
        "```"
      ],
      "metadata": {
        "id": "VfWH1r2fqfHX"
      }
    },
    {
      "cell_type": "code",
      "source": [
        "from package import utils\n",
        "r = utils.say_hello('Michael')\n",
        "print(r)"
      ],
      "metadata": {
        "colab": {
          "base_uri": "https://localhost:8080/"
        },
        "id": "qiEUFbN7YI7J",
        "outputId": "d8d998ea-b00f-41d3-bd80-585be0d9818b"
      },
      "execution_count": null,
      "outputs": [
        {
          "output_type": "stream",
          "name": "stdout",
          "text": [
            "Hello Michael!\n"
          ]
        }
      ]
    },
    {
      "cell_type": "markdown",
      "source": [
        "### 特定のモジュールの関数のみを呼び出す\n",
        "\n",
        "```\n",
        "from モジュール名 import 関数名\n",
        "\n",
        "関数の呼び出し\n",
        "関数名(引数1, 引数2, ...)\n",
        "\n",
        "こちらの書き方はあまり推奨されていない\n",
        "say_hello()がどこのファイルから来たのかわからなくなるため\n",
        "処理が増え再びsay_hello()が出てきた時にどこで使用している関数かわからなくなる\n",
        "ファイル内に同じファンクションがあった場合、バグに繋がる\n",
        "```"
      ],
      "metadata": {
        "id": "VwZu0gwDqK6Z"
      }
    },
    {
      "cell_type": "code",
      "source": [
        "from package.utils import say_hello\n",
        "r = say_hello('Michael')\n",
        "print(r)"
      ],
      "metadata": {
        "colab": {
          "base_uri": "https://localhost:8080/"
        },
        "id": "oBNN18x2xJ3_",
        "outputId": "2163de5d-0252-4860-862d-7e38dacf5fce"
      },
      "execution_count": null,
      "outputs": [
        {
          "output_type": "stream",
          "name": "stdout",
          "text": [
            "Hello Michael!\n"
          ]
        }
      ]
    },
    {
      "cell_type": "markdown",
      "source": [
        "## __init __.pyの記述\n",
        "\n",
        "```\n",
        "from パッケージ名 import モジュール名\n",
        "や\n",
        "__all__ = ['モジュール名', 'モジュール名']\n",
        "```\n",
        "\n",
        "\n"
      ],
      "metadata": {
        "id": "QosNmXWLwh2A"
      }
    },
    {
      "cell_type": "code",
      "source": [
        "\"\"\"\n",
        "どんなモジュールがimportされるかわからないので * での読み出しはなるべく避ける\n",
        "\"\"\"\n",
        "from package.talk import *\n",
        "r1 = animal.sing()\n",
        "r2 = animal.laugh()\n",
        "r3 = human.sing()\n",
        "r4 = human.laugh()\n",
        "print(r1)\n",
        "print(r2)\n",
        "print(r3)\n",
        "print(r4)"
      ],
      "metadata": {
        "id": "3YgDoXk0xZov"
      },
      "execution_count": null,
      "outputs": []
    }
  ]
}