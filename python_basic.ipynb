{
  "nbformat": 4,
  "nbformat_minor": 0,
  "metadata": {
    "colab": {
      "name": "python_basic.ipynb",
      "provenance": [],
      "collapsed_sections": [],
      "authorship_tag": "ABX9TyNyfi152seehTYeFeLuORId",
      "include_colab_link": true
    },
    "kernelspec": {
      "name": "python3",
      "display_name": "Python 3"
    },
    "language_info": {
      "name": "python"
    }
  },
  "cells": [
    {
      "cell_type": "markdown",
      "metadata": {
        "id": "view-in-github",
        "colab_type": "text"
      },
      "source": [
        "<a href=\"https://colab.research.google.com/github/hongo-daisuke/study-python/blob/master/python_basic.ipynb\" target=\"_parent\"><img src=\"https://colab.research.google.com/assets/colab-badge.svg\" alt=\"Open In Colab\"/></a>"
      ]
    },
    {
      "cell_type": "markdown",
      "source": [
        "# Hello Wolrd"
      ],
      "metadata": {
        "id": "0X84S5uC9UGS"
      }
    },
    {
      "cell_type": "code",
      "execution_count": null,
      "metadata": {
        "colab": {
          "base_uri": "https://localhost:8080/"
        },
        "id": "Gw_EUBEV7ODJ",
        "outputId": "d9fd99a9-3592-413f-99de-914f4ca8927d"
      },
      "outputs": [
        {
          "output_type": "stream",
          "name": "stdout",
          "text": [
            "Hello Wolrd\n"
          ]
        }
      ],
      "source": [
        "print('Hello Wolrd')"
      ]
    },
    {
      "cell_type": "code",
      "source": [
        "print(0.9)"
      ],
      "metadata": {
        "colab": {
          "base_uri": "https://localhost:8080/"
        },
        "id": "FxffuR558wSQ",
        "outputId": "bdabeac8-1ef3-49c7-d656-88716687c2b6"
      },
      "execution_count": null,
      "outputs": [
        {
          "output_type": "stream",
          "name": "stdout",
          "text": [
            "0.9\n"
          ]
        }
      ]
    },
    {
      "cell_type": "code",
      "source": [
        "print(0.9 + 1.1)"
      ],
      "metadata": {
        "colab": {
          "base_uri": "https://localhost:8080/"
        },
        "id": "NX9Aql1s8wVc",
        "outputId": "d10fde8c-340c-4653-be43-4c41b8005e52"
      },
      "execution_count": null,
      "outputs": [
        {
          "output_type": "stream",
          "name": "stdout",
          "text": [
            "2.0\n"
          ]
        }
      ]
    },
    {
      "cell_type": "markdown",
      "source": [
        "## 四則演算"
      ],
      "metadata": {
        "id": "F5yEQPvg9Zf-"
      }
    },
    {
      "cell_type": "code",
      "source": [
        "# 足し算\n",
        "6 + 4"
      ],
      "metadata": {
        "colab": {
          "base_uri": "https://localhost:8080/"
        },
        "id": "Nu_DZcKm8wYY",
        "outputId": "200242c7-96ee-44b3-8bc7-6d0a96d61199"
      },
      "execution_count": null,
      "outputs": [
        {
          "output_type": "execute_result",
          "data": {
            "text/plain": [
              "10"
            ]
          },
          "metadata": {},
          "execution_count": 6
        }
      ]
    },
    {
      "cell_type": "code",
      "source": [
        "# 引き算\n",
        "5 - 4"
      ],
      "metadata": {
        "colab": {
          "base_uri": "https://localhost:8080/"
        },
        "id": "mL-7EeYm8wbW",
        "outputId": "bbcc3586-c9b7-425b-d66f-2403f6ef2d07"
      },
      "execution_count": null,
      "outputs": [
        {
          "output_type": "execute_result",
          "data": {
            "text/plain": [
              "1"
            ]
          },
          "metadata": {},
          "execution_count": 7
        }
      ]
    },
    {
      "cell_type": "code",
      "source": [
        "# 掛け算\n",
        "3 * 6"
      ],
      "metadata": {
        "colab": {
          "base_uri": "https://localhost:8080/"
        },
        "id": "C39zxNy-8wfG",
        "outputId": "5b45da76-d30e-4368-9bf3-3707d3055909"
      },
      "execution_count": null,
      "outputs": [
        {
          "output_type": "execute_result",
          "data": {
            "text/plain": [
              "18"
            ]
          },
          "metadata": {},
          "execution_count": 8
        }
      ]
    },
    {
      "cell_type": "code",
      "source": [
        "# 割り算(実数で計算)\n",
        "10 / 3"
      ],
      "metadata": {
        "colab": {
          "base_uri": "https://localhost:8080/"
        },
        "id": "qziB0MVC8wg7",
        "outputId": "d44fc3e1-d81a-4a5e-c8e5-3f429e90966e"
      },
      "execution_count": null,
      "outputs": [
        {
          "output_type": "execute_result",
          "data": {
            "text/plain": [
              "3.3333333333333335"
            ]
          },
          "metadata": {},
          "execution_count": 9
        }
      ]
    },
    {
      "cell_type": "code",
      "source": [
        "# 割り算(整数で計算)\n",
        "10 // 3"
      ],
      "metadata": {
        "colab": {
          "base_uri": "https://localhost:8080/"
        },
        "id": "4obHW3_b9nsg",
        "outputId": "dead165f-ca56-4472-9f40-8627cd3f97d6"
      },
      "execution_count": null,
      "outputs": [
        {
          "output_type": "execute_result",
          "data": {
            "text/plain": [
              "3"
            ]
          },
          "metadata": {},
          "execution_count": 10
        }
      ]
    },
    {
      "cell_type": "code",
      "source": [
        "# 剰余\n",
        "10 % 3"
      ],
      "metadata": {
        "colab": {
          "base_uri": "https://localhost:8080/"
        },
        "id": "xu08utlQ9nwP",
        "outputId": "caa1c101-1d10-42cc-82eb-e4a5f8e64eda"
      },
      "execution_count": null,
      "outputs": [
        {
          "output_type": "execute_result",
          "data": {
            "text/plain": [
              "1"
            ]
          },
          "metadata": {},
          "execution_count": 11
        }
      ]
    },
    {
      "cell_type": "code",
      "source": [
        "# べき乗\n",
        "3 ** 2"
      ],
      "metadata": {
        "colab": {
          "base_uri": "https://localhost:8080/"
        },
        "id": "J6SJDzIi9nz-",
        "outputId": "a5dc56d6-724f-4cdf-9de3-3313888e9a83"
      },
      "execution_count": null,
      "outputs": [
        {
          "output_type": "execute_result",
          "data": {
            "text/plain": [
              "9"
            ]
          },
          "metadata": {},
          "execution_count": 12
        }
      ]
    },
    {
      "cell_type": "code",
      "source": [
        "# 計算の優先順位\n",
        "(6 + 4) * 2"
      ],
      "metadata": {
        "colab": {
          "base_uri": "https://localhost:8080/"
        },
        "id": "rmP_gar79n2N",
        "outputId": "46c11b6c-b028-47a4-c23f-41b65fd1ad12"
      },
      "execution_count": null,
      "outputs": [
        {
          "output_type": "execute_result",
          "data": {
            "text/plain": [
              "20"
            ]
          },
          "metadata": {},
          "execution_count": 13
        }
      ]
    },
    {
      "cell_type": "code",
      "source": [
        "# 数値を0で割るとエラーになる\n",
        "try:\n",
        "    a = 4 / 0\n",
        "except Exception as e:\n",
        "    print(e)"
      ],
      "metadata": {
        "colab": {
          "base_uri": "https://localhost:8080/"
        },
        "id": "kquSLnDRAySA",
        "outputId": "1047edeb-3b69-436e-a280-8d39db9f4551"
      },
      "execution_count": null,
      "outputs": [
        {
          "output_type": "stream",
          "name": "stdout",
          "text": [
            "division by zero\n"
          ]
        }
      ]
    },
    {
      "cell_type": "markdown",
      "source": [
        "## 変数"
      ],
      "metadata": {
        "id": "b0yxVu0j-wWp"
      }
    },
    {
      "cell_type": "code",
      "source": [
        "a = 10\n",
        "a"
      ],
      "metadata": {
        "colab": {
          "base_uri": "https://localhost:8080/"
        },
        "id": "LN5xQ2lE9n4w",
        "outputId": "bbca237e-1647-4167-f2db-288194b88ae2"
      },
      "execution_count": null,
      "outputs": [
        {
          "output_type": "execute_result",
          "data": {
            "text/plain": [
              "10"
            ]
          },
          "metadata": {},
          "execution_count": 27
        }
      ]
    },
    {
      "cell_type": "code",
      "source": [
        "a - 3"
      ],
      "metadata": {
        "colab": {
          "base_uri": "https://localhost:8080/"
        },
        "id": "Km6bwlcw9n7Q",
        "outputId": "cccb5895-8afa-4925-bd9e-852214498947"
      },
      "execution_count": null,
      "outputs": [
        {
          "output_type": "execute_result",
          "data": {
            "text/plain": [
              "7"
            ]
          },
          "metadata": {},
          "execution_count": 28
        }
      ]
    },
    {
      "cell_type": "code",
      "source": [
        "b = 3\n",
        "b"
      ],
      "metadata": {
        "colab": {
          "base_uri": "https://localhost:8080/"
        },
        "id": "46XpDiyZ9n-u",
        "outputId": "3589e307-165f-4bc3-cc6a-b9785cda8b0a"
      },
      "execution_count": null,
      "outputs": [
        {
          "output_type": "execute_result",
          "data": {
            "text/plain": [
              "3"
            ]
          },
          "metadata": {},
          "execution_count": 29
        }
      ]
    },
    {
      "cell_type": "code",
      "source": [
        "a + b"
      ],
      "metadata": {
        "colab": {
          "base_uri": "https://localhost:8080/"
        },
        "id": "dDBCvdf__Fey",
        "outputId": "7ed022cd-5c77-4363-ea28-bd84d22ff761"
      },
      "execution_count": null,
      "outputs": [
        {
          "output_type": "execute_result",
          "data": {
            "text/plain": [
              "13"
            ]
          },
          "metadata": {},
          "execution_count": 30
        }
      ]
    },
    {
      "cell_type": "code",
      "source": [
        "a = 10\n",
        "a += b\n",
        "a"
      ],
      "metadata": {
        "colab": {
          "base_uri": "https://localhost:8080/"
        },
        "id": "5n8aA4TD_mEf",
        "outputId": "5defb480-8da6-40d6-90e9-ea4f3b0aa4ec"
      },
      "execution_count": null,
      "outputs": [
        {
          "output_type": "execute_result",
          "data": {
            "text/plain": [
              "13"
            ]
          },
          "metadata": {},
          "execution_count": 31
        }
      ]
    },
    {
      "cell_type": "code",
      "source": [
        "c = 'Hello'\n",
        "c"
      ],
      "metadata": {
        "colab": {
          "base_uri": "https://localhost:8080/",
          "height": 35
        },
        "id": "Ysb_lmkP_JAP",
        "outputId": "10a429aa-6985-440f-eec0-9fba1e0d7141"
      },
      "execution_count": null,
      "outputs": [
        {
          "output_type": "execute_result",
          "data": {
            "text/plain": [
              "'Hello'"
            ],
            "application/vnd.google.colaboratory.intrinsic+json": {
              "type": "string"
            }
          },
          "metadata": {},
          "execution_count": 20
        }
      ]
    },
    {
      "cell_type": "code",
      "source": [
        "# 文字列の演算(加算)\n",
        "d = c + ' Wolrd'\n",
        "d"
      ],
      "metadata": {
        "colab": {
          "base_uri": "https://localhost:8080/",
          "height": 35
        },
        "id": "KlYdHLG7_JJT",
        "outputId": "be210f9c-1410-4fc5-a329-a4008ef49c0b"
      },
      "execution_count": null,
      "outputs": [
        {
          "output_type": "execute_result",
          "data": {
            "text/plain": [
              "'Hello Wolrd'"
            ],
            "application/vnd.google.colaboratory.intrinsic+json": {
              "type": "string"
            }
          },
          "metadata": {},
          "execution_count": 34
        }
      ]
    },
    {
      "cell_type": "code",
      "source": [
        "# 文字列の演算(乗算)\n",
        "d*2"
      ],
      "metadata": {
        "colab": {
          "base_uri": "https://localhost:8080/",
          "height": 35
        },
        "id": "J3sDmwbZARUC",
        "outputId": "09e23828-b1f4-48f5-f381-cc202c8c8ed2"
      },
      "execution_count": null,
      "outputs": [
        {
          "output_type": "execute_result",
          "data": {
            "text/plain": [
              "'Hello WolrdHello Wolrd'"
            ],
            "application/vnd.google.colaboratory.intrinsic+json": {
              "type": "string"
            }
          },
          "metadata": {},
          "execution_count": 35
        }
      ]
    },
    {
      "cell_type": "markdown",
      "source": [
        "## 組み込み関数"
      ],
      "metadata": {
        "id": "ZF_K2VBWDaCN"
      }
    },
    {
      "cell_type": "markdown",
      "source": [
        "### abs()\n",
        "引数で受け取った値を絶対値(符号を取った数値)にして返す"
      ],
      "metadata": {
        "id": "-Eg7iayHfmTm"
      }
    },
    {
      "cell_type": "code",
      "source": [
        "print(abs(5))\n",
        "print(abs(-25))"
      ],
      "metadata": {
        "colab": {
          "base_uri": "https://localhost:8080/"
        },
        "id": "DsuoDF-I_87M",
        "outputId": "4f1b1fee-ebe6-440f-d106-b2e0842f3474"
      },
      "execution_count": null,
      "outputs": [
        {
          "output_type": "stream",
          "name": "stdout",
          "text": [
            "5\n",
            "25\n"
          ]
        }
      ]
    },
    {
      "cell_type": "markdown",
      "source": [
        "### max()\n",
        "引数で受け取った値の中で最大の要素を返す"
      ],
      "metadata": {
        "id": "6oOamBi_fumM"
      }
    },
    {
      "cell_type": "code",
      "source": [
        "print(max(1, 2, 3, 4, 5))\n",
        "print(max([[1, 2, 100, 3, 4, 5], [1000, 2]])) # リストも対応可能"
      ],
      "metadata": {
        "colab": {
          "base_uri": "https://localhost:8080/"
        },
        "id": "rRKQnQ8F_JMM",
        "outputId": "a04ce4bf-6dd7-47b7-cf15-b9e48efdddbe"
      },
      "execution_count": null,
      "outputs": [
        {
          "output_type": "stream",
          "name": "stdout",
          "text": [
            "5\n",
            "[1000, 2]\n"
          ]
        }
      ]
    },
    {
      "cell_type": "markdown",
      "source": [
        "## min()\n",
        "引数で受け取った値の中で最小の要素を返す"
      ],
      "metadata": {
        "id": "6-9k7OB8f11R"
      }
    },
    {
      "cell_type": "code",
      "source": [
        "print(min(1, 2, 3, 4, 5))\n",
        "print(min([[1, 2, 100, 3, -4, 5], [1000]])) # リストも対応可能"
      ],
      "metadata": {
        "colab": {
          "base_uri": "https://localhost:8080/"
        },
        "id": "aq5m-98U_JOx",
        "outputId": "81151e1b-d0e1-4ac0-f780-47d2fc0d29f8"
      },
      "execution_count": null,
      "outputs": [
        {
          "output_type": "stream",
          "name": "stdout",
          "text": [
            "1\n",
            "[1, 2, 100, 3, -4, 5]\n"
          ]
        }
      ]
    },
    {
      "cell_type": "markdown",
      "source": [
        "### str()\n",
        "引数で受け取った値で文字列を作成"
      ],
      "metadata": {
        "id": "gG6tDsLvf7Qk"
      }
    },
    {
      "cell_type": "code",
      "source": [
        "print('7 : ', type(7))\n",
        "a = str(7)\n",
        "print('a = str(7) : ', type(a))\n",
        "b = 'Hello' + a\n",
        "b # 7が文字列になっているためHelloと足すことが可能"
      ],
      "metadata": {
        "colab": {
          "base_uri": "https://localhost:8080/",
          "height": 70
        },
        "id": "Pd0xWp1UD_KI",
        "outputId": "dd852f41-64d6-49c4-ad63-9403492ebc45"
      },
      "execution_count": null,
      "outputs": [
        {
          "output_type": "stream",
          "name": "stdout",
          "text": [
            "7 :  <class 'int'>\n",
            "a = str(7) :  <class 'str'>\n"
          ]
        },
        {
          "output_type": "execute_result",
          "data": {
            "text/plain": [
              "'Hello7'"
            ],
            "application/vnd.google.colaboratory.intrinsic+json": {
              "type": "string"
            }
          },
          "metadata": {},
          "execution_count": 82
        }
      ]
    },
    {
      "cell_type": "markdown",
      "source": [
        "### int()\n",
        "引数で受け取った値で整数を作成"
      ],
      "metadata": {
        "id": "yJBvFss4gDJT"
      }
    },
    {
      "cell_type": "code",
      "source": [
        "\n",
        "print('7 : ', type('7')) # 文字列\n",
        "print('3 : ', type('3')) # 文字列\n",
        "a = int('7')\n",
        "b = int('3')\n",
        "c = a + b\n",
        "print('c : ', type(c))\n",
        "c"
      ],
      "metadata": {
        "colab": {
          "base_uri": "https://localhost:8080/"
        },
        "id": "pFjDkXQbD_Uo",
        "outputId": "c1cdffee-d42c-4235-a203-c5b9dbef2bfd"
      },
      "execution_count": null,
      "outputs": [
        {
          "output_type": "stream",
          "name": "stdout",
          "text": [
            "7 :  <class 'str'>\n",
            "3 :  <class 'str'>\n",
            "c :  <class 'int'>\n"
          ]
        },
        {
          "output_type": "execute_result",
          "data": {
            "text/plain": [
              "10"
            ]
          },
          "metadata": {},
          "execution_count": 70
        }
      ]
    },
    {
      "cell_type": "markdown",
      "source": [
        "### float()\n",
        "引数で受け取った値で浮動小数点を作成"
      ],
      "metadata": {
        "id": "KtborUHYgIp7"
      }
    },
    {
      "cell_type": "code",
      "source": [
        "print('0.9 : ', type('0.9')) # 文字列\n",
        "print('1.4 : ', type('1.4')) # 文字列\n",
        "a = float('0.9')\n",
        "b = float('1.4')\n",
        "c = a + b\n",
        "print('c : ', type(c))\n",
        "c"
      ],
      "metadata": {
        "colab": {
          "base_uri": "https://localhost:8080/"
        },
        "id": "bAabQm3kD_vA",
        "outputId": "88b4a8d9-2cb6-487b-820a-7d3e3ec6d9d9"
      },
      "execution_count": null,
      "outputs": [
        {
          "output_type": "stream",
          "name": "stdout",
          "text": [
            "0.9 :  <class 'str'>\n",
            "1.4 :  <class 'str'>\n",
            "c :  <class 'float'>\n"
          ]
        },
        {
          "output_type": "execute_result",
          "data": {
            "text/plain": [
              "2.3"
            ]
          },
          "metadata": {},
          "execution_count": 75
        }
      ]
    },
    {
      "cell_type": "markdown",
      "source": [
        "### print()\n",
        "文字列・数値の表示"
      ],
      "metadata": {
        "id": "D9x6MyCSgOYS"
      }
    },
    {
      "cell_type": "code",
      "source": [
        "print('Hello Wolrd') # 文字列\n",
        "print(12345) # 数値"
      ],
      "metadata": {
        "colab": {
          "base_uri": "https://localhost:8080/"
        },
        "id": "fpsuoMIMM26C",
        "outputId": "ed596b8e-0355-43c3-9008-67f318cfa8e8"
      },
      "execution_count": null,
      "outputs": [
        {
          "output_type": "stream",
          "name": "stdout",
          "text": [
            "Hello Wolrd\n",
            "12345\n"
          ]
        }
      ]
    },
    {
      "cell_type": "code",
      "source": [
        "# 複数の値を表示\n",
        "print('Good', 'Morning') # 文字列\n",
        "print(5,4,3,2,1) # 数値"
      ],
      "metadata": {
        "colab": {
          "base_uri": "https://localhost:8080/"
        },
        "id": "7Ac_hXzsM3Cm",
        "outputId": "cee69178-c9f5-4d0a-aafd-1365a2d64a43"
      },
      "execution_count": null,
      "outputs": [
        {
          "output_type": "stream",
          "name": "stdout",
          "text": [
            "Good Morning\n",
            "5 4 3 2 1\n"
          ]
        }
      ]
    },
    {
      "cell_type": "code",
      "source": [
        "# 「sep=」で区切り文字の設定も可能\n",
        "print('Good', 'Afternoon', sep='&')\n",
        "print(5,4,3,2,1, sep=':')"
      ],
      "metadata": {
        "colab": {
          "base_uri": "https://localhost:8080/"
        },
        "id": "69UjhQfAM3KE",
        "outputId": "1078be1a-4a1f-4c13-d657-42c876db8431"
      },
      "execution_count": null,
      "outputs": [
        {
          "output_type": "stream",
          "name": "stdout",
          "text": [
            "Good&Afternoon\n",
            "5:4:3:2:1\n"
          ]
        }
      ]
    },
    {
      "cell_type": "code",
      "source": [
        "# 「end=」で改行しないで値を表示\n",
        "print('Good',end='')\n",
        "print('Evening')"
      ],
      "metadata": {
        "colab": {
          "base_uri": "https://localhost:8080/"
        },
        "id": "ryQPj2sIM3QJ",
        "outputId": "96bfc321-ccc1-4496-a9bf-8db54b5cb174"
      },
      "execution_count": null,
      "outputs": [
        {
          "output_type": "stream",
          "name": "stdout",
          "text": [
            "GoodEvening\n"
          ]
        }
      ]
    },
    {
      "cell_type": "code",
      "source": [
        "# 文字列の挿入1\n",
        "print('{}{}'.format('Good', 'Night'))"
      ],
      "metadata": {
        "colab": {
          "base_uri": "https://localhost:8080/"
        },
        "id": "po95th36M3XY",
        "outputId": "30975a73-f720-45a9-f5bd-54681c1c1148"
      },
      "execution_count": null,
      "outputs": [
        {
          "output_type": "stream",
          "name": "stdout",
          "text": [
            "GoodNight\n"
          ]
        }
      ]
    },
    {
      "cell_type": "code",
      "source": [
        "# 文字列の挿入2\n",
        "a = 'Good'\n",
        "b = 'Night'\n",
        "print(f'{a}{b}')"
      ],
      "metadata": {
        "colab": {
          "base_uri": "https://localhost:8080/"
        },
        "id": "LU_KI0u0M3db",
        "outputId": "fe390ea5-4f70-42e5-c572-60eea910f20f"
      },
      "execution_count": null,
      "outputs": [
        {
          "output_type": "stream",
          "name": "stdout",
          "text": [
            "GoodNight\n"
          ]
        }
      ]
    },
    {
      "cell_type": "markdown",
      "source": [
        "### input()\n",
        "キーボードから入力した文字列を受け取る関数"
      ],
      "metadata": {
        "id": "1AvzuCMCgW3C"
      }
    },
    {
      "cell_type": "code",
      "source": [
        "a = input('数字a:')\n",
        "b = input('数字b:')\n",
        "a = int(a) # 数値を受け取る場合はint()で変換する\n",
        "b = int(b)\n",
        "print(f'a + b = {a + b}')"
      ],
      "metadata": {
        "colab": {
          "base_uri": "https://localhost:8080/"
        },
        "id": "HJvteYRmLdIb",
        "outputId": "f168eba0-38a3-4686-eeab-788d6103ead0"
      },
      "execution_count": null,
      "outputs": [
        {
          "output_type": "stream",
          "name": "stdout",
          "text": [
            "数字a:２\n",
            "数字b:８\n",
            "a + b = 10\n"
          ]
        }
      ]
    },
    {
      "cell_type": "markdown",
      "source": [
        "## 文字列オブジェクト"
      ],
      "metadata": {
        "id": "W-hbNsdrNs_g"
      }
    },
    {
      "cell_type": "markdown",
      "source": [
        "### replace()\n",
        "文字列の置換"
      ],
      "metadata": {
        "id": "EkHDR7rRghxu"
      }
    },
    {
      "cell_type": "code",
      "source": [
        "a = 'Good Morning'\n",
        "b = a.replace('Morning', 'Night')\n",
        "print(b)"
      ],
      "metadata": {
        "colab": {
          "base_uri": "https://localhost:8080/"
        },
        "id": "lFL8bJqlNwrc",
        "outputId": "70696674-bc17-4ee1-ed61-1d1cd7c31664"
      },
      "execution_count": null,
      "outputs": [
        {
          "output_type": "stream",
          "name": "stdout",
          "text": [
            "Good Night\n"
          ]
        }
      ]
    },
    {
      "cell_type": "markdown",
      "source": [
        "### lower() / upper()\n",
        "文字列の小文字化 / 大文字化"
      ],
      "metadata": {
        "id": "hOFLdGElgn42"
      }
    },
    {
      "cell_type": "code",
      "source": [
        "a = 'Hello Wolrd'\n",
        "s1 = a.lower()\n",
        "s2 = a.upper()\n",
        "print(s1)\n",
        "print(s2)"
      ],
      "metadata": {
        "colab": {
          "base_uri": "https://localhost:8080/"
        },
        "id": "NMd0bcDpN04z",
        "outputId": "5449e760-c942-40b4-9aec-39afa643b05e"
      },
      "execution_count": null,
      "outputs": [
        {
          "output_type": "stream",
          "name": "stdout",
          "text": [
            "hello wolrd\n",
            "HELLO WOLRD\n"
          ]
        }
      ]
    },
    {
      "cell_type": "markdown",
      "source": [
        "### find() / index()\n",
        "指定した文字列が現れる位置を返す"
      ],
      "metadata": {
        "id": "86eqhqTDgsbv"
      }
    },
    {
      "cell_type": "code",
      "source": [
        "a = 'abc def ghi'\n",
        "s1 = a.find('def')\n",
        "s2 = a.find('GHI')\n",
        "print(s1) # 表示位置を返す\n",
        "print(s2) # 大文字と小文字は区別する、存在しない場合は-1を返す\n",
        "\n",
        "# index()も同様の結果が得られるが存在しない場合はエラーになる"
      ],
      "metadata": {
        "colab": {
          "base_uri": "https://localhost:8080/"
        },
        "id": "uUhpKN3AN1DP",
        "outputId": "b48e8ac4-724c-4ab9-e021-678d3f81e5fd"
      },
      "execution_count": null,
      "outputs": [
        {
          "output_type": "stream",
          "name": "stdout",
          "text": [
            "4\n",
            "-1\n"
          ]
        }
      ]
    },
    {
      "cell_type": "markdown",
      "source": [
        "### center() / rjust() / ljust()\n",
        "文字列の中央 / 文字列の右 / 文字列の左\n"
      ],
      "metadata": {
        "id": "qRwkfKfugxX-"
      }
    },
    {
      "cell_type": "code",
      "source": [
        "a = 'Hello'\n",
        "s1 = a.center(10)\n",
        "s2 = a.rjust(10)\n",
        "s3 = a.ljust(10)\n",
        "print(s1)\n",
        "print(s2)\n",
        "print(s3)"
      ],
      "metadata": {
        "colab": {
          "base_uri": "https://localhost:8080/"
        },
        "id": "FOFUvxRUN1Z2",
        "outputId": "5158bfa6-ed87-4ebc-9db7-316367d56370"
      },
      "execution_count": null,
      "outputs": [
        {
          "output_type": "stream",
          "name": "stdout",
          "text": [
            "  Hello   \n",
            "     Hello\n",
            "Hello     \n"
          ]
        }
      ]
    }
  ]
}