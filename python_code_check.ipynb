{
  "nbformat": 4,
  "nbformat_minor": 0,
  "metadata": {
    "colab": {
      "provenance": [],
      "collapsed_sections": [],
      "authorship_tag": "ABX9TyNoLghBhGkQB3vtsoY8OaoH",
      "include_colab_link": true
    },
    "kernelspec": {
      "name": "python3",
      "display_name": "Python 3"
    },
    "language_info": {
      "name": "python"
    }
  },
  "cells": [
    {
      "cell_type": "markdown",
      "metadata": {
        "id": "view-in-github",
        "colab_type": "text"
      },
      "source": [
        "<a href=\"https://colab.research.google.com/github/hongo-daisuke/study-python/blob/master/python_code_check.ipynb\" target=\"_parent\"><img src=\"https://colab.research.google.com/assets/colab-badge.svg\" alt=\"Open In Colab\"/></a>"
      ]
    },
    {
      "cell_type": "markdown",
      "source": [
        "## コードスタイルをチェックするツール\n",
        "\n",
        "\n",
        "*   pycodestyle\n",
        "*   flake8\n",
        "*   pylint\n",
        "\n",
        "```\n",
        "インストールコマンド\n",
        "pip3 install pycodestyle\n",
        "pip3 install flake8\n",
        "pip3 install pylint\n",
        "\n",
        "実行例\n",
        "pycodestyle ファイル名.py\n",
        "flake8 ファイル名.py\n",
        "pylint ファイル名.py\n",
        "```\n",
        "\n",
        "\n",
        "\n"
      ],
      "metadata": {
        "id": "iIjpt8CsAJ61"
      }
    },
    {
      "cell_type": "code",
      "source": [
        "# 末尾にセミコロン(;)は付けられるが不要\n",
        "x = 1;\n",
        "y = 'a';\n",
        "\n",
        "# 基本的に1行80文字以内に収める、超える場合は改行すること\n",
        "a = 'aaaaaaaaaaaaaaaaaaaaaaaaaaaaaaaaaaaaaaaaaaaaaaaaaaaaaaaaaaaaaaaaaaaaaaaaaaaaaaaa'\n",
        "\n",
        "def test_func(x, y, z, \n",
        "              abcdeabcdeabcdeabcdeabcdeabcdeabcdeabcdeabcdeabcdeabcde='test'):\n",
        "    \"\"\"\n",
        "\n",
        "    :param x:\n",
        "    :param y:\n",
        "    :param z:\n",
        "    :param abcdeabcdeabcdeabcdeabcdeabcdeabcdeabcdeabcdeabcdeabcde:\n",
        "\n",
        "    ドキュメントのURLなどは80文字超えても問題ない\n",
        "    See detail at:http://testtesttest.com/document/abcdeabcdeabcdeabcdeabcdeabcdeabcdeabcdeabcdeabcdeabcde\n",
        "    \"\"\"\n",
        "\n",
        "\n",
        "# 不必要な()は不要\n",
        "if (x and y):\n",
        "    print('exist')\n",
        "\n",
        "if x:\n",
        "    # value側はスペースを空ける\n",
        "    x = {'test': 'aaa'}\n",
        "\n",
        "    # 演算子やカンマの間にはスペースを入れること(引数のデフォルトは不要)\n",
        "    y = x\n",
        "    a, b = x, y"
      ],
      "metadata": {
        "id": "5cMnLKMhDGR1"
      },
      "execution_count": null,
      "outputs": []
    },
    {
      "cell_type": "code",
      "source": [
        "# クラスやファンクション、importは2行間を空ける\n",
        "import os\n",
        "import sys\n",
        "\n",
        "\n",
        "class Person:\n",
        "    def __init__(self):\n",
        "        pass\n",
        "\n",
        "    # クラス内のファンクション間は1行\n",
        "    def talk(self):\n",
        "        pass\n",
        "\n",
        "\n",
        "class Car:\n",
        "    pass\n",
        "\n",
        "\n",
        "def run():\n",
        "    pass"
      ],
      "metadata": {
        "id": "kdMw6CXRGVMZ"
      },
      "execution_count": null,
      "outputs": []
    },
    {
      "cell_type": "code",
      "source": [
        "# 文字列の連結\n",
        "word = 'hello'\n",
        "word2 = '!'\n",
        "\n",
        "new_word1 =  word + word2 # 基本的にはこっち\n",
        "new_word2 = f'{word}{word2}' # 文章が長い場合などはこっち"
      ],
      "metadata": {
        "colab": {
          "base_uri": "https://localhost:8080/",
          "height": 35
        },
        "id": "yAk-wxxrGi8y",
        "outputId": "cf30dbce-e115-4cb8-b44b-12881ddd96f1"
      },
      "execution_count": null,
      "outputs": [
        {
          "output_type": "execute_result",
          "data": {
            "text/plain": [
              "'hello!'"
            ],
            "application/vnd.google.colaboratory.intrinsic+json": {
              "type": "string"
            }
          },
          "metadata": {},
          "execution_count": 8
        }
      ]
    },
    {
      "cell_type": "code",
      "source": [
        "# forによる文字列の連結\n",
        "long_word = ''\n",
        "for word in ['abc', 'def', 'ghi']:\n",
        "    long_word += f'{word}jkl'\n",
        "long_word"
      ],
      "metadata": {
        "colab": {
          "base_uri": "https://localhost:8080/",
          "height": 35
        },
        "id": "MbgA2OI6HQ0J",
        "outputId": "22e05421-5fb6-4bff-cc5e-c93e78fcc5d0"
      },
      "execution_count": null,
      "outputs": [
        {
          "output_type": "execute_result",
          "data": {
            "text/plain": [
              "'abcjkldefjklghijkl'"
            ],
            "application/vnd.google.colaboratory.intrinsic+json": {
              "type": "string"
            }
          },
          "metadata": {},
          "execution_count": 10
        }
      ]
    },
    {
      "cell_type": "code",
      "source": [
        "# 上記はメモリ量が多くなるのであまり良くない\n",
        "long_word = []\n",
        "for word in ['abc', 'def', 'ghi']:\n",
        "    long_word.append(f'{word}jkl')\n",
        "# joinでリストの連結の方が良い\n",
        "long_word = ''.join(long_word)\n",
        "long_word"
      ],
      "metadata": {
        "colab": {
          "base_uri": "https://localhost:8080/",
          "height": 35
        },
        "id": "GUESznEaIP79",
        "outputId": "9a241d5a-9874-4b3a-a43e-db903794af39"
      },
      "execution_count": null,
      "outputs": [
        {
          "output_type": "execute_result",
          "data": {
            "text/plain": [
              "'abcjkldefjklghijkl'"
            ],
            "application/vnd.google.colaboratory.intrinsic+json": {
              "type": "string"
            }
          },
          "metadata": {},
          "execution_count": 12
        }
      ]
    },
    {
      "cell_type": "code",
      "source": [
        "# シングルクォートとダブルクォートどちらでも良いがプロジェクトに合わせる\n",
        "print('abcdefg')\n",
        "print(\"abcdefg\")\n",
        "\n",
        "# 文字列にシングルクォートが含まれている場合は、ダブルクォートを使用する\n",
        "print(\"ab'cde'fg\")"
      ],
      "metadata": {
        "colab": {
          "base_uri": "https://localhost:8080/"
        },
        "id": "gP5YqYaOIyTf",
        "outputId": "9da29e15-1ae9-4d08-a540-544552f2cd42"
      },
      "execution_count": null,
      "outputs": [
        {
          "output_type": "stream",
          "name": "stdout",
          "text": [
            "abcdefg\n",
            "abcdefg\n",
            "ab'cde'fg\n"
          ]
        }
      ]
    },
    {
      "cell_type": "code",
      "source": [
        "import os\n",
        "import sys\n",
        "\n",
        "# グローバル変数は大文字でアンダースコアで繋げる\n",
        "DEFAULT_USER_NAME = 'TEST'\n",
        "\n",
        "# クラス名はキャメロケース\n",
        "class SuperPerson:\n",
        "\n",
        "    # 変数は関数名はスネークケース\n",
        "    def favorite_sports(self):\n",
        "        favorite_sports = 'basketball'\n",
        "        return favorite_sports"
      ],
      "metadata": {
        "id": "A-e16CJlJkLU"
      },
      "execution_count": null,
      "outputs": []
    },
    {
      "cell_type": "code",
      "source": [
        "class person:\n",
        "    def run(self):\n",
        "        print('run')\n",
        "\n",
        "# 上のようなクラスを読み出しているとする\n",
        "import person\n",
        "\n",
        "def main():\n",
        "    person.run()\n",
        "\n",
        "# このファイルがスクリプトとして直接実行された時とみ実行する\n",
        "if __name__ == '__main__':\n",
        "    main()"
      ],
      "metadata": {
        "id": "_zgnombZTB1f"
      },
      "execution_count": null,
      "outputs": []
    },
    {
      "cell_type": "code",
      "source": [
        "d = {'key1': 'value1', 'key2': 'value2'}\n",
        "# 辞書型で存在チェック\n",
        "if 'key1' in d: # わざわざd.keys()などしなくて良い\n",
        "    print('exist')"
      ],
      "metadata": {
        "colab": {
          "base_uri": "https://localhost:8080/"
        },
        "id": "sFLfB8euYsBe",
        "outputId": "a476de77-1f3b-4638-99aa-ae25b76ad85f"
      },
      "execution_count": null,
      "outputs": [
        {
          "output_type": "stream",
          "name": "stdout",
          "text": [
            "exist\n"
          ]
        }
      ]
    },
    {
      "cell_type": "code",
      "source": [
        "y = None\n",
        "# yに値があればx=1、値が無ければx=2\n",
        "x = 1 if y else 2\n",
        "x"
      ],
      "metadata": {
        "colab": {
          "base_uri": "https://localhost:8080/"
        },
        "id": "-49DRWxTaYio",
        "outputId": "3e4917e2-0f5c-44c8-9fee-079d6bd4cb9b"
      },
      "execution_count": null,
      "outputs": [
        {
          "output_type": "execute_result",
          "data": {
            "text/plain": [
              "2"
            ]
          },
          "metadata": {},
          "execution_count": 25
        }
      ]
    },
    {
      "cell_type": "code",
      "source": [
        "y = 'test'\n",
        "# yに値があればx=1、値が無ければx=2\n",
        "x = 1 if y else 2\n",
        "x"
      ],
      "metadata": {
        "colab": {
          "base_uri": "https://localhost:8080/"
        },
        "id": "Y1RQIQH5anp6",
        "outputId": "7c10642a-41a8-489d-fe4f-5e7e9bd85520"
      },
      "execution_count": null,
      "outputs": [
        {
          "output_type": "execute_result",
          "data": {
            "text/plain": [
              "1"
            ]
          },
          "metadata": {},
          "execution_count": 26
        }
      ]
    }
  ]
}