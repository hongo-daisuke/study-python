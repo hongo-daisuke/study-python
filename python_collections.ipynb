{
  "nbformat": 4,
  "nbformat_minor": 0,
  "metadata": {
    "colab": {
      "name": "python_collections.ipynb",
      "provenance": [],
      "collapsed_sections": [],
      "authorship_tag": "ABX9TyPK0ZK1jvIDgpwmksHT1GVM",
      "include_colab_link": true
    },
    "kernelspec": {
      "name": "python3",
      "display_name": "Python 3"
    },
    "language_info": {
      "name": "python"
    }
  },
  "cells": [
    {
      "cell_type": "markdown",
      "metadata": {
        "id": "view-in-github",
        "colab_type": "text"
      },
      "source": [
        "<a href=\"https://colab.research.google.com/github/hongo-daisuke/study-python/blob/master/python_collections.ipynb\" target=\"_parent\"><img src=\"https://colab.research.google.com/assets/colab-badge.svg\" alt=\"Open In Colab\"/></a>"
      ]
    },
    {
      "cell_type": "markdown",
      "source": [
        "# コンテナ\n",
        "Python言語で大量のデータを扱う仕組み\n",
        "\n"
      ],
      "metadata": {
        "id": "k0O0Q0OFxMAw"
      }
    },
    {
      "cell_type": "markdown",
      "source": [
        "## リスト (list)\n",
        "*   配列\n",
        "*   複数のデータをまとめて管理\n",
        "*   データの追加・削除・入れ替えなど可能\n",
        "*   添字番号で管理\n",
        "\n",
        "\n",
        "\n"
      ],
      "metadata": {
        "id": "gbfGDRPGxlKK"
      }
    },
    {
      "cell_type": "code",
      "execution_count": 84,
      "metadata": {
        "colab": {
          "base_uri": "https://localhost:8080/"
        },
        "id": "yOlFyLA3w5J1",
        "outputId": "5b039565-964b-4595-c9be-209966d3d042"
      },
      "outputs": [
        {
          "output_type": "stream",
          "name": "stdout",
          "text": [
            "[1, 'Hello', 3, -10, ['good', 1]]\n",
            "a[1] : Hello\n",
            "a[4] : ['good', 1]\n",
            "データ変更前 a[3] : -10\n",
            "データ変更後 a[3] : 11\n",
            "a.append('world') : [1, 'Hello', 3, 11, ['good', 1], 'world']\n",
            "a.insert(1, '1番目に追加されました。') : [1, '1番目に追加されました。', 'Hello', 3, 11, ['good', 1], 'world']\n",
            "a.remove(11) : [1, '1番目に追加されました。', 'Hello', 3, ['good', 1], 'world']\n",
            "a = [] : []\n"
          ]
        }
      ],
      "source": [
        "# 文字列や数値、リストも入れることが可能\n",
        "a = [1, 'Hello', 3, -10, ['good', 1]]\n",
        "print(a)\n",
        "\n",
        "# 添字でアクセス\n",
        "print(f'a[1] : {a[1]}')\n",
        "print(f'a[4] : {a[4]}')\n",
        "\n",
        "# データの変更\n",
        "print(f'データ変更前 a[3] : {a[3]}')\n",
        "a[3] = 11\n",
        "print(f'データ変更後 a[3] : {a[3]}')\n",
        "\n",
        "# 末尾にデータの追加\n",
        "a.append('world')\n",
        "print(f\"a.append('world') : {a}\")\n",
        "\n",
        "# insert(n)でn番目にデータを追加\n",
        "a.insert(1, '1番目に追加されました。')\n",
        "print(f\"a.insert(1, '1番目に追加されました。') : {a}\")\n",
        "\n",
        "# データの削除(同じ値が複数存在する場合は最初の値が消される)\n",
        "a.remove(11)\n",
        "print(f'a.remove(11) : {a}')\n",
        "\n",
        "# データのクリア\n",
        "a = []\n",
        "print(f'a = [] : {a}')"
      ]
    },
    {
      "cell_type": "markdown",
      "source": [
        "## タプル (tuple)\n",
        "*   リストに似た構造\n",
        "*   一度定義した構造は変更出来ない\n",
        "*   変更出来ないがスピード早い\n",
        "\n"
      ],
      "metadata": {
        "id": "i7QoExPKx4M0"
      }
    },
    {
      "cell_type": "code",
      "source": [
        "# 初期化 ()で囲っても良い\n",
        "t = 1, 2, 4, -3, 6\n",
        "print(type(t))\n",
        "\n",
        "# tupleへのアクセス\n",
        "print(t[3])\n",
        "\n",
        "# 値の変更はできない\n",
        "t[3] = 'NG'"
      ],
      "metadata": {
        "colab": {
          "base_uri": "https://localhost:8080/",
          "height": 240
        },
        "id": "fHnPlivyx4mX",
        "outputId": "3b5128b9-61d4-4c17-aa69-2f581de17394"
      },
      "execution_count": 12,
      "outputs": [
        {
          "output_type": "stream",
          "name": "stdout",
          "text": [
            "<class 'tuple'>\n",
            "-3\n"
          ]
        },
        {
          "output_type": "error",
          "ename": "TypeError",
          "evalue": "ignored",
          "traceback": [
            "\u001b[0;31m---------------------------------------------------------------------------\u001b[0m",
            "\u001b[0;31mTypeError\u001b[0m                                 Traceback (most recent call last)",
            "\u001b[0;32m<ipython-input-12-cd4ae0d8c739>\u001b[0m in \u001b[0;36m<module>\u001b[0;34m\u001b[0m\n\u001b[1;32m      7\u001b[0m \u001b[0;34m\u001b[0m\u001b[0m\n\u001b[1;32m      8\u001b[0m \u001b[0;31m# 値の変更はできない\u001b[0m\u001b[0;34m\u001b[0m\u001b[0;34m\u001b[0m\u001b[0;34m\u001b[0m\u001b[0m\n\u001b[0;32m----> 9\u001b[0;31m \u001b[0mt\u001b[0m\u001b[0;34m[\u001b[0m\u001b[0;36m3\u001b[0m\u001b[0;34m]\u001b[0m \u001b[0;34m=\u001b[0m \u001b[0;34m'NG'\u001b[0m\u001b[0;34m\u001b[0m\u001b[0;34m\u001b[0m\u001b[0m\n\u001b[0m",
            "\u001b[0;31mTypeError\u001b[0m: 'tuple' object does not support item assignment"
          ]
        }
      ]
    },
    {
      "cell_type": "markdown",
      "source": [
        "## 集合 (set)\n",
        "*   セット(set)とも言う\n",
        "*   重複を許さないデータ構造\n",
        "*   データを一意に管理\n",
        "*   集合演算が出来る\n",
        "\n",
        "\n",
        "\n",
        "\n",
        "\n"
      ],
      "metadata": {
        "id": "Z0bL51Jqx4t9"
      }
    },
    {
      "cell_type": "code",
      "source": [
        "# {}の間に複数の要素を , で区切る\n",
        "s = {'number', 1, 3, 6, -5, 4, -2}\n",
        "print(type(s))\n",
        "\n",
        "# 重複は削除される\n",
        "s2 = {1, 1, 1, 2, 2, 3}\n",
        "print(s2)\n",
        "\n",
        "# データの追加\n",
        "s.add('追加')\n",
        "print(s2)\n",
        "\n",
        "# データの削除\n",
        "s.remove('number')\n",
        "print(s)\n",
        "\n",
        "# 空データの作成、データのクリア\n",
        "s = set() # 空データの作成\n",
        "s.clear() # データのクリア"
      ],
      "metadata": {
        "colab": {
          "base_uri": "https://localhost:8080/"
        },
        "id": "82MTIJLLx41E",
        "outputId": "b978343a-7bf9-4ff4-a696-44a7aacf8245"
      },
      "execution_count": 18,
      "outputs": [
        {
          "output_type": "stream",
          "name": "stdout",
          "text": [
            "<class 'set'>\n",
            "{1, 2, 3}\n",
            "{1, 2, 3}\n",
            "{1, 3, 4, 6, '追加', -5, -2}\n"
          ]
        }
      ]
    },
    {
      "cell_type": "markdown",
      "source": [
        "### 集合演算子\n",
        "*   和集合 (|) ... 複数の集合のどちらか一方に属する要素\n",
        "*   積集合 (&) ... 複数の集合に共通する要素\n",
        "*   差集合 (-) ... 集合から別の集合に属する要素を取ったもの\n",
        "*   対称差 (^) ... 和集合から積集合を取り除いたもの\n",
        "\n"
      ],
      "metadata": {
        "id": "7PY0BK6H4rk5"
      }
    },
    {
      "cell_type": "code",
      "source": [
        "# 集合演算\n",
        "s1 = {'バスケ', 'サッカー', '陸上', 'バレー', 'アメフト'}\n",
        "s2 = {'水泳', 'バスケ', 'サッカー', '陸上', 'バレー', 'テニス'}\n",
        "\n",
        "# 和集合\n",
        "print('和集合:', s1 | s2)\n",
        "\n",
        "# 積集合\n",
        "print('積集合:', s1 & s2)\n",
        "\n",
        "# 差集合\n",
        "print('差集合 s1 - s2:', s1 - s2)\n",
        "print('差集合 s2 - s1:', s2 - s1)\n",
        "\n",
        "# 対称差\n",
        "print('対称差:', s1 ^ s2)"
      ],
      "metadata": {
        "colab": {
          "base_uri": "https://localhost:8080/"
        },
        "id": "vxgEZAyE4qDv",
        "outputId": "dc8f7c6a-45c0-4862-9062-980905ef079b"
      },
      "execution_count": 23,
      "outputs": [
        {
          "output_type": "stream",
          "name": "stdout",
          "text": [
            "和集合: {'サッカー', '陸上', 'アメフト', '水泳', 'バスケ', 'テニス', 'バレー'}\n",
            "積集合: {'陸上', 'バレー', 'バスケ', 'サッカー'}\n",
            "差集合 s1 - s2: {'アメフト'}\n",
            "差集合 s2 - s1: {'水泳', 'テニス'}\n",
            "対称差: {'水泳', 'テニス', 'アメフト'}\n"
          ]
        }
      ]
    },
    {
      "cell_type": "markdown",
      "source": [
        "## 辞書 (dict)\n",
        "*   データをkeyとvalueの組み合わせで管理\n",
        "*   key及びvalueのデータタイプは自由に定義可能\n",
        "\n",
        "\n"
      ],
      "metadata": {
        "id": "WaPQty5hx4-S"
      }
    },
    {
      "cell_type": "code",
      "source": [
        "# 辞書の作成\n",
        "d = {'name': 'michael', 'favoriteSport': 'basketball', 'number':23}\n",
        "\n",
        "# 辞書のアクセス\n",
        "print(\"d['name'] : \", d['name'])\n",
        "print(\"d['favoriteSport'] : \", d['favoriteSport'])\n",
        "print(\"d['number'] : \", d['number'])\n",
        "\n",
        "# 要素の追加\n",
        "d['team'] = 'bulls'\n",
        "print(\"d['team'] : \", d['team'])\n",
        "\n",
        "# 特定のキーを削除\n",
        "d['del'] = 'del'\n",
        "print('削除前: ', d)\n",
        "del d['del']\n",
        "print('削除後: ', d)\n",
        "\n",
        "# 全てのデータを削除\n",
        "d.clear()\n",
        "print(d)"
      ],
      "metadata": {
        "colab": {
          "base_uri": "https://localhost:8080/"
        },
        "id": "2JFJMhwQx5Fv",
        "outputId": "8b30772f-08f9-4d3b-d567-14cf2705b8c6"
      },
      "execution_count": 32,
      "outputs": [
        {
          "output_type": "stream",
          "name": "stdout",
          "text": [
            "d['name'] :  michael\n",
            "d['favoriteSport'] :  basketball\n",
            "d['number'] :  23\n",
            "d['team'] :  bulls\n",
            "削除前:  {'name': 'michael', 'favoriteSport': 'basketball', 'number': 23, 'team': 'bulls', 'del': 'del'}\n",
            "削除後:  {'name': 'michael', 'favoriteSport': 'basketball', 'number': 23, 'team': 'bulls'}\n",
            "{}\n"
          ]
        }
      ]
    },
    {
      "cell_type": "markdown",
      "source": [
        "## データ構造とfor文\n",
        "データ構造にアクセスする場合によく使用する"
      ],
      "metadata": {
        "id": "8m7CUrmJ86Fg"
      }
    },
    {
      "cell_type": "markdown",
      "source": [
        "### リストとfor文"
      ],
      "metadata": {
        "id": "vm5LKwcPAZKE"
      }
    },
    {
      "cell_type": "code",
      "source": [
        "numbers = [0, 2, 4, 5, 3, 1]\n",
        "for i in numbers:\n",
        "    print(i)"
      ],
      "metadata": {
        "colab": {
          "base_uri": "https://localhost:8080/"
        },
        "id": "YQlkVJXv9Bu8",
        "outputId": "15f6e8a9-dce6-47d2-cdcf-459bd24e29e9"
      },
      "execution_count": 71,
      "outputs": [
        {
          "output_type": "stream",
          "name": "stdout",
          "text": [
            "0\n",
            "2\n",
            "4\n",
            "5\n",
            "3\n",
            "1\n"
          ]
        }
      ]
    },
    {
      "cell_type": "markdown",
      "source": [
        "### タプルとfor文"
      ],
      "metadata": {
        "id": "rHFataKZAb4I"
      }
    },
    {
      "cell_type": "code",
      "source": [
        "numbers = 0, 2, 4, 5, 3, 1\n",
        "for i in numbers:\n",
        "    print(i)"
      ],
      "metadata": {
        "colab": {
          "base_uri": "https://localhost:8080/"
        },
        "id": "h6R620mn9f4T",
        "outputId": "8adf9eef-7350-42ca-e36b-8485baa88a25"
      },
      "execution_count": 70,
      "outputs": [
        {
          "output_type": "stream",
          "name": "stdout",
          "text": [
            "0\n",
            "2\n",
            "4\n",
            "5\n",
            "3\n",
            "1\n"
          ]
        }
      ]
    },
    {
      "cell_type": "markdown",
      "source": [
        "### 集合とfor文"
      ],
      "metadata": {
        "id": "Y-LgNvHRAga9"
      }
    },
    {
      "cell_type": "code",
      "source": [
        "numbers = {0, 2, 4, 5, 3, 1}\n",
        "for i in numbers:\n",
        "    # リストやタプルと違い出力の順番は保証されていない\n",
        "    print(i)"
      ],
      "metadata": {
        "colab": {
          "base_uri": "https://localhost:8080/"
        },
        "id": "SFvuc-Bw9mnu",
        "outputId": "9cb10ce9-39de-45d5-c151-923270809c92"
      },
      "execution_count": 72,
      "outputs": [
        {
          "output_type": "stream",
          "name": "stdout",
          "text": [
            "0\n",
            "1\n",
            "2\n",
            "3\n",
            "4\n",
            "5\n"
          ]
        }
      ]
    },
    {
      "cell_type": "markdown",
      "source": [
        "### 辞書とfor文1 keyとvalueを取得"
      ],
      "metadata": {
        "id": "x-1C0dJzAkDt"
      }
    },
    {
      "cell_type": "code",
      "source": [
        "prayer = {'name': 'michael', 'favoriteSport': 'basketball', 'number':23}\n",
        "for key, value in prayer.items():\n",
        "    print('key : ', key)\n",
        "    print('value : ', value)"
      ],
      "metadata": {
        "colab": {
          "base_uri": "https://localhost:8080/"
        },
        "id": "iZmlP1039mwJ",
        "outputId": "b853125f-4a80-4492-a20b-1c2f1c892743"
      },
      "execution_count": 55,
      "outputs": [
        {
          "output_type": "stream",
          "name": "stdout",
          "text": [
            "key :  name\n",
            "value :  michael\n",
            "key :  favoriteSport\n",
            "value :  basketball\n",
            "key :  number\n",
            "value :  23\n"
          ]
        }
      ]
    },
    {
      "cell_type": "markdown",
      "source": [
        "### 辞書とfor文2 keyのみ取得1"
      ],
      "metadata": {
        "id": "j2LtaB6BAmw_"
      }
    },
    {
      "cell_type": "code",
      "source": [
        "for key in prayer:\n",
        "    print('key : ', key)"
      ],
      "metadata": {
        "colab": {
          "base_uri": "https://localhost:8080/"
        },
        "id": "FKjMv-WR-teg",
        "outputId": "8a0adf56-ce13-418c-a7b8-0b63f8742ebb"
      },
      "execution_count": 66,
      "outputs": [
        {
          "output_type": "stream",
          "name": "stdout",
          "text": [
            "key :  name\n",
            "key :  favoriteSport\n",
            "key :  number\n"
          ]
        }
      ]
    },
    {
      "cell_type": "markdown",
      "source": [
        "### 辞書とfor文3 keyのみ取得2"
      ],
      "metadata": {
        "id": "qhxcIkoTAqpP"
      }
    },
    {
      "cell_type": "code",
      "source": [
        "for key in prayer.keys():\n",
        "    print('key : ', key)"
      ],
      "metadata": {
        "colab": {
          "base_uri": "https://localhost:8080/"
        },
        "id": "fNqJZ2wPArAP",
        "outputId": "6d1862b3-c353-421e-fa6f-8ed4d96bc498"
      },
      "execution_count": 67,
      "outputs": [
        {
          "output_type": "stream",
          "name": "stdout",
          "text": [
            "key :  name\n",
            "key :  favoriteSport\n",
            "key :  number\n"
          ]
        }
      ]
    },
    {
      "cell_type": "markdown",
      "source": [
        "### 辞書とfor文3 valuesのみ取得"
      ],
      "metadata": {
        "id": "3H5oNwVTAyU4"
      }
    },
    {
      "cell_type": "code",
      "source": [
        "for value in prayer.values():\n",
        "    print('value : ', value)"
      ],
      "metadata": {
        "colab": {
          "base_uri": "https://localhost:8080/"
        },
        "id": "WyO5FdX5-tk5",
        "outputId": "c47899be-c479-4d86-d4d9-972f0ddacebe"
      },
      "execution_count": 68,
      "outputs": [
        {
          "output_type": "stream",
          "name": "stdout",
          "text": [
            "value :  michael\n",
            "value :  basketball\n",
            "value :  23\n"
          ]
        }
      ]
    },
    {
      "cell_type": "markdown",
      "source": [
        "## コンテナと関数"
      ],
      "metadata": {
        "id": "LrNi1k1h_irX"
      }
    },
    {
      "cell_type": "markdown",
      "source": [
        "### min()\n",
        "リスト・タプル・集合の中の最小値を求める"
      ],
      "metadata": {
        "id": "Bn81Tuax_rTe"
      }
    },
    {
      "cell_type": "code",
      "source": [
        "data = [1, 2, 8, 9]\n",
        "print(min(data))"
      ],
      "metadata": {
        "colab": {
          "base_uri": "https://localhost:8080/"
        },
        "id": "MYIOxL0-_rIg",
        "outputId": "2a64088f-cc9d-4e9e-ad5c-977c79bc3c58"
      },
      "execution_count": 64,
      "outputs": [
        {
          "output_type": "stream",
          "name": "stdout",
          "text": [
            "1\n"
          ]
        }
      ]
    },
    {
      "cell_type": "markdown",
      "source": [
        "### max()\n",
        "リスト・タプル・集合の中の最大値を求める"
      ],
      "metadata": {
        "id": "k31ZiTLR_rAe"
      }
    },
    {
      "cell_type": "code",
      "source": [
        "data = [1, 2, 8, 9]\n",
        "print(max(data))"
      ],
      "metadata": {
        "colab": {
          "base_uri": "https://localhost:8080/"
        },
        "id": "A6_LhSjO_q5K",
        "outputId": "6a9f21ff-ab27-4a06-d321-2cbdcbd5bf80"
      },
      "execution_count": 63,
      "outputs": [
        {
          "output_type": "stream",
          "name": "stdout",
          "text": [
            "9\n"
          ]
        }
      ]
    },
    {
      "cell_type": "markdown",
      "source": [
        "### sum()\n",
        "リスト・タプル・集合の中の合計値を求める"
      ],
      "metadata": {
        "id": "BtFq6u04_qog"
      }
    },
    {
      "cell_type": "code",
      "source": [
        "data = [1, 2, 8, 9]\n",
        "print(sum(data))"
      ],
      "metadata": {
        "colab": {
          "base_uri": "https://localhost:8080/"
        },
        "id": "wRLC0ub0_uks",
        "outputId": "757371d1-5c62-4fc7-dc9c-2693f399e462"
      },
      "execution_count": 65,
      "outputs": [
        {
          "output_type": "stream",
          "name": "stdout",
          "text": [
            "20\n"
          ]
        }
      ]
    },
    {
      "cell_type": "markdown",
      "source": [
        "### enumerate()\n",
        "要素のインデックスと要素を同時に取り出す"
      ],
      "metadata": {
        "id": "LaO42pDhAWbC"
      }
    },
    {
      "cell_type": "code",
      "source": [
        "allstars = ['michael', 'lebron', 'duncan', 'curry', 'olajuwon']\n",
        "for num, value in enumerate(allstars):\n",
        "    print(f'num {num} : {value}')"
      ],
      "metadata": {
        "colab": {
          "base_uri": "https://localhost:8080/"
        },
        "id": "PfeUxWQZAWj9",
        "outputId": "f6e462e4-7b86-4daa-d360-b56e4b34e72d"
      },
      "execution_count": 89,
      "outputs": [
        {
          "output_type": "stream",
          "name": "stdout",
          "text": [
            "num 0 : michael\n",
            "num 1 : lebron\n",
            "num 2 : duncan\n",
            "num 3 : curry\n",
            "num 4 : olajuwon\n"
          ]
        }
      ]
    },
    {
      "cell_type": "markdown",
      "source": [
        "### zip()\n",
        "複数のデータを配列にして処理"
      ],
      "metadata": {
        "id": "vgLL-FgZAWtE"
      }
    },
    {
      "cell_type": "code",
      "source": [
        "allstars = ['Jordan', 'lebron', 'duncan', 'curry', 'olajuwon']\n",
        "teams = ['bulls', 'lakers', 'spurs', 'warriors', 'rockets']\n",
        "for allstar, team in zip(allstars, teams):\n",
        "    print(f'team : {team} , name : {allstar}')"
      ],
      "metadata": {
        "colab": {
          "base_uri": "https://localhost:8080/"
        },
        "id": "rEf_96BSAW0B",
        "outputId": "64f78276-b6c0-4058-b41b-c39342ec88c3"
      },
      "execution_count": 88,
      "outputs": [
        {
          "output_type": "stream",
          "name": "stdout",
          "text": [
            "team : bulls , name : Jordan\n",
            "team : lakers , name : lebron\n",
            "team : spurs , name : duncan\n",
            "team : warriors , name : curry\n",
            "team : rockets , name : olajuwon\n"
          ]
        }
      ]
    },
    {
      "cell_type": "markdown",
      "source": [
        "### reversed()\n",
        "データを逆順で処理"
      ],
      "metadata": {
        "id": "UzqKZ7ZXAW64"
      }
    },
    {
      "cell_type": "code",
      "source": [
        "allstars = ['Jordan', 'lebron', 'duncan', 'curry', 'olajuwon']\n",
        "for value in reversed(allstars):\n",
        "    print(value)"
      ],
      "metadata": {
        "colab": {
          "base_uri": "https://localhost:8080/"
        },
        "id": "q6pcUdO7AXCu",
        "outputId": "79ed6e4b-b8be-4cc0-8858-1ffa182be60f"
      },
      "execution_count": 90,
      "outputs": [
        {
          "output_type": "stream",
          "name": "stdout",
          "text": [
            "olajuwon\n",
            "curry\n",
            "duncan\n",
            "lebron\n",
            "Jordan\n"
          ]
        }
      ]
    },
    {
      "cell_type": "markdown",
      "source": [
        "## ミュータブルとイミュータブル\n",
        "ミュータブル ... 書き換え可能\n",
        "*   list\n",
        "*   dict\n",
        "*   set\n",
        "など\n",
        "\n",
        "イミュータブル ... 書き換え不可能\n",
        "*   str\n",
        "*   int / float\n",
        "*   tuple\n",
        "など\n",
        "\n",
        "\n",
        "### ミュータブルとイミュータブルの区別\n",
        "イミュータブル\n",
        "*   文字列や数値の様なサイズが小さいものは書き換えやコピーが無駄にならない\n",
        "\n",
        "ミュータブル\n",
        "*   サイズが大きくなる可能性があり、メモリが足りなくなる可能性がある"
      ],
      "metadata": {
        "id": "DvdaMYVoExq9"
      }
    },
    {
      "cell_type": "code",
      "source": [
        "# イミュータブルなオブジェクト\n",
        "n = 2\n",
        "print(f'計算実行前 id={id(n)}')\n",
        "\n",
        "# 実行結果は5だが元のn=2とは別のオブジェクトになっている\n",
        "n = n + 3\n",
        "print(f'計算実行後 id={id(n)}')\n",
        "\n",
        "# 同じ値の場合は同一オブジェクトのため、最初と同じidになる\n",
        "n = n - 3\n",
        "print(f'計算実行後 id={id(n)}')"
      ],
      "metadata": {
        "colab": {
          "base_uri": "https://localhost:8080/"
        },
        "id": "-23VupMUFxZa",
        "outputId": "836839a6-104e-40ec-e6fe-bb01539aa58a"
      },
      "execution_count": 110,
      "outputs": [
        {
          "output_type": "stream",
          "name": "stdout",
          "text": [
            "計算実行前 id=11256096\n",
            "計算実行後 id=11256192\n",
            "計算実行後 id=11256096\n"
          ]
        }
      ]
    },
    {
      "cell_type": "code",
      "source": [
        "# ミュータブルなオブジェクト\n",
        "l = [1, 2, 3]\n",
        "print(f'id={id(l)}')\n",
        "\n",
        "# リストの中身を削除\n",
        "del l[1]\n",
        "print(f'id={id(l)}')\n",
        "\n",
        "# リストを追加\n",
        "l.append(4)\n",
        "print(f'id={id(l)}')"
      ],
      "metadata": {
        "colab": {
          "base_uri": "https://localhost:8080/"
        },
        "id": "9HmOkaiSOSt6",
        "outputId": "98f3a8d2-366b-4a71-ef94-2c5e9da99a56"
      },
      "execution_count": 116,
      "outputs": [
        {
          "output_type": "stream",
          "name": "stdout",
          "text": [
            "id=140167019417840\n",
            "id=140167019417840\n",
            "id=140167019417840\n"
          ]
        }
      ]
    },
    {
      "cell_type": "markdown",
      "source": [
        "## 値渡しと参照渡し\n",
        "\n",
        "```\n",
        "値渡し ... 変数に値を直接代入する\n",
        "•ミュータブルなオブジェクト\n",
        "\n",
        "参照渡し .. メモリ上の場所を代入する\n",
        "•イミュータブルなオブジェクト\n",
        "```\n",
        "\n"
      ],
      "metadata": {
        "id": "EkHylUlrG9Rr"
      }
    },
    {
      "cell_type": "code",
      "source": [
        "# 値渡し 数値\n",
        "a = 100\n",
        "b = a\n",
        "a = 1\n",
        "print(f'aの値 : {a}')\n",
        "print(f'bの値 : {b}')\n",
        "\n",
        "# aに1を代入した時点で新しいオブジェクトになっているためbは変わらない"
      ],
      "metadata": {
        "colab": {
          "base_uri": "https://localhost:8080/"
        },
        "id": "GxEk16ccJHX1",
        "outputId": "778f9674-db58-41bf-9f81-8c337ec3b6d2"
      },
      "execution_count": 95,
      "outputs": [
        {
          "output_type": "stream",
          "name": "stdout",
          "text": [
            "aの値 : 1\n",
            "bの値 : 100\n"
          ]
        }
      ]
    },
    {
      "cell_type": "code",
      "source": [
        "# 値渡し 文字列\n",
        "a = 'Hello'\n",
        "b = a\n",
        "a = 'World'\n",
        "print(f'aの値 : {a}')\n",
        "print(f'bの値 : {b}')\n",
        "\n",
        "# aに'World'を代入した時点で新しいオブジェクトになっているためbは変わらない"
      ],
      "metadata": {
        "colab": {
          "base_uri": "https://localhost:8080/"
        },
        "id": "F7FZR9x5JbVo",
        "outputId": "7c0e9dd4-ea9c-4b9a-ae7e-476deb6d4017"
      },
      "execution_count": 96,
      "outputs": [
        {
          "output_type": "stream",
          "name": "stdout",
          "text": [
            "aの値 : World\n",
            "bの値 : Hello\n"
          ]
        }
      ]
    },
    {
      "cell_type": "code",
      "source": [
        "# 参照渡し\n",
        "a = [5, 6, 7, 8, 9]\n",
        "b = a\n",
        "a[0] = 1\n",
        "print(f'aの値 : {a}')\n",
        "print(f'bの値 : {b}') # aの0番目を変更したのにbも変化している\n",
        "# aとbは同じオブジェクトを参照しているためである"
      ],
      "metadata": {
        "colab": {
          "base_uri": "https://localhost:8080/"
        },
        "id": "iLGksEMvJlrJ",
        "outputId": "f17e7fc2-b89a-47f8-dc85-6c0ab78b378d"
      },
      "execution_count": 97,
      "outputs": [
        {
          "output_type": "stream",
          "name": "stdout",
          "text": [
            "aの値 : [1, 6, 7, 8, 9]\n",
            "bの値 : [1, 6, 7, 8, 9]\n"
          ]
        }
      ]
    },
    {
      "cell_type": "markdown",
      "source": [
        "## コンテナのコピー\n",
        "イミュータブルなオブジェクトを同じものを作成するにはコピーが必要\n",
        "*   シャローコピー\n",
        "*   ディープコピー\n",
        "\n"
      ],
      "metadata": {
        "id": "CARPSWt-LMY3"
      }
    },
    {
      "cell_type": "code",
      "source": [
        "# シャローコピー\n",
        "import copy\n",
        "a = [[1, 2], [3, 4]]\n",
        "b = copy.copy(a)\n",
        "# aとbで異なるリストではあるが見ているオブジェクトは同じ\n",
        "print(f'b : {b}')\n",
        "\n",
        "# 見ているオブジェクトが同一のためaの値を変えるとbも変わる\n",
        "a[0][0] = 100\n",
        "print(f'a : {a}')\n",
        "print(f'b : {b}')"
      ],
      "metadata": {
        "colab": {
          "base_uri": "https://localhost:8080/"
        },
        "id": "HXk2tMPaLz7a",
        "outputId": "7fb20a30-98de-4d9c-8ab2-2efff28a9640"
      },
      "execution_count": 108,
      "outputs": [
        {
          "output_type": "stream",
          "name": "stdout",
          "text": [
            "b : [[1, 2], [3, 4]]\n",
            "a : [[100, 2], [3, 4]]\n",
            "b : [[100, 2], [3, 4]]\n"
          ]
        }
      ]
    },
    {
      "cell_type": "code",
      "source": [
        "# ディープコピー\n",
        "import copy\n",
        "a = [[1, 2], [3, 4]]\n",
        "b = copy.deepcopy(a)\n",
        "# 同じ要素の新しいオブジェクトが生成される\n",
        "print(f'b : {b}')\n",
        "\n",
        "# オブジェクトが異なるため、bの値は上書きされない\n",
        "a[0][0] = 100\n",
        "print(f'a : {a}')\n",
        "print(f'b : {b}')"
      ],
      "metadata": {
        "colab": {
          "base_uri": "https://localhost:8080/"
        },
        "id": "tqSQe6o6MdWT",
        "outputId": "ba549bff-5e88-40a6-bb70-fcf1427d04ba"
      },
      "execution_count": 109,
      "outputs": [
        {
          "output_type": "stream",
          "name": "stdout",
          "text": [
            "b : [[1, 2], [3, 4]]\n",
            "a : [[100, 2], [3, 4]]\n",
            "b : [[1, 2], [3, 4]]\n"
          ]
        }
      ]
    }
  ]
}