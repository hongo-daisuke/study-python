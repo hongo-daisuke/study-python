{
  "nbformat": 4,
  "nbformat_minor": 0,
  "metadata": {
    "colab": {
      "provenance": [],
      "collapsed_sections": [],
      "authorship_tag": "ABX9TyNDYW1AyJX74d5/S2tRCQ3T",
      "include_colab_link": true
    },
    "kernelspec": {
      "name": "python3",
      "display_name": "Python 3"
    },
    "language_info": {
      "name": "python"
    }
  },
  "cells": [
    {
      "cell_type": "markdown",
      "metadata": {
        "id": "view-in-github",
        "colab_type": "text"
      },
      "source": [
        "<a href=\"https://colab.research.google.com/github/hongo-daisuke/study-python/blob/master/python_database.ipynb\" target=\"_parent\"><img src=\"https://colab.research.google.com/assets/colab-badge.svg\" alt=\"Open In Colab\"/></a>"
      ]
    },
    {
      "cell_type": "markdown",
      "source": [
        "# データーベース"
      ],
      "metadata": {
        "id": "QH5tFOGDb7zj"
      }
    },
    {
      "cell_type": "markdown",
      "source": [
        "## リレーショナルデータベース\n",
        "### SQL文で様々なことが可能\n",
        "\n",
        "*   SQLite\n",
        "*   MySQL\n",
        "\n"
      ],
      "metadata": {
        "id": "ObnQbzYGcyaq"
      }
    },
    {
      "cell_type": "markdown",
      "source": [
        "### SQLite\n",
        "`brew install sqlite3`\n",
        "\n",
        "\n",
        "```\n",
        "# コンソール上でのsqliteへのアクセス\n",
        "sqlite3 DB名.db\n",
        "\n",
        "# テーブルの一覧確認\n",
        ".tables\n",
        "```\n",
        "\n"
      ],
      "metadata": {
        "id": "Vom9VECIcC7E"
      }
    },
    {
      "cell_type": "code",
      "source": [
        "import sqlite3\n",
        "\n",
        "conn = sqlite3.connect('test.db')\n",
        "\n",
        "# 何度もSQLを実行したい場合は下記の通りに記述する\n",
        "# conn = sqlite3.connect(':memory:')\n",
        "\n",
        "# sqliteを操作するカーソルを準備\n",
        "curs = conn.cursor()"
      ],
      "metadata": {
        "id": "zIZFS_Amm_PX"
      },
      "execution_count": 25,
      "outputs": []
    },
    {
      "cell_type": "code",
      "execution_count": 17,
      "metadata": {
        "id": "unhBm_eNb3N4"
      },
      "outputs": [],
      "source": [
        "# テーブルの作成\n",
        "curs.execute(\n",
        "    'CREATE TABLE persons(id INTEGER PRIMARY KEY AUTOINCREMENT, name STRING)'\n",
        "    )\n",
        "\n",
        "# コミットでDBに反映\n",
        "conn.commit()"
      ]
    },
    {
      "cell_type": "code",
      "source": [
        "# データをInsertする\n",
        "curs.execute(\n",
        "    \"INSERT INTO persons(name) values('John')\"\n",
        "    )\n",
        "\n",
        "# コミットでDBに反映\n",
        "conn.commit()"
      ],
      "metadata": {
        "id": "TRjgDEZVm1_B"
      },
      "execution_count": 18,
      "outputs": []
    },
    {
      "cell_type": "code",
      "source": [
        "# データをInsertする\n",
        "curs.execute(\n",
        "    \"INSERT INTO persons(name) values('Bob')\"\n",
        "    )\n",
        "curs.execute(\n",
        "    \"INSERT INTO persons(name) values('James')\"\n",
        "    )\n",
        "\n",
        "# コミットでDBに反映\n",
        "conn.commit()"
      ],
      "metadata": {
        "id": "5WEY8WCypP62"
      },
      "execution_count": 19,
      "outputs": []
    },
    {
      "cell_type": "code",
      "source": [
        "# データの検索\n",
        "curs.execute(\n",
        "    'SELECT * FROM persons'\n",
        "    )\n",
        "r = curs.fetchall()\n",
        "\n",
        "print(r)"
      ],
      "metadata": {
        "colab": {
          "base_uri": "https://localhost:8080/"
        },
        "id": "SJ7LV4Hpm2HH",
        "outputId": "4b0217b4-de27-4fa4-ea73-5a907046b262"
      },
      "execution_count": 20,
      "outputs": [
        {
          "output_type": "stream",
          "name": "stdout",
          "text": [
            "[(1, 'John'), (2, 'Bob'), (3, 'James')]\n"
          ]
        }
      ]
    },
    {
      "cell_type": "code",
      "source": [
        "# データの更新\n",
        "# JohnをMichaelに更新\n",
        "curs.execute(\n",
        "    \"UPDATE persons SET name = 'Michael' WHERE name = 'John'\"\n",
        "    )\n",
        "\n",
        "# コミットでDBに反映\n",
        "conn.commit()\n",
        "\n",
        "# データの検索\n",
        "curs.execute(\n",
        "    'SELECT * FROM persons'\n",
        "    )\n",
        "r = curs.fetchall()\n",
        "\n",
        "print(r)"
      ],
      "metadata": {
        "colab": {
          "base_uri": "https://localhost:8080/"
        },
        "id": "6nP939OlocXC",
        "outputId": "8b865b01-3dc5-4888-9288-de0a15f75c9f"
      },
      "execution_count": 22,
      "outputs": [
        {
          "output_type": "stream",
          "name": "stdout",
          "text": [
            "[(1, 'Michael'), (2, 'Bob'), (3, 'James')]\n"
          ]
        }
      ]
    },
    {
      "cell_type": "code",
      "source": [
        "# データの削除\n",
        "curs.execute(\n",
        "    \"DELETE FROM persons WHERE name = 'Bob'\"\n",
        "    )\n",
        "\n",
        "# コミットでDBに反映\n",
        "conn.commit()\n",
        "\n",
        "# データの検索\n",
        "curs.execute(\n",
        "    'SELECT * FROM persons'\n",
        "    )\n",
        "r = curs.fetchall()\n",
        "\n",
        "print(r)"
      ],
      "metadata": {
        "colab": {
          "base_uri": "https://localhost:8080/"
        },
        "id": "4EE4OBZ4pk-u",
        "outputId": "0cb83648-5922-4572-8e33-d2153b4fdcc2"
      },
      "execution_count": 23,
      "outputs": [
        {
          "output_type": "stream",
          "name": "stdout",
          "text": [
            "[(1, 'Michael'), (3, 'James')]\n"
          ]
        }
      ]
    },
    {
      "cell_type": "code",
      "source": [
        "# カーソルもクローズする\n",
        "curs.close()\n",
        "\n",
        "# sqliteへのコネクションをクローズする\n",
        "conn.close()"
      ],
      "metadata": {
        "id": "tLOCdHSKm2N3"
      },
      "execution_count": 24,
      "outputs": []
    },
    {
      "cell_type": "markdown",
      "source": [
        "### MySQL\n",
        "\n",
        "```\n",
        "# MacへのMysqlインストール\n",
        "brew install mysql\n",
        "\n",
        "# ドライバインストール\n",
        "pip3 install mysql-connector-python\n",
        "\n",
        "# 起動\n",
        "brew services start mysql\n",
        "\n",
        "# 停止\n",
        "brew services stop mysql\n",
        "```\n",
        "\n"
      ],
      "metadata": {
        "id": "TN3DsyDDcLyI"
      }
    },
    {
      "cell_type": "code",
      "source": [
        "import mysql.connector\n",
        "\n",
        "# Mysqlに接続\n",
        "#conn = mysql.connector.connect(host='127.0.0.1', user='root')\n",
        "\n",
        "# 接続するDBを指定する\n",
        "conn = mysql.connector.connect(host='127.0.0.1', user='root', database='test_db')\n",
        "\n",
        "# mysqlを操作するカーソルを準備\n",
        "curs = conn.cursor()\n",
        "\n",
        "# DBの作成\n",
        "curs.execute(\n",
        "    'CREATE DATABASE test_db'\n",
        "    )\n",
        "\n",
        "# テーブルの作成\n",
        "curs.execute(\n",
        "    'CREATE TABLE persons('\n",
        "    'id int NOT NULL AUTO_INCREMENT,'\n",
        "    'name varchar(14) NOT NULL,'\n",
        "    'PRIMARY KEY(id))'\n",
        "    )\n",
        "\n",
        "# コミットでDBに反映\n",
        "conn.commit()\n",
        "\n",
        "# データをInsertする\n",
        "curs.execute(\n",
        "    \"INSERT INTO persons(name) values('John')\"\n",
        "    )\n",
        "\n",
        "# データの検索\n",
        "curs.execute(\n",
        "    'SELECT * FROM persons'\n",
        "    )\n",
        "for row in curs:\n",
        "    print(row)\n",
        "\n",
        "\n",
        "# データの更新\n",
        "curs.execute(\n",
        "    \"UPDATE persons SET name = 'John' WHERE name = 'Mike'\"\n",
        "    )\n",
        "# コミットでDBに反映\n",
        "conn.commit()\n",
        "\n",
        "\n",
        "# データの削除\n",
        "curs.execute(\n",
        "    \"DELETE FROM persons WHERE name = 'Mike'\"\n",
        "    )\n",
        "# コミットでDBに反映\n",
        "conn.commit()\n",
        "\n",
        "\n",
        "# カーソルをクローズする\n",
        "curs.close()\n",
        "\n",
        "# mysqlへのコネクションをクローズする\n",
        "conn.close()"
      ],
      "metadata": {
        "id": "ippNoQgecLJ-"
      },
      "execution_count": null,
      "outputs": []
    },
    {
      "cell_type": "markdown",
      "source": [
        "### SQLAlchemy\n",
        "\n",
        "```\n",
        "pip3 install sqlalchemy\n",
        "pip3 install pymysql\n",
        "```\n",
        "\n"
      ],
      "metadata": {
        "id": "Kc6qS8kgKjs6"
      }
    },
    {
      "cell_type": "markdown",
      "source": [
        "#### sqlalchemy + sqlite"
      ],
      "metadata": {
        "id": "ytm_XKVGR2O0"
      }
    },
    {
      "cell_type": "code",
      "source": [
        "import sqlalchemy\n",
        "import sqlalchemy.ext.declarative\n",
        "import sqlalchemy.orm\n",
        "\n",
        "# echo=Trueを引数に含めるとどのようなSQLを実行したか出力される\n",
        "# engine = sqlalchemy.create_engine('sqlite:///:memory:', echo=True) # メモリー上で実行\n",
        "engine = sqlalchemy.create_engine('sqlite:///test_sqlite.db', echo=True) # SQLiteに書き込む\n",
        "\n",
        "Base = sqlalchemy.ext.declarative.declarative_base()\n",
        "\n",
        "class Person(Base):\n",
        "    __tablename__ = 'persons'\n",
        "    id = sqlalchemy.Column(\n",
        "        sqlalchemy.Integer, primary_key=True, autoincrement=True\n",
        "    )\n",
        "    name = sqlalchemy.Column(\n",
        "        sqlalchemy.String(14)\n",
        "    )\n",
        "\n",
        "# sqlのエンジンにBaseで作ったメタデータ(Personクラス)の型をしたテーブルSQLiteに書き込む\n",
        "Base.metadata.create_all(engine)\n",
        "\n",
        "# データベースにアクセス\n",
        "Session = sqlalchemy.orm.sessionmaker(bind=engine)\n",
        "session = Session()\n",
        "\n",
        "# データの書き込み\n",
        "p1 = Person(name='John')\n",
        "session.add(p1)\n",
        "p2 = Person(name='Bob')\n",
        "session.add(p2)\n",
        "p3 = Person(name='Mary')\n",
        "session.add(p3)\n",
        "session.commit()\n",
        "\n",
        "# 指定してデータの取得\n",
        "p4 = session.query(Person).filter_by(name='Bob').first()\n",
        "# データの更新\n",
        "p4.name = 'James'\n",
        "session.add(p4)\n",
        "session.commit()\n",
        "\n",
        "\n",
        "# 指定してデータの取得\n",
        "p5 = session.query(Person).filter_by(name='John').first()\n",
        "# データの削除\n",
        "p5.name = 'James'\n",
        "session.delete(p5)\n",
        "session.commit()\n",
        "\n",
        "\n",
        "# データの読み込み\n",
        "persons = session.query(Person).all()\n",
        "for person in persons:\n",
        "    print(person.id, person.name)"
      ],
      "metadata": {
        "colab": {
          "base_uri": "https://localhost:8080/"
        },
        "id": "ltZ7n1KALQO-",
        "outputId": "047403fd-4ac7-41f8-c181-c53e58c7e99a"
      },
      "execution_count": 1,
      "outputs": [
        {
          "output_type": "stream",
          "name": "stdout",
          "text": [
            "2 James\n",
            "3 Mary\n"
          ]
        }
      ]
    },
    {
      "cell_type": "markdown",
      "source": [
        "#### sqlalchemy + mysql"
      ],
      "metadata": {
        "id": "pH_ltkbXR43x"
      }
    },
    {
      "cell_type": "code",
      "source": [
        "import sqlalchemy\n",
        "import sqlalchemy.ext.declarative\n",
        "import sqlalchemy.orm\n",
        "\n",
        "# mysqlclientの場合\n",
        "#engine = sqlalchemy.create_engine('mysql://<user>:<password>@<host>[:<port>]/<dbname>')\n",
        "\n",
        "# mysql-connector-pythonの場合\n",
        "#engine = sqlalchemy.create_engine('mysql+mysqlconnector://root:@localhost/test_mysql_sqlalchemy', echo=False)\n",
        "\n",
        "# pymysqlの場合\n",
        "engine = sqlalchemy.create_engine('mysql+pymysql://root:@localhost/test_mysql_sqlalchemy', echo=False)\n",
        "\n",
        "Base = sqlalchemy.ext.declarative.declarative_base()\n",
        "\n",
        "class Person(Base):\n",
        "    __tablename__ = 'persons'\n",
        "    id = sqlalchemy.Column(\n",
        "        sqlalchemy.Integer, primary_key=True, autoincrement=True\n",
        "    )\n",
        "    name = sqlalchemy.Column(\n",
        "        sqlalchemy.String(14)\n",
        "    )\n",
        "\n",
        "# sqlのエンジンにBaseで作ったメタデータ(Personクラス)の型をしたテーブルをMysqlに書き込む\n",
        "Base.metadata.create_all(engine)\n",
        "\n",
        "# データベースにアクセス\n",
        "Session = sqlalchemy.orm.sessionmaker(bind=engine)\n",
        "session = Session()\n",
        "\n",
        "# データの書き込み\n",
        "p1 = Person(name='John')\n",
        "session.add(p1)\n",
        "p2 = Person(name='Bob')\n",
        "session.add(p2)\n",
        "p3 = Person(name='Mary')\n",
        "session.add(p3)\n",
        "session.commit()\n",
        "\n",
        "# 指定してデータの取得\n",
        "p4 = session.query(Person).filter_by(name='Bob').first()\n",
        "# データの更新\n",
        "p4.name = 'James'\n",
        "session.add(p4)\n",
        "session.commit()\n",
        "\n",
        "\n",
        "# 指定してデータの取得\n",
        "p5 = session.query(Person).filter_by(name='John').first()\n",
        "# データの削除\n",
        "p5.name = 'James'\n",
        "session.delete(p5)\n",
        "session.commit()\n",
        "\n",
        "\n",
        "# データの読み込み\n",
        "persons = session.query(Person).all()\n",
        "for person in persons:\n",
        "    print(person.id, person.name)"
      ],
      "metadata": {
        "id": "oecLTRMAR00a"
      },
      "execution_count": null,
      "outputs": []
    },
    {
      "cell_type": "markdown",
      "source": [
        "## NoSQL\n",
        "\n",
        "*   DBM、memcach\n",
        "*   MongoDB\n",
        "*   Hbase\n",
        "*   Neo4j\n",
        "\n"
      ],
      "metadata": {
        "id": "NDVjxNgJc0Zh"
      }
    },
    {
      "cell_type": "markdown",
      "source": [
        "### DBM、memcach\n",
        "キーバーリュー型\n",
        "*   webサイトのデータベースにアクセスする前にメモリ上にデータベースを作成し簡易的に取得し、Webサイトの高速化を行う\n",
        "\n"
      ],
      "metadata": {
        "id": "YlfKu1UFdVLj"
      }
    },
    {
      "cell_type": "markdown",
      "source": [
        "### DBM"
      ],
      "metadata": {
        "id": "ADsV9OANAuZm"
      }
    },
    {
      "cell_type": "code",
      "source": [
        "import dbm\n",
        "\n",
        "# DBファイル作成と書き込み\n",
        "with dbm.open('cache', 'c') as db:\n",
        "    # int型は入れることが出来ないので注意\n",
        "    db['key1'] = 'value1'\n",
        "    db['key2'] = 'value2'"
      ],
      "metadata": {
        "id": "jjKtxRdxdaBJ"
      },
      "execution_count": 1,
      "outputs": []
    },
    {
      "cell_type": "code",
      "source": [
        "# 値の取り出し\n",
        "with dbm.open('cache', 'r') as db:\n",
        "    print(db.get('key2'))"
      ],
      "metadata": {
        "colab": {
          "base_uri": "https://localhost:8080/"
        },
        "id": "uL4LGhbuCGQG",
        "outputId": "e8090967-98c8-4cef-f20e-d4e8f0e54d42"
      },
      "execution_count": 2,
      "outputs": [
        {
          "output_type": "stream",
          "name": "stdout",
          "text": [
            "b'value2'\n"
          ]
        }
      ]
    },
    {
      "cell_type": "markdown",
      "source": [
        "#### memcach\n",
        "データとオブジェクトをメモリー内にキャッシュさせてデータベースへのアクセス回数を減少させ、Webサイトの高速化を行う\n",
        "\n",
        "\n",
        "```\n",
        "brew install memcached\n",
        "\n",
        "pip3 install python-memcached\n",
        "```\n",
        "\n"
      ],
      "metadata": {
        "id": "1w0BdVVrAxPq"
      }
    },
    {
      "cell_type": "code",
      "source": [
        "import memcache\n",
        "\n",
        "# memcacheのクライアントを作成\n",
        "db = memcache.Client(['127.0.0.1:11211'])\n",
        "\n",
        "# 値のセット\n",
        "db.set('web_page', 'value1')\n",
        "\n",
        "# 値の保持時間を秒単位で設定可能\n",
        "db.set('web_page', 'value1', time=2)\n",
        "\n",
        "# 値の取得\n",
        "r = db.get('web_page')\n",
        "print(r)\n",
        "\n",
        "# カウンター\n",
        "db.set('count', 0)\n",
        "db.incr('count', 1)\n",
        "db.incr('count', 1)\n",
        "db.incr('count', 1)\n",
        "r = db.get('count')\n",
        "print(r)"
      ],
      "metadata": {
        "id": "oOft-A0GAzmT"
      },
      "execution_count": null,
      "outputs": []
    },
    {
      "cell_type": "markdown",
      "source": [
        "#### memcache + sqlite"
      ],
      "metadata": {
        "id": "A7v9jWEoGL1H"
      }
    },
    {
      "cell_type": "code",
      "source": [
        "import sqlite3\n",
        "import memcache\n",
        "import pathlib\n",
        "import os\n",
        "\n",
        "\n",
        "def setting(conn):\n",
        "\n",
        "    # テーブルの作成\n",
        "    curs.execute(\n",
        "        'CREATE TABLE persons(employ_id INTEGER PRIMARY KEY AUTOINCREMENT, name STRING)'\n",
        "        )\n",
        "\n",
        "    # データをInsertする\n",
        "    curs.execute(\n",
        "        \"INSERT INTO persons(name) values('James')\"\n",
        "        )\n",
        "\n",
        "    # コミットでDBに反映\n",
        "    conn.commit()\n",
        "    \n",
        "    pathlib.Path('check.txt').touch()\n",
        "\n",
        "\n",
        "def get_employ_id(name):\n",
        "    # memcacheよりemploy_idを取得\n",
        "    employ_id = db.get(name)\n",
        "    \n",
        "    # employ_idが取得出来た場合はそのまま返却\n",
        "    if employ_id:\n",
        "        return employ_id\n",
        "      \n",
        "    # memcacheに存在しない場合、sqliteから取得\n",
        "    curs.execute(\n",
        "        \"SELECT * FROM persons WHERE name = '{}'\".format(name)\n",
        "        )\n",
        "    \n",
        "    # fetchone()で1件取得\n",
        "    person = curs.fetchone()\n",
        "    \n",
        "    # 取得出来なかった場合はエラー\n",
        "    if not person:\n",
        "      raise Exception('No employ')\n",
        "    \n",
        "    # タプルで取得されるので格変数に代入\n",
        "    employ_id, name = person\n",
        "    \n",
        "    # memcacheに値をセットする\n",
        "    db.set(name, employ_id, time=120)\n",
        "    return employ_id\n",
        "\n",
        "\n",
        "# memcacheのクライアントを作成\n",
        "db = memcache.Client(['127.0.0.1:11211'])\n",
        "\n",
        "# sqliteにアクセス\n",
        "conn = sqlite3.connect('memcache_sqlite3.db')\n",
        "\n",
        "# sqliteを操作するカーソルを準備\n",
        "curs = conn.cursor()\n",
        "\n",
        "# テーブルの作成とデータの挿入を行うかチェック\n",
        "if os.path.exists('check.txt') == False:\n",
        "    setting(curs)\n",
        "\n",
        "# 'James'のemploy_idを取得\n",
        "print(get_employ_id('James'))"
      ],
      "metadata": {
        "id": "JCPbnHZoGLB1"
      },
      "execution_count": null,
      "outputs": []
    },
    {
      "cell_type": "markdown",
      "source": [
        "### pickle\n",
        "Pythonのデータをそのまま保存する"
      ],
      "metadata": {
        "id": "Qk1IqBL-VGS7"
      }
    },
    {
      "cell_type": "code",
      "source": [
        "import pickle\n",
        "\n",
        "class D(object):\n",
        "    def __init__(self, name):\n",
        "        self.name = name\n",
        "\n",
        "data = {\n",
        "    'a': [1, 2, 3],\n",
        "    'b:': ('test1', 'test2'),\n",
        "    'c': {'key': 'value'},\n",
        "    'd': D('test')\n",
        "}\n",
        "\n",
        "# pickleファイルに保存\n",
        "with open('data.pickle', 'wb') as f:\n",
        "    pickle.dump(data, f)\n",
        "\n",
        "# pickleファイルの読み込み\n",
        "with open('data.pickle', 'rb') as f:\n",
        "    data_load = pickle.load(f)\n",
        "    print(data_load)\n",
        "    print(data_load['d'].name)"
      ],
      "metadata": {
        "colab": {
          "base_uri": "https://localhost:8080/"
        },
        "id": "99epPTEBVLEm",
        "outputId": "4cf25609-d781-4345-c52b-091172faf80d"
      },
      "execution_count": 6,
      "outputs": [
        {
          "output_type": "stream",
          "name": "stdout",
          "text": [
            "{'a': [1, 2, 3], 'b:': ('test1', 'test2'), 'c': {'key': 'value'}, 'd': <__main__.D object at 0x7f4f5e591610>}\n",
            "test\n"
          ]
        }
      ]
    },
    {
      "cell_type": "markdown",
      "source": [
        "### MongoDB\n",
        "ドキュメント型\n",
        "*   Jsonで大量の情報を読み込みで使用する\n",
        "*   非常に早い\n",
        "*   UPDATEを行うことが頻繁になく検索のみを行う場合は優れている\n",
        "\n",
        "\n",
        "\n",
        "\n",
        "\n",
        "```\n",
        "brew tap mongodb/brew\n",
        "brew install mongodb-community\n",
        "\n",
        "pip3 install pymongo\n",
        "```\n",
        "\n"
      ],
      "metadata": {
        "id": "VKQK8Z1wdai-"
      }
    },
    {
      "cell_type": "code",
      "source": [
        "import datetime\n",
        "from pymongo import MongoClient\n",
        "\n",
        "# mongodbにアクセス\n",
        "client = MongoClient('mongodb://localhost:27017/')\n",
        "\n",
        "# データベースの作成\n",
        "db = client['test_database']\n",
        "\n",
        "# 登録内容をjson形式で設定\n",
        "stack1 = {\n",
        "    'name': 'customer1',\n",
        "    'pip': ['python', 'php', 'go'],\n",
        "    'info': {'os': 'mac'},\n",
        "    'date': datetime.datetime.utcnow()\n",
        "}\n",
        "\n",
        "stack2 = {\n",
        "    'name': 'customer2',\n",
        "    'pip': ['python', 'php'],\n",
        "    'info': {'os': 'windows'},\n",
        "    'date': datetime.datetime.utcnow()\n",
        "}\n",
        "\n",
        "\n",
        "# テーブルを作成しているイメージ\n",
        "db_stacks = db.stacks\n",
        "\n",
        "\n",
        "# dbに保存\n",
        "stacks_id = db_stacks.insert_one(stack1).inserted_id\n",
        "print(stacks_id, type(stacks_id))\n",
        "\n",
        "print('')\n",
        "print(db_stacks.find_one({'_id': stacks_id}))\n",
        "\n",
        "# idを直接指定して検索する場合は、ObjectIdを使用する\n",
        "from bson.objectid import ObjectId\n",
        "id = '63159ec19d5461052f1acc85'\n",
        "print(db_stacks.find_one({'_id': ObjectId(id)}))\n",
        "\n",
        "print('')\n",
        "\n",
        "# その他の検索\n",
        "name = db_stacks.find_one({'name': 'customer1'})\n",
        "print(name)\n",
        "\n",
        "print('')\n",
        "\n",
        "pip = db_stacks.find_one({'pip': ['python', 'php', 'go']})\n",
        "print(pip)\n",
        "\n",
        "print('')\n",
        "\n",
        "# stack2を保存\n",
        "stacks_id = db_stacks.insert_one(stack2).inserted_id\n",
        "\n",
        "# 全件検索\n",
        "for stack in db_stacks.find():\n",
        "    print(stack)\n",
        "\n",
        "print('')\n",
        "\n",
        "# 日付による全件検索\n",
        "now = datetime.datetime.utcnow()\n",
        "for stack in db_stacks.find({'date': {'$lt': now}}):\n",
        "    print(stack)\n",
        "\n",
        "print('')\n",
        "\n",
        "# UPDATEを行う\n",
        "db_stacks.find_one_and_update(\n",
        "    {'name': 'customer1'}, {'$set': {'name': 'YYY'}}\n",
        ")\n",
        "name = db_stacks.find_one({'name': 'YYY'})\n",
        "print(name)\n",
        "\n",
        "\n",
        "# DELETEを行う\n",
        "db_stacks.find_one_and_delete(\n",
        "    {'name': 'YYY'}\n",
        ")\n",
        "name = db_stacks.find_one({'name': 'YYY'})\n",
        "print(name)"
      ],
      "metadata": {
        "id": "8CUbLBjCdinM"
      },
      "execution_count": null,
      "outputs": []
    },
    {
      "cell_type": "markdown",
      "source": [
        "### Hbase\n",
        "ワイドカラム型\n",
        "\n",
        "*   SNS系で使用されている\n",
        "\n",
        "```\n",
        "# hbaseのインストール\n",
        "brew install hbase\n",
        "\n",
        "# hbaseの再起動\n",
        "sudo brew services restart hbase\n",
        "or\n",
        "start-hbase.sh\n",
        "\n",
        "# shellでの起動\n",
        "hbase shell\n",
        "\n",
        "# snsテーブルにblogというカラムを作成\n",
        "create 'sns', 'blog'\n",
        "\n",
        "# snsテーブルにuser1というrowにblog:pythonにblog1という値を入れる\n",
        "put 'sns', 'user1', 'blog:python', 'blog1'\n",
        "\n",
        "# scanでテーブルを確認\n",
        "scan 'sns'\n",
        "\n",
        "# snsテーブルにuser1というrowにblog:basketballにblog2という値を入れる\n",
        "put 'sns', 'user1', 'blog:basketball', 'blog2'\n",
        "\n",
        "# 値の取得\n",
        "get 'sns', 'user1'\n",
        "\n",
        "# 列情報を取得\n",
        "scan 'sns', {COLUMNS => ['blog:basketball']}\n",
        "\n",
        "# テーブルの削除\n",
        "disable 'sns'\n",
        "drop 'sns'\n",
        "\n",
        "＃ 抜け出す\n",
        "quit\n",
        "\n",
        "# hbaseの停止\n",
        "sudo brew services stop hbase\n",
        "or\n",
        "stop-hbase.sh\n",
        "\n",
        "# hbaseが外部アクセスを許可する\n",
        "hbase thrift start\n",
        "\n",
        "pip3 install happybase\n",
        "```\n",
        "snsテーブルの構造\n",
        "\n",
        "| Row   |  blog:python  | blog:basketball |\n",
        "| :---:    |    :---:        | :---:            |\n",
        "| user1  |    blog1     |  blog2          |\n",
        "| user2  |               |    blog4        |\n",
        "\n"
      ],
      "metadata": {
        "id": "yRnb9Rb-dkKS"
      }
    },
    {
      "cell_type": "code",
      "source": [
        "import happybase\n",
        "\n",
        "connection = happybase.Connection('localhost')\n",
        "connection.open()\n",
        "\n",
        "# テーブルの作成\n",
        "connection.create_table(b'sns', {'blog': dict()})\n",
        "\n",
        "# テーブルへコネクション\n",
        "table = connection.table(b'sns')\n",
        "\n",
        "# テーブルへ値の登録\n",
        "table.put(\n",
        "    b'user1', {\n",
        "        b'blog:python': b'user1 about python',\n",
        "        b'blog:basketball': b'user1 about basketball'\n",
        "    }\n",
        ")\n",
        "\n",
        "table.put(\n",
        "    b'user2', {\n",
        "        b'blog:basketball': b'user2 about basketball'\n",
        "    }\n",
        ")\n",
        "\n",
        "# 値の取得\n",
        "print(list(table.scan()))\n",
        "print()\n",
        "print(list(table.scan(row_prefix=b'user1')))\n",
        "print()\n",
        "print(list(table.scan(columns=[b'blog:basketball'])))\n",
        "\n",
        "# テーブルの削除\n",
        "connection.disable_table(b'sns')\n",
        "connection.delete_table(b'sns')"
      ],
      "metadata": {
        "id": "gYzJprHldq2g"
      },
      "execution_count": null,
      "outputs": []
    },
    {
      "cell_type": "markdown",
      "source": [
        "### Neo4j\n",
        "グラフ型\n",
        "\n",
        "```\n",
        "# Personクラスオブジェクトをjamesという変数に代入\n",
        "CREATE (james:Person {name: \"James\"})\n",
        "RETURN james\n",
        "\n",
        "# PersonクラスオブジェクトであるjamesとLanguageクラスオブジェクトのpython、この2つを関係性を結ぶ\n",
        "MATCH (james:Person {name: \"James\"})\n",
        "CREATE (james)-[like:LIKE]->(python:Language {name: \"python\"})\n",
        "RETURN james,like,python\n",
        "\n",
        "# forループでjamesと値をフレンドという関係性で紐付ける\n",
        "MATCH (james:Person {name: \"James\"})\n",
        "FOREACH (name in [\"Paul\", \"Anthony\", \"Wade\", \"Jesse\"] |\n",
        "    CREATE (james)-[:FRIEND]->(:Person {name:name}))\n",
        "\n",
        "# jamesとフレンドという関係性のあるものをyourFriends変数に代入\n",
        "MATCH (james:Person {name: \"James\"})-[:FRIEND]->(yourFriends)\n",
        "RETURN james,yourFriends\n",
        "\n",
        "# pythonとjesseを取得しjesseと友達のMichaelを作成\n",
        "# MichaelはPersonとExpertオブジェクトを持ち、pythonとの関係はWORKED_WITHで結ぶ\n",
        "MATCH (python:Language {name: \"python\"})\n",
        "MATCH (jesse:Person {name: \"Jesse\"})\n",
        "CREATE (jesse)-[:FRIEND]->(:Person:Expert {name:'Michael'})-[:WORKED_WITH]->(python)\n",
        "\n",
        "MATCH (james {name: \"James\"})\n",
        "MATCH (expert)-[:WORKED_WITH]->(python:Language {name: \"python\"})\n",
        "MATCH path = shortestPath( (james)-[:FRIEND*..5]-(expert)　)\n",
        "RETURN python,expert,path\n",
        "\n",
        "\n",
        "pip3 install neo4j-driver\n",
        "```\n",
        "\n",
        "\n",
        "\n"
      ],
      "metadata": {
        "id": "3_Sgp_Ccdq_Z"
      }
    },
    {
      "cell_type": "code",
      "source": [
        "from neo4j import GraphDatabase\n",
        "\n",
        "driver = GraphDatabase.driver('bolt://127.0.0.1:7687', auth=('neo4j', 'password'))\n",
        "\n",
        "def clear_db(tx):\n",
        "    tx.run('MATCH (n) DETACH DELETE n')\n",
        "\n",
        "def add_friend(tx, name, friend_name=None):\n",
        "    if not friend_name:\n",
        "        tx.run('CREATE (p:Person {name: $name}) RETURN p', name=name)\n",
        "    return tx.run('MATCH (p:Person {name: $name})'\n",
        "                  'CREATE (p)-[:FRIEND]->(:Person {name: $friend_name})',\n",
        "                  name=name, friend_name=friend_name)\n",
        "\n",
        "def print_friend(tx, name):\n",
        "    for record in tx.run('MATCH (p:Person {name: $name})-[:FRIEND]->(yourFriends)'\n",
        "                         'RETURN p,yourFriends', name=name):\n",
        "        print(record)\n",
        "\n",
        "with driver.session() as session:\n",
        "    session.write_transaction(clear_db)\n",
        "    session.write_transaction(add_friend, 'James')\n",
        "    for i in ['Paul', 'Anthony', 'Wade', 'Jesse']:\n",
        "        session.write_transaction(add_friend, 'James', i)\n",
        "    session.read_transaction(print_friend, 'James')"
      ],
      "metadata": {
        "id": "JE95CvnDdvJU"
      },
      "execution_count": null,
      "outputs": []
    }
  ]
}