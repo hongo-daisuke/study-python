{
  "nbformat": 4,
  "nbformat_minor": 0,
  "metadata": {
    "colab": {
      "name": "python_roop.ipynb",
      "provenance": [],
      "authorship_tag": "ABX9TyMSv+kMYGWKS+yfLInmT8z7",
      "include_colab_link": true
    },
    "kernelspec": {
      "name": "python3",
      "display_name": "Python 3"
    },
    "language_info": {
      "name": "python"
    }
  },
  "cells": [
    {
      "cell_type": "markdown",
      "metadata": {
        "id": "view-in-github",
        "colab_type": "text"
      },
      "source": [
        "<a href=\"https://colab.research.google.com/github/hongo-daisuke/study-python/blob/master/python_roop.ipynb\" target=\"_parent\"><img src=\"https://colab.research.google.com/assets/colab-badge.svg\" alt=\"Open In Colab\"/></a>"
      ]
    },
    {
      "cell_type": "markdown",
      "source": [
        "# 繰り返し処理"
      ],
      "metadata": {
        "id": "laByrWAf3RG7"
      }
    },
    {
      "cell_type": "markdown",
      "source": [
        "## whlie文"
      ],
      "metadata": {
        "id": "i3HrxdfB6HYi"
      }
    },
    {
      "cell_type": "code",
      "execution_count": null,
      "metadata": {
        "colab": {
          "base_uri": "https://localhost:8080/"
        },
        "id": "i_vpGCSO3OnJ",
        "outputId": "469f01d4-d70b-4d37-f21e-ac2be2a18729"
      },
      "outputs": [
        {
          "output_type": "stream",
          "name": "stdout",
          "text": [
            "1\n",
            "2\n",
            "3\n",
            "4\n"
          ]
        }
      ],
      "source": [
        "# while文によるループ1\n",
        "i = 1\n",
        "while i < 5:\n",
        "    print(i)\n",
        "    i += 1"
      ]
    },
    {
      "cell_type": "code",
      "source": [
        "# while文によるループ2\n",
        "i = 5\n",
        "while i > 0:\n",
        "    print(i)\n",
        "    i -= 1"
      ],
      "metadata": {
        "colab": {
          "base_uri": "https://localhost:8080/"
        },
        "id": "j9nHX8S_32VB",
        "outputId": "59b7a886-f614-44a7-921e-59a4978221b1"
      },
      "execution_count": null,
      "outputs": [
        {
          "output_type": "stream",
          "name": "stdout",
          "text": [
            "5\n",
            "4\n",
            "3\n",
            "2\n",
            "1\n"
          ]
        }
      ]
    },
    {
      "cell_type": "markdown",
      "source": [
        "### 無限ループには気をつけよう。\n",
        "\n",
        "```\n",
        "while True:\n",
        "    print('Hello Wolrd')\n",
        "```\n",
        "\n"
      ],
      "metadata": {
        "id": "fKjdw5xS4ETi"
      }
    },
    {
      "cell_type": "markdown",
      "source": [
        "## for文"
      ],
      "metadata": {
        "id": "r7Sm5q4N6Tyz"
      }
    },
    {
      "cell_type": "code",
      "source": [
        "# for文\n",
        "for i in range(3):\n",
        "    # nからn-1まで表示される\n",
        "    print(i)"
      ],
      "metadata": {
        "colab": {
          "base_uri": "https://localhost:8080/"
        },
        "id": "Y7EyBRtL437y",
        "outputId": "d0bebe63-baf4-4b6c-9149-e9c687980033"
      },
      "execution_count": null,
      "outputs": [
        {
          "output_type": "stream",
          "name": "stdout",
          "text": [
            "0\n",
            "1\n",
            "2\n"
          ]
        }
      ]
    },
    {
      "cell_type": "code",
      "source": [
        "# for文\n",
        "for i in range(0, 5):\n",
        "    # mからn-1まで表示される\n",
        "    print(i)"
      ],
      "metadata": {
        "colab": {
          "base_uri": "https://localhost:8080/"
        },
        "id": "-WjOFD9J4ZKw",
        "outputId": "e14a432c-3e8a-442e-d07d-1cfa19bf1668"
      },
      "execution_count": null,
      "outputs": [
        {
          "output_type": "stream",
          "name": "stdout",
          "text": [
            "0\n",
            "1\n",
            "2\n",
            "3\n",
            "4\n"
          ]
        }
      ]
    },
    {
      "cell_type": "markdown",
      "source": [
        "## breakとcontinueによるループの中断"
      ],
      "metadata": {
        "id": "KWqWB9V46YEe"
      }
    },
    {
      "cell_type": "code",
      "source": [
        "# break\n",
        "i = 0\n",
        "while i < 4:\n",
        "    print(i)\n",
        "    # iが2の時に、ループから抜ける\n",
        "    if i == 2:\n",
        "        break\n",
        "    i += 1"
      ],
      "metadata": {
        "colab": {
          "base_uri": "https://localhost:8080/"
        },
        "id": "xokd_rqi5FUB",
        "outputId": "4fcdd65a-d7c3-4755-8e35-64a6ca74f327"
      },
      "execution_count": null,
      "outputs": [
        {
          "output_type": "stream",
          "name": "stdout",
          "text": [
            "0\n",
            "1\n",
            "2\n"
          ]
        }
      ]
    },
    {
      "cell_type": "code",
      "source": [
        "# continue\n",
        "i = 0\n",
        "while i < 4:\n",
        "    i += 1\n",
        "    # iが2の時に、ループから抜け先頭に戻る\n",
        "    if i == 2:\n",
        "        continue\n",
        "    print(i)"
      ],
      "metadata": {
        "colab": {
          "base_uri": "https://localhost:8080/"
        },
        "id": "VWAEV1bO5Fk5",
        "outputId": "a68f817d-c34c-48be-d012-7b8d0314b857"
      },
      "execution_count": null,
      "outputs": [
        {
          "output_type": "stream",
          "name": "stdout",
          "text": [
            "1\n",
            "3\n",
            "4\n"
          ]
        }
      ]
    },
    {
      "cell_type": "markdown",
      "source": [
        "## 多重ループ"
      ],
      "metadata": {
        "id": "b77Cy3lq9Nc9"
      }
    },
    {
      "cell_type": "code",
      "source": [
        "# whileによる多重ループ\n",
        "i = 0\n",
        "while i < 2: # 外側2回\n",
        "    j = 0\n",
        "    while j < 3: # 内側3回のループ\n",
        "        print(i, j)\n",
        "        j = j + 1\n",
        "    i = i + 1"
      ],
      "metadata": {
        "colab": {
          "base_uri": "https://localhost:8080/"
        },
        "id": "JQZubVuH9Q4G",
        "outputId": "2b499277-cd0b-4276-fde4-00b50ccd3c9e"
      },
      "execution_count": 9,
      "outputs": [
        {
          "output_type": "stream",
          "name": "stdout",
          "text": [
            "0 0\n",
            "0 1\n",
            "0 2\n",
            "1 0\n",
            "1 1\n",
            "1 2\n"
          ]
        }
      ]
    },
    {
      "cell_type": "code",
      "source": [
        "# forによる多重ループ\n",
        "for i in range(2): # 外側2回\n",
        "    for j in range(3): # 内側3回のループ\n",
        "        print(i, j)"
      ],
      "metadata": {
        "colab": {
          "base_uri": "https://localhost:8080/"
        },
        "id": "T96sB0rD9x56",
        "outputId": "aa997e93-1484-4f7e-9129-62440a2e2f71"
      },
      "execution_count": 10,
      "outputs": [
        {
          "output_type": "stream",
          "name": "stdout",
          "text": [
            "0 0\n",
            "0 1\n",
            "0 2\n",
            "1 0\n",
            "1 1\n",
            "1 2\n"
          ]
        }
      ]
    },
    {
      "cell_type": "code",
      "source": [
        "# forで2重ループは好ましくない、使用する場合はitertoolsを使用する\n",
        "import itertools\n",
        "\n",
        "for i, j in itertools.product(range(2), range(3)):\n",
        "    print(i, j)"
      ],
      "metadata": {
        "colab": {
          "base_uri": "https://localhost:8080/"
        },
        "id": "1QNZQcST-CNZ",
        "outputId": "42cd67a2-d218-4519-e440-cb11283b2809"
      },
      "execution_count": 11,
      "outputs": [
        {
          "output_type": "stream",
          "name": "stdout",
          "text": [
            "0 0\n",
            "0 1\n",
            "0 2\n",
            "1 0\n",
            "1 1\n",
            "1 2\n"
          ]
        }
      ]
    },
    {
      "cell_type": "markdown",
      "source": [
        "## 繰り返しとelse\n",
        "elseはループ終了時の処理を記述する"
      ],
      "metadata": {
        "id": "ee1DMCWd-c5S"
      }
    },
    {
      "cell_type": "code",
      "source": [
        "i = 0\n",
        "print('ループ開始')\n",
        "while i < 5:\n",
        "    print('i =', i)\n",
        "    i = i + 1\n",
        "else:\n",
        "    print('ループ終了')\n",
        "    print('i =', i)\n"
      ],
      "metadata": {
        "colab": {
          "base_uri": "https://localhost:8080/"
        },
        "id": "B0HMxftA-jae",
        "outputId": "af5e6745-2108-44af-b8f9-ecc408112b9d"
      },
      "execution_count": 15,
      "outputs": [
        {
          "output_type": "stream",
          "name": "stdout",
          "text": [
            "ループ開始\n",
            "i = 0\n",
            "i = 1\n",
            "i = 2\n",
            "i = 3\n",
            "i = 4\n",
            "ループ終了\n",
            "i = 5\n"
          ]
        }
      ]
    },
    {
      "cell_type": "code",
      "source": [
        "print('ループ開始')\n",
        "for i in range(5):\n",
        "    print('i =', i)\n",
        "else:\n",
        "    print('ループ終了')\n",
        "    print('i =', i)"
      ],
      "metadata": {
        "colab": {
          "base_uri": "https://localhost:8080/"
        },
        "id": "YkQL0mGM_iaI",
        "outputId": "5296296e-78dd-4b16-be98-c3d285db79d1"
      },
      "execution_count": 16,
      "outputs": [
        {
          "output_type": "stream",
          "name": "stdout",
          "text": [
            "ループ開始\n",
            "i = 0\n",
            "i = 1\n",
            "i = 2\n",
            "i = 3\n",
            "i = 4\n",
            "ループ終了\n",
            "i = 4\n"
          ]
        }
      ]
    },
    {
      "cell_type": "markdown",
      "source": [
        "## ループのelseの注意点\n",
        "ループの処理が実行されていなくても必ず実行される"
      ],
      "metadata": {
        "id": "BLoO9_jDAS0P"
      }
    },
    {
      "cell_type": "code",
      "source": [
        "# ループの注意点\n",
        "i = 0\n",
        "while i > 3:\n",
        "    print('i =', i)\n",
        "    i = i + 1\n",
        "else:\n",
        "    print('ループ終了')\n",
        "    print('i =', i)"
      ],
      "metadata": {
        "colab": {
          "base_uri": "https://localhost:8080/"
        },
        "id": "MPYfCyBRAJAu",
        "outputId": "3aaaac15-55b8-4dca-c753-045df2b10cbb"
      },
      "execution_count": 17,
      "outputs": [
        {
          "output_type": "stream",
          "name": "stdout",
          "text": [
            "ループ終了\n",
            "i = 0\n"
          ]
        }
      ]
    },
    {
      "cell_type": "markdown",
      "source": [
        "## elseとbreak\n",
        "ループに用いられるbreakはelseも超えて処理を行う"
      ],
      "metadata": {
        "id": "Rj0oGHJAAgvH"
      }
    },
    {
      "cell_type": "code",
      "source": [
        "print('ループ開始')\n",
        "for i in range(5):\n",
        "    print('i =', i)\n",
        "    if i == 2:\n",
        "        break\n",
        "else:\n",
        "    print('ループ終了')\n",
        "    print('i =', i)"
      ],
      "metadata": {
        "colab": {
          "base_uri": "https://localhost:8080/"
        },
        "id": "0JKfmnZLAucg",
        "outputId": "add5c5a8-8d84-464f-bbb6-285bec9544e7"
      },
      "execution_count": 18,
      "outputs": [
        {
          "output_type": "stream",
          "name": "stdout",
          "text": [
            "ループ開始\n",
            "i = 0\n",
            "i = 1\n",
            "i = 2\n"
          ]
        }
      ]
    }
  ]
}