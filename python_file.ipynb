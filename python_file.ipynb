{
  "nbformat": 4,
  "nbformat_minor": 0,
  "metadata": {
    "colab": {
      "name": "python_file.ipynb",
      "provenance": [],
      "collapsed_sections": [],
      "authorship_tag": "ABX9TyMd5wrPE94kQFZGrrDae/QD",
      "include_colab_link": true
    },
    "kernelspec": {
      "name": "python3",
      "display_name": "Python 3"
    },
    "language_info": {
      "name": "python"
    }
  },
  "cells": [
    {
      "cell_type": "markdown",
      "metadata": {
        "id": "view-in-github",
        "colab_type": "text"
      },
      "source": [
        "<a href=\"https://colab.research.google.com/github/hongo-daisuke/study-python/blob/master/python_file.ipynb\" target=\"_parent\"><img src=\"https://colab.research.google.com/assets/colab-badge.svg\" alt=\"Open In Colab\"/></a>"
      ]
    },
    {
      "cell_type": "markdown",
      "source": [
        "# ファイル操作とシステム"
      ],
      "metadata": {
        "id": "wkUtKIHTySN1"
      }
    },
    {
      "cell_type": "markdown",
      "source": [
        "## ファイルの作成"
      ],
      "metadata": {
        "id": "hf2VNkuUyZQ3"
      }
    },
    {
      "cell_type": "code",
      "source": [
        "# ファイルの作成\n",
        "f = open('text.txt', 'w')\n",
        "f.write('Test')\n",
        "f.close()"
      ],
      "metadata": {
        "id": "caFetVJjyYrE"
      },
      "execution_count": null,
      "outputs": []
    },
    {
      "cell_type": "code",
      "source": [
        "# ファイルへ追記\n",
        "f = open('text.txt', 'a')\n",
        "f.write('Test')\n",
        "f.close()"
      ],
      "metadata": {
        "id": "NtCyIDPSzTXy"
      },
      "execution_count": null,
      "outputs": []
    },
    {
      "cell_type": "code",
      "source": [
        "# print()でのファイルへの書き込み\n",
        "f = open('text.txt', 'w')\n",
        "f.write('Test\\n')\n",
        "print('I am print', file=f)\n",
        "print('My',  'name', 'is', 'Mike', sep='&', end='!!', file=f)\n",
        "f.close()"
      ],
      "metadata": {
        "id": "W8Q_l2wezapx"
      },
      "execution_count": null,
      "outputs": []
    },
    {
      "cell_type": "markdown",
      "source": [
        "### withステートメントでファイル操作を行う\n",
        "*   withのインデント終わりに自動的にcloseを行ってくれる\n",
        "\n",
        "\n",
        "```\n",
        "with open(ファイル名, ファイルを開くモード) as f:\n",
        "    書き込み処理\n",
        "\n",
        "```\n",
        "\n"
      ],
      "metadata": {
        "id": "P1T1mgHB0cQn"
      }
    },
    {
      "cell_type": "code",
      "source": [
        "s = \"\"\"\\\n",
        "aaa\n",
        "bbb\n",
        "ccc\n",
        "ddd\n",
        "eee\n",
        "\"\"\"\n",
        "with open('text.txt', 'w') as f:\n",
        "    f.write(s)"
      ],
      "metadata": {
        "id": "dpK5XPkN0i0C"
      },
      "execution_count": null,
      "outputs": []
    },
    {
      "cell_type": "markdown",
      "source": [
        "## ファイルの読み込み"
      ],
      "metadata": {
        "id": "nNPtAwlS1RRA"
      }
    },
    {
      "cell_type": "code",
      "source": [
        "with open('text.txt', 'r') as f:\n",
        "    print(f.read())"
      ],
      "metadata": {
        "colab": {
          "base_uri": "https://localhost:8080/"
        },
        "id": "maEB8w4u1WAh",
        "outputId": "39fb3ad7-c180-429a-c473-aca0c62af181"
      },
      "execution_count": null,
      "outputs": [
        {
          "output_type": "stream",
          "name": "stdout",
          "text": [
            "aaa\n",
            "bbb\n",
            "ccc\n",
            "ddd\n",
            "eee\n",
            "\n"
          ]
        }
      ]
    },
    {
      "cell_type": "code",
      "source": [
        "# 1行ずつ読み込み\n",
        "with open('text.txt', 'r') as f:\n",
        "    while True:\n",
        "        line = f.readline()\n",
        "        print(line, end=\"\")\n",
        "        if not line:\n",
        "            break"
      ],
      "metadata": {
        "colab": {
          "base_uri": "https://localhost:8080/"
        },
        "id": "r-p7hktF165h",
        "outputId": "ce4dd319-c27d-4bf7-e814-47fbe62fdc37"
      },
      "execution_count": null,
      "outputs": [
        {
          "output_type": "stream",
          "name": "stdout",
          "text": [
            "aaa\n",
            "bbb\n",
            "ccc\n",
            "ddd\n",
            "eee\n"
          ]
        }
      ]
    },
    {
      "cell_type": "code",
      "source": [
        "# 指定した文字数ずつ読み込む\n",
        "with open('text.txt', 'r') as f:\n",
        "    while True:\n",
        "        chunk = 2 # 2文字ずつ読み込む\n",
        "        line = f.read(chunk)\n",
        "        print(line)\n",
        "        if not line:\n",
        "            break"
      ],
      "metadata": {
        "colab": {
          "base_uri": "https://localhost:8080/"
        },
        "id": "swCIgubp2SA-",
        "outputId": "a11a3cb9-5a96-42f6-ed79-8450cec649f6"
      },
      "execution_count": null,
      "outputs": [
        {
          "output_type": "stream",
          "name": "stdout",
          "text": [
            "aa\n",
            "a\n",
            "\n",
            "bb\n",
            "b\n",
            "\n",
            "cc\n",
            "c\n",
            "\n",
            "dd\n",
            "d\n",
            "\n",
            "ee\n",
            "e\n",
            "\n",
            "\n"
          ]
        }
      ]
    },
    {
      "cell_type": "markdown",
      "source": [
        "### seekを使用して移動\n",
        "\n",
        "\n"
      ],
      "metadata": {
        "id": "sUpqoz-o2wec"
      }
    },
    {
      "cell_type": "code",
      "source": [
        "with open('text.txt', 'r') as f:\n",
        "    print(f.tell()) # 0の位置\n",
        "    print(f.read(1)) # １文字読み込む\n",
        "\n",
        "    f.seek(5) # 5文字移動\n",
        "    print(f.read(1)) # １文字読み込む\n",
        "\n",
        "    f.seek(14) # 14文字移動\n",
        "    print(f.read(1)) # １文字読み込む\n",
        "\n",
        "    f.seek(15) # 15文字移動\n",
        "    print(f.read(1)) # １文字読み込む\n",
        "\n",
        "    f.seek(16) # 16文字移動\n",
        "    print(f.read(2)) # 2文字読み込む\n",
        "\n",
        "    f.seek(5) # 5文字移動\n",
        "    print(f.read(1)) # １文字読み込む"
      ],
      "metadata": {
        "colab": {
          "base_uri": "https://localhost:8080/"
        },
        "id": "Q1DcDqYD204d",
        "outputId": "5ee6683c-f4e2-4e31-acaa-12110ece062a"
      },
      "execution_count": null,
      "outputs": [
        {
          "output_type": "stream",
          "name": "stdout",
          "text": [
            "0\n",
            "a\n",
            "b\n",
            "d\n",
            "\n",
            "\n",
            "ee\n",
            "b\n"
          ]
        }
      ]
    },
    {
      "cell_type": "markdown",
      "source": [
        "## ファイルを開くモードについて\n",
        "\n",
        "*   書き込みと読み込みを行う場合\n",
        "\n",
        "```\n",
        "with open(ファイル名, 'w+') as f:\n",
        "    f.write(s)\n",
        "    f.seek(0) # seek(0)で先頭に移動する必要がある\n",
        "    print(f.read())\n",
        "\n",
        "または\n",
        "\n",
        "with open('text.txt', 'r+') as f:\n",
        "    f.read()\n",
        "    f.seek(0) # seek(0)で先頭に移動する必要がある\n",
        "    f.read()\n",
        "```\n",
        "\n"
      ],
      "metadata": {
        "id": "8XNwWCJS4c8E"
      }
    },
    {
      "cell_type": "code",
      "source": [
        "s = \"\"\"\\\n",
        "Aaa\n",
        "bBb\n",
        "ccD\n",
        "dDd\n",
        "Eee\n",
        "\"\"\"\n",
        "with open('text.txt', 'w+') as f:\n",
        "    f.write(s)\n",
        "    f.seek(0)\n",
        "    print(f.read())"
      ],
      "metadata": {
        "colab": {
          "base_uri": "https://localhost:8080/"
        },
        "id": "Yunjtxj54jXA",
        "outputId": "7d21f8f9-7891-4241-ba05-b7435d1ded89"
      },
      "execution_count": null,
      "outputs": [
        {
          "output_type": "stream",
          "name": "stdout",
          "text": [
            "Aaa\n",
            "bBb\n",
            "ccD\n",
            "dDd\n",
            "Eee\n",
            "\n"
          ]
        }
      ]
    },
    {
      "cell_type": "code",
      "source": [
        "s = \"\"\"\\\n",
        "aaA\n",
        "bBb\n",
        "Ccc\n",
        "dDd\n",
        "eeE\n",
        "\"\"\"\n",
        "# 読み込んでから書き込みを行うため、事前にファイルが存在しないとエラーになる\n",
        "with open('text.txt', 'r+') as f:\n",
        "    print(f.read())\n",
        "    f.seek(0)\n",
        "    f.write(s)"
      ],
      "metadata": {
        "colab": {
          "base_uri": "https://localhost:8080/"
        },
        "id": "02-oRC2b5a8H",
        "outputId": "cb4537cd-085d-4dfe-d333-247e872781e4"
      },
      "execution_count": null,
      "outputs": [
        {
          "output_type": "stream",
          "name": "stdout",
          "text": [
            "Aaa\n",
            "bBb\n",
            "ccD\n",
            "dDd\n",
            "Eee\n",
            "\n"
          ]
        }
      ]
    },
    {
      "cell_type": "markdown",
      "source": [
        "## テンプレート\n",
        "\n"
      ],
      "metadata": {
        "id": "BHOGFK0v6Kbz"
      }
    },
    {
      "cell_type": "code",
      "source": [
        "import string\n",
        "s = \"\"\"\\\n",
        "\n",
        "Hi $name.\n",
        "\n",
        "$contents\n",
        "\n",
        "Have a good day\n",
        "\"\"\"\n",
        "\n",
        "t = string.Template(s)\n",
        "contents = t.substitute(name='Mike', contents='How are your?')\n",
        "print(contents)"
      ],
      "metadata": {
        "colab": {
          "base_uri": "https://localhost:8080/"
        },
        "id": "rJ73RXeZ6Mon",
        "outputId": "cc3b14b3-c1f9-446b-adc8-e3b91b6f5a76"
      },
      "execution_count": null,
      "outputs": [
        {
          "output_type": "stream",
          "name": "stdout",
          "text": [
            "\n",
            "Hi Mike.\n",
            "\n",
            "How are your?\n",
            "\n",
            "Have a good day\n",
            "\n"
          ]
        }
      ]
    },
    {
      "cell_type": "code",
      "source": [
        "import string\n",
        "# 外部ファイルからテキストを読み込みテンプレートとして扱うことが出来る\n",
        "with open('text2.txt') as f: # text2.txtは上の変数sと同じ\n",
        "    t = string.Template(f.read())\n",
        "contents = t.substitute(name='Mike', contents='How are your?')\n",
        "print(contents)"
      ],
      "metadata": {
        "colab": {
          "base_uri": "https://localhost:8080/"
        },
        "id": "_2tWObzv7dH-",
        "outputId": "9fa5334b-f055-473c-f7ce-1c8f56e59892"
      },
      "execution_count": null,
      "outputs": [
        {
          "output_type": "stream",
          "name": "stdout",
          "text": [
            "Hi Mike.\n",
            "\n",
            "How are your?\n",
            "\n",
            "Have a good day\n"
          ]
        }
      ]
    },
    {
      "cell_type": "markdown",
      "source": [
        "## CSVファイルへの書き込みと読み込み"
      ],
      "metadata": {
        "id": "w21s3JbT8N-S"
      }
    },
    {
      "cell_type": "code",
      "source": [
        "from os import write\n",
        "import csv\n",
        "with open('test.csv', 'w') as csv_file:\n",
        "    fieldnames = ['Name', 'Count']\n",
        "    writer = csv.DictWriter(csv_file, fieldnames=fieldnames)\n",
        "    writer.writeheader()\n",
        "    writer.writerow({'Name': 'A', 'Count': 1})\n",
        "    writer.writerow({'Name': 'B', 'Count': 2})"
      ],
      "metadata": {
        "id": "gkqxlJo18M1_"
      },
      "execution_count": null,
      "outputs": []
    },
    {
      "cell_type": "code",
      "source": [
        "with open('test.csv', 'r') as csv_file:\n",
        "    reader = csv.DictReader(csv_file)\n",
        "    for row in reader:\n",
        "        print(row['Name'], row['Count'])"
      ],
      "metadata": {
        "colab": {
          "base_uri": "https://localhost:8080/"
        },
        "id": "1CxixWPQUrNd",
        "outputId": "eede135b-5176-4562-8842-920a0b2ce618"
      },
      "execution_count": null,
      "outputs": [
        {
          "output_type": "stream",
          "name": "stdout",
          "text": [
            "A 1\n",
            "B 2\n"
          ]
        }
      ]
    },
    {
      "cell_type": "markdown",
      "source": [
        "## ファイルの操作\n",
        "\n",
        "*   os\n",
        "*   pathlib\n",
        "*   glob\n",
        "*   shutil"
      ],
      "metadata": {
        "id": "q4U6sZMCVAkY"
      }
    },
    {
      "cell_type": "code",
      "source": [
        "import os\n",
        "print(os.path.exists('text.txt')) # 引数のファイルが存在するか判定\n",
        "print(os.path.isfile('text.txt')) # ファイルか判定\n",
        "print(os.path.isdir('sample_data')) # ディレクトリか判定\n",
        "\n",
        "if os.path.exists('text.txt') == True:\n",
        "    os.rename('text.txt', 'renamed.txt') #ファイル名の変更\n",
        "    if os.path.exists('symlink.txt') == False:\n",
        "        os.symlink('renamed.txt', 'symlink.txt') # symlink.txtを変更するとrenamed.txtにも反映される\n",
        "\n",
        "# ディレクトリの作成と削除\n",
        "if os.path.exists('test_dir') == False:\n",
        "    os.mkdir('test_dir') # ディレクトリの作成\n",
        "else:\n",
        "    os.rmdir('test_dir') # ディレクトリの削除"
      ],
      "metadata": {
        "colab": {
          "base_uri": "https://localhost:8080/"
        },
        "id": "_aMzjC0CVAwM",
        "outputId": "4a8c8915-cc0c-4a89-86b5-9030f407d28a"
      },
      "execution_count": null,
      "outputs": [
        {
          "output_type": "stream",
          "name": "stdout",
          "text": [
            "False\n",
            "False\n",
            "True\n"
          ]
        }
      ]
    },
    {
      "cell_type": "code",
      "source": [
        "# 空ファイルの作成と削除\n",
        "import os\n",
        "import pathlib\n",
        "\n",
        "if os.path.exists('empty.txt') == False:\n",
        "    pathlib.Path('empty.txt').touch() # 空ファイルの作成\n",
        "else:\n",
        "    os.remove('empty.txt') # ファイルの削除"
      ],
      "metadata": {
        "id": "MOuqcJcAW-2d"
      },
      "execution_count": null,
      "outputs": []
    },
    {
      "cell_type": "code",
      "source": [
        "# ディレクトリの中身を確認1（ファイル名のみ）\n",
        "import os\n",
        "\n",
        "os.mkdir('test_dir') # ディレクトリの作成\n",
        "os.mkdir('test_dir/test_dir2') # ディレクトリの作成\n",
        "pathlib.Path('test_dir/test_dir.txt').touch() # 空ファイルの作成\n",
        "print(os.listdir('test_dir')) # ディレクトリの中身を返す"
      ],
      "metadata": {
        "colab": {
          "base_uri": "https://localhost:8080/"
        },
        "id": "TE8NhKhCXr9m",
        "outputId": "0559a848-51fa-4bca-b81f-adbf832bbf44"
      },
      "execution_count": null,
      "outputs": [
        {
          "output_type": "stream",
          "name": "stdout",
          "text": [
            "['test_dir2', 'test_dir.txt']\n"
          ]
        }
      ]
    },
    {
      "cell_type": "code",
      "source": [
        "# ディレクトリの中身を確認2\n",
        "import glob\n",
        "import pathlib\n",
        "pathlib.Path('test_dir/test_dir2/test_dir2_1.txt').touch() # 空ファイルの作成\n",
        "pathlib.Path('test_dir/test_dir2/test_dir2_2.txt').touch() # 空ファイルの作成\n",
        "print(glob.glob('test_dir/test_dir2/*')) # test_dir2配下にあるファイルを全て取得"
      ],
      "metadata": {
        "colab": {
          "base_uri": "https://localhost:8080/"
        },
        "id": "zP_cTVfiXt_X",
        "outputId": "1762e4fc-ebe2-445a-8d1d-2c85d18a2735"
      },
      "execution_count": null,
      "outputs": [
        {
          "output_type": "stream",
          "name": "stdout",
          "text": [
            "['test_dir/test_dir2', 'test_dir/test_dir.txt']\n"
          ]
        }
      ]
    },
    {
      "cell_type": "code",
      "source": [
        "# ファイルのコピー\n",
        "import shutil\n",
        "import glob\n",
        "shutil.copy('test_dir/test_dir1_1.txt',\n",
        "            'test_dir/test_dir1_2.txt') # ファイルのコピー\n",
        "print(glob.glob('test_dir/*')) # test_dir配下にあるファイルを全て取得"
      ],
      "metadata": {
        "colab": {
          "base_uri": "https://localhost:8080/"
        },
        "id": "LMAi2Z2aa8Uc",
        "outputId": "d4a05ba5-c13f-4dd7-ea0b-245baf020bf4"
      },
      "execution_count": null,
      "outputs": [
        {
          "output_type": "stream",
          "name": "stdout",
          "text": [
            "['test_dir/test_dir2', 'test_dir/test_dir1_2.txt', 'test_dir/test_dir1_1.txt']\n"
          ]
        }
      ]
    },
    {
      "cell_type": "code",
      "source": [
        "import shutil\n",
        "# ディレクトリの削除\n",
        "# os.rmdirはからの場合のみ削除可能\n",
        "shutil.rmtree('test_dir') # ディレクトリとその中身を全て削除"
      ],
      "metadata": {
        "id": "hcjjpJpncRLP"
      },
      "execution_count": null,
      "outputs": []
    },
    {
      "cell_type": "code",
      "source": [
        "import os\n",
        "# 現在のファイルが実行されたパスを取得\n",
        "print(os.getcwd())"
      ],
      "metadata": {
        "colab": {
          "base_uri": "https://localhost:8080/"
        },
        "id": "KvqV30zhdA9Z",
        "outputId": "af805b60-c290-438f-a7ee-56d4c6fb86c3"
      },
      "execution_count": null,
      "outputs": [
        {
          "output_type": "stream",
          "name": "stdout",
          "text": [
            "/content\n"
          ]
        }
      ]
    },
    {
      "cell_type": "markdown",
      "source": [
        "## tarfileの圧縮展開"
      ],
      "metadata": {
        "id": "7sQhhL7DdgcP"
      }
    },
    {
      "cell_type": "code",
      "source": [
        "import tarfile\n",
        "\n",
        "# tarfile_testをtest.tar.gzとして圧縮する\n",
        "with tarfile.open('test.tar.gz', 'w:gz') as tr:\n",
        "    tr.add('tarfile_test')\n",
        "\n",
        "# Macの場合は右記の様なコマンドで展開出来る「tar zxvf test.tar.gz -C /tmp」"
      ],
      "metadata": {
        "id": "-3_ev7HIdf_p"
      },
      "execution_count": null,
      "outputs": []
    },
    {
      "cell_type": "code",
      "source": [
        "with tarfile.open('test.tar.gz', 'r:gz') as tr:\n",
        "    # test_tarという名前で展開\n",
        "    tr.extractall(path='test_tar')"
      ],
      "metadata": {
        "id": "mFAfZXkGh-iu"
      },
      "execution_count": null,
      "outputs": []
    },
    {
      "cell_type": "code",
      "source": [
        "# 展開せずに中身だけ確認\n",
        "with tarfile.open('test.tar.gz', 'r:gz') as tr:\n",
        "    with tr.extractfile('tarfile_test/tarfile_test.txt') as f:\n",
        "        print(f.read())"
      ],
      "metadata": {
        "colab": {
          "base_uri": "https://localhost:8080/"
        },
        "id": "_JWGfre2iexd",
        "outputId": "e7386e20-8360-4793-d6ed-3ffdcdc5f670"
      },
      "execution_count": null,
      "outputs": [
        {
          "output_type": "stream",
          "name": "stdout",
          "text": [
            "b'test'\n"
          ]
        }
      ]
    },
    {
      "cell_type": "markdown",
      "source": [
        "## zipファイルの圧縮展開"
      ],
      "metadata": {
        "id": "jvgonTDZjY0W"
      }
    },
    {
      "cell_type": "code",
      "source": [
        "import zipfile\n",
        "\n",
        "# test_dir\n",
        "with zipfile.ZipFile('test.zip', 'w') as z:\n",
        "    # 以下のやり方だと自分でzip化したいファイルを全て指定する必要があるのでglobでファイル名を取得するのが良い\n",
        "    # z.write('test_dir')\n",
        "    # z.write('test_dir/test.txt')\n",
        "    for file in glob.glob('test_dir/**', recursive=True): # *二つとrecursive=Trueで下の階層も全て取得する\n",
        "        print(file)\n",
        "        z.write(file)\n",
        "\n",
        "# Macの場合は右記の様なコマンドで展開出来る「unzip test.zip -d zzz」"
      ],
      "metadata": {
        "colab": {
          "base_uri": "https://localhost:8080/"
        },
        "id": "TEDveh5Pjy8X",
        "outputId": "d932cf23-fa4a-48af-c63d-b94556b2ce5a"
      },
      "execution_count": null,
      "outputs": [
        {
          "output_type": "stream",
          "name": "stdout",
          "text": [
            "test_dir/\n",
            "test_dir/test.txt\n",
            "test_dir/sub_dir\n",
            "test_dir/sub_dir/sub_text.txt\n"
          ]
        }
      ]
    },
    {
      "cell_type": "code",
      "source": [
        "#zipファイルの展開\n",
        "with zipfile.ZipFile('test.zip', 'r') as z:\n",
        "    z.extractall('zzz2')"
      ],
      "metadata": {
        "id": "pm1Ieku6mNuG"
      },
      "execution_count": null,
      "outputs": []
    },
    {
      "cell_type": "code",
      "source": [
        "# tar同様に展開前に一つのファイルだけ中身を確認することが出来る\n",
        "with zipfile.ZipFile('test.zip', 'r') as z:\n",
        "    with z.open('test_dir/test.txt') as f:\n",
        "        print(f.read())"
      ],
      "metadata": {
        "colab": {
          "base_uri": "https://localhost:8080/"
        },
        "id": "fWoEGcWEmnav",
        "outputId": "c99eb35f-26c8-441e-ac61-78b367c277eb"
      },
      "execution_count": null,
      "outputs": [
        {
          "output_type": "stream",
          "name": "stdout",
          "text": [
            "b''\n"
          ]
        }
      ]
    },
    {
      "cell_type": "markdown",
      "source": [
        "## tempfile\n",
        "\n",
        "*   pythonがioバッファの上でファイルを作成するので使用後は削除してくれる\n",
        "\n"
      ],
      "metadata": {
        "id": "p0iLlRlD-1-w"
      }
    },
    {
      "cell_type": "code",
      "source": [
        "import tempfile\n",
        "\n",
        "with tempfile.TemporaryFile(mode='w+') as t:\n",
        "    t.write('hello')\n",
        "    t.seek(0)\n",
        "    print(t.read())"
      ],
      "metadata": {
        "colab": {
          "base_uri": "https://localhost:8080/"
        },
        "id": "oHhTQDg6_fJ_",
        "outputId": "f3d35107-e210-4b6c-d83b-817861e66211"
      },
      "execution_count": null,
      "outputs": [
        {
          "output_type": "stream",
          "name": "stdout",
          "text": [
            "hello\n"
          ]
        }
      ]
    },
    {
      "cell_type": "markdown",
      "source": [
        "### tempfileを保存する"
      ],
      "metadata": {
        "id": "jf6wtfzZAjwU"
      }
    },
    {
      "cell_type": "code",
      "source": [
        "import tempfile\n",
        "\n",
        "with tempfile.NamedTemporaryFile(delete=False) as t:\n",
        "    print(t.name)\n",
        "    with open(t.name, 'w+') as f: \n",
        "        f.write('test')\n",
        "        f.seek(0)\n",
        "        print(f.read())"
      ],
      "metadata": {
        "colab": {
          "base_uri": "https://localhost:8080/"
        },
        "id": "x2klBcC1AGWk",
        "outputId": "fc9a0783-f434-4747-f54d-bccc7749abec"
      },
      "execution_count": null,
      "outputs": [
        {
          "output_type": "stream",
          "name": "stdout",
          "text": [
            "/tmp/tmplxww05kn\n",
            "test\n"
          ]
        }
      ]
    },
    {
      "cell_type": "markdown",
      "source": [
        "### ディレクトリの対応"
      ],
      "metadata": {
        "id": "RXhCxYs-Ar-9"
      }
    },
    {
      "cell_type": "code",
      "source": [
        "with tempfile.TemporaryDirectory() as td:\n",
        "    print(td)"
      ],
      "metadata": {
        "colab": {
          "base_uri": "https://localhost:8080/"
        },
        "id": "QFx4-H0WAyNz",
        "outputId": "9f46932e-0c13-445f-97cd-cf4a299176a1"
      },
      "execution_count": null,
      "outputs": [
        {
          "output_type": "stream",
          "name": "stdout",
          "text": [
            "/tmp/tmpnwymh31k\n"
          ]
        }
      ]
    },
    {
      "cell_type": "markdown",
      "source": [
        "## subprocess\n",
        "\n",
        "*   Linuxコマンドをpythonで使用する\n",
        "*   以前はos.systemだったが現在は非推奨\n",
        "*   returncodeに結果が入っている 0:成功 0以外:エラー\n",
        "\n",
        "\n",
        "```\n",
        "subprocess.run(['実行コマンド', '引数'])\n",
        "\n",
        "# shellを使用するとパイプなど使用可能\n",
        "# シェルインジェクションなどセキュリティ的によろしくないため推奨されていない\n",
        "subprocess.run('実行コマンド', shell=True) \n",
        "```\n",
        "\n",
        "\n",
        "\n",
        "\n"
      ],
      "metadata": {
        "id": "ZhSauJ-ZBQqB"
      }
    },
    {
      "cell_type": "code",
      "source": [
        "import subprocess\n",
        "# こちらのやり方で存在しないコマンドを実行するとエラーになる\n",
        "subprocess.run(['ls', '-al'])\n",
        "\n",
        "# パイプを使用する場合\n",
        "p1 = subprocess.Popen(['ls', '-al'], stdout=subprocess.PIPE)\n",
        "p2 = subprocess.Popen(['grep', 'test.txt'], stdin=p1.stdout, stdout=subprocess.PIPE)\n",
        "p1.stdout.close()\n",
        "output = p2.communicate()[0]\n",
        "print(output)"
      ],
      "metadata": {
        "colab": {
          "base_uri": "https://localhost:8080/"
        },
        "id": "McD9bHUDBYfb",
        "outputId": "38a446b6-59fa-4bc3-a0d0-dab07db23d6a"
      },
      "execution_count": null,
      "outputs": [
        {
          "output_type": "stream",
          "name": "stdout",
          "text": [
            "b'-rw-r--r-- 1 root root    0 Aug 29 15:04 test.txt\\n'\n"
          ]
        }
      ]
    },
    {
      "cell_type": "code",
      "source": [
        "import subprocess\n",
        "\n",
        "# 左のコマンドをそのままシェルに渡しシェルが実行する\n",
        "subprocess.run('ls -al | grep *.py', shell=True) \n",
        "\n",
        "# returncodeによるレスポンス\n",
        "r1 = subprocess.run('ls -al', shell=True)\n",
        "print(r1.returncode)\n",
        "\n",
        "r2 = subprocess.run('lsf -al', shell=True)\n",
        "print(r2.returncode)"
      ],
      "metadata": {
        "colab": {
          "base_uri": "https://localhost:8080/"
        },
        "id": "K8hiFaO9GzDe",
        "outputId": "25f77501-8e39-4fff-a67c-1c9692998007"
      },
      "execution_count": null,
      "outputs": [
        {
          "output_type": "stream",
          "name": "stdout",
          "text": [
            "0\n",
            "127\n"
          ]
        }
      ]
    },
    {
      "cell_type": "markdown",
      "source": [
        "## 時間について"
      ],
      "metadata": {
        "id": "mTiuWZblI1O3"
      }
    },
    {
      "cell_type": "code",
      "source": [
        "import datetime\n",
        "\n",
        "# 今の時間\n",
        "now = datetime.datetime.now()\n",
        "print(now)\n",
        "print(now.isoformat()) # 国際規格での表示\n",
        "print(now.strftime('%d/%m/%Y')) # 自分で表記を変える (日/月/年)"
      ],
      "metadata": {
        "colab": {
          "base_uri": "https://localhost:8080/"
        },
        "id": "s5dsXgITI3Eq",
        "outputId": "6fb353f7-3831-40ca-c95e-6aef4089d4eb"
      },
      "execution_count": null,
      "outputs": [
        {
          "output_type": "stream",
          "name": "stdout",
          "text": [
            "2022-08-29 15:15:20.098690\n",
            "2022-08-29T15:15:20.098690\n",
            "29/08/2022\n"
          ]
        }
      ]
    },
    {
      "cell_type": "code",
      "source": [
        "# 年月日のみ扱う\n",
        "today = datetime.date.today()\n",
        "print(today)\n",
        "print(today.isoformat()) # 国際規格での表示\n",
        "print(today.strftime('%d/%m/%y')) # 自分で表記を変える (日/月/年)"
      ],
      "metadata": {
        "colab": {
          "base_uri": "https://localhost:8080/"
        },
        "id": "NaAyYqkHK5V1",
        "outputId": "28642c59-92dc-4b2d-8290-2b0b69296362"
      },
      "execution_count": null,
      "outputs": [
        {
          "output_type": "stream",
          "name": "stdout",
          "text": [
            "2022-08-29\n",
            "2022-08-29\n",
            "29/08/22\n"
          ]
        }
      ]
    },
    {
      "cell_type": "code",
      "source": [
        "# 時間\n",
        "t = datetime.time(hour=2, minute=13, second=4, microsecond=100)\n",
        "print(t)\n",
        "print(t.isoformat())\n",
        "print(t.strftime('%H-%M-%S-%f'))"
      ],
      "metadata": {
        "colab": {
          "base_uri": "https://localhost:8080/"
        },
        "id": "w1gImlrZK61d",
        "outputId": "9d3882b3-42ed-47d4-9c1e-6d7d825e900c"
      },
      "execution_count": null,
      "outputs": [
        {
          "output_type": "stream",
          "name": "stdout",
          "text": [
            "02:13:04.000100\n",
            "02:13:04.000100\n",
            "02-13-04-000100\n"
          ]
        }
      ]
    },
    {
      "cell_type": "markdown",
      "source": [
        "### 日付の計算"
      ],
      "metadata": {
        "id": "Aqaj6g1gMJgM"
      }
    },
    {
      "cell_type": "code",
      "source": [
        "# 日付の計算\n",
        "print(now)\n",
        "d = datetime.timedelta(weeks=-1) # 一週間前\n",
        "print(now + d)\n",
        "\n",
        "# こちらでも一週間前になる\n",
        "d = datetime.timedelta(weeks=1)\n",
        "print(now - d)\n",
        "\n",
        "d = datetime.timedelta(weeks=1) # 一週間後\n",
        "print(now + d)\n",
        "\n",
        "d = datetime.timedelta(days=1) # 一日後\n",
        "print(now + d)\n",
        "\n",
        "# 基本的には週、日、時、分、秒、ミリ秒あるが年はないので日付で指定\n",
        "d = datetime.timedelta(days=365) # 一年後\n",
        "print(now + d)"
      ],
      "metadata": {
        "colab": {
          "base_uri": "https://localhost:8080/"
        },
        "id": "f5tXwMI_K81n",
        "outputId": "709e5d48-43e5-4804-ca61-d605aef5092d"
      },
      "execution_count": null,
      "outputs": [
        {
          "output_type": "stream",
          "name": "stdout",
          "text": [
            "2022-08-29 15:15:20.098690\n",
            "2022-08-22 15:15:20.098690\n",
            "2022-08-22 15:15:20.098690\n",
            "2022-09-05 15:15:20.098690\n",
            "2022-08-30 15:15:20.098690\n",
            "2023-08-29 15:15:20.098690\n"
          ]
        }
      ]
    },
    {
      "cell_type": "code",
      "source": [
        "import time\n",
        "print('処理開始')\n",
        "time.sleep(3) # 引数秒スリープする\n",
        "print('処理終了')"
      ],
      "metadata": {
        "colab": {
          "base_uri": "https://localhost:8080/"
        },
        "id": "76pyv5tKMH0H",
        "outputId": "d99b1a0b-9bb6-4284-e8c2-36b01c3d9686"
      },
      "execution_count": null,
      "outputs": [
        {
          "output_type": "stream",
          "name": "stdout",
          "text": [
            "処理開始\n",
            "処理終了\n"
          ]
        }
      ]
    },
    {
      "cell_type": "markdown",
      "source": [
        "### 活用例\n",
        "\n",
        "*   ファイルのバックアップを取る\n",
        "\n"
      ],
      "metadata": {
        "id": "abaNVJbFM_9p"
      }
    },
    {
      "cell_type": "code",
      "source": [
        "import os\n",
        "import shutil\n",
        "\n",
        "# test.txtが存在する場合はファイル名.現在時刻でコピーを行う\n",
        "file_name = 'test.txt'\n",
        "if os.path.exists(file_name) == True:\n",
        "    shutil.copy('test.txt', f\"{file_name}_{now.strftime('%Y-%m-%d')}\")\n",
        "\n",
        "with open(file_name, 'w') as f:\n",
        "    f.write('test')"
      ],
      "metadata": {
        "id": "Jz0EMHrMMsgT"
      },
      "execution_count": null,
      "outputs": []
    }
  ]
}