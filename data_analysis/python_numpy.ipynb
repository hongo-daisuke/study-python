{
  "nbformat": 4,
  "nbformat_minor": 0,
  "metadata": {
    "colab": {
      "provenance": [],
      "collapsed_sections": [],
      "authorship_tag": "ABX9TyPJCvWKmSVJEAzScedaNKLS",
      "include_colab_link": true
    },
    "kernelspec": {
      "name": "python3",
      "display_name": "Python 3"
    },
    "language_info": {
      "name": "python"
    }
  },
  "cells": [
    {
      "cell_type": "markdown",
      "metadata": {
        "id": "view-in-github",
        "colab_type": "text"
      },
      "source": [
        "<a href=\"https://colab.research.google.com/github/hongo-daisuke/study-python/blob/master/data_analysis/python_numpy.ipynb\" target=\"_parent\"><img src=\"https://colab.research.google.com/assets/colab-badge.svg\" alt=\"Open In Colab\"/></a>"
      ]
    },
    {
      "cell_type": "markdown",
      "source": [
        "# numpy\n",
        "\n",
        "*   多次元かつ大量のベクトルの演算を容易に高速に処理を行うことが出来る\n",
        "\n"
      ],
      "metadata": {
        "id": "WXcMgakbsBD7"
      }
    },
    {
      "cell_type": "code",
      "source": [
        "import numpy as np"
      ],
      "metadata": {
        "id": "50ECcqlfsAEg"
      },
      "execution_count": null,
      "outputs": []
    },
    {
      "cell_type": "markdown",
      "source": [
        "### 1次元のnumpy.ndarrayを生成"
      ],
      "metadata": {
        "id": "A7NqiaCxKH3S"
      }
    },
    {
      "cell_type": "code",
      "source": [
        "# 1次元のnumpy.ndarrayを生成\n",
        "a = np.array([1, 2, 3])\n",
        "a"
      ],
      "metadata": {
        "colab": {
          "base_uri": "https://localhost:8080/"
        },
        "id": "sbWiuywWuvVf",
        "outputId": "c31836b1-e77d-4d26-dbad-33b93d517ccb"
      },
      "execution_count": null,
      "outputs": [
        {
          "output_type": "execute_result",
          "data": {
            "text/plain": [
              "array([1, 2, 3])"
            ]
          },
          "metadata": {},
          "execution_count": 3
        }
      ]
    },
    {
      "cell_type": "code",
      "source": [
        "type(a)"
      ],
      "metadata": {
        "colab": {
          "base_uri": "https://localhost:8080/"
        },
        "id": "wNkhhs_8uveH",
        "outputId": "17789413-c085-4256-8031-7aec6fb9ea22"
      },
      "execution_count": null,
      "outputs": [
        {
          "output_type": "execute_result",
          "data": {
            "text/plain": [
              "numpy.ndarray"
            ]
          },
          "metadata": {},
          "execution_count": 6
        }
      ]
    },
    {
      "cell_type": "markdown",
      "source": [
        "### データへアクセス"
      ],
      "metadata": {
        "id": "DUYj1mMUKNjr"
      }
    },
    {
      "cell_type": "code",
      "source": [
        "# データへアクセス\n",
        "a[1]"
      ],
      "metadata": {
        "colab": {
          "base_uri": "https://localhost:8080/"
        },
        "id": "j-X3GqnFuvhh",
        "outputId": "71691ade-6aff-47bb-fcbb-cbf3e87d4576"
      },
      "execution_count": null,
      "outputs": [
        {
          "output_type": "execute_result",
          "data": {
            "text/plain": [
              "2"
            ]
          },
          "metadata": {},
          "execution_count": 5
        }
      ]
    },
    {
      "cell_type": "markdown",
      "source": [
        "### 2次元のnumpy.ndarrayを生成"
      ],
      "metadata": {
        "id": "WISWKA7YKRj6"
      }
    },
    {
      "cell_type": "code",
      "source": [
        "# 2次元のnumpy.ndarrayを生成\n",
        "a = np.array([[1, 2, 3], [4, 5, 6]])\n",
        "a"
      ],
      "metadata": {
        "colab": {
          "base_uri": "https://localhost:8080/"
        },
        "id": "iSwLarGduvk4",
        "outputId": "0b76f6d5-376b-4b40-e1ea-647b69fd6750"
      },
      "execution_count": null,
      "outputs": [
        {
          "output_type": "execute_result",
          "data": {
            "text/plain": [
              "array([[1, 2, 3],\n",
              "       [4, 5, 6]])"
            ]
          },
          "metadata": {},
          "execution_count": 8
        }
      ]
    },
    {
      "cell_type": "code",
      "source": [
        "a[0]"
      ],
      "metadata": {
        "colab": {
          "base_uri": "https://localhost:8080/"
        },
        "id": "oconEezxvg9K",
        "outputId": "df6f0048-54b5-46c3-c009-cef9093c47fc"
      },
      "execution_count": null,
      "outputs": [
        {
          "output_type": "execute_result",
          "data": {
            "text/plain": [
              "array([1, 2, 3])"
            ]
          },
          "metadata": {},
          "execution_count": 9
        }
      ]
    },
    {
      "cell_type": "code",
      "source": [
        "a[1][2]"
      ],
      "metadata": {
        "colab": {
          "base_uri": "https://localhost:8080/"
        },
        "id": "dXrId0lbvhAc",
        "outputId": "0ed4d809-9553-4a28-f51e-9b355d2a54f3"
      },
      "execution_count": null,
      "outputs": [
        {
          "output_type": "execute_result",
          "data": {
            "text/plain": [
              "6"
            ]
          },
          "metadata": {},
          "execution_count": 10
        }
      ]
    },
    {
      "cell_type": "markdown",
      "source": [
        "### numpy.ndarrayの形状の確認"
      ],
      "metadata": {
        "id": "tBIipN03KWc5"
      }
    },
    {
      "cell_type": "code",
      "source": [
        "# numpy.ndarrayの形状の確認\n",
        "a.shape"
      ],
      "metadata": {
        "colab": {
          "base_uri": "https://localhost:8080/"
        },
        "id": "ffGPRx1jvhDV",
        "outputId": "2d7bed58-97ce-4f72-89ee-929e5a925fea"
      },
      "execution_count": null,
      "outputs": [
        {
          "output_type": "execute_result",
          "data": {
            "text/plain": [
              "(2, 3)"
            ]
          },
          "metadata": {},
          "execution_count": 11
        }
      ]
    },
    {
      "cell_type": "markdown",
      "source": [
        "### numpy.ndarrayが何次元か確認 "
      ],
      "metadata": {
        "id": "q-QStbrGKanB"
      }
    },
    {
      "cell_type": "code",
      "source": [
        "# numpy.ndarrayが何次元か確認\n",
        "a.ndim"
      ],
      "metadata": {
        "colab": {
          "base_uri": "https://localhost:8080/"
        },
        "id": "9XvBLakivhKG",
        "outputId": "6b82d19a-fe06-474f-be30-90435a2cb4ca"
      },
      "execution_count": null,
      "outputs": [
        {
          "output_type": "execute_result",
          "data": {
            "text/plain": [
              "2"
            ]
          },
          "metadata": {},
          "execution_count": 13
        }
      ]
    },
    {
      "cell_type": "markdown",
      "source": [
        "### numpy.ndarrayにいくつのデータが存在するか"
      ],
      "metadata": {
        "id": "3Kkqmr-ZKflA"
      }
    },
    {
      "cell_type": "code",
      "source": [
        "# numpy.ndarrayにいくつのデータが存在するか\n",
        "a.size"
      ],
      "metadata": {
        "colab": {
          "base_uri": "https://localhost:8080/"
        },
        "id": "8I_6xB3GvhOz",
        "outputId": "2218319a-95cd-466f-a8f9-9d23cf549ccc"
      },
      "execution_count": null,
      "outputs": [
        {
          "output_type": "execute_result",
          "data": {
            "text/plain": [
              "6"
            ]
          },
          "metadata": {},
          "execution_count": 14
        }
      ]
    },
    {
      "cell_type": "markdown",
      "source": [
        "### 第一引数から第二引数までの1区切りのnumpy.ndarrayを作成"
      ],
      "metadata": {
        "id": "od3pN4GPKjxJ"
      }
    },
    {
      "cell_type": "code",
      "source": [
        "# 第一引数から第二引数までの1区切りのnumpy.ndarrayを作成\n",
        "a = np.arange(0, 10)\n",
        "a"
      ],
      "metadata": {
        "colab": {
          "base_uri": "https://localhost:8080/"
        },
        "id": "Cm1FYyt4vhSh",
        "outputId": "fca284c2-991d-4236-a31f-34490b3d9640"
      },
      "execution_count": null,
      "outputs": [
        {
          "output_type": "execute_result",
          "data": {
            "text/plain": [
              "array([0, 1, 2, 3, 4, 5, 6, 7, 8, 9])"
            ]
          },
          "metadata": {},
          "execution_count": 19
        }
      ]
    },
    {
      "cell_type": "markdown",
      "source": [
        "### 第一引数から第二引数までの第三引数区切りのnumpy.ndarrayを作成"
      ],
      "metadata": {
        "id": "F0BYOrgTKnCR"
      }
    },
    {
      "cell_type": "code",
      "source": [
        "# 第一引数から第二引数までの第三引数区切りのnumpy.ndarrayを作成\n",
        "a = np.arange(0, 20, 5)\n",
        "a"
      ],
      "metadata": {
        "colab": {
          "base_uri": "https://localhost:8080/"
        },
        "id": "0_8djjwYxUBt",
        "outputId": "033c7746-e279-4d25-ff29-8f36ec0bfaa5"
      },
      "execution_count": null,
      "outputs": [
        {
          "output_type": "execute_result",
          "data": {
            "text/plain": [
              "array([ 0,  5, 10, 15])"
            ]
          },
          "metadata": {},
          "execution_count": 21
        }
      ]
    },
    {
      "cell_type": "markdown",
      "source": [
        "## 代表的な行列の生成"
      ],
      "metadata": {
        "id": "fkCmWKrjURrM"
      }
    },
    {
      "cell_type": "markdown",
      "source": [
        "### 第一引数 x 第二引数の0の行列を作成"
      ],
      "metadata": {
        "id": "EMrmKYsAKrTZ"
      }
    },
    {
      "cell_type": "code",
      "source": [
        "# 第一引数 x 第二引数の0の行列を作成\n",
        "a = np.zeros((3, 4))\n",
        "a"
      ],
      "metadata": {
        "colab": {
          "base_uri": "https://localhost:8080/"
        },
        "id": "ulhIIRVqxueL",
        "outputId": "23a692ca-8829-4276-a21b-2b935dc8c36b"
      },
      "execution_count": null,
      "outputs": [
        {
          "output_type": "execute_result",
          "data": {
            "text/plain": [
              "array([[0., 0., 0., 0.],\n",
              "       [0., 0., 0., 0.],\n",
              "       [0., 0., 0., 0.]])"
            ]
          },
          "metadata": {},
          "execution_count": 23
        }
      ]
    },
    {
      "cell_type": "markdown",
      "source": [
        "### 第一引数 x 第二引数の要素が全て1の行列を作成"
      ],
      "metadata": {
        "id": "cRKgnZ7pKu3B"
      }
    },
    {
      "cell_type": "code",
      "source": [
        "# 第一引数 x 第二引数の要素が全て1の行列を作成\n",
        "a = np.ones((3, 4))\n",
        "a"
      ],
      "metadata": {
        "colab": {
          "base_uri": "https://localhost:8080/"
        },
        "id": "LY7ti8X6xugy",
        "outputId": "88062647-fa6a-41f3-b01b-169e673bfc91"
      },
      "execution_count": null,
      "outputs": [
        {
          "output_type": "execute_result",
          "data": {
            "text/plain": [
              "array([[1., 1., 1., 1.],\n",
              "       [1., 1., 1., 1.],\n",
              "       [1., 1., 1., 1.]])"
            ]
          },
          "metadata": {},
          "execution_count": 24
        }
      ]
    },
    {
      "cell_type": "markdown",
      "source": [
        "### 第一引数 x 第二引数の0の行列を作成\n",
        "np.zerosとに似ているが必ずしも完全にゼロで初期化されていない可能性がある場合に使用"
      ],
      "metadata": {
        "id": "nUMW7KqeUEEz"
      }
    },
    {
      "cell_type": "code",
      "source": [
        "a = np.empty([3, 3])\n",
        "a"
      ],
      "metadata": {
        "colab": {
          "base_uri": "https://localhost:8080/"
        },
        "id": "Vh4BgBHhUEbl",
        "outputId": "cf464495-1a14-4548-aa29-f5b0dbb8ea65"
      },
      "execution_count": null,
      "outputs": [
        {
          "output_type": "execute_result",
          "data": {
            "text/plain": [
              "array([[1.29161013e-316, 1.77863633e-322, 0.00000000e+000],\n",
              "       [0.00000000e+000, 0.00000000e+000, 4.95687694e-062],\n",
              "       [1.38053853e-047, 7.12300776e-091, 1.12101012e-047]])"
            ]
          },
          "metadata": {},
          "execution_count": 5
        }
      ]
    },
    {
      "cell_type": "markdown",
      "source": [
        "### N x Mの単位行列"
      ],
      "metadata": {
        "id": "ao-g-b3TVUqv"
      }
    },
    {
      "cell_type": "code",
      "source": [
        "# 4 * 4の対角行列を作成\n",
        "a = np.eye(4)\n",
        "a"
      ],
      "metadata": {
        "colab": {
          "base_uri": "https://localhost:8080/"
        },
        "id": "N5BeBig5VgeG",
        "outputId": "45dd3590-263a-414e-e9a9-277ae8dab21f"
      },
      "execution_count": null,
      "outputs": [
        {
          "output_type": "execute_result",
          "data": {
            "text/plain": [
              "array([[1., 0., 0., 0.],\n",
              "       [0., 1., 0., 0.],\n",
              "       [0., 0., 1., 0.],\n",
              "       [0., 0., 0., 1.]])"
            ]
          },
          "metadata": {},
          "execution_count": 6
        }
      ]
    },
    {
      "cell_type": "markdown",
      "source": [
        "### データが存在しないことを表す欠損値として表す"
      ],
      "metadata": {
        "id": "opcoVrKAKxq5"
      }
    },
    {
      "cell_type": "code",
      "source": [
        "# データが存在しないことを表す欠損値として表す\n",
        "np.nan"
      ],
      "metadata": {
        "colab": {
          "base_uri": "https://localhost:8080/"
        },
        "id": "3TzVwbLJxukQ",
        "outputId": "34d91108-c010-4edc-c469-1217ebe85301"
      },
      "execution_count": null,
      "outputs": [
        {
          "output_type": "execute_result",
          "data": {
            "text/plain": [
              "nan"
            ]
          },
          "metadata": {},
          "execution_count": 25
        }
      ]
    },
    {
      "cell_type": "markdown",
      "source": [
        "### nanの配列を作成"
      ],
      "metadata": {
        "id": "h-tj_n_iK0bA"
      }
    },
    {
      "cell_type": "code",
      "source": [
        "# nanの配列を作成\n",
        "[np.nan] * 3"
      ],
      "metadata": {
        "colab": {
          "base_uri": "https://localhost:8080/"
        },
        "id": "orhW7IPUxunB",
        "outputId": "0244d214-6301-42f1-f65c-dc808c4eb9c8"
      },
      "execution_count": null,
      "outputs": [
        {
          "output_type": "execute_result",
          "data": {
            "text/plain": [
              "[nan, nan, nan]"
            ]
          },
          "metadata": {},
          "execution_count": 26
        }
      ]
    },
    {
      "cell_type": "markdown",
      "source": [
        "### 第一引数から第二引数の間で第三引数分のnumpy.ndarrayを作成"
      ],
      "metadata": {
        "id": "Bcpq22BVK2GA"
      }
    },
    {
      "cell_type": "code",
      "source": [
        "# 第一引数から第二引数の間で第三引数分のnumpy.ndarrayを作成\n",
        "np.linspace(0, 3, 5)"
      ],
      "metadata": {
        "colab": {
          "base_uri": "https://localhost:8080/"
        },
        "id": "P9QEeAj4xupT",
        "outputId": "d5d8d624-4a60-4d2c-fb9c-ca99a23f9096"
      },
      "execution_count": null,
      "outputs": [
        {
          "output_type": "execute_result",
          "data": {
            "text/plain": [
              "array([0.  , 0.75, 1.5 , 2.25, 3.  ])"
            ]
          },
          "metadata": {},
          "execution_count": 27
        }
      ]
    },
    {
      "cell_type": "markdown",
      "source": [
        "### .reshape(N, M)で N * Mの形状のnumpy.ndarrayに形を変換"
      ],
      "metadata": {
        "id": "hT8s1LgRK7Bh"
      }
    },
    {
      "cell_type": "code",
      "source": [
        "a = np.arange(6)\n",
        "a"
      ],
      "metadata": {
        "colab": {
          "base_uri": "https://localhost:8080/"
        },
        "id": "x-WgtWsVxusS",
        "outputId": "3258b49c-5f87-4121-b007-222e015158ef"
      },
      "execution_count": null,
      "outputs": [
        {
          "output_type": "execute_result",
          "data": {
            "text/plain": [
              "array([0, 1, 2, 3, 4, 5])"
            ]
          },
          "metadata": {},
          "execution_count": 28
        }
      ]
    },
    {
      "cell_type": "code",
      "source": [
        "# .reshape(N, M)で N * Mの形状のnumpy.ndarrayに形を変換\n",
        "a = np.arange(6).reshape(2, 3)\n",
        "a"
      ],
      "metadata": {
        "colab": {
          "base_uri": "https://localhost:8080/"
        },
        "id": "lzzwVyX70SG4",
        "outputId": "8d4e0798-0f21-48de-d2aa-678b3d0eacaf"
      },
      "execution_count": null,
      "outputs": [
        {
          "output_type": "execute_result",
          "data": {
            "text/plain": [
              "array([[0, 1, 2],\n",
              "       [3, 4, 5]])"
            ]
          },
          "metadata": {},
          "execution_count": 29
        }
      ]
    },
    {
      "cell_type": "markdown",
      "source": [
        "### 0~23を2 * 3 * 4の3次元配列に形を変換"
      ],
      "metadata": {
        "id": "GQfqRPGVLBNT"
      }
    },
    {
      "cell_type": "code",
      "source": [
        "# 0~23を2 * 3 * 4の3次元配列に形を変換\n",
        "a = np.arange(24).reshape(2, 3, 4)\n",
        "a"
      ],
      "metadata": {
        "colab": {
          "base_uri": "https://localhost:8080/"
        },
        "id": "UssO8imo1U0w",
        "outputId": "f342729c-f1ac-4c55-b905-35bf8cb8436f"
      },
      "execution_count": null,
      "outputs": [
        {
          "output_type": "execute_result",
          "data": {
            "text/plain": [
              "array([[[ 0,  1,  2,  3],\n",
              "        [ 4,  5,  6,  7],\n",
              "        [ 8,  9, 10, 11]],\n",
              "\n",
              "       [[12, 13, 14, 15],\n",
              "        [16, 17, 18, 19],\n",
              "        [20, 21, 22, 23]]])"
            ]
          },
          "metadata": {},
          "execution_count": 34
        }
      ]
    },
    {
      "cell_type": "markdown",
      "source": [
        "### 数の多いnumpy.ndarrayの表示方法"
      ],
      "metadata": {
        "id": "ugV1G1uDLGmk"
      }
    },
    {
      "cell_type": "code",
      "source": [
        "# 数が多いと途中の数値が省略される\n",
        "np.arange(10000)"
      ],
      "metadata": {
        "colab": {
          "base_uri": "https://localhost:8080/"
        },
        "id": "EaFmYZ-i2LAs",
        "outputId": "3a54b6f1-0d1e-4faf-e151-ae71165a3d29"
      },
      "execution_count": null,
      "outputs": [
        {
          "output_type": "execute_result",
          "data": {
            "text/plain": [
              "array([   0,    1,    2, ..., 9997, 9998, 9999])"
            ]
          },
          "metadata": {},
          "execution_count": 35
        }
      ]
    },
    {
      "cell_type": "code",
      "source": [
        "# reshapeしても同様に省略される\n",
        "np.arange(10000).reshape(100, 100)"
      ],
      "metadata": {
        "colab": {
          "base_uri": "https://localhost:8080/"
        },
        "id": "15732Ul_2LF5",
        "outputId": "a0dd7362-13e3-4262-f9ba-7cdc6de772a1"
      },
      "execution_count": null,
      "outputs": [
        {
          "output_type": "execute_result",
          "data": {
            "text/plain": [
              "array([[   0,    1,    2, ...,   97,   98,   99],\n",
              "       [ 100,  101,  102, ...,  197,  198,  199],\n",
              "       [ 200,  201,  202, ...,  297,  298,  299],\n",
              "       ...,\n",
              "       [9700, 9701, 9702, ..., 9797, 9798, 9799],\n",
              "       [9800, 9801, 9802, ..., 9897, 9898, 9899],\n",
              "       [9900, 9901, 9902, ..., 9997, 9998, 9999]])"
            ]
          },
          "metadata": {},
          "execution_count": 39
        }
      ]
    },
    {
      "cell_type": "code",
      "source": [
        "# set_printoptionsで設定してから表示する\n",
        "np.set_printoptions(threshold=10000)\n",
        "np.arange(10000)"
      ],
      "metadata": {
        "id": "Nu7q0OSb2LLx"
      },
      "execution_count": null,
      "outputs": []
    },
    {
      "cell_type": "markdown",
      "source": [
        "### 配列の連結"
      ],
      "metadata": {
        "id": "9FyR2cWZLeQH"
      }
    },
    {
      "cell_type": "code",
      "source": [
        "# 0から10まで2ステップのnumpy.ndarrayを作成\n",
        "x = np.arange(0, 10, 2)\n",
        "x"
      ],
      "metadata": {
        "colab": {
          "base_uri": "https://localhost:8080/"
        },
        "id": "Zv5oCWlN2LQi",
        "outputId": "f1389f1f-2647-43b0-d69b-dce7e5193105"
      },
      "execution_count": null,
      "outputs": [
        {
          "output_type": "execute_result",
          "data": {
            "text/plain": [
              "array([0, 2, 4, 6, 8])"
            ]
          },
          "metadata": {},
          "execution_count": 44
        }
      ]
    },
    {
      "cell_type": "code",
      "source": [
        "# 0から5のnumpy.ndarrayを作成\n",
        "y = np.arange(5)\n",
        "y"
      ],
      "metadata": {
        "colab": {
          "base_uri": "https://localhost:8080/"
        },
        "id": "j7P7kRHe2LSv",
        "outputId": "4f366dc6-bfac-4213-86e6-36836ef009af"
      },
      "execution_count": null,
      "outputs": [
        {
          "output_type": "execute_result",
          "data": {
            "text/plain": [
              "array([0, 1, 2, 3, 4])"
            ]
          },
          "metadata": {},
          "execution_count": 45
        }
      ]
    },
    {
      "cell_type": "code",
      "source": [
        "# 0から100まで20ステップのnumpy.ndarrayを作成\n",
        "z = np.arange(0, 100, 20)\n",
        "z"
      ],
      "metadata": {
        "colab": {
          "base_uri": "https://localhost:8080/"
        },
        "id": "DwxzpSja2LUp",
        "outputId": "29bb4868-2446-4472-99e2-d6bbf492e9d7"
      },
      "execution_count": null,
      "outputs": [
        {
          "output_type": "execute_result",
          "data": {
            "text/plain": [
              "array([ 0, 20, 40, 60, 80])"
            ]
          },
          "metadata": {},
          "execution_count": 46
        }
      ]
    },
    {
      "cell_type": "code",
      "source": [
        "# 配列の操作 xにyが追加される\n",
        "np.append(x, y)"
      ],
      "metadata": {
        "colab": {
          "base_uri": "https://localhost:8080/"
        },
        "id": "rKyym2bB2LWY",
        "outputId": "7d57ca1f-46c3-46fa-cac0-d49bc6b12ac4"
      },
      "execution_count": null,
      "outputs": [
        {
          "output_type": "execute_result",
          "data": {
            "text/plain": [
              "array([0, 2, 4, 6, 8, 0, 1, 2, 3, 4])"
            ]
          },
          "metadata": {},
          "execution_count": 47
        }
      ]
    },
    {
      "cell_type": "code",
      "source": [
        "# 配列同士の連結\n",
        "np.vstack([x, y, z])"
      ],
      "metadata": {
        "colab": {
          "base_uri": "https://localhost:8080/"
        },
        "id": "_joCz9uB4Her",
        "outputId": "8eecad62-d09c-4917-9dac-8a8d7733bd93"
      },
      "execution_count": null,
      "outputs": [
        {
          "output_type": "execute_result",
          "data": {
            "text/plain": [
              "array([[ 0,  2,  4,  6,  8],\n",
              "       [ 0,  1,  2,  3,  4],\n",
              "       [ 0, 20, 40, 60, 80]])"
            ]
          },
          "metadata": {},
          "execution_count": 48
        }
      ]
    },
    {
      "cell_type": "code",
      "source": [
        "# 配列同士の横への連結\n",
        "np.hstack([x, y, z])"
      ],
      "metadata": {
        "colab": {
          "base_uri": "https://localhost:8080/"
        },
        "id": "8h_amsZE4hMV",
        "outputId": "75f1c87b-0bd3-4a60-8e76-d0232122768a"
      },
      "execution_count": null,
      "outputs": [
        {
          "output_type": "execute_result",
          "data": {
            "text/plain": [
              "array([ 0,  2,  4,  6,  8,  0,  1,  2,  3,  4,  0, 20, 40, 60, 80])"
            ]
          },
          "metadata": {},
          "execution_count": 49
        }
      ]
    },
    {
      "cell_type": "markdown",
      "source": [
        " ### 配列の計算"
      ],
      "metadata": {
        "id": "3w28iUlvL9WG"
      }
    },
    {
      "cell_type": "code",
      "source": [
        "a = np.array([10, 20, 30, 40, 50])\n",
        "a"
      ],
      "metadata": {
        "colab": {
          "base_uri": "https://localhost:8080/"
        },
        "id": "YEM_ES8a4hOy",
        "outputId": "27d1ce36-dab2-4b92-d1fe-3e9cb608418f"
      },
      "execution_count": null,
      "outputs": [
        {
          "output_type": "execute_result",
          "data": {
            "text/plain": [
              "array([10, 20, 30, 40, 50])"
            ]
          },
          "metadata": {},
          "execution_count": 50
        }
      ]
    },
    {
      "cell_type": "code",
      "source": [
        "b = np.arange(5)\n",
        "b"
      ],
      "metadata": {
        "colab": {
          "base_uri": "https://localhost:8080/"
        },
        "id": "9QJwyttL4hRY",
        "outputId": "d9f0aa0b-deb9-4766-c5de-15b36a583f64"
      },
      "execution_count": null,
      "outputs": [
        {
          "output_type": "execute_result",
          "data": {
            "text/plain": [
              "array([0, 1, 2, 3, 4])"
            ]
          },
          "metadata": {},
          "execution_count": 51
        }
      ]
    },
    {
      "cell_type": "code",
      "source": [
        "# 配列の引き算\n",
        "a - b"
      ],
      "metadata": {
        "colab": {
          "base_uri": "https://localhost:8080/"
        },
        "id": "pF61FcTT4hT4",
        "outputId": "5d8c1394-8f7f-43b3-8010-7b4f87374769"
      },
      "execution_count": null,
      "outputs": [
        {
          "output_type": "execute_result",
          "data": {
            "text/plain": [
              "array([10, 19, 28, 37, 46])"
            ]
          },
          "metadata": {},
          "execution_count": 52
        }
      ]
    },
    {
      "cell_type": "code",
      "source": [
        "# 配列の引き算\n",
        "b - a"
      ],
      "metadata": {
        "colab": {
          "base_uri": "https://localhost:8080/"
        },
        "id": "JRDAXNk04hWK",
        "outputId": "b295f0ff-757e-485e-94ef-6cc9535617b8"
      },
      "execution_count": null,
      "outputs": [
        {
          "output_type": "execute_result",
          "data": {
            "text/plain": [
              "array([-10, -19, -28, -37, -46])"
            ]
          },
          "metadata": {},
          "execution_count": 53
        }
      ]
    },
    {
      "cell_type": "code",
      "source": [
        "# 掛け算\n",
        "b * 2"
      ],
      "metadata": {
        "colab": {
          "base_uri": "https://localhost:8080/"
        },
        "id": "yqBEs51j4hYR",
        "outputId": "fd376e68-8fa8-46c2-9603-b1d0354e2788"
      },
      "execution_count": null,
      "outputs": [
        {
          "output_type": "execute_result",
          "data": {
            "text/plain": [
              "array([0, 2, 4, 6, 8])"
            ]
          },
          "metadata": {},
          "execution_count": 54
        }
      ]
    },
    {
      "cell_type": "code",
      "source": [
        "# 掛け算\n",
        "a * b"
      ],
      "metadata": {
        "colab": {
          "base_uri": "https://localhost:8080/"
        },
        "id": "urn56t0l4hcg",
        "outputId": "0bf6d21b-c8ce-4bce-9a36-a1b2b02c907b"
      },
      "execution_count": null,
      "outputs": [
        {
          "output_type": "execute_result",
          "data": {
            "text/plain": [
              "array([  0,  20,  60, 120, 200])"
            ]
          },
          "metadata": {},
          "execution_count": 55
        }
      ]
    },
    {
      "cell_type": "markdown",
      "source": [
        "## 様々な値の取り出し方"
      ],
      "metadata": {
        "id": "oaS_GEYWMMeS"
      }
    },
    {
      "cell_type": "markdown",
      "source": [
        "### aの中で30より小さい数値はTrueそれ以外をFalseで表す"
      ],
      "metadata": {
        "id": "lQTxZotFMSUu"
      }
    },
    {
      "cell_type": "code",
      "source": [
        "# aの中で30より小さい数値はTrueそれ以外をFalseで表す\n",
        "a < 30"
      ],
      "metadata": {
        "colab": {
          "base_uri": "https://localhost:8080/"
        },
        "id": "VqtObkAv4hdz",
        "outputId": "93c17cbe-8305-4512-898a-d56cff26ab17"
      },
      "execution_count": null,
      "outputs": [
        {
          "output_type": "execute_result",
          "data": {
            "text/plain": [
              "array([ True,  True, False, False, False])"
            ]
          },
          "metadata": {},
          "execution_count": 56
        }
      ]
    },
    {
      "cell_type": "markdown",
      "source": [
        "### np.onesでのnumpy.ndarray作成時のオプション"
      ],
      "metadata": {
        "id": "4DXv67swMb4S"
      }
    },
    {
      "cell_type": "code",
      "source": [
        "# 第2引数にdtype=intと指定することでint型として作成可能\n",
        "a = np.ones((2, 3), dtype=int)\n",
        "a"
      ],
      "metadata": {
        "colab": {
          "base_uri": "https://localhost:8080/"
        },
        "id": "ypbUdLyk4hfq",
        "outputId": "297edbde-3964-400d-89b5-b2a5af1ca05d"
      },
      "execution_count": null,
      "outputs": [
        {
          "output_type": "execute_result",
          "data": {
            "text/plain": [
              "array([[1, 1, 1],\n",
              "       [1, 1, 1]])"
            ]
          },
          "metadata": {},
          "execution_count": 60
        }
      ]
    },
    {
      "cell_type": "markdown",
      "source": [
        "### 代入演算子"
      ],
      "metadata": {
        "id": "tblKUH45M59U"
      }
    },
    {
      "cell_type": "code",
      "source": [
        "a *= 3\n",
        "a"
      ],
      "metadata": {
        "colab": {
          "base_uri": "https://localhost:8080/"
        },
        "id": "mO3GtxZ05nGR",
        "outputId": "4a62311e-f0b7-475a-b136-15052779b08b"
      },
      "execution_count": null,
      "outputs": [
        {
          "output_type": "execute_result",
          "data": {
            "text/plain": [
              "array([[3, 3, 3],\n",
              "       [3, 3, 3]])"
            ]
          },
          "metadata": {},
          "execution_count": 61
        }
      ]
    },
    {
      "cell_type": "markdown",
      "source": [
        "## 乱数を生成する。"
      ],
      "metadata": {
        "id": "8RC4kwBONYiD"
      }
    },
    {
      "cell_type": "markdown",
      "source": [
        "### n * mの形状でnumpy.ndarrayを生成"
      ],
      "metadata": {
        "id": "nnTCCYbaaO2b"
      }
    },
    {
      "cell_type": "code",
      "source": [
        "# 乱数を生成する。n * mの形状でnumpy.ndarrayを生成\n",
        "a = np.random.random((2, 3))\n",
        "a"
      ],
      "metadata": {
        "colab": {
          "base_uri": "https://localhost:8080/"
        },
        "id": "wLSmrD5U4hi9",
        "outputId": "f1db02bf-dbc6-491b-ab12-06f330601f3f"
      },
      "execution_count": null,
      "outputs": [
        {
          "output_type": "execute_result",
          "data": {
            "text/plain": [
              "array([[0.16726111, 0.64377285, 0.85984332],\n",
              "       [0.57082441, 0.62670285, 0.00128284]])"
            ]
          },
          "metadata": {},
          "execution_count": 62
        }
      ]
    },
    {
      "cell_type": "markdown",
      "source": [
        "### 乱数を生成する。0から1の半開区間の一様分布の乱数n個のnumpy.ndarrayを生成"
      ],
      "metadata": {
        "id": "D8Tmk41QaQ1i"
      }
    },
    {
      "cell_type": "code",
      "source": [
        "a = np.random.randn(20)\n",
        "a"
      ],
      "metadata": {
        "colab": {
          "base_uri": "https://localhost:8080/"
        },
        "id": "Hl_QfWiMbGWl",
        "outputId": "51802aac-728a-41b6-9122-4ee08a879d67"
      },
      "execution_count": 7,
      "outputs": [
        {
          "output_type": "execute_result",
          "data": {
            "text/plain": [
              "array([-0.04975497, -0.17553062, -0.00629205,  0.83420089,  0.7708218 ,\n",
              "       -0.87252578,  0.20155126, -0.35035517,  0.8460479 , -0.50607366,\n",
              "       -1.38980678, -0.064591  , -1.8106636 , -0.06545899, -0.39353995,\n",
              "        1.18829818,  0.20494733, -1.75641297, -0.51750798, -2.00615457])"
            ]
          },
          "metadata": {},
          "execution_count": 7
        }
      ]
    },
    {
      "cell_type": "markdown",
      "source": [
        "### 配列内の数値を全て足す"
      ],
      "metadata": {
        "id": "jIWsaUuCNbYA"
      }
    },
    {
      "cell_type": "code",
      "source": [
        "# 配列内の数値を全て足す\n",
        "a.sum()"
      ],
      "metadata": {
        "colab": {
          "base_uri": "https://localhost:8080/"
        },
        "id": "d11oxTYO4hlK",
        "outputId": "d1996d98-4827-47a9-f32d-a61430a2737d"
      },
      "execution_count": null,
      "outputs": [
        {
          "output_type": "execute_result",
          "data": {
            "text/plain": [
              "2.8696873763607877"
            ]
          },
          "metadata": {},
          "execution_count": 63
        }
      ]
    },
    {
      "cell_type": "markdown",
      "source": [
        "### 配列内で一番小さい値を返却"
      ],
      "metadata": {
        "id": "8pfJRoAINd_2"
      }
    },
    {
      "cell_type": "code",
      "source": [
        "# 配列内で一番小さい値を返却\n",
        "a.min()"
      ],
      "metadata": {
        "colab": {
          "base_uri": "https://localhost:8080/"
        },
        "id": "3STcS_XV4hm4",
        "outputId": "cbf12936-073f-4d04-f0d0-04c3623a961b"
      },
      "execution_count": null,
      "outputs": [
        {
          "output_type": "execute_result",
          "data": {
            "text/plain": [
              "0.0012828414864946014"
            ]
          },
          "metadata": {},
          "execution_count": 64
        }
      ]
    },
    {
      "cell_type": "markdown",
      "source": [
        "### 配列内で一番大きい値を返却"
      ],
      "metadata": {
        "id": "IWQFmAz-NgMM"
      }
    },
    {
      "cell_type": "code",
      "source": [
        "# 配列内で一番大きい値を返却\n",
        "a.max()"
      ],
      "metadata": {
        "colab": {
          "base_uri": "https://localhost:8080/"
        },
        "id": "5yvHOtYQ7FEi",
        "outputId": "7f53d41e-18ff-422d-ee25-61c3c3f15be6"
      },
      "execution_count": null,
      "outputs": [
        {
          "output_type": "execute_result",
          "data": {
            "text/plain": [
              "0.8598433179430357"
            ]
          },
          "metadata": {},
          "execution_count": 65
        }
      ]
    },
    {
      "cell_type": "markdown",
      "source": [
        "### 配列内の平均値を返却"
      ],
      "metadata": {
        "id": "aMjpX6y2Ng4U"
      }
    },
    {
      "cell_type": "code",
      "source": [
        "# 配列内の平均値を返却\n",
        "a.mean()"
      ],
      "metadata": {
        "colab": {
          "base_uri": "https://localhost:8080/"
        },
        "id": "UqRx_Wib7FJ_",
        "outputId": "03222aeb-cc2c-4e73-80ba-85946851bc3d"
      },
      "execution_count": null,
      "outputs": [
        {
          "output_type": "execute_result",
          "data": {
            "text/plain": [
              "0.4782812293934646"
            ]
          },
          "metadata": {},
          "execution_count": 66
        }
      ]
    },
    {
      "cell_type": "markdown",
      "source": [
        "### axisでどこの方向に計算を行うか指定できる"
      ],
      "metadata": {
        "id": "AF2gCW1XOBk5"
      }
    },
    {
      "cell_type": "code",
      "source": [
        "a = np.arange(12).reshape(3, 4)\n",
        "a"
      ],
      "metadata": {
        "colab": {
          "base_uri": "https://localhost:8080/"
        },
        "id": "5QYYPb247FLt",
        "outputId": "856db980-7d02-4e16-a772-4153c4345797"
      },
      "execution_count": null,
      "outputs": [
        {
          "output_type": "execute_result",
          "data": {
            "text/plain": [
              "array([[ 0,  1,  2,  3],\n",
              "       [ 4,  5,  6,  7],\n",
              "       [ 8,  9, 10, 11]])"
            ]
          },
          "metadata": {},
          "execution_count": 71
        }
      ]
    },
    {
      "cell_type": "code",
      "source": [
        "# axisでどこの方向に計算を行うか指定できる\n",
        "# 0:縦の列、1:横の行\n",
        "print(a.sum(axis=0))\n",
        "print(a.sum(axis=1))"
      ],
      "metadata": {
        "colab": {
          "base_uri": "https://localhost:8080/"
        },
        "id": "f4GkIexZ7FOX",
        "outputId": "4c051666-a0ba-4f81-db1e-cf2acda4897c"
      },
      "execution_count": null,
      "outputs": [
        {
          "output_type": "stream",
          "name": "stdout",
          "text": [
            "[12 15 18 21]\n",
            "[ 6 22 38]\n"
          ]
        }
      ]
    },
    {
      "cell_type": "markdown",
      "source": [
        "### .Tによる転置"
      ],
      "metadata": {
        "id": "dpNUQxFTNqYN"
      }
    },
    {
      "cell_type": "code",
      "source": [
        "# .Tで転置する\n",
        "a.T"
      ],
      "metadata": {
        "colab": {
          "base_uri": "https://localhost:8080/"
        },
        "id": "7gaQ49Rn8C2l",
        "outputId": "4bb91a67-8007-4aa1-e367-886ab20c3e20"
      },
      "execution_count": null,
      "outputs": [
        {
          "output_type": "execute_result",
          "data": {
            "text/plain": [
              "array([[ 0,  4,  8],\n",
              "       [ 1,  5,  9],\n",
              "       [ 2,  6, 10],\n",
              "       [ 3,  7, 11]])"
            ]
          },
          "metadata": {},
          "execution_count": 74
        }
      ]
    },
    {
      "cell_type": "markdown",
      "source": [
        "### resize((N, M))によるサイズの変更"
      ],
      "metadata": {
        "id": "nMk4jqhaNu3f"
      }
    },
    {
      "cell_type": "code",
      "source": [
        "# resize((N, M)) サイズを変更する\n",
        "a.resize((2, 6))\n",
        "a"
      ],
      "metadata": {
        "colab": {
          "base_uri": "https://localhost:8080/"
        },
        "id": "aTllFdlR8Iz0",
        "outputId": "522b618d-392d-4ca7-99d3-ca29a2aefb70"
      },
      "execution_count": null,
      "outputs": [
        {
          "output_type": "execute_result",
          "data": {
            "text/plain": [
              "array([[ 0,  1,  2,  3,  4,  5],\n",
              "       [ 6,  7,  8,  9, 10, 11]])"
            ]
          },
          "metadata": {},
          "execution_count": 76
        }
      ]
    },
    {
      "cell_type": "markdown",
      "source": [
        "## 配列のソート"
      ],
      "metadata": {
        "id": "FYQ3Jr-lbi7R"
      }
    },
    {
      "cell_type": "code",
      "source": [
        "arr1 = np.random.randn(20)\n",
        "arr1"
      ],
      "metadata": {
        "colab": {
          "base_uri": "https://localhost:8080/"
        },
        "id": "D9BrZw7Dblwq",
        "outputId": "1d277d66-6368-4c43-d078-a80239b74c35"
      },
      "execution_count": 8,
      "outputs": [
        {
          "output_type": "execute_result",
          "data": {
            "text/plain": [
              "array([ 0.84074739, -0.78948716, -0.54453804,  0.36333093,  0.85474468,\n",
              "       -0.64718345,  1.26531352, -0.16903426,  1.30915995,  0.48837839,\n",
              "       -1.02442072,  0.55871813,  1.46848385, -1.00670904,  0.67821927,\n",
              "        0.92923627,  1.08859592, -1.00350519,  1.40272569,  1.48944213])"
            ]
          },
          "metadata": {},
          "execution_count": 8
        }
      ]
    },
    {
      "cell_type": "markdown",
      "source": [
        "## 昇順で並び替えを行う"
      ],
      "metadata": {
        "id": "3IqIr2kpbxHQ"
      }
    },
    {
      "cell_type": "code",
      "source": [
        "np.sort(arr1)"
      ],
      "metadata": {
        "colab": {
          "base_uri": "https://localhost:8080/"
        },
        "id": "F1O1VYLqbq9F",
        "outputId": "ec49d8a8-0831-41fc-a804-cbb256e00892"
      },
      "execution_count": 9,
      "outputs": [
        {
          "output_type": "execute_result",
          "data": {
            "text/plain": [
              "array([-1.02442072, -1.00670904, -1.00350519, -0.78948716, -0.64718345,\n",
              "       -0.54453804, -0.16903426,  0.36333093,  0.48837839,  0.55871813,\n",
              "        0.67821927,  0.84074739,  0.85474468,  0.92923627,  1.08859592,\n",
              "        1.26531352,  1.30915995,  1.40272569,  1.46848385,  1.48944213])"
            ]
          },
          "metadata": {},
          "execution_count": 9
        }
      ]
    },
    {
      "cell_type": "markdown",
      "source": [
        "## 配列内の値で判定を行う"
      ],
      "metadata": {
        "id": "S88XCrZXbznb"
      }
    },
    {
      "cell_type": "code",
      "source": [
        "arr2 = np.random.randn(20)\n",
        "arr2"
      ],
      "metadata": {
        "colab": {
          "base_uri": "https://localhost:8080/"
        },
        "id": "L11Q8rgRb2bl",
        "outputId": "dcd75874-dbe2-4f98-94af-93ed91f2b517"
      },
      "execution_count": 10,
      "outputs": [
        {
          "output_type": "execute_result",
          "data": {
            "text/plain": [
              "array([-0.41869545, -0.25205141,  0.59612272,  1.42246548, -1.00917362,\n",
              "        0.44499065, -0.83865322, -2.08362558, -0.62964697,  1.96857991,\n",
              "        0.23341538, -1.78483322, -0.63092329,  0.74966212,  0.99732043,\n",
              "        0.59292991,  1.60842636, -1.89293262, -0.21377116,  0.9349327 ])"
            ]
          },
          "metadata": {},
          "execution_count": 10
        }
      ]
    },
    {
      "cell_type": "markdown",
      "source": [
        "### 正の値は1、そうではないものは-1を返す"
      ],
      "metadata": {
        "id": "YBhe0qtPb7I-"
      }
    },
    {
      "cell_type": "code",
      "source": [
        "np.where(arr2 > 0, 1, -1)"
      ],
      "metadata": {
        "colab": {
          "base_uri": "https://localhost:8080/"
        },
        "id": "EqRZVmxyb8PG",
        "outputId": "b9b0c988-a69a-4b87-a7bf-033116676a5b"
      },
      "execution_count": 11,
      "outputs": [
        {
          "output_type": "execute_result",
          "data": {
            "text/plain": [
              "array([-1, -1,  1,  1, -1,  1, -1, -1, -1,  1,  1, -1, -1,  1,  1,  1,  1,\n",
              "       -1, -1,  1])"
            ]
          },
          "metadata": {},
          "execution_count": 11
        }
      ]
    },
    {
      "cell_type": "markdown",
      "source": [
        "### 値が0以上のインデックスを取得"
      ],
      "metadata": {
        "id": "VtOOI-fNcEV4"
      }
    },
    {
      "cell_type": "code",
      "source": [
        "np.where(arr2 > 0)"
      ],
      "metadata": {
        "colab": {
          "base_uri": "https://localhost:8080/"
        },
        "id": "4lHN13afcDcK",
        "outputId": "b4ec6093-ef90-46ac-9d55-23fed9131f09"
      },
      "execution_count": 12,
      "outputs": [
        {
          "output_type": "execute_result",
          "data": {
            "text/plain": [
              "(array([ 2,  3,  5,  9, 10, 13, 14, 15, 16, 19]),)"
            ]
          },
          "metadata": {},
          "execution_count": 12
        }
      ]
    },
    {
      "cell_type": "code",
      "source": [
        "# 上で取得したインデックスを使用してarr2から値が0以上を取得\n",
        "arr2[np.where(arr2 > 0)]"
      ],
      "metadata": {
        "colab": {
          "base_uri": "https://localhost:8080/"
        },
        "id": "ZMecNL--cZB_",
        "outputId": "1bffc28c-5005-4156-a1e0-d612a5d186a2"
      },
      "execution_count": 13,
      "outputs": [
        {
          "output_type": "execute_result",
          "data": {
            "text/plain": [
              "array([0.59612272, 1.42246548, 0.44499065, 1.96857991, 0.23341538,\n",
              "       0.74966212, 0.99732043, 0.59292991, 1.60842636, 0.9349327 ])"
            ]
          },
          "metadata": {},
          "execution_count": 13
        }
      ]
    },
    {
      "cell_type": "markdown",
      "source": [
        "## 要素の種類が何個あるか調べる"
      ],
      "metadata": {
        "id": "TfKNeMNAc3BT"
      }
    },
    {
      "cell_type": "code",
      "source": [
        "arr3 = np.array([1, 2, 3, 1, 1, 2, 3, 4])\n",
        "arr3"
      ],
      "metadata": {
        "colab": {
          "base_uri": "https://localhost:8080/"
        },
        "id": "Rp6C6CGgc8EU",
        "outputId": "9ce582a3-265c-4cd4-8ab2-73f2b7878948"
      },
      "execution_count": 14,
      "outputs": [
        {
          "output_type": "execute_result",
          "data": {
            "text/plain": [
              "array([1, 2, 3, 1, 1, 2, 3, 4])"
            ]
          },
          "metadata": {},
          "execution_count": 14
        }
      ]
    },
    {
      "cell_type": "code",
      "source": [
        "# 配列内の要素をユニークで取得できる\n",
        "np.unique(arr3)"
      ],
      "metadata": {
        "colab": {
          "base_uri": "https://localhost:8080/"
        },
        "id": "E57JPFNQdE80",
        "outputId": "1c1c06d0-f2ca-4efc-e552-4e90219b8db3"
      },
      "execution_count": 15,
      "outputs": [
        {
          "output_type": "execute_result",
          "data": {
            "text/plain": [
              "array([1, 2, 3, 4])"
            ]
          },
          "metadata": {},
          "execution_count": 15
        }
      ]
    }
  ]
}