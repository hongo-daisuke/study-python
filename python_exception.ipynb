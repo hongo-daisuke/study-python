{
  "nbformat": 4,
  "nbformat_minor": 0,
  "metadata": {
    "colab": {
      "name": "python_exception.ipynb",
      "provenance": [],
      "authorship_tag": "ABX9TyNCVTZ+IYsO0QwJ6Qyml7UF",
      "include_colab_link": true
    },
    "kernelspec": {
      "name": "python3",
      "display_name": "Python 3"
    },
    "language_info": {
      "name": "python"
    }
  },
  "cells": [
    {
      "cell_type": "markdown",
      "metadata": {
        "id": "view-in-github",
        "colab_type": "text"
      },
      "source": [
        "<a href=\"https://colab.research.google.com/github/hongo-daisuke/study-python/blob/master/python_exception.ipynb\" target=\"_parent\"><img src=\"https://colab.research.google.com/assets/colab-badge.svg\" alt=\"Open In Colab\"/></a>"
      ]
    },
    {
      "cell_type": "markdown",
      "source": [
        "# 例外"
      ],
      "metadata": {
        "id": "JiXjtlu6ebbP"
      }
    },
    {
      "cell_type": "code",
      "execution_count": 4,
      "metadata": {
        "colab": {
          "base_uri": "https://localhost:8080/"
        },
        "id": "O84CtEbreHfc",
        "outputId": "0323d6d0-4537-42ba-d7e1-53a9f586e83f"
      },
      "outputs": [
        {
          "output_type": "stream",
          "name": "stdout",
          "text": [
            "処理の開始\n",
            "例外発生 : 0で割算\n"
          ]
        }
      ],
      "source": [
        "try:\n",
        "    print('処理の開始')\n",
        "    s = 1 / 0\n",
        "    print('処理の終了')\n",
        "except ZeroDivisionError:\n",
        "    print('例外発生 : 0除算')"
      ]
    },
    {
      "cell_type": "code",
      "source": [
        "try:\n",
        "    print('処理の開始')\n",
        "    a = [1, 2, 3]\n",
        "    print(a[0])\n",
        "    print(a[10])\n",
        "    print('処理の終了')\n",
        "except IndexError:\n",
        "    print('例外発生 : リスト範囲外')"
      ],
      "metadata": {
        "colab": {
          "base_uri": "https://localhost:8080/"
        },
        "id": "HMyTdBj2fWdK",
        "outputId": "1367a27c-4f81-466c-806d-0d984241e685"
      },
      "execution_count": 5,
      "outputs": [
        {
          "output_type": "stream",
          "name": "stdout",
          "text": [
            "処理の開始\n",
            "1\n",
            "例外発生 : リスト範囲外\n"
          ]
        }
      ]
    },
    {
      "cell_type": "code",
      "source": [
        "try:\n",
        "    print('処理の開始')\n",
        "    s = 5 + 'abc'\n",
        "    print('処理の終了')\n",
        "except TypeError:\n",
        "    print('例外発生 : 異なる型の演算')"
      ],
      "metadata": {
        "colab": {
          "base_uri": "https://localhost:8080/"
        },
        "id": "xT_lHifAfpxG",
        "outputId": "e87c4669-fc0c-4f9b-f0f6-58667b1057b0"
      },
      "execution_count": 7,
      "outputs": [
        {
          "output_type": "stream",
          "name": "stdout",
          "text": [
            "処理の開始\n",
            "例外発生 : 異なる型の演算\n"
          ]
        }
      ]
    },
    {
      "cell_type": "markdown",
      "source": [
        "## elseとfinally\n",
        "```\n",
        "try:\n",
        "    例外が処理しうる処理\n",
        "except 例外の種類:\n",
        "    例外処理\n",
        "else:\n",
        "    例外が発生しなかった場合の処理\n",
        "finally:\n",
        "    例外の有無に関わらず実行される処理\n",
        "```\n",
        "\n"
      ],
      "metadata": {
        "id": "Cy1dBm1GgBgr"
      }
    },
    {
      "cell_type": "code",
      "source": [
        "try:\n",
        "    print('処理の開始')\n",
        "    a = 1\n",
        "    b = 0\n",
        "    s = a / b\n",
        "except ZeroDivisionError:\n",
        "    print('異常終了 例外発生 : 0除算')\n",
        "else:\n",
        "    print('正常終了')\n",
        "finally:\n",
        "    print('処理が終了しました。')"
      ],
      "metadata": {
        "colab": {
          "base_uri": "https://localhost:8080/"
        },
        "id": "refntjU7gAk2",
        "outputId": "cffb1ab5-cbb0-4835-d78d-57b8811ca5c7"
      },
      "execution_count": 11,
      "outputs": [
        {
          "output_type": "stream",
          "name": "stdout",
          "text": [
            "処理の開始\n",
            "異常終了 例外発生 : 0除算\n",
            "処理が終了しました。\n"
          ]
        }
      ]
    },
    {
      "cell_type": "markdown",
      "source": [
        "## 例外クラス\n",
        "```\n",
        "try:\n",
        "    例外が処理しうる処理\n",
        "except 例外の種類 as 変数名:\n",
        "    例外処理\n",
        "```"
      ],
      "metadata": {
        "id": "V-ocQHB0h2rh"
      }
    },
    {
      "cell_type": "code",
      "source": [
        "try:\n",
        "    print('処理の開始')\n",
        "    s = 5 + 'abc'\n",
        "    print('処理の終了')\n",
        "except TypeError as e:\n",
        "    print(f'例外発生 : {e}')"
      ],
      "metadata": {
        "colab": {
          "base_uri": "https://localhost:8080/"
        },
        "id": "6jpN1Jarh44C",
        "outputId": "35e97b48-d51c-48cd-cb0f-b74135d57244"
      },
      "execution_count": 12,
      "outputs": [
        {
          "output_type": "stream",
          "name": "stdout",
          "text": [
            "処理の開始\n",
            "例外発生 : unsupported operand type(s) for +: 'int' and 'str'\n"
          ]
        }
      ]
    },
    {
      "cell_type": "markdown",
      "source": [
        "## 複数の例外処理\n"
      ],
      "metadata": {
        "id": "SHYGt7aAikm5"
      }
    },
    {
      "cell_type": "code",
      "source": [
        "# 全ての例外処理を受ける1\n",
        "try:\n",
        "    print('処理の開始')\n",
        "    s = 5 + 'abc'\n",
        "    print('処理の終了')\n",
        "except BaseException as e:\n",
        "    print(f'例外発生 : {e}')"
      ],
      "metadata": {
        "colab": {
          "base_uri": "https://localhost:8080/"
        },
        "id": "8e9a22XiiyJ5",
        "outputId": "af103a5c-1658-4127-c9d2-3efd8f884b1b"
      },
      "execution_count": 13,
      "outputs": [
        {
          "output_type": "stream",
          "name": "stdout",
          "text": [
            "処理の開始\n",
            "例外発生 : unsupported operand type(s) for +: 'int' and 'str'\n"
          ]
        }
      ]
    },
    {
      "cell_type": "code",
      "source": [
        "# 全ての例外処理を受ける1\n",
        "try:\n",
        "    print('処理の開始')\n",
        "    s = 1 / 0\n",
        "    print('処理の終了')\n",
        "except BaseException as e:\n",
        "    print(f'例外発生 : {e}')"
      ],
      "metadata": {
        "colab": {
          "base_uri": "https://localhost:8080/"
        },
        "id": "GMzcOBeNi7Ag",
        "outputId": "7f0c53f7-b5cf-4100-91b2-7b7e31ec4980"
      },
      "execution_count": 14,
      "outputs": [
        {
          "output_type": "stream",
          "name": "stdout",
          "text": [
            "処理の開始\n",
            "例外発生 : division by zero\n"
          ]
        }
      ]
    }
  ]
}