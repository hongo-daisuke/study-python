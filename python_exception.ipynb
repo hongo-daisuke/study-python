{
  "nbformat": 4,
  "nbformat_minor": 0,
  "metadata": {
    "colab": {
      "name": "python_exception.ipynb",
      "provenance": [],
      "collapsed_sections": [],
      "authorship_tag": "ABX9TyN1VC4BQpNgVl+oK3t7B2CZ",
      "include_colab_link": true
    },
    "kernelspec": {
      "name": "python3",
      "display_name": "Python 3"
    },
    "language_info": {
      "name": "python"
    }
  },
  "cells": [
    {
      "cell_type": "markdown",
      "metadata": {
        "id": "view-in-github",
        "colab_type": "text"
      },
      "source": [
        "<a href=\"https://colab.research.google.com/github/hongo-daisuke/study-python/blob/master/python_exception.ipynb\" target=\"_parent\"><img src=\"https://colab.research.google.com/assets/colab-badge.svg\" alt=\"Open In Colab\"/></a>"
      ]
    },
    {
      "cell_type": "markdown",
      "source": [
        "# 例外"
      ],
      "metadata": {
        "id": "JiXjtlu6ebbP"
      }
    },
    {
      "cell_type": "code",
      "execution_count": null,
      "metadata": {
        "colab": {
          "base_uri": "https://localhost:8080/"
        },
        "id": "O84CtEbreHfc",
        "outputId": "0323d6d0-4537-42ba-d7e1-53a9f586e83f"
      },
      "outputs": [
        {
          "output_type": "stream",
          "name": "stdout",
          "text": [
            "処理の開始\n",
            "例外発生 : 0で割算\n"
          ]
        }
      ],
      "source": [
        "try:\n",
        "    print('処理の開始')\n",
        "    s = 1 / 0\n",
        "    print('処理の終了')\n",
        "except ZeroDivisionError:\n",
        "    print('例外発生 : 0除算')"
      ]
    },
    {
      "cell_type": "code",
      "source": [
        "try:\n",
        "    print('処理の開始')\n",
        "    a = [1, 2, 3]\n",
        "    print(a[0])\n",
        "    print(a[10])\n",
        "    print('処理の終了')\n",
        "except IndexError:\n",
        "    print('例外発生 : リスト範囲外')"
      ],
      "metadata": {
        "colab": {
          "base_uri": "https://localhost:8080/"
        },
        "id": "HMyTdBj2fWdK",
        "outputId": "1367a27c-4f81-466c-806d-0d984241e685"
      },
      "execution_count": null,
      "outputs": [
        {
          "output_type": "stream",
          "name": "stdout",
          "text": [
            "処理の開始\n",
            "1\n",
            "例外発生 : リスト範囲外\n"
          ]
        }
      ]
    },
    {
      "cell_type": "code",
      "source": [
        "try:\n",
        "    print('処理の開始')\n",
        "    s = 5 + 'abc'\n",
        "    print('処理の終了')\n",
        "except TypeError:\n",
        "    print('例外発生 : 異なる型の演算')"
      ],
      "metadata": {
        "colab": {
          "base_uri": "https://localhost:8080/"
        },
        "id": "xT_lHifAfpxG",
        "outputId": "e87c4669-fc0c-4f9b-f0f6-58667b1057b0"
      },
      "execution_count": null,
      "outputs": [
        {
          "output_type": "stream",
          "name": "stdout",
          "text": [
            "処理の開始\n",
            "例外発生 : 異なる型の演算\n"
          ]
        }
      ]
    },
    {
      "cell_type": "markdown",
      "source": [
        "## elseとfinally\n",
        "```\n",
        "try:\n",
        "    例外が処理しうる処理\n",
        "except 例外の種類:\n",
        "    例外処理\n",
        "else:\n",
        "    例外が発生しなかった場合の処理\n",
        "finally:\n",
        "    例外の有無に関わらず実行される処理\n",
        "```\n",
        "\n"
      ],
      "metadata": {
        "id": "Cy1dBm1GgBgr"
      }
    },
    {
      "cell_type": "code",
      "source": [
        "try:\n",
        "    print('処理の開始')\n",
        "    a = 1\n",
        "    b = 0\n",
        "    s = a / b\n",
        "except ZeroDivisionError:\n",
        "    print('異常終了 例外発生 : 0除算')\n",
        "else:\n",
        "    print('正常終了')\n",
        "finally:\n",
        "    print('処理が終了しました。')"
      ],
      "metadata": {
        "colab": {
          "base_uri": "https://localhost:8080/"
        },
        "id": "refntjU7gAk2",
        "outputId": "cffb1ab5-cbb0-4835-d78d-57b8811ca5c7"
      },
      "execution_count": null,
      "outputs": [
        {
          "output_type": "stream",
          "name": "stdout",
          "text": [
            "処理の開始\n",
            "異常終了 例外発生 : 0除算\n",
            "処理が終了しました。\n"
          ]
        }
      ]
    },
    {
      "cell_type": "markdown",
      "source": [
        "## 例外クラス\n",
        "```\n",
        "try:\n",
        "    例外が処理しうる処理\n",
        "except 例外の種類 as 変数名:\n",
        "    例外処理\n",
        "```"
      ],
      "metadata": {
        "id": "V-ocQHB0h2rh"
      }
    },
    {
      "cell_type": "code",
      "source": [
        "try:\n",
        "    print('処理の開始')\n",
        "    s = 5 + 'abc'\n",
        "    print('処理の終了')\n",
        "except TypeError as e:\n",
        "    print(f'例外発生 : {e}')"
      ],
      "metadata": {
        "colab": {
          "base_uri": "https://localhost:8080/"
        },
        "id": "6jpN1Jarh44C",
        "outputId": "35e97b48-d51c-48cd-cb0f-b74135d57244"
      },
      "execution_count": null,
      "outputs": [
        {
          "output_type": "stream",
          "name": "stdout",
          "text": [
            "処理の開始\n",
            "例外発生 : unsupported operand type(s) for +: 'int' and 'str'\n"
          ]
        }
      ]
    },
    {
      "cell_type": "markdown",
      "source": [
        "## 複数の例外処理\n"
      ],
      "metadata": {
        "id": "SHYGt7aAikm5"
      }
    },
    {
      "cell_type": "code",
      "source": [
        "# 複数の例外処理1\n",
        "a = [1, 2, 3]\n",
        "i = 5\n",
        "try:\n",
        "    a[i]\n",
        "except IndexError as e:\n",
        "    print(f'例外発生 : {e}')\n",
        "except NameError as e:\n",
        "    print(f'例外発生 : {e}')\n",
        "\n",
        "# このように複数exceptを記述することで例外処理を行うことが出来る"
      ],
      "metadata": {
        "colab": {
          "base_uri": "https://localhost:8080/"
        },
        "id": "iz6wkWyEBpU7",
        "outputId": "2fdf34b5-65f1-491a-92cd-e136c3f0d8ba"
      },
      "execution_count": 2,
      "outputs": [
        {
          "output_type": "stream",
          "name": "stdout",
          "text": [
            "例外発生 : list index out of range\n"
          ]
        }
      ]
    },
    {
      "cell_type": "code",
      "source": [
        "# 複数の例外処理1\n",
        "a = [1, 2, 3]\n",
        "i = 5\n",
        "del a\n",
        "try:\n",
        "    a[i]\n",
        "except IndexError as e:\n",
        "    print(f'例外発生 : {e}')\n",
        "except NameError as e:\n",
        "    print(f'例外発生 : {e}')"
      ],
      "metadata": {
        "colab": {
          "base_uri": "https://localhost:8080/"
        },
        "id": "ZMS8hct9CUSd",
        "outputId": "a429c38a-6fe2-4950-9be3-c541ba46cc5b"
      },
      "execution_count": 3,
      "outputs": [
        {
          "output_type": "stream",
          "name": "stdout",
          "text": [
            "例外発生 : name 'a' is not defined\n"
          ]
        }
      ]
    },
    {
      "cell_type": "markdown",
      "source": [
        "### Exceptionによるエラーのキャッチ"
      ],
      "metadata": {
        "id": "vuBHhtc2D0dA"
      }
    },
    {
      "cell_type": "code",
      "source": [
        "# 複数の例外処理2\n",
        "# 自分の意図しないものをキャッチして何か処理したい場合Exceptionを使用する\n",
        "# 全てのExceptionをキャッチして次の処理を進めるのはあまり良くないので可能な限り起こりうるエラーをexceptに記述するのが良い\n",
        "\n",
        "try:\n",
        "    print('処理の開始')\n",
        "    s = 5 + 'abc'\n",
        "    print('処理の終了')\n",
        "except Exception as e:\n",
        "    print(f'例外発生 : {e}')"
      ],
      "metadata": {
        "colab": {
          "base_uri": "https://localhost:8080/"
        },
        "id": "8e9a22XiiyJ5",
        "outputId": "b4a69f99-0a4b-4f51-f477-3d5afcf96d29"
      },
      "execution_count": 5,
      "outputs": [
        {
          "output_type": "stream",
          "name": "stdout",
          "text": [
            "処理の開始\n",
            "例外発生 : unsupported operand type(s) for +: 'int' and 'str'\n"
          ]
        }
      ]
    },
    {
      "cell_type": "code",
      "source": [
        "# 複数の例外処理2\n",
        "try:\n",
        "    print('処理の開始')\n",
        "    s = 1 / 0\n",
        "    print('処理の終了')\n",
        "except Exception as e:\n",
        "    print(f'例外発生 : {e}')"
      ],
      "metadata": {
        "id": "GMzcOBeNi7Ag",
        "outputId": "c390bdc8-ad50-4961-9b37-8715e6159e83",
        "colab": {
          "base_uri": "https://localhost:8080/"
        }
      },
      "execution_count": 4,
      "outputs": [
        {
          "output_type": "stream",
          "name": "stdout",
          "text": [
            "処理の開始\n",
            "例外発生 : division by zero\n"
          ]
        }
      ]
    },
    {
      "cell_type": "markdown",
      "source": [
        "## 独自例外の作成\n",
        "raise エラー"
      ],
      "metadata": {
        "id": "JgPFkPzEERRT"
      }
    },
    {
      "cell_type": "code",
      "source": [
        "# 例外を発生させる\n",
        "raise IndexError('test error')"
      ],
      "metadata": {
        "colab": {
          "base_uri": "https://localhost:8080/",
          "height": 170
        },
        "id": "SAOqoCV7EVuQ",
        "outputId": "8ffe0d61-fb20-4287-82ed-a87c4534c7d8"
      },
      "execution_count": 6,
      "outputs": [
        {
          "output_type": "error",
          "ename": "IndexError",
          "evalue": "ignored",
          "traceback": [
            "\u001b[0;31m---------------------------------------------------------------------------\u001b[0m",
            "\u001b[0;31mIndexError\u001b[0m                                Traceback (most recent call last)",
            "\u001b[0;32m<ipython-input-6-501b9dfa6b65>\u001b[0m in \u001b[0;36m<module>\u001b[0;34m\u001b[0m\n\u001b[0;32m----> 1\u001b[0;31m \u001b[0;32mraise\u001b[0m \u001b[0mIndexError\u001b[0m\u001b[0;34m(\u001b[0m\u001b[0;34m'test error'\u001b[0m\u001b[0;34m)\u001b[0m\u001b[0;34m\u001b[0m\u001b[0;34m\u001b[0m\u001b[0m\n\u001b[0m",
            "\u001b[0;31mIndexError\u001b[0m: test error"
          ]
        }
      ]
    },
    {
      "cell_type": "code",
      "source": [
        "# Exceptionを継承したLowercaseErrorクラス\n",
        "class LowercaseError(Exception):\n",
        "    pass\n",
        "\n",
        "def check():\n",
        "    words = ['BASKETBALL', 'soccer', 'VOLLEYBALL']\n",
        "    for word in words:\n",
        "        # 文字列が小文字の場合、例外を発生させる\n",
        "        if word.islower():\n",
        "            # 独自の例外を発生\n",
        "            raise LowercaseError(word)\n",
        "\n",
        "try:\n",
        "    check()\n",
        "except LowercaseError as e:\n",
        "    print(f'例外発生:問題のある単語 {e}')"
      ],
      "metadata": {
        "colab": {
          "base_uri": "https://localhost:8080/"
        },
        "id": "rSFmhbtKEblW",
        "outputId": "2cf1ab20-7b86-4137-842c-47b5b61906f1"
      },
      "execution_count": 27,
      "outputs": [
        {
          "output_type": "stream",
          "name": "stdout",
          "text": [
            "例外発生:問題のある単語 soccer\n"
          ]
        }
      ]
    }
  ]
}