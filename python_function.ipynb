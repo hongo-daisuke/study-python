{
  "nbformat": 4,
  "nbformat_minor": 0,
  "metadata": {
    "colab": {
      "name": "python_function.ipynb",
      "provenance": [],
      "collapsed_sections": [],
      "authorship_tag": "ABX9TyMnwWglBhqkfISmxqjinZAJ",
      "include_colab_link": true
    },
    "kernelspec": {
      "name": "python3",
      "display_name": "Python 3"
    },
    "language_info": {
      "name": "python"
    }
  },
  "cells": [
    {
      "cell_type": "markdown",
      "metadata": {
        "id": "view-in-github",
        "colab_type": "text"
      },
      "source": [
        "<a href=\"https://colab.research.google.com/github/hongo-daisuke/study-python/blob/master/python_function.ipynb\" target=\"_parent\"><img src=\"https://colab.research.google.com/assets/colab-badge.svg\" alt=\"Open In Colab\"/></a>"
      ]
    },
    {
      "cell_type": "markdown",
      "source": [
        "# 関数"
      ],
      "metadata": {
        "id": "HgNborK_QUYM"
      }
    },
    {
      "cell_type": "markdown",
      "source": [
        "### 関数内関数\n",
        "\n",
        "*   関数の中に定義されている関数\n",
        "*   その関数が特定の関数内のみで使用される場合にインナー関数として宣言する\n",
        "\n"
      ],
      "metadata": {
        "id": "AizpXpaaQXLx"
      }
    },
    {
      "cell_type": "code",
      "source": [
        "def outer(a, b):\n",
        "\n",
        "    def plus(c, d):\n",
        "        return c + d\n",
        "\n",
        "    r = plus(a, b)\n",
        "    print(r)\n",
        "\n",
        "outer(1, 9)\n",
        "\n",
        "\n",
        "# plus(1, 9)こちらはエラーになる"
      ],
      "metadata": {
        "colab": {
          "base_uri": "https://localhost:8080/"
        },
        "id": "SyPlnWBFQsT-",
        "outputId": "d9b43704-e5d3-43c8-af18-7323eb66fdf3"
      },
      "execution_count": null,
      "outputs": [
        {
          "output_type": "stream",
          "name": "stdout",
          "text": [
            "10\n"
          ]
        }
      ]
    },
    {
      "cell_type": "markdown",
      "source": [
        "## クロージャー\n",
        "*   その関数を直ぐに実行したくない、引数の値を気にせずに最終的に実行したいケースに使用する\n",
        "\n"
      ],
      "metadata": {
        "id": "PZqpDBuSRdu5"
      }
    },
    {
      "cell_type": "code",
      "source": [
        "def outer(a, b):\n",
        "\n",
        "    def inner():\n",
        "        return a + b\n",
        "    \n",
        "    return inner\n",
        "\n",
        "f = outer(1, 2)\n",
        "print(f)\n",
        "print(type(f)) # returnでinner()ではなく実行前のinner関数を返しているのでfunctionオブジェクトが返却される\n",
        "r = f() # inner関数の実行\n",
        "print(r) # aとbには1と2が入っているので3が返却される"
      ],
      "metadata": {
        "colab": {
          "base_uri": "https://localhost:8080/"
        },
        "id": "lBqH_4RnRlDz",
        "outputId": "060998d3-e9e5-45d1-dcb2-f880527d4df6"
      },
      "execution_count": null,
      "outputs": [
        {
          "output_type": "stream",
          "name": "stdout",
          "text": [
            "<function outer.<locals>.inner at 0x7f4df8d37b90>\n",
            "<class 'function'>\n",
            "3\n"
          ]
        }
      ]
    },
    {
      "cell_type": "markdown",
      "source": [
        "## デコレーター\n",
        "*   関数を実行する前や後に何かの処理を行いたい、機能を付け加えたい場合に使用する\n",
        "```\n",
        "@デコレーター関数\n",
        "def 実行したい関数\n",
        "```\n",
        "\n",
        "\n",
        "\n"
      ],
      "metadata": {
        "id": "qi-Fah75T2Vo"
      }
    },
    {
      "cell_type": "code",
      "source": [
        "def add_num(a, b):\n",
        "    return a + b\n",
        "\n",
        "print('計算処理開始')\n",
        "r = add_num(10, 20)\n",
        "print('計算処理終了')\n",
        "print(f'計算結果{r}')"
      ],
      "metadata": {
        "colab": {
          "base_uri": "https://localhost:8080/"
        },
        "id": "fwT12kp3T7XD",
        "outputId": "716c1517-9abe-4402-a13c-bacc40bdfa3b"
      },
      "execution_count": null,
      "outputs": [
        {
          "output_type": "stream",
          "name": "stdout",
          "text": [
            "計算処理開始\n",
            "計算処理終了\n",
            "計算結果30\n"
          ]
        }
      ]
    },
    {
      "cell_type": "code",
      "source": [
        "# デコレーター関数\n",
        "def print_info(func):\n",
        "    def wrapper(*args, **kwargs):\n",
        "        print('計算処理開始')\n",
        "        result = func(*args, **kwargs)\n",
        "        print('計算処理終了')\n",
        "        return result\n",
        "    return wrapper\n",
        "\n",
        "\n",
        "def print_detail(func):\n",
        "    def wrapper(*args, **kwargs):\n",
        "        print(f'func: {func.__name__}')\n",
        "        print(f'args: {args}')\n",
        "        print(f'kwargs: {kwargs}')\n",
        "        result = func(*args, **kwargs)\n",
        "        print(f'result: {result}')\n",
        "        return result\n",
        "    return wrapper\n",
        "\n",
        "# 実行したいデコレーターが複数がある場合は順番を気をつける\n",
        "@print_info\n",
        "@print_detail\n",
        "def add_num(a, b):\n",
        "    return a + b\n",
        "\n",
        "\n",
        "# 一度デコレーター関数を定義すれば他の関数でも何度でも使用できる\n",
        "@print_info\n",
        "def sub_num(a, b):\n",
        "    return a - b\n",
        "\n",
        "f = add_num(1, 2)\n",
        "print(f'計算結果{f}')\n",
        "\n",
        "print()\n",
        "\n",
        "f = sub_num(20, 5)\n",
        "print(f'計算結果{f}')"
      ],
      "metadata": {
        "colab": {
          "base_uri": "https://localhost:8080/"
        },
        "id": "O0bpphikVhub",
        "outputId": "303be031-fcae-4a1d-b5cd-067ee8c578be"
      },
      "execution_count": null,
      "outputs": [
        {
          "output_type": "stream",
          "name": "stdout",
          "text": [
            "計算処理開始\n",
            "func: add_num\n",
            "args: (1, 2)\n",
            "kwargs: {}\n",
            "result: 3\n",
            "計算処理終了\n",
            "計算結果3\n",
            "\n",
            "計算処理開始\n",
            "計算処理終了\n",
            "計算結果15\n"
          ]
        }
      ]
    },
    {
      "cell_type": "markdown",
      "source": [
        "## ラムダ\n",
        "\n",
        "*  関数の名前をつける必要がない一行で終わるような関数を作る場合に利用する\n",
        "\n"
      ],
      "metadata": {
        "id": "86j3BT3Nd2B-"
      }
    },
    {
      "cell_type": "code",
      "source": [
        "a = ['Mon', 'tue', 'Wed', 'Thu', 'fri', 'sat', 'Sun']\n",
        "\n",
        "def change_words(words, func):\n",
        "    for word in words:\n",
        "        print(func(word))\n",
        "\n",
        "# def sample_func(word):\n",
        "#     return word.capitalize()\n",
        "\n",
        "# 上記の処理は以下のように書くことが出来る\n",
        "sample_func = lambda word: word.capitalize()\n",
        "\n",
        "# change_words(a, sample_func)\n",
        "change_words(a, lambda word: word.capitalize())"
      ],
      "metadata": {
        "colab": {
          "base_uri": "https://localhost:8080/"
        },
        "id": "JRLX7Mj6d1sE",
        "outputId": "d88dd335-e6b6-4233-8f03-7b2247d6e085"
      },
      "execution_count": null,
      "outputs": [
        {
          "output_type": "stream",
          "name": "stdout",
          "text": [
            "Mon\n",
            "Tue\n",
            "Wed\n",
            "Thu\n",
            "Fri\n",
            "Sat\n",
            "Sun\n"
          ]
        }
      ]
    },
    {
      "cell_type": "markdown",
      "source": [
        "## ジェネレーター\n",
        "\n",
        "*   イテレータ（要素を反復して取り出すことのできるインタフェース）の一種\n",
        "*   反復処理で1要素取り出すたびに処理を行い、要素をジェネレートする\n",
        "\n",
        "\n"
      ],
      "metadata": {
        "id": "u8nsa3A_-Em5"
      }
    },
    {
      "cell_type": "code",
      "source": [
        "a = ['Good morning', 'Hello World', 'I Love Python']\n",
        "\n",
        "for i in a:\n",
        "    print(i)"
      ],
      "metadata": {
        "id": "1J2s8IAOcJNV",
        "colab": {
          "base_uri": "https://localhost:8080/"
        },
        "outputId": "9e5b17f6-5cf0-4fcf-f2d8-117395cd8dde"
      },
      "execution_count": null,
      "outputs": [
        {
          "output_type": "stream",
          "name": "stdout",
          "text": [
            "Good morning\n",
            "Hello World\n",
            "I Love Python\n"
          ]
        }
      ]
    },
    {
      "cell_type": "code",
      "source": [
        "# 上の処理をジェネレーターで書くと以下のようになる\n",
        "def hello():\n",
        "    # 重い処理があったとする\n",
        "    yield 'Good morning'\n",
        "    yield 'Hello World'\n",
        "    yield 'I Love Python'\n",
        "\n",
        "for i in hello():\n",
        "    print(i)"
      ],
      "metadata": {
        "colab": {
          "base_uri": "https://localhost:8080/"
        },
        "id": "2TIuFRuY_Xcs",
        "outputId": "fa386ae0-9756-4df4-9e95-d412a86033a0"
      },
      "execution_count": null,
      "outputs": [
        {
          "output_type": "stream",
          "name": "stdout",
          "text": [
            "Good morning\n",
            "Hello World\n",
            "I Love Python\n"
          ]
        }
      ]
    },
    {
      "cell_type": "code",
      "source": [
        "# 1要素ずつ取得されている\n",
        "g =  hello()\n",
        "print(next(g)) # next()でジェネレーターの値を取得\n",
        "print('aaaaa') # for文一気に反復されるので間に挟むことは出来ない。\n",
        "print(next(g))\n",
        "print('bbbb')\n",
        "print(next(g))"
      ],
      "metadata": {
        "colab": {
          "base_uri": "https://localhost:8080/"
        },
        "id": "bg7dpxkIBAX2",
        "outputId": "633e824c-5599-4a5d-eccd-8b44d13c9323"
      },
      "execution_count": null,
      "outputs": [
        {
          "output_type": "stream",
          "name": "stdout",
          "text": [
            "Good morning\n",
            "aaaaa\n",
            "Hello World\n",
            "bbbb\n",
            "I Love Python\n"
          ]
        }
      ]
    },
    {
      "cell_type": "code",
      "source": [
        "def counter(num=10):\n",
        "    for _ in range(num):\n",
        "        yield 'run'\n",
        "\n",
        "g =  hello()\n",
        "c = counter()\n",
        "print(next(g))\n",
        "print(next(c))\n",
        "print(next(c))\n",
        "print(next(c))\n",
        "print(next(g))\n",
        "print(next(c))\n",
        "print(next(c))\n",
        "print(next(c))\n",
        "print(next(g))\n",
        "print(next(c))\n",
        "print(next(c))\n",
        "print(next(c))\n",
        "\n",
        "# 次の要素が存在しないのにnext()で呼び出すと StopIteration エラーになる\n",
        "# print(next(g))"
      ],
      "metadata": {
        "colab": {
          "base_uri": "https://localhost:8080/"
        },
        "id": "Chr35uEWCdBa",
        "outputId": "eda00204-eec8-48e7-e1e1-5b5f1eb39625"
      },
      "execution_count": null,
      "outputs": [
        {
          "output_type": "stream",
          "name": "stdout",
          "text": [
            "Good morning\n",
            "run\n",
            "run\n",
            "run\n",
            "Hello World\n",
            "run\n",
            "run\n",
            "run\n",
            "I Love Python\n",
            "run\n",
            "run\n",
            "run\n"
          ]
        }
      ]
    },
    {
      "cell_type": "code",
      "source": [
        "def t():\n",
        "    num = []\n",
        "    for i in range(10):\n",
        "        num.append(i)\n",
        "    return num\n",
        "\n",
        "for i in t():\n",
        "    print(i)"
      ],
      "metadata": {
        "colab": {
          "base_uri": "https://localhost:8080/"
        },
        "id": "RTBBk_JMcbT5",
        "outputId": "514eedb4-35d4-4da0-c122-2b48e84b0ce9"
      },
      "execution_count": 2,
      "outputs": [
        {
          "output_type": "stream",
          "name": "stdout",
          "text": [
            "0\n",
            "1\n",
            "2\n",
            "3\n",
            "4\n",
            "5\n",
            "6\n",
            "7\n",
            "8\n",
            "9\n"
          ]
        }
      ]
    },
    {
      "cell_type": "code",
      "source": [
        "# 上の処理をジェネレータで記載する\n",
        "def t():\n",
        "    for i in range(10):\n",
        "        yield i\n",
        "\n",
        "for i in t():\n",
        "    print(i)"
      ],
      "metadata": {
        "colab": {
          "base_uri": "https://localhost:8080/"
        },
        "id": "bd1DcOT7ccsq",
        "outputId": "e5f95fd0-bc48-4464-9b47-72ee8f6ff2f4"
      },
      "execution_count": 1,
      "outputs": [
        {
          "output_type": "stream",
          "name": "stdout",
          "text": [
            "0\n",
            "1\n",
            "2\n",
            "3\n",
            "4\n",
            "5\n",
            "6\n",
            "7\n",
            "8\n",
            "9\n"
          ]
        }
      ]
    }
  ]
}