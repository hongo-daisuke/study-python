{
  "nbformat": 4,
  "nbformat_minor": 0,
  "metadata": {
    "colab": {
      "name": "python_if.ipynb",
      "provenance": [],
      "collapsed_sections": [],
      "authorship_tag": "ABX9TyNW2s18V5I5waLm86PXZEsi",
      "include_colab_link": true
    },
    "kernelspec": {
      "name": "python3",
      "display_name": "Python 3"
    },
    "language_info": {
      "name": "python"
    }
  },
  "cells": [
    {
      "cell_type": "markdown",
      "metadata": {
        "id": "view-in-github",
        "colab_type": "text"
      },
      "source": [
        "<a href=\"https://colab.research.google.com/github/hongo-daisuke/study-python/blob/master/python_if.ipynb\" target=\"_parent\"><img src=\"https://colab.research.google.com/assets/colab-badge.svg\" alt=\"Open In Colab\"/></a>"
      ]
    },
    {
      "cell_type": "markdown",
      "source": [
        "# 条件分岐"
      ],
      "metadata": {
        "id": "_INvxqN6kp5n"
      }
    },
    {
      "cell_type": "markdown",
      "source": [
        "## if分"
      ],
      "metadata": {
        "id": "OL64wMcY7Wqe"
      }
    },
    {
      "cell_type": "code",
      "execution_count": null,
      "metadata": {
        "colab": {
          "base_uri": "https://localhost:8080/"
        },
        "id": "D5-V8p_gkn6Y",
        "outputId": "4c183726-a8ed-4da5-fc05-3c6f44214287"
      },
      "outputs": [
        {
          "output_type": "stream",
          "name": "stdout",
          "text": [
            "20歳以上です。\n",
            "年齢確認終了です。\n"
          ]
        }
      ],
      "source": [
        "# if文\n",
        "age = 28\n",
        "if age >= 20:\n",
        "    print('20歳以上です。')\n",
        "print('年齢確認終了です。')"
      ]
    },
    {
      "cell_type": "markdown",
      "source": [
        "### if~else文"
      ],
      "metadata": {
        "id": "CuDPGLSu7fss"
      }
    },
    {
      "cell_type": "code",
      "source": [
        "# if~else文\n",
        "age = 18\n",
        "if age >= 20:\n",
        "    print('あなたは20歳以上です。')\n",
        "else:\n",
        "    print('あなたは20歳未満です。')"
      ],
      "metadata": {
        "colab": {
          "base_uri": "https://localhost:8080/"
        },
        "id": "vUjGPlhBlgSA",
        "outputId": "24eb359a-a777-4a84-9c73-0b985070faf2"
      },
      "execution_count": null,
      "outputs": [
        {
          "output_type": "stream",
          "name": "stdout",
          "text": [
            "あなたは20歳未満です。\n"
          ]
        }
      ]
    },
    {
      "cell_type": "markdown",
      "source": [
        "### if ~ elif ~ else文"
      ],
      "metadata": {
        "id": "yd7C4zc47oLP"
      }
    },
    {
      "cell_type": "code",
      "source": [
        "# if~elif~else文\n",
        "age = 78\n",
        "if age >= 20:\n",
        "    print('あなたは20歳以上です。')\n",
        "elif age >= 10:\n",
        "    print('あなたは10歳以上、20歳未満です。')\n",
        "else:\n",
        "    print('あなたは10歳未満です。')"
      ],
      "metadata": {
        "colab": {
          "base_uri": "https://localhost:8080/"
        },
        "id": "t7_z4S2Sm9f-",
        "outputId": "ef84de35-b0a4-4a1f-dfde-ed8694a76e45"
      },
      "execution_count": null,
      "outputs": [
        {
          "output_type": "stream",
          "name": "stdout",
          "text": [
            "あなたは20歳以上です。\n"
          ]
        }
      ]
    },
    {
      "cell_type": "markdown",
      "source": [
        "## 複数条件"
      ],
      "metadata": {
        "id": "H_Vio64O7z6y"
      }
    },
    {
      "cell_type": "markdown",
      "source": [
        "### and 「AかつB」"
      ],
      "metadata": {
        "id": "WM_xlUUL72oH"
      }
    },
    {
      "cell_type": "code",
      "source": [
        "# 複数の条件 and 「AかつB」\n",
        "a = 1\n",
        "b = True\n",
        "if a == 1 and b == True:\n",
        "    print('条件クリア')\n",
        "\n",
        "\n",
        "a = 3\n",
        "b = True\n",
        "if a == 1 and b == True:\n",
        "    print('条件クリア')\n",
        "else:\n",
        "    print('失敗未達成')"
      ],
      "metadata": {
        "colab": {
          "base_uri": "https://localhost:8080/"
        },
        "id": "aFYnxhNUn73t",
        "outputId": "24f16f94-764c-419d-88fd-43103d3b3f17"
      },
      "execution_count": null,
      "outputs": [
        {
          "output_type": "stream",
          "name": "stdout",
          "text": [
            "条件クリア\n",
            "失敗未達成\n"
          ]
        }
      ]
    },
    {
      "cell_type": "markdown",
      "source": [
        "### or 「AまたはB」"
      ],
      "metadata": {
        "id": "NfaESxO879Br"
      }
    },
    {
      "cell_type": "code",
      "source": [
        "# 複数の条件 or 「AまたはB」\n",
        "a = 1\n",
        "b = False\n",
        "if a == 1 or b == True:\n",
        "    print('条件クリア')"
      ],
      "metadata": {
        "colab": {
          "base_uri": "https://localhost:8080/"
        },
        "id": "1ps3PSVloc6_",
        "outputId": "8c2b4fd0-f65d-453a-9e17-d739e896b0a6"
      },
      "execution_count": null,
      "outputs": [
        {
          "output_type": "stream",
          "name": "stdout",
          "text": [
            "条件クリア\n"
          ]
        }
      ]
    },
    {
      "cell_type": "markdown",
      "source": [
        "### if分のネスト"
      ],
      "metadata": {
        "id": "KVkDMbPK8Bc-"
      }
    },
    {
      "cell_type": "code",
      "source": [
        "# if分のネスト\n",
        "age = 20\n",
        "if age >= 20:\n",
        "    if age < 60:\n",
        "        print('20歳以上、60歳未満')"
      ],
      "metadata": {
        "colab": {
          "base_uri": "https://localhost:8080/"
        },
        "id": "AR6ek9MOpDTX",
        "outputId": "d42c7b95-acef-4c71-c159-3b3c8e5ba0df"
      },
      "execution_count": null,
      "outputs": [
        {
          "output_type": "stream",
          "name": "stdout",
          "text": [
            "20歳以上、60歳未満\n"
          ]
        }
      ]
    },
    {
      "cell_type": "markdown",
      "source": [
        "## 文字列の分岐"
      ],
      "metadata": {
        "id": "J5GQP88E8GKR"
      }
    },
    {
      "cell_type": "markdown",
      "source": [
        "### 「==」 文字列が等しい"
      ],
      "metadata": {
        "id": "Q6c2hyqZ8j9X"
      }
    },
    {
      "cell_type": "code",
      "source": [
        "# 文字列の分岐 「==」 文字列が等しい\n",
        "hello = 'Hello'\n",
        "if hello == 'Hello':\n",
        "    print(f'{hello} Wolrd')\n",
        "else:\n",
        "    print('no Hello')"
      ],
      "metadata": {
        "colab": {
          "base_uri": "https://localhost:8080/"
        },
        "id": "OYoT5eAnqHIF",
        "outputId": "d40878e7-cff8-438b-9cff-fb7af285ffe0"
      },
      "execution_count": null,
      "outputs": [
        {
          "output_type": "stream",
          "name": "stdout",
          "text": [
            "Hello Wolrd\n"
          ]
        }
      ]
    },
    {
      "cell_type": "markdown",
      "source": [
        "### 「!=」 文字列が等しくない"
      ],
      "metadata": {
        "id": "mGeApvqv8nHt"
      }
    },
    {
      "cell_type": "code",
      "source": [
        "# 文字列の分岐 「!=」 文字列が等しくない\n",
        "hello = 'Good'\n",
        "if hello != 'Hello':\n",
        "    print('No Hello')\n",
        "else:\n",
        "    print(f'{hello} Wolrd')"
      ],
      "metadata": {
        "colab": {
          "base_uri": "https://localhost:8080/"
        },
        "id": "Y6nW3F5krFmr",
        "outputId": "2cdaa245-79f3-41a8-e3f7-154e76049a83"
      },
      "execution_count": null,
      "outputs": [
        {
          "output_type": "stream",
          "name": "stdout",
          "text": [
            "No Hello\n"
          ]
        }
      ]
    },
    {
      "cell_type": "markdown",
      "source": [
        "### 辞書的な前後"
      ],
      "metadata": {
        "id": "CJ50cBDw8q5W"
      }
    },
    {
      "cell_type": "code",
      "source": [
        "# 文字列の分岐 辞書的な前後\n",
        "a1 = 'apple'\n",
        "a2 = 'strawberry'\n",
        "if a1 < a2:\n",
        "    print(f'{a1}は{a2}の前にあります。')"
      ],
      "metadata": {
        "colab": {
          "base_uri": "https://localhost:8080/"
        },
        "id": "BM3BKn5hrYW5",
        "outputId": "5fe8e409-e732-4ef3-b7c7-0d49acc57e86"
      },
      "execution_count": null,
      "outputs": [
        {
          "output_type": "stream",
          "name": "stdout",
          "text": [
            "appleはstrawberryの前にあります。\n"
          ]
        }
      ]
    },
    {
      "cell_type": "markdown",
      "source": [
        "### 文字列の部分一致"
      ],
      "metadata": {
        "id": "TwkJn0HX8s13"
      }
    },
    {
      "cell_type": "code",
      "source": [
        "# 文字列の部分一致\n",
        "a1 = 'Hello Wolrd'\n",
        "a2 = 'Wolrd'\n",
        "if a2 in a1:\n",
        "    print(f'{a2}は{a1}の中に含まれています。')"
      ],
      "metadata": {
        "id": "Cxol9_rIr_62",
        "colab": {
          "base_uri": "https://localhost:8080/"
        },
        "outputId": "781cfbb9-5e5e-494f-8644-1ee1984985f9"
      },
      "execution_count": null,
      "outputs": [
        {
          "output_type": "stream",
          "name": "stdout",
          "text": [
            "WolrdはHello Wolrdの中に含まれています。\n"
          ]
        }
      ]
    },
    {
      "cell_type": "markdown",
      "source": [
        "### 文字列の部分一致 否定系"
      ],
      "metadata": {
        "id": "_7AOKSP_8vXH"
      }
    },
    {
      "cell_type": "code",
      "source": [
        "# 文字列の部分一致 否定系\n",
        "a1 = 'Hello Wolrd'\n",
        "a2 = 'Morning'\n",
        "if a2 not in a1:\n",
        "    print(f'{a2}は{a1}の中に含まれていません。')"
      ],
      "metadata": {
        "colab": {
          "base_uri": "https://localhost:8080/"
        },
        "id": "CO5xMCZrsq97",
        "outputId": "303d5180-8780-43f8-f095-379794aedd12"
      },
      "execution_count": null,
      "outputs": [
        {
          "output_type": "stream",
          "name": "stdout",
          "text": [
            "MorningはHello Wolrdの中に含まれていません。\n"
          ]
        }
      ]
    },
    {
      "cell_type": "markdown",
      "source": [
        "### 文字列の前方一致"
      ],
      "metadata": {
        "id": "tUn44UFW8xx6"
      }
    },
    {
      "cell_type": "code",
      "source": [
        "# 文字列の前方一致\n",
        "a1 = 'Hello Wolrd'\n",
        "a2 = 'He'\n",
        "if a1.startswith(a2):\n",
        "    print(f'{a1}は{a2}から始まります。')"
      ],
      "metadata": {
        "colab": {
          "base_uri": "https://localhost:8080/"
        },
        "id": "yjXRTCzMs4uM",
        "outputId": "e6cd4f27-5b08-4010-d139-0a118de0cfe3"
      },
      "execution_count": null,
      "outputs": [
        {
          "output_type": "stream",
          "name": "stdout",
          "text": [
            "Hello WolrdはHeから始まります。\n"
          ]
        }
      ]
    },
    {
      "cell_type": "markdown",
      "source": [
        "### 文字列の後方一致"
      ],
      "metadata": {
        "id": "aAdaqyF58zGG"
      }
    },
    {
      "cell_type": "code",
      "source": [
        "# 文字列の後方一致\n",
        "a1 = 'Hello Wolrd'\n",
        "a2 = 'lrd'\n",
        "if a1.endswith(a2):\n",
        "    print(f'{a1}は{a2}で終わります。')"
      ],
      "metadata": {
        "colab": {
          "base_uri": "https://localhost:8080/"
        },
        "id": "i14bpzUktQIm",
        "outputId": "7deff847-8eb5-4d3e-87d3-996f3cf112ff"
      },
      "execution_count": null,
      "outputs": [
        {
          "output_type": "stream",
          "name": "stdout",
          "text": [
            "Hello Wolrdはlrdで終わります。\n"
          ]
        }
      ]
    },
    {
      "cell_type": "markdown",
      "source": [
        "## if分の否定 not"
      ],
      "metadata": {
        "id": "-DO1CcHy8MNG"
      }
    },
    {
      "cell_type": "code",
      "source": [
        "# if分の否定 not\n",
        "a = 10\n",
        "b = 20\n",
        "if not a > b:\n",
        "    print(f'aはbより大きくありません。')"
      ],
      "metadata": {
        "colab": {
          "base_uri": "https://localhost:8080/"
        },
        "id": "4WJWKFOJtybV",
        "outputId": "4fd2428c-ce6e-4914-c823-ecfc1979c19c"
      },
      "execution_count": null,
      "outputs": [
        {
          "output_type": "stream",
          "name": "stdout",
          "text": [
            "aはbより大きくありません。\n"
          ]
        }
      ]
    },
    {
      "cell_type": "markdown",
      "source": [
        "## 論理演算子の優先順位\n",
        "論理演算子には優先順位がある。\n",
        "1.   not\n",
        "2.   and\n",
        "2.   or\n",
        "\n"
      ],
      "metadata": {
        "id": "8NB-mFcJuUqa"
      }
    },
    {
      "cell_type": "code",
      "source": [
        "a = 1\n",
        "b = 2\n",
        "if a == 2 or b == 1 and a == 1 or b == 2:\n",
        "    print(True)\n",
        "else:\n",
        "    print(False)"
      ],
      "metadata": {
        "colab": {
          "base_uri": "https://localhost:8080/"
        },
        "id": "LUNCLuGqye3V",
        "outputId": "072102dc-42bd-4dfc-eec7-37dc53cb7182"
      },
      "execution_count": null,
      "outputs": [
        {
          "output_type": "stream",
          "name": "stdout",
          "text": [
            "True\n"
          ]
        }
      ]
    },
    {
      "cell_type": "code",
      "source": [
        "# ()で囲い優先順位を変更する\n",
        "a = 1\n",
        "b = 2\n",
        "if (a == 2 or b == 1) and (a == 1 or b == 2):\n",
        "    print(True)\n",
        "else:\n",
        "    print(False)"
      ],
      "metadata": {
        "colab": {
          "base_uri": "https://localhost:8080/"
        },
        "id": "u2_COiQYyws2",
        "outputId": "530bf938-f0de-4d71-b620-e7cc7cc27146"
      },
      "execution_count": null,
      "outputs": [
        {
          "output_type": "stream",
          "name": "stdout",
          "text": [
            "False\n"
          ]
        }
      ]
    },
    {
      "cell_type": "code",
      "source": [
        "a = 5\n",
        "b = 10\n",
        "if a % 2 == 0 and b % 2 == 0:\n",
        "    c = 'a ,b共に偶数'\n",
        "else:\n",
        "    c = 'a, bのいずれかが偶数ではない'\n",
        "print(c)"
      ],
      "metadata": {
        "colab": {
          "base_uri": "https://localhost:8080/"
        },
        "id": "KO8Vun_Iz8Fa",
        "outputId": "e9c927cd-f7e8-46cc-c919-a7fb7b96e31e"
      },
      "execution_count": null,
      "outputs": [
        {
          "output_type": "stream",
          "name": "stdout",
          "text": [
            "a, bのいずれかが偶数ではない\n"
          ]
        }
      ]
    }
  ]
}